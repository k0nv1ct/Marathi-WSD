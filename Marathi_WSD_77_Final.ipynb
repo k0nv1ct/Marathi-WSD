{
  "nbformat": 4,
  "nbformat_minor": 0,
  "metadata": {
    "colab": {
      "provenance": []
    },
    "kernelspec": {
      "name": "python3",
      "display_name": "Python 3"
    },
    "language_info": {
      "name": "python"
    },
    "gpuClass": "standard"
  },
  "cells": [
    {
      "cell_type": "markdown",
      "source": [
        "##Word Sense Disambiguation for Marathi Language-\n",
        "Word Sense Disambiguation (WSD) is a natural language processing task of identifying the correct sense of a word in context. Many words in natural language have multiple senses, and it is often essential to disambiguate them to understand the meaning of the sentence accurately."
      ],
      "metadata": {
        "id": "TfAiHr98vsi0"
      }
    },
    {
      "cell_type": "markdown",
      "source": [
        "Required Library Imports"
      ],
      "metadata": {
        "id": "WodQJxBBxesm"
      }
    },
    {
      "cell_type": "code",
      "source": [
        "from google.colab import drive\n",
        "drive.mount('/content/drive')"
      ],
      "metadata": {
        "colab": {
          "base_uri": "https://localhost:8080/"
        },
        "id": "mkWsmVGqHQfe",
        "outputId": "f535b88a-c6d5-49d4-aa6f-951f0ae1c2cf"
      },
      "execution_count": 1,
      "outputs": [
        {
          "output_type": "stream",
          "name": "stdout",
          "text": [
            "Mounted at /content/drive\n"
          ]
        }
      ]
    },
    {
      "cell_type": "code",
      "source": [
        "! pip install pyconll"
      ],
      "metadata": {
        "colab": {
          "base_uri": "https://localhost:8080/"
        },
        "id": "Ep9wBywFKRxe",
        "outputId": "acc08c1b-a082-4c0c-b4a2-a102f286933b"
      },
      "execution_count": 2,
      "outputs": [
        {
          "output_type": "stream",
          "name": "stdout",
          "text": [
            "Looking in indexes: https://pypi.org/simple, https://us-python.pkg.dev/colab-wheels/public/simple/\n",
            "Collecting pyconll\n",
            "  Downloading pyconll-3.1.0-py3-none-any.whl (26 kB)\n",
            "Installing collected packages: pyconll\n",
            "Successfully installed pyconll-3.1.0\n"
          ]
        }
      ]
    },
    {
      "cell_type": "code",
      "source": [
        "! pip install pydot"
      ],
      "metadata": {
        "colab": {
          "base_uri": "https://localhost:8080/"
        },
        "id": "jctkIBJoKVXa",
        "outputId": "2c05ce62-ede3-426d-b6c9-dd6903c7d7d1"
      },
      "execution_count": 3,
      "outputs": [
        {
          "output_type": "stream",
          "name": "stdout",
          "text": [
            "Looking in indexes: https://pypi.org/simple, https://us-python.pkg.dev/colab-wheels/public/simple/\n",
            "Requirement already satisfied: pydot in /usr/local/lib/python3.9/dist-packages (1.4.2)\n",
            "Requirement already satisfied: pyparsing>=2.1.4 in /usr/local/lib/python3.9/dist-packages (from pydot) (3.0.9)\n"
          ]
        }
      ]
    },
    {
      "cell_type": "code",
      "source": [
        "import pyconll"
      ],
      "metadata": {
        "id": "uyml5pQUKZvP"
      },
      "execution_count": 4,
      "outputs": []
    },
    {
      "cell_type": "code",
      "source": [
        "import nltk\n",
        "import pandas as pd\n",
        "\n",
        "from nltk import word_tokenize\n",
        "from nltk.tag import untag\n",
        "from nltk import UnigramTagger\n",
        "\n",
        "pd.set_option('display.max_columns', None)  \n",
        "pd.set_option('display.expand_frame_repr', False)\n",
        "pd.set_option('max_colwidth', -1)\n",
        "\n",
        "from nltk.corpus import indian\n",
        "nltk.download('indian')"
      ],
      "metadata": {
        "colab": {
          "base_uri": "https://localhost:8080/"
        },
        "id": "Px9lldvLxcrn",
        "outputId": "32e04326-0ee9-4067-b3c3-e65528a7b7cd"
      },
      "execution_count": 5,
      "outputs": [
        {
          "output_type": "stream",
          "name": "stderr",
          "text": [
            "<ipython-input-5-10b19ae55255>:10: FutureWarning: Passing a negative integer is deprecated in version 1.0 and will not be supported in future version. Instead, use None to not limit the column width.\n",
            "  pd.set_option('max_colwidth', -1)\n",
            "[nltk_data] Downloading package indian to /root/nltk_data...\n",
            "[nltk_data]   Unzipping corpora/indian.zip.\n"
          ]
        },
        {
          "output_type": "execute_result",
          "data": {
            "text/plain": [
              "True"
            ]
          },
          "metadata": {},
          "execution_count": 5
        }
      ]
    },
    {
      "cell_type": "code",
      "source": [
        "nltk.download('wordnet')"
      ],
      "metadata": {
        "colab": {
          "base_uri": "https://localhost:8080/"
        },
        "id": "PY5QXH-txlAr",
        "outputId": "d78895c8-49d9-41bd-b7b2-40f50671a5d2"
      },
      "execution_count": 6,
      "outputs": [
        {
          "output_type": "stream",
          "name": "stderr",
          "text": [
            "[nltk_data] Downloading package wordnet to /root/nltk_data...\n"
          ]
        },
        {
          "output_type": "execute_result",
          "data": {
            "text/plain": [
              "True"
            ]
          },
          "metadata": {},
          "execution_count": 6
        }
      ]
    },
    {
      "cell_type": "code",
      "source": [
        "nltk.download('punkt')"
      ],
      "metadata": {
        "colab": {
          "base_uri": "https://localhost:8080/"
        },
        "id": "SogI5UVzxmKc",
        "outputId": "d7625532-5f12-4975-a7bf-dd09a7c95126"
      },
      "execution_count": 7,
      "outputs": [
        {
          "output_type": "stream",
          "name": "stderr",
          "text": [
            "[nltk_data] Downloading package punkt to /root/nltk_data...\n",
            "[nltk_data]   Unzipping tokenizers/punkt.zip.\n"
          ]
        },
        {
          "output_type": "execute_result",
          "data": {
            "text/plain": [
              "True"
            ]
          },
          "metadata": {},
          "execution_count": 7
        }
      ]
    },
    {
      "cell_type": "code",
      "source": [
        "TRAIN = '/content/drive/MyDrive/MArathi_data/mr_cmupan-ud-train.conllu'\n",
        "DEV = '/content/drive/MyDrive/MArathi_data/mr_cmupan-ud-dev.conllu'\n",
        "TEST = '/content/drive/MyDrive/MArathi_data/mr_cmupan-ud-test.conllu'"
      ],
      "metadata": {
        "id": "iT_hRtFNMRrW"
      },
      "execution_count": 8,
      "outputs": []
    },
    {
      "cell_type": "markdown",
      "source": [
        "Taking 2 sample texts for testing"
      ],
      "metadata": {
        "id": "pddAbFCKxWa2"
      }
    },
    {
      "cell_type": "code",
      "execution_count": 9,
      "metadata": {
        "id": "2d48e1a3"
      },
      "outputs": [],
      "source": [
        "text = \"हा लेख पन्ना जिल्ह्याविषयी आहे. पन्ना शहराविषयीचा लेख येथे आहे. पन्ना जिल्हा भारतातील मध्य प्रदेश राज्यातील एक जिल्हा आहे.\"\n",
        "sent = \"समाजासाठी देशासाठी चांगले काम करणाऱ्या व्यक्तीला लोक एखाद्या मानद उपाधीने संबोधित करायला सुरुवात करतात आणि पुढे तीच उपाधी त्या व्यक्तीची ओळख होऊन जाते. पुण्यश्लोक, महर्षी, महात्मा, बाबासाहेब आणि लोकमान्य या अशाच काही उपाध्या आहेत. भारतातील अशा उपाध्या धारण करणाऱ्या काही व्यक्तींची नावे पुढील पुढीलप्रमाणे आहेत.\""
      ]
    },
    {
      "cell_type": "markdown",
      "source": [
        "##Preprocess"
      ],
      "metadata": {
        "id": "bIQfR16Kx0UP"
      }
    },
    {
      "cell_type": "code",
      "source": [
        "import re\n",
        "# Remove unnecessary spaces\n",
        "text = re.sub('\\s+', ' ', text).strip()\n",
        "\n",
        "# Remove numbers\n",
        "text = re.sub('[0-9]+', '', text)\n",
        "\n",
        "print(text)"
      ],
      "metadata": {
        "colab": {
          "base_uri": "https://localhost:8080/"
        },
        "id": "_M16ei_mx31d",
        "outputId": "3fbb108c-819d-4aea-b2a0-5d9137d9c9b0"
      },
      "execution_count": 10,
      "outputs": [
        {
          "output_type": "stream",
          "name": "stdout",
          "text": [
            "हा लेख पन्ना जिल्ह्याविषयी आहे. पन्ना शहराविषयीचा लेख येथे आहे. पन्ना जिल्हा भारतातील मध्य प्रदेश राज्यातील एक जिल्हा आहे.\n"
          ]
        }
      ]
    },
    {
      "cell_type": "code",
      "source": [
        "#Fuction to read universal POS repos ConLLU files\n",
        "def read_conllu(path):\n",
        "    data = pyconll.load_from_file(path)\n",
        "    tagged_sentences=[]\n",
        "    t=0\n",
        "    for sentence in data:\n",
        "        tagged_sentence=[]\n",
        "        for token in sentence:\n",
        "            if token.upos and token.form:\n",
        "                t+=1\n",
        "                tagged_sentence.append((token.form.lower(), token.upos))\n",
        "        tagged_sentences.append(tagged_sentence)\n",
        "    return tagged_sentences"
      ],
      "metadata": {
        "id": "_OkJia4JMYOH"
      },
      "execution_count": 11,
      "outputs": []
    },
    {
      "cell_type": "code",
      "source": [
        "#reading training, validation and test sentences\n",
        "train_sentences = read_conllu(TRAIN)\n",
        "val_sentences = read_conllu(DEV)\n",
        "test_sentences = read_conllu(TEST)"
      ],
      "metadata": {
        "id": "4ePvVoStMkrI"
      },
      "execution_count": 12,
      "outputs": []
    },
    {
      "cell_type": "code",
      "source": [
        "def build_vocab(sentences):\n",
        "    vocab =set()\n",
        "    for sentence in sentences:\n",
        "        for word in untag(sentence):\n",
        "            vocab.add(word)\n",
        "    return sorted(list(vocab))"
      ],
      "metadata": {
        "id": "a-nxbiWCM0qz"
      },
      "execution_count": 13,
      "outputs": []
    },
    {
      "cell_type": "code",
      "source": [
        "words = build_vocab(train_sentences+val_sentences+test_sentences)"
      ],
      "metadata": {
        "id": "Mm9AKunhMxEQ"
      },
      "execution_count": 14,
      "outputs": []
    },
    {
      "cell_type": "code",
      "source": [
        "words"
      ],
      "metadata": {
        "id": "cSVy4kTdM2Lz"
      },
      "execution_count": null,
      "outputs": []
    },
    {
      "cell_type": "markdown",
      "source": [
        "##Parts of Speech Tagging"
      ],
      "metadata": {
        "id": "8K6eJGsPxn31"
      }
    },
    {
      "cell_type": "code",
      "source": [
        "tagged_set = 'marathi.pos'\n",
        "articles = indian.sents(tagged_set)"
      ],
      "metadata": {
        "id": "T-2mpq9qx6xL"
      },
      "execution_count": 16,
      "outputs": []
    },
    {
      "cell_type": "code",
      "source": [
        "articles"
      ],
      "metadata": {
        "colab": {
          "base_uri": "https://localhost:8080/"
        },
        "id": "ydRN1RbAx8pt",
        "outputId": "b1072259-ed49-404b-b939-3ca8a65dc7e5"
      },
      "execution_count": 17,
      "outputs": [
        {
          "output_type": "execute_result",
          "data": {
            "text/plain": [
              "[[\"''\", 'सनातनवाद्यांनी', 'व', 'प्रतिगाम्यांनी', 'समाज', 'रसातळाला', 'नेला', 'असताना', 'या', 'अंधारात', 'बाळशास्त्री', 'जांभेकर', 'यांनी', \"'दर्पण'च्या\", 'माध्यमातून', 'पहिली', 'ज्ञानज्योत', 'तेववली', ',', \"''\", 'असे', 'प्रतिपादन', 'नटसम्राट', 'प्रभाकर', 'पणशीकर', 'यांनी', 'केले', '.'], ['दर्पणकार', 'बाळशास्त्री', 'जांभेकर', 'यांच्या', '१९५व्या', 'जयंतीनिमित्त', 'महाराष्ट्र', 'संपादक', 'परिषद', 'व', 'सिंधुदुर्ग', 'जिल्हा', 'मराठी', 'पत्रकार', 'संघाच्या', 'वतीने', 'तसेच', 'महाराष्ट्र', 'जर्नलिस्ट', 'फाउंडेशन', 'व', 'महाराष्ट्र', 'ग्रामीण', 'पत्रकार', 'संघाच्या', 'सहभागाने', 'अभिवादन', 'कार्यक्रम', 'आयोजित', 'केला', 'होता', '.'], ...]"
            ]
          },
          "metadata": {},
          "execution_count": 17
        }
      ]
    },
    {
      "cell_type": "code",
      "source": [
        "w = []\n",
        "for sent in articles:\n",
        "  for word in sent:\n",
        "    w.append(word)"
      ],
      "metadata": {
        "id": "d01-vr5jM_sz"
      },
      "execution_count": 18,
      "outputs": []
    },
    {
      "cell_type": "code",
      "source": [
        "trwv = words+w"
      ],
      "metadata": {
        "id": "g9_Pw18ENEKW"
      },
      "execution_count": 20,
      "outputs": []
    },
    {
      "cell_type": "code",
      "source": [
        "count=len(articles)\n",
        "print(count)"
      ],
      "metadata": {
        "colab": {
          "base_uri": "https://localhost:8080/"
        },
        "id": "GuLSaIlEx-1w",
        "outputId": "fbf5a448-fa5b-42c7-cf6c-c106dc13b690"
      },
      "execution_count": 44,
      "outputs": [
        {
          "output_type": "stream",
          "name": "stdout",
          "text": [
            "1197\n"
          ]
        }
      ]
    },
    {
      "cell_type": "code",
      "source": [
        "sentence1 = \" \".join(articles[0])\n",
        "sentence1"
      ],
      "metadata": {
        "colab": {
          "base_uri": "https://localhost:8080/",
          "height": 36
        },
        "id": "MtUBtbpPyLVW",
        "outputId": "be59c2f6-b775-4500-dd31-ead3c0dafb3c"
      },
      "execution_count": 45,
      "outputs": [
        {
          "output_type": "execute_result",
          "data": {
            "text/plain": [
              "\"'' सनातनवाद्यांनी व प्रतिगाम्यांनी समाज रसातळाला नेला असताना या अंधारात बाळशास्त्री जांभेकर यांनी 'दर्पण'च्या माध्यमातून पहिली ज्ञानज्योत तेववली , '' असे प्रतिपादन नटसम्राट प्रभाकर पणशीकर यांनी केले .\""
            ],
            "application/vnd.google.colaboratory.intrinsic+json": {
              "type": "string"
            }
          },
          "metadata": {},
          "execution_count": 45
        }
      ]
    },
    {
      "cell_type": "markdown",
      "source": [
        "Making Training and testing set split"
      ],
      "metadata": {
        "id": "Jw31L07gyP4n"
      }
    },
    {
      "cell_type": "code",
      "source": [
        "train_perc = .9\n",
        "train_rows = int(train_perc*count)\n",
        "test_rows = train_rows + 1\n",
        "print(train_rows,test_rows)"
      ],
      "metadata": {
        "colab": {
          "base_uri": "https://localhost:8080/"
        },
        "id": "xvsNIPA3yPFk",
        "outputId": "864d5d48-41d3-416b-8be7-9368fae20f7f"
      },
      "execution_count": 46,
      "outputs": [
        {
          "output_type": "stream",
          "name": "stdout",
          "text": [
            "1077 1078\n"
          ]
        }
      ]
    },
    {
      "cell_type": "markdown",
      "source": [
        "Getting already tagged sentences for traning"
      ],
      "metadata": {
        "id": "d6FSGZbSyYcS"
      }
    },
    {
      "cell_type": "code",
      "source": [
        "data = indian.tagged_sents(tagged_set)\n"
      ],
      "metadata": {
        "id": "qSHeHvH_yUzg"
      },
      "execution_count": 47,
      "outputs": []
    },
    {
      "cell_type": "code",
      "source": [
        "train_data = data[:train_rows] \n",
        "test_data = data[test_rows:]"
      ],
      "metadata": {
        "id": "_nOJN7jeOeC_"
      },
      "execution_count": 48,
      "outputs": []
    },
    {
      "cell_type": "markdown",
      "source": [
        "##Traning Unigram POS Tagger"
      ],
      "metadata": {
        "id": "A54HOQO5yeBr"
      }
    },
    {
      "cell_type": "code",
      "source": [
        "# Train the unigram model\n",
        "unigram_tag = UnigramTagger(train_data)\n",
        "\n",
        "# Test it on a single sentence\n",
        "unigram_tag.tag(untag(test_data[0]))"
      ],
      "metadata": {
        "colab": {
          "base_uri": "https://localhost:8080/"
        },
        "id": "Dz0Om2a5yc9a",
        "outputId": "969b6af2-d9c6-487c-d679-4b4aaa069700"
      },
      "execution_count": 50,
      "outputs": [
        {
          "output_type": "execute_result",
          "data": {
            "text/plain": [
              "[('ज्या', 'PRP'),\n",
              " ('देशवासीयांकडे', None),\n",
              " ('केबल', 'NN'),\n",
              " ('नाही', 'VAUX'),\n",
              " (',', 'SYM'),\n",
              " ('त्यांना', 'PRP'),\n",
              " ('सात', 'QC'),\n",
              " ('मिनिटे', 'NN'),\n",
              " ('उशिरा', None),\n",
              " ('सामना', 'NN'),\n",
              " ('दाखवावा', None),\n",
              " ('लागत', 'VAUX'),\n",
              " ('असल्याने', 'VM'),\n",
              " ('निंबस', 'NNP'),\n",
              " ('अन्याय', 'NN'),\n",
              " ('करत', 'VM'),\n",
              " ('असल्याचे', 'VAUX'),\n",
              " ('मत', 'NN'),\n",
              " ('त्यांनी', 'PRP'),\n",
              " ('व्यक्त', 'JJ'),\n",
              " ('केले', 'VM'),\n",
              " ('होते', 'VAUX'),\n",
              " (';', 'SYM'),\n",
              " ('तसेच', 'CC'),\n",
              " ('त्याच', 'DEM'),\n",
              " ('वेळी', 'NN'),\n",
              " ('सरकारी', 'JJ'),\n",
              " ('पातळीवर', 'NN'),\n",
              " ('एक', 'QC'),\n",
              " ('विधेयक', 'NN'),\n",
              " ('मांडण्याचाही', None),\n",
              " ('विचार', 'NN'),\n",
              " ('बोलून', 'VM'),\n",
              " ('दाखविला', 'VAUX'),\n",
              " ('होता', 'VAUX'),\n",
              " ('.', 'SYM')]"
            ]
          },
          "metadata": {},
          "execution_count": 50
        }
      ]
    },
    {
      "cell_type": "code",
      "source": [
        "unigram_tag.evaluate(test_data)   # Evaluation of model"
      ],
      "metadata": {
        "colab": {
          "base_uri": "https://localhost:8080/"
        },
        "id": "u9fCN4Omyk2i",
        "outputId": "11b1d8ff-0190-419b-8c27-a4058637a5b6"
      },
      "execution_count": 52,
      "outputs": [
        {
          "output_type": "stream",
          "name": "stderr",
          "text": [
            "<ipython-input-52-d8fa693e3b9f>:1: DeprecationWarning: \n",
            "  Function evaluate() has been deprecated.  Use accuracy(gold)\n",
            "  instead.\n",
            "  unigram_tag.evaluate(test_data)   # Evaluation of model\n"
          ]
        },
        {
          "output_type": "execute_result",
          "data": {
            "text/plain": [
              "0.5846774193548387"
            ]
          },
          "metadata": {},
          "execution_count": 52
        }
      ]
    },
    {
      "cell_type": "markdown",
      "source": [
        "##Unigram Tagger with Default Backoff"
      ],
      "metadata": {
        "id": "ubd17kXSyoqQ"
      }
    },
    {
      "cell_type": "code",
      "source": [
        "default_tagger = nltk.DefaultTagger('NN')\n",
        "unigram_tagger = nltk.UnigramTagger(train_sentences+val_sentences, backoff=default_tagger)\n"
      ],
      "metadata": {
        "id": "CeWCQz89ymIz"
      },
      "execution_count": 55,
      "outputs": []
    },
    {
      "cell_type": "code",
      "source": [
        "# Some usefull functions\n",
        "def tag_sequence(sentences):\n",
        "    return [[t for w, t in sentence] for sentence in sentences]"
      ],
      "metadata": {
        "id": "biTjUluCPjob"
      },
      "execution_count": 59,
      "outputs": []
    },
    {
      "cell_type": "code",
      "source": [
        "y_train = [item for sublist in tag_sequence(train_sentences+val_sentences) for item in sublist]\n",
        "y_test = [item for sublist in tag_sequence(test_sentences) for item in sublist]\n",
        "classes = sorted(list(set(y_train)))"
      ],
      "metadata": {
        "id": "QQ2xnMvcPQyJ"
      },
      "execution_count": 60,
      "outputs": []
    },
    {
      "cell_type": "code",
      "source": [
        "def tag_list(tagged_sents):\n",
        "    return [tag for sent in tagged_sents for (word, tag) in sent]\n",
        "def apply_tagger(tagger, corpus):\n",
        "    return [tagger.tag(nltk.tag.untag(sent)) for sent in corpus]"
      ],
      "metadata": {
        "id": "TNUwAnDNPVTt"
      },
      "execution_count": 61,
      "outputs": []
    },
    {
      "cell_type": "code",
      "source": [
        "#import some useful metrics\n",
        "from sklearn.metrics import recall_score, precision_score, classification_report, accuracy_score, confusion_matrix, f1_score"
      ],
      "metadata": {
        "id": "FY_pY2IBQBDA"
      },
      "execution_count": 63,
      "outputs": []
    },
    {
      "cell_type": "markdown",
      "source": [
        "##77 percent"
      ],
      "metadata": {
        "id": "WZWXI-6FQD6j"
      }
    },
    {
      "cell_type": "code",
      "source": [
        "y_pred = tag_list(apply_tagger(unigram_tagger, test_sentences))\n",
        "print(\"Accuracy: {0:.4f}\".format(unigram_tagger.evaluate(test_sentences)))\n",
        "print('f1-macro score: {0:.4f}'.format(f1_score(y_test, y_pred, average='macro')))"
      ],
      "metadata": {
        "colab": {
          "base_uri": "https://localhost:8080/"
        },
        "id": "MjbwR1QWPXvG",
        "outputId": "df46f605-2369-40e3-95bd-68c203a75c25"
      },
      "execution_count": 64,
      "outputs": [
        {
          "output_type": "stream",
          "name": "stderr",
          "text": [
            "<ipython-input-64-07e75b121ec5>:2: DeprecationWarning: \n",
            "  Function evaluate() has been deprecated.  Use accuracy(gold)\n",
            "  instead.\n",
            "  print(\"Accuracy: {0:.4f}\".format(unigram_tagger.evaluate(test_sentences)))\n"
          ]
        },
        {
          "output_type": "stream",
          "name": "stdout",
          "text": [
            "Accuracy: 0.7752\n",
            "f1-macro score: 0.6868\n"
          ]
        }
      ]
    },
    {
      "cell_type": "code",
      "source": [
        "unigram_tagger.evaluate(test_data)  #Evaluation of new model"
      ],
      "metadata": {
        "colab": {
          "base_uri": "https://localhost:8080/"
        },
        "id": "oBuxQ_CQysgk",
        "outputId": "5b09081f-2d04-4476-96f0-9f33ce096e1d"
      },
      "execution_count": 54,
      "outputs": [
        {
          "output_type": "stream",
          "name": "stderr",
          "text": [
            "<ipython-input-54-1de5a2157274>:1: DeprecationWarning: \n",
            "  Function evaluate() has been deprecated.  Use accuracy(gold)\n",
            "  instead.\n",
            "  unigram_tagger.evaluate(test_data)  #Evaluation of new model\n"
          ]
        },
        {
          "output_type": "execute_result",
          "data": {
            "text/plain": [
              "0.016129032258064516"
            ]
          },
          "metadata": {},
          "execution_count": 54
        }
      ]
    },
    {
      "cell_type": "markdown",
      "source": [
        "##Function to get POS of any provided marathi text uisng the above Unigram Tagger"
      ],
      "metadata": {
        "id": "TanIxU9EyvCu"
      }
    },
    {
      "cell_type": "code",
      "source": [
        "#Generalized function that would return the POS tags in a structured table format\n",
        "from collections import defaultdict\n",
        "\n",
        "def get_POS(article):\n",
        "\n",
        "    POS = {}\n",
        "\n",
        "    word_tags = unigram_tagger.tag(article)\n",
        "    for word, tag in word_tags:\n",
        "        if tag not in POS:\n",
        "            POS[tag] = [word]\n",
        "        else:\n",
        "            POS[tag].append(word)\n",
        "    \n",
        "    DF = {'Tags':[], 'Words':[], 'Count':[]}\n",
        "\n",
        "\n",
        "    for k in POS:\n",
        "        DF['Tags'].append(k)\n",
        "        DF['Words'].append(\" \".join(POS[k]))\n",
        "        DF['Count'].append(len(POS[k]))\n",
        "    \n",
        "    return pd.DataFrame(DF)"
      ],
      "metadata": {
        "id": "ghp65YBOyzoN"
      },
      "execution_count": 65,
      "outputs": []
    },
    {
      "cell_type": "code",
      "source": [
        "token = word_tokenize(text)"
      ],
      "metadata": {
        "id": "oBINRfzSy27T"
      },
      "execution_count": 66,
      "outputs": []
    },
    {
      "cell_type": "code",
      "source": [
        "df = get_POS(token)"
      ],
      "metadata": {
        "id": "SdxlYePcy40l"
      },
      "execution_count": 67,
      "outputs": []
    },
    {
      "cell_type": "markdown",
      "source": [
        "Conversion of POS to DataFrame"
      ],
      "metadata": {
        "id": "cPCdCcyny6gV"
      }
    },
    {
      "cell_type": "code",
      "source": [
        "df.head(10)"
      ],
      "metadata": {
        "colab": {
          "base_uri": "https://localhost:8080/",
          "height": 300
        },
        "id": "VRoxsA0Py8LK",
        "outputId": "2abf894f-a831-4447-8b15-38b4adbeace8"
      },
      "execution_count": 68,
      "outputs": [
        {
          "output_type": "execute_result",
          "data": {
            "text/plain": [
              "    Tags                                        Words  Count\n",
              "0  PRON   हा                                           1    \n",
              "1  NOUN   लेख लेख जिल्हा प्रदेश राज्यातील जिल्हा       6    \n",
              "2  NN     पन्ना जिल्ह्याविषयी पन्ना शहराविषयीचा पन्ना  5    \n",
              "3  VERB   आहे आहे आहे                                  3    \n",
              "4  PUNCT  . . .                                        3    \n",
              "5  NST    येथे                                         1    \n",
              "6  PROPN  भारतातील मध्य                                2    \n",
              "7  NUM    एक                                           1    "
            ],
            "text/html": [
              "\n",
              "  <div id=\"df-b1637b57-8480-4554-ad89-3c1e3340ef92\">\n",
              "    <div class=\"colab-df-container\">\n",
              "      <div>\n",
              "<style scoped>\n",
              "    .dataframe tbody tr th:only-of-type {\n",
              "        vertical-align: middle;\n",
              "    }\n",
              "\n",
              "    .dataframe tbody tr th {\n",
              "        vertical-align: top;\n",
              "    }\n",
              "\n",
              "    .dataframe thead th {\n",
              "        text-align: right;\n",
              "    }\n",
              "</style>\n",
              "<table border=\"1\" class=\"dataframe\">\n",
              "  <thead>\n",
              "    <tr style=\"text-align: right;\">\n",
              "      <th></th>\n",
              "      <th>Tags</th>\n",
              "      <th>Words</th>\n",
              "      <th>Count</th>\n",
              "    </tr>\n",
              "  </thead>\n",
              "  <tbody>\n",
              "    <tr>\n",
              "      <th>0</th>\n",
              "      <td>PRON</td>\n",
              "      <td>हा</td>\n",
              "      <td>1</td>\n",
              "    </tr>\n",
              "    <tr>\n",
              "      <th>1</th>\n",
              "      <td>NOUN</td>\n",
              "      <td>लेख लेख जिल्हा प्रदेश राज्यातील जिल्हा</td>\n",
              "      <td>6</td>\n",
              "    </tr>\n",
              "    <tr>\n",
              "      <th>2</th>\n",
              "      <td>NN</td>\n",
              "      <td>पन्ना जिल्ह्याविषयी पन्ना शहराविषयीचा पन्ना</td>\n",
              "      <td>5</td>\n",
              "    </tr>\n",
              "    <tr>\n",
              "      <th>3</th>\n",
              "      <td>VERB</td>\n",
              "      <td>आहे आहे आहे</td>\n",
              "      <td>3</td>\n",
              "    </tr>\n",
              "    <tr>\n",
              "      <th>4</th>\n",
              "      <td>PUNCT</td>\n",
              "      <td>. . .</td>\n",
              "      <td>3</td>\n",
              "    </tr>\n",
              "    <tr>\n",
              "      <th>5</th>\n",
              "      <td>NST</td>\n",
              "      <td>येथे</td>\n",
              "      <td>1</td>\n",
              "    </tr>\n",
              "    <tr>\n",
              "      <th>6</th>\n",
              "      <td>PROPN</td>\n",
              "      <td>भारतातील मध्य</td>\n",
              "      <td>2</td>\n",
              "    </tr>\n",
              "    <tr>\n",
              "      <th>7</th>\n",
              "      <td>NUM</td>\n",
              "      <td>एक</td>\n",
              "      <td>1</td>\n",
              "    </tr>\n",
              "  </tbody>\n",
              "</table>\n",
              "</div>\n",
              "      <button class=\"colab-df-convert\" onclick=\"convertToInteractive('df-b1637b57-8480-4554-ad89-3c1e3340ef92')\"\n",
              "              title=\"Convert this dataframe to an interactive table.\"\n",
              "              style=\"display:none;\">\n",
              "        \n",
              "  <svg xmlns=\"http://www.w3.org/2000/svg\" height=\"24px\"viewBox=\"0 0 24 24\"\n",
              "       width=\"24px\">\n",
              "    <path d=\"M0 0h24v24H0V0z\" fill=\"none\"/>\n",
              "    <path d=\"M18.56 5.44l.94 2.06.94-2.06 2.06-.94-2.06-.94-.94-2.06-.94 2.06-2.06.94zm-11 1L8.5 8.5l.94-2.06 2.06-.94-2.06-.94L8.5 2.5l-.94 2.06-2.06.94zm10 10l.94 2.06.94-2.06 2.06-.94-2.06-.94-.94-2.06-.94 2.06-2.06.94z\"/><path d=\"M17.41 7.96l-1.37-1.37c-.4-.4-.92-.59-1.43-.59-.52 0-1.04.2-1.43.59L10.3 9.45l-7.72 7.72c-.78.78-.78 2.05 0 2.83L4 21.41c.39.39.9.59 1.41.59.51 0 1.02-.2 1.41-.59l7.78-7.78 2.81-2.81c.8-.78.8-2.07 0-2.86zM5.41 20L4 18.59l7.72-7.72 1.47 1.35L5.41 20z\"/>\n",
              "  </svg>\n",
              "      </button>\n",
              "      \n",
              "  <style>\n",
              "    .colab-df-container {\n",
              "      display:flex;\n",
              "      flex-wrap:wrap;\n",
              "      gap: 12px;\n",
              "    }\n",
              "\n",
              "    .colab-df-convert {\n",
              "      background-color: #E8F0FE;\n",
              "      border: none;\n",
              "      border-radius: 50%;\n",
              "      cursor: pointer;\n",
              "      display: none;\n",
              "      fill: #1967D2;\n",
              "      height: 32px;\n",
              "      padding: 0 0 0 0;\n",
              "      width: 32px;\n",
              "    }\n",
              "\n",
              "    .colab-df-convert:hover {\n",
              "      background-color: #E2EBFA;\n",
              "      box-shadow: 0px 1px 2px rgba(60, 64, 67, 0.3), 0px 1px 3px 1px rgba(60, 64, 67, 0.15);\n",
              "      fill: #174EA6;\n",
              "    }\n",
              "\n",
              "    [theme=dark] .colab-df-convert {\n",
              "      background-color: #3B4455;\n",
              "      fill: #D2E3FC;\n",
              "    }\n",
              "\n",
              "    [theme=dark] .colab-df-convert:hover {\n",
              "      background-color: #434B5C;\n",
              "      box-shadow: 0px 1px 3px 1px rgba(0, 0, 0, 0.15);\n",
              "      filter: drop-shadow(0px 1px 2px rgba(0, 0, 0, 0.3));\n",
              "      fill: #FFFFFF;\n",
              "    }\n",
              "  </style>\n",
              "\n",
              "      <script>\n",
              "        const buttonEl =\n",
              "          document.querySelector('#df-b1637b57-8480-4554-ad89-3c1e3340ef92 button.colab-df-convert');\n",
              "        buttonEl.style.display =\n",
              "          google.colab.kernel.accessAllowed ? 'block' : 'none';\n",
              "\n",
              "        async function convertToInteractive(key) {\n",
              "          const element = document.querySelector('#df-b1637b57-8480-4554-ad89-3c1e3340ef92');\n",
              "          const dataTable =\n",
              "            await google.colab.kernel.invokeFunction('convertToInteractive',\n",
              "                                                     [key], {});\n",
              "          if (!dataTable) return;\n",
              "\n",
              "          const docLinkHtml = 'Like what you see? Visit the ' +\n",
              "            '<a target=\"_blank\" href=https://colab.research.google.com/notebooks/data_table.ipynb>data table notebook</a>'\n",
              "            + ' to learn more about interactive tables.';\n",
              "          element.innerHTML = '';\n",
              "          dataTable['output_type'] = 'display_data';\n",
              "          await google.colab.output.renderOutput(dataTable, element);\n",
              "          const docLink = document.createElement('div');\n",
              "          docLink.innerHTML = docLinkHtml;\n",
              "          element.appendChild(docLink);\n",
              "        }\n",
              "      </script>\n",
              "    </div>\n",
              "  </div>\n",
              "  "
            ]
          },
          "metadata": {},
          "execution_count": 68
        }
      ]
    },
    {
      "cell_type": "code",
      "source": [
        "word_tags = unigram_tagger.tag(token)"
      ],
      "metadata": {
        "id": "6XtEEQHLzCel"
      },
      "execution_count": 69,
      "outputs": []
    },
    {
      "cell_type": "code",
      "source": [
        "word_tags"
      ],
      "metadata": {
        "colab": {
          "base_uri": "https://localhost:8080/"
        },
        "id": "yuFGgoT9zEnz",
        "outputId": "0512c5b3-4ebe-4800-ffb0-8be3e967a7df"
      },
      "execution_count": 70,
      "outputs": [
        {
          "output_type": "execute_result",
          "data": {
            "text/plain": [
              "[('हा', 'PRON'),\n",
              " ('लेख', 'NOUN'),\n",
              " ('पन्ना', 'NN'),\n",
              " ('जिल्ह्याविषयी', 'NN'),\n",
              " ('आहे', 'VERB'),\n",
              " ('.', 'PUNCT'),\n",
              " ('पन्ना', 'NN'),\n",
              " ('शहराविषयीचा', 'NN'),\n",
              " ('लेख', 'NOUN'),\n",
              " ('येथे', 'NST'),\n",
              " ('आहे', 'VERB'),\n",
              " ('.', 'PUNCT'),\n",
              " ('पन्ना', 'NN'),\n",
              " ('जिल्हा', 'NOUN'),\n",
              " ('भारतातील', 'PROPN'),\n",
              " ('मध्य', 'PROPN'),\n",
              " ('प्रदेश', 'NOUN'),\n",
              " ('राज्यातील', 'NOUN'),\n",
              " ('एक', 'NUM'),\n",
              " ('जिल्हा', 'NOUN'),\n",
              " ('आहे', 'VERB'),\n",
              " ('.', 'PUNCT')]"
            ]
          },
          "metadata": {},
          "execution_count": 70
        }
      ]
    },
    {
      "cell_type": "markdown",
      "source": [
        "##Word of Interest Lookup accroding to synset format"
      ],
      "metadata": {
        "id": "TBqUYkx1zTkY"
      }
    },
    {
      "cell_type": "code",
      "source": [
        "def wordOfInterest(pos):\n",
        "    wn_pos=['NN','VB','JJ','JJR','JJS','NNP','VBG','RB','VBD','VBP','VAUX','PRP','DEM']\n",
        "\n",
        "    woi1=[]\n",
        "    for x in range(0,len(pos)):\n",
        "      arr=[]\n",
        "      j=pos[x]\n",
        "      for y in range(0,len(j)):\n",
        "        i=j[y]\n",
        "        if i in wn_pos:\n",
        "          arr.append(j)\n",
        "          woi1.append(arr) \n",
        "    woi=[]\n",
        "\n",
        "\n",
        "    for i in woi1:\n",
        "        arr2=[]\n",
        "        for j in i:\n",
        "\n",
        "            if j[1]=='VBD' or j[1]=='VB' or j[1]=='VBP':\n",
        "                tup=(j[0],'verb')\n",
        "                arr2.append(tup)\n",
        "            elif j[1]=='VBG' or j[1]=='PRP':\n",
        "                tup=(j[0],'noun')\n",
        "                arr2.append(tup)\n",
        "            elif j[1]=='NN' or j[1]=='NNP':\n",
        "                tup=(j[0],'noun')\n",
        "                arr2.append(tup)\n",
        "            elif j[1]== 'JJ' or j[1]=='JJR' or j[1]=='JJS' or j[1]=='VAUX' or j[1]=='DEM':\n",
        "                tup=(j[0],'adjective')\n",
        "                arr2.append(tup)\n",
        "            elif j[1]=='RB' or j[1]=='VM':\n",
        "                tup=(j[0],'adverb')\n",
        "                arr2.append(tup)\n",
        "        woi.append(arr2)       \n",
        "            \n",
        "    return woi"
      ],
      "metadata": {
        "id": "wmWTDTcuzRMQ"
      },
      "execution_count": 71,
      "outputs": []
    },
    {
      "cell_type": "markdown",
      "source": [
        "##Making a Wordnet dictionary"
      ],
      "metadata": {
        "id": "PxAp6PoD1kmb"
      }
    },
    {
      "cell_type": "markdown",
      "source": [
        "reading wordbank txt file and preprocessing"
      ],
      "metadata": {
        "id": "VsQsJ3O810fK"
      }
    },
    {
      "cell_type": "markdown",
      "source": [
        "##Making Wordnet definitions - dictionary"
      ],
      "metadata": {
        "id": "uFdgfoBN17G4"
      }
    },
    {
      "cell_type": "code",
      "source": [
        "def deleteLeadingZeros(inputString):\n",
        "   # regex pattern for removing leading zeros from an input string\n",
        "   regexPattern = \"^0+(?!$)\"\n",
        "   # Replace the matched regex pattern with an empty string\n",
        "   outputString = re.sub(regexPattern, \"\", inputString)\n",
        "   # returning output string after removing leading 0s\n",
        "   return outputString"
      ],
      "metadata": {
        "id": "gO_0pQ5gbCMS"
      },
      "execution_count": 72,
      "outputs": []
    },
    {
      "cell_type": "code",
      "source": [
        "# Initialize an empty dictionary\n",
        "dictionary = {}\n",
        "\n",
        "# Open the text file and read its contents line by line\n",
        "with open(\"/content/drive/MyDrive/MArathi_data/data.txt\", \"r\", encoding = 'utf-8') as f:\n",
        "    for line in f:\n",
        "        # Split the line into serial number and value\n",
        "        line = line.strip()  # Remove any leading/trailing whitespace\n",
        "        regexPattern = \"^0+(?!$)\"\n",
        "        line = re.sub(regexPattern, \"\", line)\n",
        "        serial_number, value = line.split(\" \", 1)\n",
        "        #serial_number = int(serial_number)  # Convert the serial number to an integer\n",
        "\n",
        "        # Add the key-value pair to the dictionary\n",
        "        dictionary[serial_number] = value"
      ],
      "metadata": {
        "id": "A8DZXYlc15TB"
      },
      "execution_count": 73,
      "outputs": []
    },
    {
      "cell_type": "code",
      "source": [
        "for n in dictionary.keys():\n",
        "    # Remove numbers from the line using regular expressions\n",
        "    line = dictionary.get(n)\n",
        "    cleaned_line = re.sub(r'\\d+', '', line)\n",
        "\n",
        "    # Remove unnecessary spaces from the line\n",
        "    cleaned_line = ' '.join(cleaned_line.strip().split())\n",
        "\n",
        "    # Add the cleaned line to the list of cleaned lines\n",
        "    dictionary.update({n:cleaned_line})"
      ],
      "metadata": {
        "id": "_EEWsIJeZVYI"
      },
      "execution_count": 74,
      "outputs": []
    },
    {
      "cell_type": "markdown",
      "source": [
        "First 5 entries"
      ],
      "metadata": {
        "id": "kHOMhLtd2Co9"
      }
    },
    {
      "cell_type": "code",
      "source": [
        "count = 0\n",
        "for n in dictionary.keys():\n",
        "  count+=1\n",
        "  if count<5:\n",
        "    print(n, dictionary.get(n))\n",
        "  else:\n",
        "    break"
      ],
      "metadata": {
        "colab": {
          "base_uri": "https://localhost:8080/"
        },
        "id": "9YZAN7PN1_FP",
        "outputId": "9e5a3f5c-3dbd-4f70-8072-c13b0e790850"
      },
      "execution_count": 75,
      "outputs": [
        {
          "output_type": "stream",
          "name": "stdout",
          "text": [
            "1 अजन्मा | ज्यास जन्म नाही असा:\"ईश्वर अजन्मा आहे\"\n",
            "2 अशुभ:अमंगळ | शुभ नाही असा:\"या योगामूळे कुंडलीतील इतर अशुभ योगांचा नाश होतो.\"\n",
            "3 अप्रविष्ट | ज्याने प्रवेश केला नाही असा:\"अप्रविष्ट व्यक्तींना ताबडतोब आत प्रवेश करू द्या.\"\n",
            "4 पुण्यभूमी:पवित्रभूमी:पुण्यस्थान:पवित्रस्थान:पावनस्थान | पवित्र मानले गेलेले स्थान:\"हिंदूंसाठी काशी ही पुण्यभूमी आहे.\"\n"
          ]
        }
      ]
    },
    {
      "cell_type": "markdown",
      "source": [
        "##Synsets "
      ],
      "metadata": {
        "id": "gX31NYsQ1Jd7"
      }
    },
    {
      "cell_type": "code",
      "source": [
        "!pip install --upgrade pyiwn"
      ],
      "metadata": {
        "colab": {
          "base_uri": "https://localhost:8080/"
        },
        "id": "eUF1zR4G1LpW",
        "outputId": "857ffe3f-84f5-42ce-b78c-903b5bdb6fe2"
      },
      "execution_count": 76,
      "outputs": [
        {
          "output_type": "stream",
          "name": "stdout",
          "text": [
            "Looking in indexes: https://pypi.org/simple, https://us-python.pkg.dev/colab-wheels/public/simple/\n",
            "Collecting pyiwn\n",
            "  Downloading pyiwn-0.0.5-py3-none-any.whl (12 kB)\n",
            "Requirement already satisfied: pandas in /usr/local/lib/python3.9/dist-packages (from pyiwn) (1.4.4)\n",
            "Requirement already satisfied: requests in /usr/local/lib/python3.9/dist-packages (from pyiwn) (2.27.1)\n",
            "Requirement already satisfied: python-dateutil>=2.8.1 in /usr/local/lib/python3.9/dist-packages (from pandas->pyiwn) (2.8.2)\n",
            "Requirement already satisfied: pytz>=2020.1 in /usr/local/lib/python3.9/dist-packages (from pandas->pyiwn) (2022.7.1)\n",
            "Requirement already satisfied: numpy>=1.18.5 in /usr/local/lib/python3.9/dist-packages (from pandas->pyiwn) (1.22.4)\n",
            "Requirement already satisfied: charset-normalizer~=2.0.0 in /usr/local/lib/python3.9/dist-packages (from requests->pyiwn) (2.0.12)\n",
            "Requirement already satisfied: idna<4,>=2.5 in /usr/local/lib/python3.9/dist-packages (from requests->pyiwn) (3.4)\n",
            "Requirement already satisfied: urllib3<1.27,>=1.21.1 in /usr/local/lib/python3.9/dist-packages (from requests->pyiwn) (1.26.15)\n",
            "Requirement already satisfied: certifi>=2017.4.17 in /usr/local/lib/python3.9/dist-packages (from requests->pyiwn) (2022.12.7)\n",
            "Requirement already satisfied: six>=1.5 in /usr/local/lib/python3.9/dist-packages (from python-dateutil>=2.8.1->pandas->pyiwn) (1.16.0)\n",
            "Installing collected packages: pyiwn\n",
            "Successfully installed pyiwn-0.0.5\n"
          ]
        }
      ]
    },
    {
      "cell_type": "code",
      "source": [
        "import pyiwn"
      ],
      "metadata": {
        "colab": {
          "base_uri": "https://localhost:8080/"
        },
        "id": "SwwwZs6D1NXb",
        "outputId": "c47bf7a5-56df-41ae-9f7c-ec907931c9c2"
      },
      "execution_count": 77,
      "outputs": [
        {
          "output_type": "stream",
          "name": "stdout",
          "text": [
            "[██████████████████████████████████████████████████]\n"
          ]
        }
      ]
    },
    {
      "cell_type": "markdown",
      "source": [
        "Marathi synset object creation"
      ],
      "metadata": {
        "id": "aUoJe0_-2qZu"
      }
    },
    {
      "cell_type": "code",
      "source": [
        "#marathi wordnet\n",
        "iwn = pyiwn.IndoWordNet(lang=pyiwn.Language.MARATHI)"
      ],
      "metadata": {
        "id": "d1UeEAaq1S0g"
      },
      "execution_count": 78,
      "outputs": []
    },
    {
      "cell_type": "code",
      "source": [
        "#checking if it works\n",
        "all_synsets = iwn.synsets('आई')"
      ],
      "metadata": {
        "id": "66vXKuDz1T6U"
      },
      "execution_count": 79,
      "outputs": []
    },
    {
      "cell_type": "code",
      "source": [
        "all_synsets"
      ],
      "metadata": {
        "colab": {
          "base_uri": "https://localhost:8080/"
        },
        "id": "OK5ctu_s1WQ8",
        "outputId": "e12145a1-6d3d-4884-e9aa-bbf04c69a4cd"
      },
      "execution_count": 80,
      "outputs": [
        {
          "output_type": "execute_result",
          "data": {
            "text/plain": [
              "[Synset('आई.noun.2191'), Synset('आई.noun.36505')]"
            ]
          },
          "metadata": {},
          "execution_count": 80
        }
      ]
    },
    {
      "cell_type": "markdown",
      "source": [
        "List of tags available"
      ],
      "metadata": {
        "id": "8g7IXrqZ1ZtR"
      }
    },
    {
      "cell_type": "code",
      "source": [
        "#available tags\n",
        "list(map(str, pyiwn.PosTag))"
      ],
      "metadata": {
        "colab": {
          "base_uri": "https://localhost:8080/"
        },
        "id": "UwBAKsVj1ZUm",
        "outputId": "392eac20-ed12-48c9-f45b-a6089f0ff173"
      },
      "execution_count": 81,
      "outputs": [
        {
          "output_type": "execute_result",
          "data": {
            "text/plain": [
              "['PosTag.NOUN', 'PosTag.VERB', 'PosTag.ADVERB', 'PosTag.ADJECTIVE']"
            ]
          },
          "metadata": {},
          "execution_count": 81
        }
      ]
    },
    {
      "cell_type": "code",
      "source": [
        "synsets = iwn.all_synsets()\n",
        "print(len(synsets))"
      ],
      "metadata": {
        "colab": {
          "base_uri": "https://localhost:8080/"
        },
        "id": "1yTVS-ZV1b69",
        "outputId": "f2eeb218-be9c-4bcb-bfdf-4153e37a5d09"
      },
      "execution_count": 82,
      "outputs": [
        {
          "output_type": "stream",
          "name": "stdout",
          "text": [
            "32200\n"
          ]
        }
      ]
    },
    {
      "cell_type": "code",
      "source": [
        "syn = synsets[:5]"
      ],
      "metadata": {
        "id": "u6X5cEk_1fol"
      },
      "execution_count": 83,
      "outputs": []
    },
    {
      "cell_type": "code",
      "source": [
        "syn = str(synsets[:5])"
      ],
      "metadata": {
        "id": "DNXoHSaHHRuh"
      },
      "execution_count": 84,
      "outputs": []
    },
    {
      "cell_type": "code",
      "source": [
        "syn = list(syn.split(\",\"))"
      ],
      "metadata": {
        "id": "IOYiCq_oHS2j"
      },
      "execution_count": 85,
      "outputs": []
    },
    {
      "cell_type": "code",
      "source": [
        "import string\n",
        "idx = []\n",
        "printable_chars = string.printable\n",
        "for line in syn:\n",
        "  cleaned_text = \"\".join([char for char in line if char in printable_chars and char not in string.whitespace])\n",
        "  n = re.findall('\\d+', cleaned_text)\n",
        "  idx.append(n)"
      ],
      "metadata": {
        "id": "T978ofQx5X8B"
      },
      "execution_count": 86,
      "outputs": []
    },
    {
      "cell_type": "code",
      "source": [
        "print(idx)"
      ],
      "metadata": {
        "colab": {
          "base_uri": "https://localhost:8080/"
        },
        "id": "kczZj4UvHV3O",
        "outputId": "b80be3d4-9274-4854-ba32-492ce157941a"
      },
      "execution_count": 87,
      "outputs": [
        {
          "output_type": "stream",
          "name": "stdout",
          "text": [
            "[['5'], ['1'], ['7'], ['2'], ['10']]\n"
          ]
        }
      ]
    },
    {
      "cell_type": "markdown",
      "source": [
        "##Lookup"
      ],
      "metadata": {
        "id": "heJRrbsS4LSM"
      }
    },
    {
      "cell_type": "code",
      "source": [
        "for n in idx:\n",
        "  print(n, dictionary.get(n[0]))"
      ],
      "metadata": {
        "colab": {
          "base_uri": "https://localhost:8080/"
        },
        "id": "V4Qov5zn4Fzc",
        "outputId": "b34e944c-3f2c-4a55-802f-64e0ff36c027"
      },
      "execution_count": 88,
      "outputs": [
        {
          "output_type": "stream",
          "name": "stdout",
          "text": [
            "['5'] शिवालय:शिवमंदिर | जिथे शंकराच्या पिंडीची स्थापना केली असून त्याची पूजा होते ती जागा:\"ती दर सोमवारी शिवालयात जाते.\"\n",
            "['1'] अजन्मा | ज्यास जन्म नाही असा:\"ईश्वर अजन्मा आहे\"\n",
            "['7'] आलेला:आगत | दाखल झालेला:\"आलेल्या पाहुण्यांचे स्वागत आहे.\"\n",
            "['2'] अशुभ:अमंगळ | शुभ नाही असा:\"या योगामूळे कुंडलीतील इतर अशुभ योगांचा नाश होतो.\"\n",
            "['10'] उत्पादित:उत्पन्न | ज्याची उत्पत्ति झाली आहे असा:\"आसाममध्ये उत्पादित चहा जगभर प्रसिद्ध आहे.\"\n"
          ]
        }
      ]
    },
    {
      "cell_type": "markdown",
      "source": [
        "##Final Complete Function for WSD"
      ],
      "metadata": {
        "id": "Tt7qi4VfE5A_"
      }
    },
    {
      "cell_type": "code",
      "source": [
        "text = str(input())\n"
      ],
      "metadata": {
        "colab": {
          "base_uri": "https://localhost:8080/"
        },
        "id": "5kBKF62oE-F0",
        "outputId": "4daaefb3-00d8-41d4-9294-15a7d43de1f2"
      },
      "execution_count": 89,
      "outputs": [
        {
          "name": "stdout",
          "output_type": "stream",
          "text": [
            "हा लेख पन्ना जिल्ह्याविषयी आहे. पन्ना शहराविषयीचा लेख येथे आहे. पन्ना जिल्हा भारतातील मध्य प्रदेश राज्यातील एक जिल्हा आहे\n"
          ]
        }
      ]
    },
    {
      "cell_type": "code",
      "source": [
        "text"
      ],
      "metadata": {
        "colab": {
          "base_uri": "https://localhost:8080/",
          "height": 36
        },
        "id": "IKxTuhezRLCB",
        "outputId": "3360b557-eac5-4716-fab7-cca583c71274"
      },
      "execution_count": 90,
      "outputs": [
        {
          "output_type": "execute_result",
          "data": {
            "text/plain": [
              "'हा लेख पन्ना जिल्ह्याविषयी आहे. पन्ना शहराविषयीचा लेख येथे आहे. पन्ना जिल्हा भारतातील मध्य प्रदेश राज्यातील एक जिल्हा आहे'"
            ],
            "application/vnd.google.colaboratory.intrinsic+json": {
              "type": "string"
            }
          },
          "metadata": {},
          "execution_count": 90
        }
      ]
    },
    {
      "cell_type": "code",
      "source": [
        "word = input()"
      ],
      "metadata": {
        "colab": {
          "base_uri": "https://localhost:8080/"
        },
        "id": "6nQUnkc-Hzs1",
        "outputId": "1221cc4d-3cb7-44d7-8615-ed1bb15131b9"
      },
      "execution_count": 116,
      "outputs": [
        {
          "name": "stdout",
          "output_type": "stream",
          "text": [
            "प्रदेश\n"
          ]
        }
      ]
    },
    {
      "cell_type": "markdown",
      "source": [
        "Function to Get Parts of Speech of the Input text"
      ],
      "metadata": {
        "id": "6U9zy3dApsor"
      }
    },
    {
      "cell_type": "code",
      "source": [
        "def get_pos(text):\n",
        "  # Remove unnecessary spaces\n",
        "  #text = re.sub('\\s+', ' ', string).strip()\n",
        "\n",
        "  # Remove numbers\n",
        "  #text = re.sub('[0-9]+', '', string)\n",
        "  \n",
        "  #Parts of speech tagging\n",
        "  POS = {}\n",
        "  token = word_tokenize(text)\n",
        "  \n",
        "  word_tags = unigram_tagger.tag(token)\n",
        "  \n",
        "  for w, tag in word_tags:\n",
        "    if tag not in POS:\n",
        "      POS[tag] = [w]\n",
        "    else:\n",
        "      POS[tag].append(w)\n",
        "  \n",
        "  return POS,word_tags"
      ],
      "metadata": {
        "id": "8jH3__VskdnP"
      },
      "execution_count": 92,
      "outputs": []
    },
    {
      "cell_type": "markdown",
      "source": [
        "DataFrame for better visuals"
      ],
      "metadata": {
        "id": "dxvAAkhAqsvZ"
      }
    },
    {
      "cell_type": "code",
      "source": [
        "def pos_df(text):\n",
        "  token = word_tokenize(text)\n",
        "  df = get_POS(token)\n",
        "\n",
        "  return df\n"
      ],
      "metadata": {
        "id": "y5r4OnFTqZhs"
      },
      "execution_count": 93,
      "outputs": []
    },
    {
      "cell_type": "markdown",
      "source": [
        "Function to Get Word of Interest Tags"
      ],
      "metadata": {
        "id": "sL5cfNnTpm0T"
      }
    },
    {
      "cell_type": "code",
      "source": [
        "def get_word_of_interest(POS,wor):\n",
        "  w=[]\n",
        "  for token in POS:\n",
        "    if(token[0] == wor):\n",
        "      w.append(token[1])\n",
        "    else:\n",
        "      continue\n",
        "\n",
        "  wn_pos=['NN','VB','JJ','JJR','JJS','NNP','VBG','RB','VBD','VBP','VAUX','PRP','DEM']\n",
        "  for i in range(len(w)):\n",
        "    if w[i]=='VBD' or w[i]=='VB' or w[i]=='VBP':\n",
        "      w[i]='VERB'\n",
        "\n",
        "    elif w[i]=='VBG' or w[i]=='PRP':\n",
        "      w[i]='NOUN'\n",
        "\n",
        "    elif w[i]=='NN' or w[i]=='NNP' or 'N' or 'NNC':\n",
        "      w[i]='NOUN'\n",
        "\n",
        "    elif w[i]== 'JJ' or w[i]=='JJR' or w[i]=='JJS' or w[i]=='VAUX' or w[i]=='DEM':\n",
        "      w[i]='ADJECTIVE'\n",
        "\n",
        "    elif w[i]=='RB' or w[i]=='VM':\n",
        "      w[i]='ADVERB'\n",
        "\n",
        "  return w"
      ],
      "metadata": {
        "id": "pXxDnl8wk072"
      },
      "execution_count": 128,
      "outputs": []
    },
    {
      "cell_type": "markdown",
      "source": [
        "Function to get synsets of the word of Interest "
      ],
      "metadata": {
        "id": "8k7Wt6vApxTV"
      }
    },
    {
      "cell_type": "code",
      "source": [
        "def get_synsets(w,wor):\n",
        "  j = []  \n",
        "  for i in range(len(w)):\n",
        "    if len(w) == 1:\n",
        "      if w[i] == \"NOUN\":\n",
        "        j.append(str(iwn.synsets(wor, pos=pyiwn.PosTag.NOUN)))\n",
        "        break\n",
        "      elif w[i] == \"ADJECTIVE\":\n",
        "      #all_synsets = iwn.synsets(word, pos=pyiwn.PosTag.ADJECTIVE)\n",
        "        j.append(str(iwn.synsets(wor, pos=pyiwn.PosTag.ADJECTIVE)))\n",
        "        break\n",
        "      elif w[i] == \"ADVERB\":\n",
        "      #all_synsets = iwn.synsets(word, pos=pyiwn.PosTag.ADVERB)\n",
        "       j.append(str(iwn.synsets(wor, pos=pyiwn.PosTag.ADVERB)))\n",
        "       break\n",
        "      else:\n",
        "      #all_synsets = iwn.synsets(word, pos=pyiwn.PosTag.VERB)\n",
        "        j.append(str(iwn.synsets(wor, pos=pyiwn.PosTag.VERB)))\n",
        "        break\n",
        "\n",
        "    elif w[i] == w[i+1] == w[i+2]:\n",
        "      if w[i] == \"NOUN\":\n",
        "      #all_synsets = iwn.synsets(word, pos=pyiwn.PosTag.NOUN)\n",
        "        j.append(str(iwn.synsets(wor, pos=pyiwn.PosTag.NOUN)))\n",
        "        break\n",
        "      elif w[i] == \"ADJECTIVE\":\n",
        "      #all_synsets = iwn.synsets(word, pos=pyiwn.PosTag.ADJECTIVE)\n",
        "        j.append(str(iwn.synsets(wor, pos=pyiwn.PosTag.ADJECTIVE)))\n",
        "        break\n",
        "      elif w[i] == \"ADVERB\":\n",
        "      #all_synsets = iwn.synsets(word, pos=pyiwn.PosTag.ADVERB)\n",
        "       j.append(str(iwn.synsets(wor, pos=pyiwn.PosTag.ADVERB)))\n",
        "       break\n",
        "      else:\n",
        "      #all_synsets = iwn.synsets(word, pos=pyiwn.PosTag.VERB)\n",
        "        j.append(str(iwn.synsets(wor, pos=pyiwn.PosTag.VERB)))\n",
        "        break\n",
        "\n",
        "  if len(j) !=0:\n",
        "    all_synsets=[]\n",
        "    for i in j:\n",
        "      #for k in i:\n",
        "      temp = i.split(\",\")\n",
        "      all_synsets.append(temp)\n",
        "  else:\n",
        "    print(\"no synsets in dictionary\")\n",
        "  \n",
        "  return all_synsets"
      ],
      "metadata": {
        "id": "Bhbb_sihlBxg"
      },
      "execution_count": 178,
      "outputs": []
    },
    {
      "cell_type": "markdown",
      "source": [
        "Function to get the Index for Lookup"
      ],
      "metadata": {
        "id": "2NyTM9nap2PT"
      }
    },
    {
      "cell_type": "code",
      "source": [
        "def get_index(synsets):\n",
        "  idx = []\n",
        "  \n",
        "  #index idendification for lookup\n",
        "  printable_chars = string.printable\n",
        "  \n",
        "  for line in synsets[0]:\n",
        "    cleaned_text = \"\".join([char for char in line if char in printable_chars and char not in string.whitespace])\n",
        "    n = re.findall('\\d+', cleaned_text)\n",
        "    idx.append(n)\n",
        "\n",
        "  #returning the calculated results\n",
        "  return idx"
      ],
      "metadata": {
        "id": "PoItgxPVBmnH"
      },
      "execution_count": 96,
      "outputs": []
    },
    {
      "cell_type": "markdown",
      "source": [
        "Get Parts of Speech Tags"
      ],
      "metadata": {
        "id": "eShgV8zNpNib"
      }
    },
    {
      "cell_type": "code",
      "source": [
        "#getting the parts od speech, synsets and index for the given text\n",
        "pos, tags = get_pos(text)\n",
        "print(pos)\n",
        "print()\n",
        "print(tags)"
      ],
      "metadata": {
        "colab": {
          "base_uri": "https://localhost:8080/"
        },
        "id": "n7s45WSEFtug",
        "outputId": "89bb0798-c648-4b5d-c193-059783856534"
      },
      "execution_count": 129,
      "outputs": [
        {
          "output_type": "stream",
          "name": "stdout",
          "text": [
            "{'PRON': ['हा'], 'NOUN': ['लेख', 'लेख', 'जिल्हा', 'प्रदेश', 'राज्यातील', 'जिल्हा'], 'NN': ['पन्ना', 'जिल्ह्याविषयी', 'पन्ना', 'शहराविषयीचा', 'पन्ना'], 'VERB': ['आहे', 'आहे', 'आहे'], 'PUNCT': ['.', '.'], 'NST': ['येथे'], 'PROPN': ['भारतातील', 'मध्य'], 'NUM': ['एक']}\n",
            "\n",
            "[('हा', 'PRON'), ('लेख', 'NOUN'), ('पन्ना', 'NN'), ('जिल्ह्याविषयी', 'NN'), ('आहे', 'VERB'), ('.', 'PUNCT'), ('पन्ना', 'NN'), ('शहराविषयीचा', 'NN'), ('लेख', 'NOUN'), ('येथे', 'NST'), ('आहे', 'VERB'), ('.', 'PUNCT'), ('पन्ना', 'NN'), ('जिल्हा', 'NOUN'), ('भारतातील', 'PROPN'), ('मध्य', 'PROPN'), ('प्रदेश', 'NOUN'), ('राज्यातील', 'NOUN'), ('एक', 'NUM'), ('जिल्हा', 'NOUN'), ('आहे', 'VERB')]\n"
          ]
        }
      ]
    },
    {
      "cell_type": "code",
      "source": [
        "df_pos = pos_df(text)"
      ],
      "metadata": {
        "id": "IltMblAnqJa0"
      },
      "execution_count": 130,
      "outputs": []
    },
    {
      "cell_type": "markdown",
      "source": [
        "Get word of Interest Tag"
      ],
      "metadata": {
        "id": "yGmMbEvepQun"
      }
    },
    {
      "cell_type": "code",
      "source": [
        "##corrected code\n",
        "woi = get_word_of_interest(tags,word)\n",
        "print(woi)"
      ],
      "metadata": {
        "colab": {
          "base_uri": "https://localhost:8080/"
        },
        "id": "7PDEYZXTmgD2",
        "outputId": "525cc1cf-7ea5-450a-db7c-92eeb9f69bcc"
      },
      "execution_count": 131,
      "outputs": [
        {
          "output_type": "stream",
          "name": "stdout",
          "text": [
            "['NOUN']\n"
          ]
        }
      ]
    },
    {
      "cell_type": "markdown",
      "source": [
        "Get synsets for the Word of Interest"
      ],
      "metadata": {
        "id": "p9VNVEQgpUo1"
      }
    },
    {
      "cell_type": "code",
      "source": [
        "synsets = get_synsets(woi,word)"
      ],
      "metadata": {
        "id": "LCsFTTBNnmy5"
      },
      "execution_count": 141,
      "outputs": []
    },
    {
      "cell_type": "code",
      "source": [
        "print(synsets)"
      ],
      "metadata": {
        "colab": {
          "base_uri": "https://localhost:8080/"
        },
        "id": "5T-3D4YTnzPX",
        "outputId": "4107163c-3e27-425a-c483-01b7b7dfe5d8"
      },
      "execution_count": 142,
      "outputs": [
        {
          "output_type": "stream",
          "name": "stdout",
          "text": [
            "[[\"[Synset('राज्य.noun.231')\", \" Synset('प्रदेश.noun.2022')\", \" Synset('राज्य.noun.26705')]\"]]\n"
          ]
        }
      ]
    },
    {
      "cell_type": "markdown",
      "source": [
        "Get Index of the Word of Interest to Lookup in Dictionary"
      ],
      "metadata": {
        "id": "tyxRn714pXyk"
      }
    },
    {
      "cell_type": "code",
      "source": [
        "idx = get_index(synsets)\n",
        "print(idx)"
      ],
      "metadata": {
        "colab": {
          "base_uri": "https://localhost:8080/"
        },
        "id": "FnfR7BE6o5IS",
        "outputId": "3fb60319-4fc6-4894-b1c0-95130990360d"
      },
      "execution_count": 104,
      "outputs": [
        {
          "output_type": "stream",
          "name": "stdout",
          "text": [
            "[['231'], ['2022'], ['26705']]\n"
          ]
        }
      ]
    },
    {
      "cell_type": "markdown",
      "source": [
        "##Final Result"
      ],
      "metadata": {
        "id": "P2nepnxBpeww"
      }
    },
    {
      "cell_type": "code",
      "source": [
        "print(\"Parts of Speech Tags for the Given Text\")\n",
        "print(df_pos)\n",
        "print()\n",
        "print(\"Related synsets = \", \"\\n\", synsets)\n",
        "print()\n",
        "print(\"Related indexes = \", \"\\n\", idx)\n",
        "print()\n",
        "for n in idx:\n",
        "  print(\"Word ID\", n,\" - \", dictionary.get(n[0])) "
      ],
      "metadata": {
        "colab": {
          "base_uri": "https://localhost:8080/"
        },
        "id": "33A3uwT2_fYz",
        "outputId": "7342b96f-b6ee-4aea-81ea-b07fb40e4d7d"
      },
      "execution_count": 105,
      "outputs": [
        {
          "output_type": "stream",
          "name": "stdout",
          "text": [
            "Parts of Speech Tags for the Given Text\n",
            "    Tags                                        Words  Count\n",
            "0  PRON   हा                                           1    \n",
            "1  NOUN   लेख लेख जिल्हा प्रदेश राज्यातील जिल्हा       6    \n",
            "2  NN     पन्ना जिल्ह्याविषयी पन्ना शहराविषयीचा पन्ना  5    \n",
            "3  VERB   आहे आहे आहे                                  3    \n",
            "4  PUNCT  . .                                          2    \n",
            "5  NST    येथे                                         1    \n",
            "6  PROPN  भारतातील मध्य                                2    \n",
            "7  NUM    एक                                           1    \n",
            "\n",
            "Related synsets =  \n",
            " [[\"[Synset('राज्य.noun.231')\", \" Synset('प्रदेश.noun.2022')\", \" Synset('राज्य.noun.26705')]\"]]\n",
            "\n",
            "Related indexes =  \n",
            " [['231'], ['2022'], ['26705']]\n",
            "\n",
            "Word ID ['231']  -  प्रदेश:प्रांत:सुभा:मुलूख | विशिष्ट अशा मर्यादांनी निश्चित केलेला व ज्यात राहणार्‍या लोकांची भाषा, राहणीमान इत्यादी दुसर्‍या भागाच्या लोकांपेक्षा वेगळी असते असा देशाचा एक भाग:\"प्रत्येक प्रदेशाच्या लोकांची राहणी वेगवेगळी असते\"\n",
            "Word ID ['2022']  -  प्रदेश:क्षेत्र:इलाखा:मुलूख:भाग:पट्टा | भूमीचा एक तुकडा:\"ग्रामीण प्रदेशात अजूनदेखील वीज समस्या कायम आहे.\"\n",
            "Word ID ['26705']  -  राज्य:प्रदेश | एखाद्या राज्यात किंवा प्रदेशात राहणारे लोक:\"पूर्ण राज्य महागाईने त्रस्त आहे.\"\n"
          ]
        }
      ]
    },
    {
      "cell_type": "markdown",
      "source": [
        "##Additional test cases"
      ],
      "metadata": {
        "id": "gIihtjRJRYyz"
      }
    },
    {
      "cell_type": "code",
      "source": [
        "text1 = \"समाजासाठी देशासाठी चांगले काम करणाऱ्या व्यक्तीला लोक एखाद्या मानद उपाधीने संबोधित करायला सुरुवात करतात आणि पुढे तीच उपाधी त्या व्यक्तीची ओळख होऊन जाते\"\n",
        "text2 = \"पुण्यश्लोक, महर्षी, महात्मा, बाबासाहेब आणि लोकमान्य या अशाच काही उपाध्या आहेत.\"\n",
        "text3 = \"भारतातील अशा उपाध्या धारण करणाऱ्या काही व्यक्तींची नावे पुढील पुढीलप्रमाणे आहेत\"\n",
        "text4 = \"\""
      ],
      "metadata": {
        "id": "ev56hJoZRa5p"
      },
      "execution_count": 106,
      "outputs": []
    },
    {
      "cell_type": "code",
      "source": [
        "word1 = \"सुरुवात\"\n",
        "word2 = \"महर्षी\"\n",
        "word3 = \"धारण\""
      ],
      "metadata": {
        "id": "uwzn9VNeVxVZ"
      },
      "execution_count": 179,
      "outputs": []
    },
    {
      "cell_type": "code",
      "source": [
        "#getting the parts od speech, synsets and index for the given text\n",
        "pos1, tags1 = get_pos(text1)\n",
        "print(pos1)\n",
        "print()\n",
        "print(tags1)"
      ],
      "metadata": {
        "colab": {
          "base_uri": "https://localhost:8080/"
        },
        "id": "dZ3x69jPS7EC",
        "outputId": "93f3db8b-4b67-477a-b557-4c51c98750af"
      },
      "execution_count": 133,
      "outputs": [
        {
          "output_type": "stream",
          "name": "stdout",
          "text": [
            "{'NOUN': ['समाजासाठी', 'देशासाठी', 'काम', 'व्यक्तीला', 'लोक', 'सुरुवात', 'ओळख'], 'ADJ': ['चांगले', 'संबोधित'], 'VERB': ['करणाऱ्या', 'करायला', 'करतात', 'होऊन'], 'DET': ['एखाद्या'], 'NN': ['मानद', 'उपाधीने', 'उपाधी', 'व्यक्तीची'], 'SCONJ': ['आणि'], 'NST': ['पुढे'], 'PRON': ['तीच', 'त्या'], 'AUX': ['जाते']}\n",
            "\n",
            "[('समाजासाठी', 'NOUN'), ('देशासाठी', 'NOUN'), ('चांगले', 'ADJ'), ('काम', 'NOUN'), ('करणाऱ्या', 'VERB'), ('व्यक्तीला', 'NOUN'), ('लोक', 'NOUN'), ('एखाद्या', 'DET'), ('मानद', 'NN'), ('उपाधीने', 'NN'), ('संबोधित', 'ADJ'), ('करायला', 'VERB'), ('सुरुवात', 'NOUN'), ('करतात', 'VERB'), ('आणि', 'SCONJ'), ('पुढे', 'NST'), ('तीच', 'PRON'), ('उपाधी', 'NN'), ('त्या', 'PRON'), ('व्यक्तीची', 'NN'), ('ओळख', 'NOUN'), ('होऊन', 'VERB'), ('जाते', 'AUX')]\n"
          ]
        }
      ]
    },
    {
      "cell_type": "code",
      "source": [
        "df_pos = pos_df(text1)"
      ],
      "metadata": {
        "id": "-REqO0jzVlEi"
      },
      "execution_count": 134,
      "outputs": []
    },
    {
      "cell_type": "code",
      "source": [
        "woi = get_word_of_interest(tags1,word1)\n",
        "print(woi)"
      ],
      "metadata": {
        "colab": {
          "base_uri": "https://localhost:8080/"
        },
        "id": "pDqdT1TDVlob",
        "outputId": "77407fb9-4397-4a03-873a-a8f2eed6fedc"
      },
      "execution_count": 157,
      "outputs": [
        {
          "output_type": "stream",
          "name": "stdout",
          "text": [
            "['NOUN']\n"
          ]
        }
      ]
    },
    {
      "cell_type": "code",
      "source": [
        "synsets = get_synsets(woi,word1)"
      ],
      "metadata": {
        "id": "K_sYZepUVoCS"
      },
      "execution_count": 158,
      "outputs": []
    },
    {
      "cell_type": "code",
      "source": [
        "print(synsets)"
      ],
      "metadata": {
        "colab": {
          "base_uri": "https://localhost:8080/"
        },
        "id": "pXB6ebIGW_6b",
        "outputId": "d292d302-bd6c-4e03-eb34-7e2f7ab6fade"
      },
      "execution_count": 159,
      "outputs": [
        {
          "output_type": "stream",
          "name": "stdout",
          "text": [
            "[[\"[Synset('सुरुवात.noun.67')]\"]]\n"
          ]
        }
      ]
    },
    {
      "cell_type": "code",
      "source": [
        "idx = get_index(synsets)\n",
        "print(idx)"
      ],
      "metadata": {
        "colab": {
          "base_uri": "https://localhost:8080/"
        },
        "id": "L_mUXQsVXANZ",
        "outputId": "3928ed2a-aacb-4d74-b0cc-20e4990a4cd4"
      },
      "execution_count": 160,
      "outputs": [
        {
          "output_type": "stream",
          "name": "stdout",
          "text": [
            "[['67']]\n"
          ]
        }
      ]
    },
    {
      "cell_type": "code",
      "source": [
        "print(\"Parts of Speech Tags for the Given Text\")\n",
        "print(df_pos)\n",
        "print()\n",
        "print(\"Related synsets = \", \"\\n\", synsets)\n",
        "print()\n",
        "print(\"Related indexes = \", \"\\n\", idx)\n",
        "print()\n",
        "for n in idx:\n",
        "  print(\"Word ID\", n,\" - \", dictionary.get(n[0])) "
      ],
      "metadata": {
        "colab": {
          "base_uri": "https://localhost:8080/"
        },
        "id": "KUiiW7_pXDW6",
        "outputId": "63d19637-09e5-4819-ff91-3ae18a52f1f3"
      },
      "execution_count": 161,
      "outputs": [
        {
          "output_type": "stream",
          "name": "stdout",
          "text": [
            "Parts of Speech Tags for the Given Text\n",
            "    Tags                                             Words  Count\n",
            "0  NOUN   समाजासाठी देशासाठी काम व्यक्तीला लोक सुरुवात ओळख  7    \n",
            "1  ADJ    चांगले संबोधित                                    2    \n",
            "2  VERB   करणाऱ्या करायला करतात होऊन                        4    \n",
            "3  DET    एखाद्या                                           1    \n",
            "4  NN     मानद उपाधीने उपाधी व्यक्तीची                      4    \n",
            "5  SCONJ  आणि                                               1    \n",
            "6  NST    पुढे                                              1    \n",
            "7  PRON   तीच त्या                                          2    \n",
            "8  AUX    जाते                                              1    \n",
            "\n",
            "Related synsets =  \n",
            " [[\"[Synset('सुरुवात.noun.67')]\"]]\n",
            "\n",
            "Related indexes =  \n",
            " [['67']]\n",
            "\n",
            "Word ID ['67']  -  सुरुवात:सुरवात:प्रारंभ:आरंभ:श्रीगणेशा:ओनामा:नांदी:मुहूर्त | एखादे कार्य वा गोष्ट सुरू होण्याची क्रिया:\"सतराव्या शतकात इंग्लंडमध्ये औद्योगिक विकासाची सुरवात झाली.\"\n"
          ]
        }
      ]
    },
    {
      "cell_type": "markdown",
      "source": [
        "#2 text"
      ],
      "metadata": {
        "id": "IPJQG9x-YadW"
      }
    },
    {
      "cell_type": "code",
      "source": [
        "#getting the parts od speech, synsets and index for the given text\n",
        "pos2, tags2 = get_pos(text2)\n",
        "print(pos2)\n",
        "print()\n",
        "print(tags2)"
      ],
      "metadata": {
        "colab": {
          "base_uri": "https://localhost:8080/"
        },
        "id": "4qAmkkUBYZ_l",
        "outputId": "95b6c8ae-59f3-46da-aaae-6c88209f21c3"
      },
      "execution_count": 162,
      "outputs": [
        {
          "output_type": "stream",
          "name": "stdout",
          "text": [
            "{'NN': ['पुण्यश्लोक', 'उपाध्या'], 'PUNCT': [',', ',', ',', '.'], 'PROPN': ['महर्षी', 'महात्मा', 'बाबासाहेब', 'लोकमान्य'], 'SCONJ': ['आणि'], 'PRON': ['या', 'अशाच'], 'DET': ['काही'], 'VERB': ['आहेत']}\n",
            "\n",
            "[('पुण्यश्लोक', 'NN'), (',', 'PUNCT'), ('महर्षी', 'PROPN'), (',', 'PUNCT'), ('महात्मा', 'PROPN'), (',', 'PUNCT'), ('बाबासाहेब', 'PROPN'), ('आणि', 'SCONJ'), ('लोकमान्य', 'PROPN'), ('या', 'PRON'), ('अशाच', 'PRON'), ('काही', 'DET'), ('उपाध्या', 'NN'), ('आहेत', 'VERB'), ('.', 'PUNCT')]\n"
          ]
        }
      ]
    },
    {
      "cell_type": "code",
      "source": [
        "df_pos = pos_df(text2)"
      ],
      "metadata": {
        "id": "KrGwbi6xYkpG"
      },
      "execution_count": 163,
      "outputs": []
    },
    {
      "cell_type": "code",
      "source": [
        "woi = get_word_of_interest(tags2,word2)\n",
        "print(woi)"
      ],
      "metadata": {
        "colab": {
          "base_uri": "https://localhost:8080/"
        },
        "id": "E7Oh9Aj7Ylql",
        "outputId": "f286bcb5-917f-40b5-f5a8-9c93df3913a5"
      },
      "execution_count": 180,
      "outputs": [
        {
          "output_type": "stream",
          "name": "stdout",
          "text": [
            "['NOUN']\n"
          ]
        }
      ]
    },
    {
      "cell_type": "code",
      "source": [
        "synsets = get_synsets(woi,word2)"
      ],
      "metadata": {
        "id": "M2uS6pCYYpDX"
      },
      "execution_count": 181,
      "outputs": []
    },
    {
      "cell_type": "code",
      "source": [
        "print(synsets)"
      ],
      "metadata": {
        "colab": {
          "base_uri": "https://localhost:8080/"
        },
        "id": "USaUt8wVYrXp",
        "outputId": "2087112e-81a6-46c3-9f43-d1fe77ccb43c"
      },
      "execution_count": 182,
      "outputs": [
        {
          "output_type": "stream",
          "name": "stdout",
          "text": [
            "[[\"[Synset('महर्षी.noun.17587')]\"]]\n"
          ]
        }
      ]
    },
    {
      "cell_type": "code",
      "source": [
        "idx = get_index(synsets)\n",
        "print(idx)"
      ],
      "metadata": {
        "colab": {
          "base_uri": "https://localhost:8080/"
        },
        "id": "--CtT2OLYs-w",
        "outputId": "71db109d-8478-470e-b198-e76a87ca3832"
      },
      "execution_count": 183,
      "outputs": [
        {
          "output_type": "stream",
          "name": "stdout",
          "text": [
            "[['17587']]\n"
          ]
        }
      ]
    },
    {
      "cell_type": "code",
      "source": [
        "print(\"Parts of Speech Tags for the Given Text\")\n",
        "print(df_pos)\n",
        "print()\n",
        "print(\"Related synsets = \", \"\\n\", synsets)\n",
        "print()\n",
        "print(\"Related indexes = \", \"\\n\", idx)\n",
        "print()\n",
        "for n in idx:\n",
        "  print(\"Word ID\", n,\" - \", dictionary.get(n[0])) "
      ],
      "metadata": {
        "colab": {
          "base_uri": "https://localhost:8080/"
        },
        "id": "b7bJV2vHZYta",
        "outputId": "16eafb1f-ef86-4153-8f87-f4ba5df6d894"
      },
      "execution_count": 184,
      "outputs": [
        {
          "output_type": "stream",
          "name": "stdout",
          "text": [
            "Parts of Speech Tags for the Given Text\n",
            "    Tags                              Words  Count\n",
            "0  NN     पुण्यश्लोक उपाध्या                 2    \n",
            "1  PUNCT  , , , .                            4    \n",
            "2  PROPN  महर्षी महात्मा बाबासाहेब लोकमान्य  4    \n",
            "3  SCONJ  आणि                                1    \n",
            "4  PRON   या अशाच                            2    \n",
            "5  DET    काही                               1    \n",
            "6  VERB   आहेत                               1    \n",
            "\n",
            "Related synsets =  \n",
            " [[\"[Synset('महर्षी.noun.17587')]\"]]\n",
            "\n",
            "Related indexes =  \n",
            " [['17587']]\n",
            "\n",
            "Word ID ['17587']  -  महर्षी | एक राग:\"श्रोते संगीतज्ञाला महर्षी ऐकवण्यास आग्रह करत होते.\"\n"
          ]
        }
      ]
    },
    {
      "cell_type": "markdown",
      "source": [
        "##text 3"
      ],
      "metadata": {
        "id": "-mOibzs3ZeKD"
      }
    },
    {
      "cell_type": "code",
      "source": [
        "#getting the parts od speech, synsets and index for the given text\n",
        "pos3, tags3 = get_pos(text3)\n",
        "print(pos3)\n",
        "print()\n",
        "print(tags3)"
      ],
      "metadata": {
        "colab": {
          "base_uri": "https://localhost:8080/"
        },
        "id": "mkJPRs7vZgqB",
        "outputId": "19da0b6f-386c-4fc7-d29a-e49c59a30163"
      },
      "execution_count": 185,
      "outputs": [
        {
          "output_type": "stream",
          "name": "stdout",
          "text": [
            "{'PROPN': ['भारतातील'], 'PRON': ['अशा'], 'NN': ['उपाध्या'], 'NOUN': ['धारण', 'व्यक्तींची', 'नावे'], 'VERB': ['करणाऱ्या', 'आहेत'], 'DET': ['काही'], 'NST': ['पुढील', 'पुढीलप्रमाणे']}\n",
            "\n",
            "[('भारतातील', 'PROPN'), ('अशा', 'PRON'), ('उपाध्या', 'NN'), ('धारण', 'NOUN'), ('करणाऱ्या', 'VERB'), ('काही', 'DET'), ('व्यक्तींची', 'NOUN'), ('नावे', 'NOUN'), ('पुढील', 'NST'), ('पुढीलप्रमाणे', 'NST'), ('आहेत', 'VERB')]\n"
          ]
        }
      ]
    },
    {
      "cell_type": "code",
      "source": [
        "df_pos = pos_df(text3)"
      ],
      "metadata": {
        "id": "vXggO05CZmaC"
      },
      "execution_count": 186,
      "outputs": []
    },
    {
      "cell_type": "code",
      "source": [
        "woi = get_word_of_interest(tags3,word3)\n",
        "print(woi)"
      ],
      "metadata": {
        "colab": {
          "base_uri": "https://localhost:8080/"
        },
        "id": "SOBkcuFHZqc9",
        "outputId": "afcd0876-7a05-447e-b2b7-4967770bd03d"
      },
      "execution_count": 187,
      "outputs": [
        {
          "output_type": "stream",
          "name": "stdout",
          "text": [
            "['NOUN']\n"
          ]
        }
      ]
    },
    {
      "cell_type": "code",
      "source": [
        "synsets = get_synsets(woi,word3)"
      ],
      "metadata": {
        "id": "_77RUbEjZt_n"
      },
      "execution_count": 190,
      "outputs": []
    },
    {
      "cell_type": "code",
      "source": [
        "print(synsets)"
      ],
      "metadata": {
        "colab": {
          "base_uri": "https://localhost:8080/"
        },
        "id": "1X31J3kbZvcu",
        "outputId": "86f832d7-f581-4dc0-e033-ac6f7a42b3cc"
      },
      "execution_count": 191,
      "outputs": [
        {
          "output_type": "stream",
          "name": "stdout",
          "text": [
            "[[\"[Synset('परिधान.noun.20007')\", \" Synset('धारण.noun.20006')]\"]]\n"
          ]
        }
      ]
    },
    {
      "cell_type": "code",
      "source": [
        "idx = get_index(synsets)\n",
        "print(idx)"
      ],
      "metadata": {
        "colab": {
          "base_uri": "https://localhost:8080/"
        },
        "id": "v3x1cBk8Zwrw",
        "outputId": "0f97fbf6-68a4-439a-8c2c-e9943348cb11"
      },
      "execution_count": 192,
      "outputs": [
        {
          "output_type": "stream",
          "name": "stdout",
          "text": [
            "[['20007'], ['20006']]\n"
          ]
        }
      ]
    },
    {
      "cell_type": "code",
      "source": [
        "print(\"Parts of Speech Tags for the Given Text\")\n",
        "print(df_pos)\n",
        "print()\n",
        "print(\"Related synsets = \", \"\\n\", synsets)\n",
        "print()\n",
        "print(\"Related indexes = \", \"\\n\", idx)\n",
        "print()\n",
        "for n in idx:\n",
        "  print(\"Word ID\", n,\" - \", dictionary.get(n[0])) "
      ],
      "metadata": {
        "colab": {
          "base_uri": "https://localhost:8080/"
        },
        "id": "drFebiz4Z1fU",
        "outputId": "8eaf8ebf-02d0-4e29-cb32-4a318ed28e62"
      },
      "execution_count": 193,
      "outputs": [
        {
          "output_type": "stream",
          "name": "stdout",
          "text": [
            "Parts of Speech Tags for the Given Text\n",
            "    Tags                 Words  Count\n",
            "0  PROPN  भारतातील              1    \n",
            "1  PRON   अशा                   1    \n",
            "2  NN     उपाध्या               1    \n",
            "3  NOUN   धारण व्यक्तींची नावे  3    \n",
            "4  VERB   करणाऱ्या आहेत         2    \n",
            "5  DET    काही                  1    \n",
            "6  NST    पुढील पुढीलप्रमाणे    2    \n",
            "\n",
            "Related synsets =  \n",
            " [[\"[Synset('परिधान.noun.20007')\", \" Synset('धारण.noun.20006')]\"]]\n",
            "\n",
            "Related indexes =  \n",
            " [['20007'], ['20006']]\n",
            "\n",
            "Word ID ['20007']  -  परिधान:धारण | नेसण्याची वा घालण्याची क्रिया:\"महाराजांनी रेशमी वस्त्रे परिधान केली होती.\"\n",
            "Word ID ['20006']  -  धारण | धरण्याची किंवा आपल्या अंगी बाळगण्याची क्रिया:\"भगवान शंकारांनी गंगेला आपल्या मस्तकी धारण केले आहे.\"\n"
          ]
        }
      ]
    },
    {
      "cell_type": "code",
      "source": [],
      "metadata": {
        "id": "Z_UQQNzNZ2wg"
      },
      "execution_count": null,
      "outputs": []
    }
  ]
}