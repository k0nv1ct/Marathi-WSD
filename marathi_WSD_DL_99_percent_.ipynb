{
  "cells": [
    {
      "cell_type": "code",
      "execution_count": 1,
      "metadata": {
        "colab": {
          "base_uri": "https://localhost:8080/"
        },
        "id": "P9zYRBsx-jF_",
        "outputId": "e450b37f-0084-4df6-85aa-d238a8d9ad66"
      },
      "outputs": [
        {
          "output_type": "stream",
          "name": "stdout",
          "text": [
            "Looking in indexes: https://pypi.org/simple, https://us-python.pkg.dev/colab-wheels/public/simple/\n",
            "Collecting pyconll\n",
            "  Downloading pyconll-3.1.0-py3-none-any.whl (26 kB)\n",
            "Installing collected packages: pyconll\n",
            "Successfully installed pyconll-3.1.0\n"
          ]
        }
      ],
      "source": [
        "! pip install pyconll"
      ]
    },
    {
      "cell_type": "code",
      "execution_count": 2,
      "metadata": {
        "colab": {
          "base_uri": "https://localhost:8080/"
        },
        "id": "B3wRA2z0-qs1",
        "outputId": "65f0598b-1cb6-4116-cdaa-4636fc2c4588"
      },
      "outputs": [
        {
          "output_type": "stream",
          "name": "stdout",
          "text": [
            "Looking in indexes: https://pypi.org/simple, https://us-python.pkg.dev/colab-wheels/public/simple/\n",
            "Requirement already satisfied: pydot in /usr/local/lib/python3.9/dist-packages (1.4.2)\n",
            "Requirement already satisfied: pyparsing>=2.1.4 in /usr/local/lib/python3.9/dist-packages (from pydot) (3.0.9)\n"
          ]
        }
      ],
      "source": [
        "! pip install pydot"
      ]
    },
    {
      "cell_type": "code",
      "execution_count": 3,
      "metadata": {
        "colab": {
          "base_uri": "https://localhost:8080/"
        },
        "id": "peS2ay1g-vtt",
        "outputId": "257532d9-56bd-4122-8bb8-39e306e8be72"
      },
      "outputs": [
        {
          "output_type": "stream",
          "name": "stdout",
          "text": [
            "Looking in indexes: https://pypi.org/simple, https://us-python.pkg.dev/colab-wheels/public/simple/\n",
            "Requirement already satisfied: graphviz in /usr/local/lib/python3.9/dist-packages (0.20.1)\n"
          ]
        }
      ],
      "source": [
        "! pip install graphviz"
      ]
    },
    {
      "cell_type": "code",
      "execution_count": 4,
      "metadata": {
        "colab": {
          "base_uri": "https://localhost:8080/"
        },
        "id": "kStTHq4bh1N5",
        "outputId": "5ae4e4a9-757e-4f39-ac8a-f5945e729d29"
      },
      "outputs": [
        {
          "output_type": "stream",
          "name": "stdout",
          "text": [
            "Drive already mounted at /content/drive; to attempt to forcibly remount, call drive.mount(\"/content/drive\", force_remount=True).\n"
          ]
        }
      ],
      "source": [
        "from google.colab import drive\n",
        "drive.mount('/content/drive')"
      ]
    },
    {
      "cell_type": "code",
      "execution_count": 5,
      "metadata": {
        "id": "Pl3syWWp_ie9"
      },
      "outputs": [],
      "source": [
        "from numpy.random import seed\n",
        "seed(1)\n",
        "import tensorflow\n",
        "#from tensorflow import set_random_seed\n",
        "tensorflow.random.set_seed(2)\n",
        "import pyconll, keras, gensim, pickle, os, random, nltk, datetime, warnings, gc, urllib.request, zipfile, collections\n",
        "import numpy as np\n",
        "import matplotlib.pyplot as plt\n",
        "from gensim.models.keyedvectors import KeyedVectors\n",
        "from gensim.models import FastText\n",
        "from sklearn.utils import shuffle\n",
        "from sklearn.metrics import recall_score, precision_score, classification_report, accuracy_score, confusion_matrix, f1_score\n",
        "from sklearn.model_selection import train_test_split, StratifiedKFold, KFold, GridSearchCV, learning_curve, cross_val_score\n",
        "from sklearn import preprocessing\n",
        "from sklearn.exceptions import UndefinedMetricWarning\n",
        "\n",
        "from keras.models import Sequential, Model\n",
        "from keras.layers import Embedding, Dense, Input, LSTM, Bidirectional, GRU, TimeDistributed, concatenate,\\\n",
        "SpatialDropout1D, Layer, Lambda, BatchNormalization, Dropout, Activation\n",
        "from keras.callbacks import ModelCheckpoint, EarlyStopping, TensorBoard\n",
        "from tensorflow.keras.preprocessing.sequence import pad_sequences\n",
        "from keras.utils.np_utils import to_categorical\n",
        "from keras.callbacks import Callback\n",
        "from keras.models import load_model\n",
        "from keras.utils import plot_model\n",
        "from IPython.display import Image \n",
        "warnings.filterwarnings(action='ignore', category=UndefinedMetricWarning)"
      ]
    },
    {
      "cell_type": "code",
      "execution_count": 6,
      "metadata": {
        "id": "9W1BlyJMApa-"
      },
      "outputs": [],
      "source": [
        "from keras.layers import Flatten, GlobalMaxPooling1D\n",
        "from tensorflow.keras.layers import add\n",
        "from keras.layers.convolutional import Conv1D, Conv2D\n",
        "from keras.layers.convolutional import MaxPooling1D, MaxPooling2D\n",
        "from keras import backend as K"
      ]
    },
    {
      "cell_type": "code",
      "execution_count": 7,
      "metadata": {
        "id": "0lloDyNlHzM1"
      },
      "outputs": [],
      "source": [
        "def plot_learning_curve(estimator, title, X, y, ylim=None, cv=None,\n",
        "                        n_jobs=None, train_sizes=np.linspace(.1, 1.0, 5)):\n",
        "    plt.title(title)\n",
        "    if ylim is not None:\n",
        "        plt.ylim(*ylim)\n",
        "    plt.xlabel(\"Training examples\")\n",
        "    plt.ylabel(\"Accuracy\")\n",
        "    train_sizes, train_scores, test_scores = learning_curve(\n",
        "        estimator, X, y, cv=cv, n_jobs=n_jobs, train_sizes=train_sizes, scoring='accuracy')\n",
        "    train_scores_mean = np.mean(train_scores, axis=1)\n",
        "    train_scores_std = np.std(train_scores, axis=1)\n",
        "    test_scores_mean = np.mean(test_scores, axis=1)\n",
        "    test_scores_std = np.std(test_scores, axis=1)\n",
        "    plt.grid()\n",
        "\n",
        "    plt.fill_between(train_sizes, train_scores_mean - train_scores_std,\n",
        "                     train_scores_mean + train_scores_std, alpha=0.1,\n",
        "                     color=\"r\")\n",
        "    plt.fill_between(train_sizes, test_scores_mean - test_scores_std,\n",
        "                     test_scores_mean + test_scores_std, alpha=0.1, color=\"g\")\n",
        "    plt.plot(train_sizes, train_scores_mean, 'o-', color=\"r\",\n",
        "             label=\"Training score\")\n",
        "    plt.plot(train_sizes, test_scores_mean, 'o-', color=\"g\",\n",
        "             label=\"Cross-validation score\")\n",
        "\n",
        "    plt.legend(loc=\"best\")\n",
        "    return plt"
      ]
    },
    {
      "cell_type": "code",
      "execution_count": 8,
      "metadata": {
        "id": "iVzNO-w_HzkV"
      },
      "outputs": [],
      "source": [
        "def plot_confusion_matrix(f1,\n",
        "                          cm,\n",
        "                          target_names,\n",
        "                          title='Confusion matrix',\n",
        "                          cmap=None,\n",
        "                          normalize=True,\n",
        "                          i=1):\n",
        "    \"\"\"\n",
        "    given a sklearn confusion matrix (cm), make a nice plot\n",
        "\n",
        "    Arguments\n",
        "    ---------\n",
        "    cm:           confusion matrix from sklearn.metrics.confusion_matrix\n",
        "\n",
        "    target_names: given classification classes such as [0, 1, 2]\n",
        "                  the class names, for example: ['high', 'medium', 'low']\n",
        "\n",
        "    title:        the text to display at the top of the matrix\n",
        "\n",
        "    cmap:         the gradient of the values displayed from matplotlib.pyplot.cm\n",
        "                  see http://matplotlib.org/examples/color/colormaps_reference.html\n",
        "                  plt.get_cmap('jet') or plt.cm.Blues\n",
        "\n",
        "    normalize:    If False, plot the raw numbers\n",
        "                  If True, plot the proportions\n",
        "\n",
        "    Usage\n",
        "    -----\n",
        "    plot_confusion_matrix(cm           = cm,                  # confusion matrix created by\n",
        "                                                              # sklearn.metrics.confusion_matrix\n",
        "                          normalize    = True,                # show proportions\n",
        "                          target_names = y_labels_vals,       # list of names of the classes\n",
        "                          title        = best_estimator_name) # title of graph\n",
        "\n",
        "    Citiation\n",
        "    ---------\n",
        "    http://scikit-learn.org/stable/auto_examples/model_selection/plot_confusion_matrix.html\n",
        "\n",
        "    \"\"\"\n",
        "    import matplotlib.pyplot as plt\n",
        "    import numpy as np\n",
        "    import itertools\n",
        "\n",
        "    accuracy = np.trace(cm) / float(np.sum(cm))\n",
        "    misclass = 1 - accuracy\n",
        "    plt.figure(figsize=(10, 6))\n",
        "    if cmap is None:\n",
        "        cmap = plt.get_cmap('Blues')\n",
        "\n",
        "    plt.imshow(cm, interpolation='nearest', cmap=cmap)\n",
        "    plt.title(title)\n",
        "    plt.colorbar()\n",
        "\n",
        "    if target_names is not None:\n",
        "        tick_marks = np.arange(len(target_names))\n",
        "        plt.xticks(tick_marks, target_names, rotation=45)\n",
        "        plt.yticks(tick_marks, target_names)\n",
        "\n",
        "    if normalize:\n",
        "        cm = cm.astype('float') / cm.sum(axis=1)[:, np.newaxis]\n",
        "\n",
        "\n",
        "    thresh = cm.max() / 1.5 if normalize else cm.max() / 2\n",
        "    for i, j in itertools.product(range(cm.shape[0]), range(cm.shape[1])):\n",
        "        if normalize:\n",
        "            plt.text(j, i, \"{:0.4f}\".format(cm[i, j]),\n",
        "                     horizontalalignment=\"center\",\n",
        "                     color=\"white\" if cm[i, j] > thresh else \"black\")\n",
        "        else:\n",
        "            plt.text(j, i, \"{:,}\".format(cm[i, j]),\n",
        "                     horizontalalignment=\"center\",\n",
        "                     color=\"white\" if cm[i, j] > thresh else \"black\")\n",
        "\n",
        "\n",
        "    plt.tight_layout()\n",
        "    plt.ylabel('True label')\n",
        "    plt.xlabel('Predicted label\\naccuracy={:0.4f}; misclass={:0.4f}; f1-score={:0.4f}'.format(accuracy, misclass, f1))"
      ]
    },
    {
      "cell_type": "code",
      "execution_count": 9,
      "metadata": {
        "id": "kVwKk6DAJM3P"
      },
      "outputs": [],
      "source": [
        "def plot_acc():\n",
        "    plt.plot(history.history['accuracy'])\n",
        "    plt.plot(history.history['val_accuracy'])\n",
        "    plt.title('model accuracy')\n",
        "    plt.ylabel('accuracy')\n",
        "    plt.xlabel('epoch')\n",
        "    plt.legend(['train', 'test'], loc='upper left')\n",
        "    plt.show()"
      ]
    },
    {
      "cell_type": "code",
      "execution_count": 10,
      "metadata": {
        "id": "o_2Gj73wJPWf"
      },
      "outputs": [],
      "source": [
        "def plot_loss():\n",
        "    plt.plot(history.history['loss'])\n",
        "    plt.plot(history.history['val_loss'])\n",
        "    plt.title('model loss')\n",
        "    plt.ylabel('loss')\n",
        "    plt.xlabel('epoch')\n",
        "    plt.legend(['train', 'test'], loc='upper left')\n",
        "    plt.show()"
      ]
    },
    {
      "cell_type": "markdown",
      "metadata": {
        "id": "Tm_vDgTiJUav"
      },
      "source": [
        "##Parameters"
      ]
    },
    {
      "cell_type": "code",
      "execution_count": 77,
      "metadata": {
        "id": "THYy-VTlJQ7y"
      },
      "outputs": [],
      "source": [
        "MAX_CHAR_LENGTH=3\n",
        "MAX_SEQUENCE_LENGTH = 70\n",
        "EMBEDDING_DIM = 300\n",
        "#VALIDATION_SPLIT = 0.2\n",
        "BATCH_SIZE = 32\n",
        "EPOCHS = 20"
      ]
    },
    {
      "cell_type": "markdown",
      "metadata": {
        "id": "rY2YmI3-herc"
      },
      "source": [
        "##dataSET"
      ]
    },
    {
      "cell_type": "code",
      "execution_count": 12,
      "metadata": {
        "id": "hRitnl72JW1f"
      },
      "outputs": [],
      "source": [
        "TRAIN = '/content/drive/MyDrive/MArathi_data/mr_cmupan-ud-train.conllu'\n",
        "DEV = '/content/drive/MyDrive/MArathi_data/mr_cmupan-ud-dev.conllu'\n",
        "TEST = '/content/drive/MyDrive/MArathi_data/mr_cmupan-ud-test.conllu'"
      ]
    },
    {
      "cell_type": "code",
      "execution_count": 13,
      "metadata": {
        "id": "ZsOAdAz_irvN"
      },
      "outputs": [],
      "source": [
        "def read_conllu(path):\n",
        "    data = pyconll.load_from_file(path)\n",
        "    tagged_sentences=[]\n",
        "    t=0\n",
        "    for sentence in data:\n",
        "        tagged_sentence=[]\n",
        "        for token in sentence:\n",
        "            if token.upos and token.form:\n",
        "                t+=1\n",
        "                tagged_sentence.append((token.form.lower(), token.upos))\n",
        "        tagged_sentences.append(tagged_sentence)\n",
        "    return tagged_sentences"
      ]
    },
    {
      "cell_type": "code",
      "execution_count": 14,
      "metadata": {
        "id": "8gSmWpEaiyyq"
      },
      "outputs": [],
      "source": [
        "train_sentences = read_conllu(TRAIN)\n",
        "val_sentences = read_conllu(DEV)\n",
        "test_sentences = read_conllu(TEST)"
      ]
    },
    {
      "cell_type": "code",
      "execution_count": 15,
      "metadata": {
        "id": "-A0DL5dsi6H6",
        "colab": {
          "base_uri": "https://localhost:8080/"
        },
        "outputId": "cb83c3c4-a437-4f8a-abd1-a2db47118eca"
      },
      "outputs": [
        {
          "output_type": "stream",
          "name": "stdout",
          "text": [
            "Tagged sentences in train set:  11518\n",
            "Tagged words in train set: 163688\n",
            "========================================\n",
            "Tagged sentences in dev set:  1490\n",
            "Tagged words in dev set: 20089\n",
            "========================================\n",
            "Tagged sentences in test set:  1503\n",
            "Tagged words in test set: 21437\n",
            "****************************************\n",
            "Total sentences in dataset: 14511\n"
          ]
        }
      ],
      "source": [
        "print(\"Tagged sentences in train set: \", len(train_sentences))\n",
        "print(\"Tagged words in train set:\", len([item for sublist in train_sentences for item in sublist]))\n",
        "print(40*'=')\n",
        "print(\"Tagged sentences in dev set: \", len(val_sentences))\n",
        "print(\"Tagged words in dev set:\", len([item for sublist in val_sentences for item in sublist]))\n",
        "print(40*'=')\n",
        "print(\"Tagged sentences in test set: \", len(test_sentences))\n",
        "print(\"Tagged words in test set:\", len([item for sublist in test_sentences for item in sublist]))\n",
        "print(40*'*')\n",
        "print(\"Total sentences in dataset:\", len(train_sentences)+len(val_sentences)+len(test_sentences))"
      ]
    },
    {
      "cell_type": "code",
      "execution_count": 16,
      "metadata": {
        "id": "yqWgBeN-i8gn",
        "colab": {
          "base_uri": "https://localhost:8080/"
        },
        "outputId": "8fc149d3-f012-4d01-f307-dc68273a37ba"
      },
      "outputs": [
        {
          "output_type": "stream",
          "name": "stdout",
          "text": [
            "[('बार्लीची', 'PROPN'), ('वैरण', 'NOUN'), ('जनावरांसाठी', 'NOUN'), ('बिछाना', 'NOUN'), ('सदृश', 'ADJ'), ('पसरवतात', 'VERB'), ('.', 'PUNCT')]\n"
          ]
        }
      ],
      "source": [
        "print(train_sentences[0])"
      ]
    },
    {
      "cell_type": "code",
      "execution_count": 17,
      "metadata": {
        "id": "2AjmkGZjjAp7"
      },
      "outputs": [],
      "source": [
        "# Some usefull functions\n",
        "def tag_sequence(sentences):\n",
        "    return [[t for w, t in sentence] for sentence in sentences]\n",
        "\n",
        "def text_sequence(sentences):\n",
        "    return [[w for w, t in sentence] for sentence in sentences]\n",
        "    #return [[' '.join([w for w, t in sentence])] for sentence in sentences]\n",
        "\n",
        "def id2word(sentences):\n",
        "    wordlist = [item for sublist in text_sequence(sentences) for item in sublist]\n",
        "    id2word = {k:v for k,v in enumerate(wordlist)}\n",
        "    return id2word\n",
        "\n",
        "def untag(tagged_sentence):\n",
        "    return [w for w, _ in tagged_sentence]\n",
        "\n",
        "def untag_pos(tagged_sentence):\n",
        "    return [t for _, t in tagged_sentence]\n",
        "\n",
        "def build_vocab(sentences):\n",
        "    vocab =set()\n",
        "    for sentence in sentences:\n",
        "        for word in untag(sentence):\n",
        "            vocab.add(word)\n",
        "    return sorted(list(vocab))"
      ]
    },
    {
      "cell_type": "code",
      "execution_count": 18,
      "metadata": {
        "id": "EkU8VGWPjnOr"
      },
      "outputs": [],
      "source": [
        "# Function to convert terms to ids\n",
        "def numberize(sentences):\n",
        "    X = []\n",
        "    Y = []\n",
        "    u = set() #to keep unkown words\n",
        "    for sentence in sentences:\n",
        "        tempX = []\n",
        "        for word in untag(sentence):\n",
        "            if word in word2int:\n",
        "                tempX.append(word2int[word])\n",
        "            else:\n",
        "                tempX.append(word2int['-UNK-'])\n",
        "                u.add(word)\n",
        "        X.append(tempX)\n",
        "\n",
        "    for sentence in sentences:\n",
        "        tempY = []\n",
        "        for tag in untag_pos(sentence):\n",
        "            try:\n",
        "                tempY.append(tag2int[tag])\n",
        "            except:\n",
        "                tempY.append(0)                \n",
        "        Y.append(tempY)\n",
        "    return X, Y, u"
      ]
    },
    {
      "cell_type": "code",
      "execution_count": 19,
      "metadata": {
        "id": "iLaj098gjpLf",
        "colab": {
          "base_uri": "https://localhost:8080/"
        },
        "outputId": "de12bfc2-961a-46c4-a492-de7a432d5d4e"
      },
      "outputs": [
        {
          "output_type": "execute_result",
          "data": {
            "text/plain": [
              "[['बार्लीची', 'वैरण', 'जनावरांसाठी', 'बिछाना', 'सदृश', 'पसरवतात', '.'],\n",
              " ['बार्लीची',\n",
              "  'खोडे',\n",
              "  'कागद',\n",
              "  'तसेच',\n",
              "  'फायबरबोर्डनिर्मितीसाठी',\n",
              "  'वापरतात',\n",
              "  '.']]"
            ]
          },
          "metadata": {},
          "execution_count": 19
        }
      ],
      "source": [
        "text_sequence(train_sentences)[0:2]"
      ]
    },
    {
      "cell_type": "code",
      "execution_count": 20,
      "metadata": {
        "id": "Ztq8Qv6TjrDR",
        "colab": {
          "base_uri": "https://localhost:8080/"
        },
        "outputId": "7bf3b39b-afe5-4191-edd3-fc09871e15f9"
      },
      "outputs": [
        {
          "output_type": "execute_result",
          "data": {
            "text/plain": [
              "[['PROPN', 'NOUN', 'NOUN', 'NOUN', 'ADJ', 'VERB', 'PUNCT'],\n",
              " ['PROPN', 'NOUN', 'NOUN', 'SCONJ', 'NOUN', 'VERB', 'PUNCT']]"
            ]
          },
          "metadata": {},
          "execution_count": 20
        }
      ],
      "source": [
        "tag_sequence(train_sentences)[0:2]"
      ]
    },
    {
      "cell_type": "markdown",
      "metadata": {
        "id": "zeOiKx8aj6dd"
      },
      "source": [
        "##Build dictionaries with word and tag vocabularies"
      ]
    },
    {
      "cell_type": "code",
      "execution_count": 21,
      "metadata": {
        "colab": {
          "base_uri": "https://localhost:8080/"
        },
        "id": "MJNIjowwq4ln",
        "outputId": "88e61a97-ed54-4774-e3db-ef98c2ffef7d"
      },
      "outputs": [
        {
          "output_type": "stream",
          "name": "stderr",
          "text": [
            "[nltk_data] Downloading package indian to /root/nltk_data...\n",
            "[nltk_data]   Unzipping corpora/indian.zip.\n"
          ]
        }
      ],
      "source": [
        "import nltk\n",
        "from nltk.corpus import indian\n",
        "nltk.download('indian')\n",
        "# Load the Marathi POS dataset\n",
        "tagged_set = 'marathi.pos'\n",
        "tagged_sentences = indian.sents(tagged_set)"
      ]
    },
    {
      "cell_type": "code",
      "execution_count": 22,
      "metadata": {
        "id": "S9e5JBomjwNr"
      },
      "outputs": [],
      "source": [
        "words = build_vocab(train_sentences+val_sentences+test_sentences)"
      ]
    },
    {
      "cell_type": "code",
      "execution_count": 23,
      "metadata": {
        "colab": {
          "base_uri": "https://localhost:8080/"
        },
        "id": "oc2P0FT9uAwb",
        "outputId": "7ddc32d9-15c7-4974-d010-3778e51835be"
      },
      "outputs": [
        {
          "output_type": "execute_result",
          "data": {
            "text/plain": [
              "['!',\n",
              " '\"',\n",
              " '\"\"',\n",
              " '\"अक्षर',\n",
              " '\"अर्बन',\n",
              " '\"आदिशक्ती\\'चे',\n",
              " '\"आयआयटीएम\\'प्रमाणेच',\n",
              " '\"आयडिया\\'कडे',\n",
              " '\"आयडिया\\'चा',\n",
              " '\"आर्ट',\n",
              " '\"इन्फोसिस\\'पासून',\n",
              " '\"इव्हेंटस्\\u200c\\'चा',\n",
              " '\"ई',\n",
              " '\"उपकार\\'च्या',\n",
              " '\"उल्फा\\'चा',\n",
              " '\"एनएसयूआय\\'चे',\n",
              " '\"एफआयआर\\'नुसार',\n",
              " '\"एमआयडीसी\\'च्या',\n",
              " '\"एमआयडीसी\\'ने',\n",
              " '\"एमएमआरडीए\\'कडून',\n",
              " '\"एसईझेड\\'चा',\n",
              " '\"ऑर्कुट\\'वर',\n",
              " '\"कयाकिंग\\'',\n",
              " '\"कलारंग\\'ची',\n",
              " '\"कलाश्री',\n",
              " '\"केबल',\n",
              " '\"क्\\u200dलोरिनेशन\\'ची',\n",
              " '\"गरीब',\n",
              " '\"गिनेस\\'मध्ये',\n",
              " '\"गोमन्तक\\'ला',\n",
              " '\"घर',\n",
              " '\"चंद्रा\\'च्या',\n",
              " '\"चेंज',\n",
              " '\"जंजीर\\'चे',\n",
              " '\"जंजीर\\'च्या',\n",
              " '\"जनसुराज्य\\'ला',\n",
              " '\"जादूगर\\'च्या',\n",
              " '\"जिहाद\\'चे',\n",
              " '\"टीएमटी\\'मध्ये',\n",
              " '\"टॉवर\\'मध्ये',\n",
              " '\"ट्राम\\'चा',\n",
              " '\"डब्ल्यूडब्ल्यूएफ\\'च्या',\n",
              " '\"डायव्हर्सीफाईड',\n",
              " '\"डिनर',\n",
              " '\"त्रिनिदाद',\n",
              " '\"थ्री',\n",
              " '\"दुष्काळा\\'शी',\n",
              " '\"दौलत\\'चे',\n",
              " '\"नगर',\n",
              " '\"नवप्रभा\\'चे',\n",
              " '\"निर्भय',\n",
              " '\"निसर्ग',\n",
              " '\"नॅशनल',\n",
              " '\"पारस\\'च्या',\n",
              " '\"पॅलेट',\n",
              " '\"पेपरबॅक\\'',\n",
              " '\"पेपरबॅक\\'ची',\n",
              " '\"पेपरबॅक\\'च्या',\n",
              " '\"पेपरबॅक\\'ना',\n",
              " '\"प्रमोशन\\'साठी',\n",
              " '\"फिल्टर',\n",
              " '\"फुलराणी',\n",
              " '\"बाईंडर\\'च्या',\n",
              " '\"बाईंडरचे',\n",
              " '\"बालाजी',\n",
              " '\"बिग',\n",
              " '\"बियॉंड',\n",
              " '\"बिल्ड',\n",
              " '\"बीआयएफआर\\'ला',\n",
              " '\"ब्राह्मोस\\'च्या',\n",
              " '\"ब्लॅक',\n",
              " '\"भरतनाट्यम्\\u200c\\'ने',\n",
              " '\"मनसे\\'कडे',\n",
              " '\"मनसे\\'च्या',\n",
              " '\"मनसे\\'बरोबर',\n",
              " '\"महानगर',\n",
              " '\"महावितरण\\'चे',\n",
              " '\"महावितरण\\'ने',\n",
              " '\"मांडवी',\n",
              " '\"मान्सून\\'च्या',\n",
              " '\"मालिक',\n",
              " '\"मिसिंग\\'च्या',\n",
              " '\"मुक्तांगण\\'चे',\n",
              " '\"मुक्तांगण\\'सारख्या',\n",
              " '\"मॉल\\'च्या',\n",
              " '\"मोबाईल\\'चा',\n",
              " '\"रडार',\n",
              " '\"रडार\\'मुळे',\n",
              " '\"राजा',\n",
              " '\"रिमोट\\'च्या',\n",
              " '\"री',\n",
              " '\"रुंदी\\'ही',\n",
              " '\"रेंट',\n",
              " '\"रेव्ह',\n",
              " '\"रॉ\\'कडे',\n",
              " '\"रॉ\\'ने',\n",
              " '\"लाइव्ह',\n",
              " '\"लेटर',\n",
              " '\"वादा\\'ला',\n",
              " '\"वॉश\\'ची',\n",
              " '\"व्हायेबिलिटी',\n",
              " '\"शिवस्पर्श\\'चे',\n",
              " '\"संग्रह',\n",
              " '\"संस्कारभारती\\'च्या',\n",
              " '\"सकाळ',\n",
              " '\"सकाळ\\'चा',\n",
              " '\"सकाळ\\'चे',\n",
              " '\"सकाळ\\'च्या',\n",
              " '\"सकाळ\\'जवळ',\n",
              " '\"सकाळ\\'तर्फे',\n",
              " '\"सकाळ\\'ला',\n",
              " '\"सकाळ\\'शी',\n",
              " '\"सर्च\\'ने',\n",
              " '\"सहचरी\\'मधल्या',\n",
              " '\"सहचरी\\'मध्ये',\n",
              " '\"सायकल\\'चा',\n",
              " '\"सिद्धार्थ\\'ने',\n",
              " '\"सीआयडी\\'चे',\n",
              " '\"सीआयडी\\'च्या',\n",
              " '\"सीआयडी\\'ने',\n",
              " '\"सीआयडी\\'ला',\n",
              " '\"सीबीआय\\'चे',\n",
              " '\"सीसीटीव्ही\\'च्या',\n",
              " '\"सूरज\\'पासून',\n",
              " '\"सेल\\'द्वारे',\n",
              " '\"सोमेश्\\u200dवर\\'चे',\n",
              " '\"स्टार',\n",
              " '\"स्वरानंद',\n",
              " '\"हॉट',\n",
              " '#',\n",
              " '$',\n",
              " \"'\",\n",
              " \"'राष्ट्रवादी'\",\n",
              " \"'राष्ट्रवादी'ची\",\n",
              " \"'राष्ट्रवादी'चे\",\n",
              " \"'राष्ट्रवादी'च्या\",\n",
              " \"'राष्ट्रवादी'ने\",\n",
              " \"'राष्ट्रवादी'ला\",\n",
              " '(',\n",
              " ')',\n",
              " '*',\n",
              " '+',\n",
              " ',',\n",
              " '-',\n",
              " '-१५°से',\n",
              " '-१८°से',\n",
              " '-६°से.पेक्षा',\n",
              " '.',\n",
              " '..',\n",
              " '...',\n",
              " '.....',\n",
              " '...चिरीमिरी',\n",
              " '/',\n",
              " '0c',\n",
              " '100',\n",
              " '100%',\n",
              " '15',\n",
              " '15%',\n",
              " '15%पर्यंत',\n",
              " '15-dec',\n",
              " '150-200g',\n",
              " '1767मध्ये',\n",
              " '18%',\n",
              " '1855मध्ये',\n",
              " '1873मध्ये',\n",
              " '1876पासून',\n",
              " '1876मध्ये',\n",
              " '1877चा',\n",
              " '1878मध्ये',\n",
              " '1895मध्ये',\n",
              " '19',\n",
              " '19%',\n",
              " '1930मध्ये',\n",
              " '1980',\n",
              " '2',\n",
              " '20%',\n",
              " '200-300g',\n",
              " '2003',\n",
              " '2006च्या',\n",
              " '2006मध्ये',\n",
              " '2007मध्ये',\n",
              " '2007साली',\n",
              " '2008',\n",
              " '2010मध्ये',\n",
              " '20on',\n",
              " '25%',\n",
              " '28%',\n",
              " '30',\n",
              " '310',\n",
              " '38-45%',\n",
              " '4',\n",
              " '40-60g',\n",
              " '5%',\n",
              " '50%',\n",
              " '8%',\n",
              " '85%',\n",
              " '90',\n",
              " ':',\n",
              " ';',\n",
              " '?',\n",
              " '@',\n",
              " '[',\n",
              " '[[.',\n",
              " '[[अनेक',\n",
              " '[[केला',\n",
              " '[[मुख्य',\n",
              " '[[व',\n",
              " '[[साजरे',\n",
              " '[[४२',\n",
              " '\\\\',\n",
              " ']',\n",
              " '`',\n",
              " '``',\n",
              " '````',\n",
              " 'backwaters',\n",
              " 'bakery',\n",
              " 'cacahuate',\n",
              " 'cacahuète',\n",
              " 'com',\n",
              " 'comवर',\n",
              " 'cwq',\n",
              " 'e.',\n",
              " 'esakal',\n",
              " 'family',\n",
              " 'giant',\n",
              " 'grizzled',\n",
              " 'h2',\n",
              " 'human',\n",
              " 'i',\n",
              " 'icar',\n",
              " 'icrisat',\n",
              " 'ildc',\n",
              " 'in',\n",
              " 'india',\n",
              " 'isma',\n",
              " 'jul-२०',\n",
              " 'k',\n",
              " 'k2o',\n",
              " 'lb',\n",
              " 'm.',\n",
              " 'm2',\n",
              " 'm3',\n",
              " 'm3पर्यंत',\n",
              " 'mn',\n",
              " 'n',\n",
              " 'n2',\n",
              " 'nh4+',\n",
              " 'nची',\n",
              " 'of',\n",
              " 'off',\n",
              " 'org',\n",
              " 'p',\n",
              " 'p2o5',\n",
              " 'ph',\n",
              " 'phचे',\n",
              " 'pची',\n",
              " 'region',\n",
              " 'resource',\n",
              " 'squirrel',\n",
              " 'tlalcacahuatl',\n",
              " 'voc',\n",
              " 'webeditor',\n",
              " 'welcomenepal',\n",
              " 'www',\n",
              " 'zn',\n",
              " '{',\n",
              " 'ः',\n",
              " 'अ',\n",
              " 'अ-सेंद्रिय',\n",
              " 'अँगचोक',\n",
              " 'अँग्री',\n",
              " 'अँग्लोइंडियन',\n",
              " 'अँड',\n",
              " 'अँड्रोपोगोनिआच्या',\n",
              " 'अँफ्लाटॉक्सिनसाठी',\n",
              " 'अँलन',\n",
              " 'अंकाचे',\n",
              " 'अंकात',\n",
              " 'अंकित',\n",
              " 'अंकुर',\n",
              " 'अंकुरण',\n",
              " 'अंकुरणकाळ',\n",
              " 'अंकुरणाची',\n",
              " 'अंकुरणाचे',\n",
              " 'अंकुरणाच्या',\n",
              " 'अंकुरणासाठी',\n",
              " 'अंकुरत',\n",
              " 'अंकुरपोष',\n",
              " 'अंकुरवले',\n",
              " 'अंकुरांचे',\n",
              " 'अंकुरांच्या',\n",
              " 'अंकुरित',\n",
              " 'अंकुरीत',\n",
              " 'अंकुश',\n",
              " 'अंकूर',\n",
              " 'अंकूश',\n",
              " 'अंग',\n",
              " 'अंगठी',\n",
              " 'अंगठीच्या',\n",
              " 'अंगठीत',\n",
              " 'अंगठ्या',\n",
              " 'अंगठ्यांवर',\n",
              " 'अंगठ्याच्या',\n",
              " 'अंगण',\n",
              " 'अंगणात',\n",
              " 'अंगणाला',\n",
              " 'अंगणे',\n",
              " 'अंगभर',\n",
              " 'अंगभूत',\n",
              " 'अंगरक्षकाची',\n",
              " 'अंगरक्षकाने',\n",
              " 'अंगरखा',\n",
              " 'अंगरावाडीला',\n",
              " 'अंगविक्षेप',\n",
              " 'अंगात',\n",
              " 'अंगातील',\n",
              " 'अंगावर',\n",
              " 'अंगावरच्या',\n",
              " 'अंगावरील',\n",
              " 'अंगी',\n",
              " 'अंगीकार',\n",
              " 'अंगीकारला',\n",
              " 'अंगुलीनिर्देश',\n",
              " 'अंगोरा',\n",
              " 'अंघोळ',\n",
              " 'अंचुतेंगु',\n",
              " 'अंचुतेंगुचा',\n",
              " 'अंचुतेंगुची',\n",
              " 'अंचुतेंगुचे',\n",
              " 'अंचुतेंगुमध्ये',\n",
              " 'अंचुतेंगुशी',\n",
              " 'अंचुतेंगुहून',\n",
              " 'अंजनगाव',\n",
              " 'अंजना',\n",
              " 'अंजनी',\n",
              " 'अंजनीच्या',\n",
              " 'अंजली',\n",
              " 'अंजुना',\n",
              " 'अंजू',\n",
              " 'अंजूम',\n",
              " 'अंडनिक्षेपक',\n",
              " 'अंडरग्राउंड',\n",
              " 'अंडाकार',\n",
              " 'अंडाशय',\n",
              " 'अंडाशयाचा',\n",
              " 'अंडाशयाच्या',\n",
              " 'अंडी',\n",
              " 'अंडे',\n",
              " 'अंड्यांचे',\n",
              " 'अंड्यांच्या',\n",
              " 'अंड्यांतून',\n",
              " 'अंड्यांमधून',\n",
              " 'अंड्याची',\n",
              " 'अंड्यामध्ये',\n",
              " 'अंत',\n",
              " 'अंतर',\n",
              " 'अंतरं',\n",
              " 'अंतरंग',\n",
              " 'अंतरंगसुद्धा',\n",
              " 'अंतरंगाकडे',\n",
              " 'अंतरराज्यीय',\n",
              " 'अंतरराष्ट्रीय',\n",
              " 'अंतराचा',\n",
              " 'अंतराची',\n",
              " 'अंतराचे',\n",
              " 'अंतराच्या',\n",
              " 'अंतरात',\n",
              " 'अंतराने',\n",
              " 'अंतराळवीर',\n",
              " 'अंतराळवीरांना',\n",
              " 'अंतराळवीरांपुढे',\n",
              " 'अंतराळात',\n",
              " 'अंतरावर',\n",
              " 'अंतरावरील',\n",
              " 'अंतरावरून',\n",
              " 'अंतरीम',\n",
              " 'अंतर्गत',\n",
              " 'अंतर्गते',\n",
              " 'अंतर्गलन',\n",
              " 'अंतर्गलनामुळे',\n",
              " 'अंतर्धान',\n",
              " 'अंतर्भाव',\n",
              " 'अंतर्भूत',\n",
              " 'अंतर्मिश्रित',\n",
              " 'अंतस्त्वचेचा',\n",
              " 'अंतिम',\n",
              " 'अंत्ययात्रा',\n",
              " 'अंत्यसंस्कार',\n",
              " 'अंथरुणाला',\n",
              " 'अंथरुणावर',\n",
              " 'अंदाज',\n",
              " 'अंदाजच',\n",
              " 'अंदाजपत्रक',\n",
              " 'अंदाजपत्रकात',\n",
              " 'अंदाजयोग्य',\n",
              " 'अंदाजही',\n",
              " 'अंदाजात',\n",
              " 'अंदाजातील',\n",
              " 'अंदाजानुसार',\n",
              " 'अंदाजाप्रमाणे',\n",
              " 'अंदाजित',\n",
              " 'अंदाजे',\n",
              " 'अंदाधुंद',\n",
              " 'अंदावर',\n",
              " 'अंध',\n",
              " 'अंधकारमय',\n",
              " 'अंधच',\n",
              " 'अंधत्वावर',\n",
              " 'अंधांची',\n",
              " 'अंधार',\n",
              " 'अंधारल्यावर',\n",
              " 'अंधारात',\n",
              " 'अंधारातच',\n",
              " 'अंधाऱ्या',\n",
              " 'अंधेरीतील',\n",
              " 'अंबकेश्वर',\n",
              " 'अंबरनाथ',\n",
              " 'अंबरनाथच्या',\n",
              " 'अंबरीशाच्या',\n",
              " 'अंबवण',\n",
              " 'अंबाडकर',\n",
              " 'अंबाडी',\n",
              " 'अंबाडीच्या',\n",
              " 'अंबादास',\n",
              " 'अंबाला',\n",
              " 'अंबिका',\n",
              " 'अंमल',\n",
              " 'अंमलबजावणी',\n",
              " 'अंमलबजावणीत',\n",
              " 'अंमलबजावणीद्वारे',\n",
              " 'अंमलबजावणीवर',\n",
              " 'अंर्तगत',\n",
              " 'अंश',\n",
              " 'अंशतः',\n",
              " 'अंशांवर',\n",
              " 'अंशात',\n",
              " 'अंशी',\n",
              " 'अकबर',\n",
              " 'अकबराकडून',\n",
              " 'अकबराची',\n",
              " 'अकबराचे',\n",
              " 'अकबराच्या',\n",
              " 'अकबरानंतर',\n",
              " 'अकबराने',\n",
              " 'अकबरासमोर',\n",
              " 'अकबरी',\n",
              " 'अकरा',\n",
              " 'अकरावी',\n",
              " 'अकराव्या',\n",
              " 'अकस्मात',\n",
              " 'अकादमी',\n",
              " 'अकादमीची',\n",
              " 'अकादमीचे',\n",
              " 'अकादमीच्या',\n",
              " 'अकादमीतून',\n",
              " 'अकादमीमध्ये',\n",
              " 'अकादमीसुद्धा',\n",
              " 'अकाली',\n",
              " 'अकाष्ठीय',\n",
              " 'अकुशल',\n",
              " 'अकेशिया',\n",
              " 'अकोल्याला',\n",
              " 'अक्करमाशी',\n",
              " 'अक्कलकोट',\n",
              " 'अक्खी',\n",
              " 'अक्टोबर',\n",
              " 'अक्रोड',\n",
              " 'अक्रोडसहित',\n",
              " 'अक्ष',\n",
              " 'अक्षंशावर',\n",
              " 'अक्षय',\n",
              " 'अक्षयतृतीया',\n",
              " 'अक्षयतृतीयेच्या',\n",
              " 'अक्षयतृतीयेपासून',\n",
              " 'अक्षयतृतीयेला',\n",
              " 'अक्षय्यी',\n",
              " 'अक्षर',\n",
              " 'अक्षरधन',\n",
              " 'अक्षरलेखक',\n",
              " 'अक्षरलेखन',\n",
              " 'अक्षरलेखनाचा',\n",
              " 'अक्षरलेखनाचे',\n",
              " 'अक्षरलेखनातून',\n",
              " 'अक्षरलेखनाद्वारे',\n",
              " 'अक्षरशः',\n",
              " 'अक्षरांची',\n",
              " 'अक्षरावर',\n",
              " 'अक्षांश',\n",
              " 'अक्षांशाच्या',\n",
              " 'अक्षांशामध्ये',\n",
              " 'अक्षांशावर',\n",
              " 'अक्षुण्ण',\n",
              " 'अक्\\u200dकल',\n",
              " 'अखंड',\n",
              " 'अखंडपणे',\n",
              " 'अखत्यारीत',\n",
              " 'अखत्यारीतील',\n",
              " 'अखनूर',\n",
              " 'अखनूरमध्ये',\n",
              " 'अखाडा',\n",
              " 'अखाद्यभाग',\n",
              " 'अखिल',\n",
              " 'अखेर',\n",
              " 'अखेरचा',\n",
              " 'अखेरची',\n",
              " 'अखेरच्या',\n",
              " 'अखेरपर्यंत',\n",
              " 'अखेरीस',\n",
              " 'अख्खा',\n",
              " 'अख्तर',\n",
              " 'अगणित',\n",
              " 'अगदी',\n",
              " 'अगदीच',\n",
              " 'अगम',\n",
              " 'अगम्य',\n",
              " 'अगर्\\u200dयातील',\n",
              " 'अगस्त्य',\n",
              " 'अगस्त्यकूडमधून',\n",
              " 'अगस्त्यांचे',\n",
              " 'अगस्त्यारकूडम',\n",
              " 'अगस्त्यारकूडमपर्यंतचे',\n",
              " 'अगाध',\n",
              " 'अगोंडा',\n",
              " 'अगोदर',\n",
              " 'अग्निप्रदीपन',\n",
              " 'अग्निप्रलयाचे',\n",
              " 'अग्निमध्ये',\n",
              " 'अग्निशमन',\n",
              " 'अग्निशामक',\n",
              " 'अग्नी',\n",
              " 'अग्यार',\n",
              " 'अग्र',\n",
              " 'अग्रक्रम',\n",
              " 'अग्रगण्य',\n",
              " 'अग्रणी',\n",
              " 'अग्रपादांच्या',\n",
              " 'अग्रभागी',\n",
              " 'अग्रवक्ष',\n",
              " 'अग्रसेन',\n",
              " 'अग्रस्थानी',\n",
              " 'अग्रीकल्चर',\n",
              " 'अग्रेसर',\n",
              " 'अघार',\n",
              " 'अघोड',\n",
              " 'अचंबीत',\n",
              " 'अचल',\n",
              " 'अचलपूर',\n",
              " 'अचलीयन',\n",
              " 'अचानक',\n",
              " 'अचानकपणे',\n",
              " 'अचूक',\n",
              " 'अचूकतेसाठी',\n",
              " 'अचूकपणा',\n",
              " 'अच्युत',\n",
              " 'अजंता',\n",
              " 'अजब',\n",
              " 'अजमावीत',\n",
              " 'अजमेर',\n",
              " 'अजय',\n",
              " 'अजरामर',\n",
              " 'अजस्र',\n",
              " 'अजाणत्या',\n",
              " 'अजातशत्रु',\n",
              " 'अजायबदेव',\n",
              " 'अजिंठा',\n",
              " 'अजित',\n",
              " 'अजितचं',\n",
              " 'अजितच्या',\n",
              " 'अजिबात',\n",
              " 'अजी',\n",
              " 'अजीमाबाद',\n",
              " 'अजून',\n",
              " 'अजूनही',\n",
              " 'अजैविक',\n",
              " 'अज्ञात',\n",
              " 'अज्ञातवासात',\n",
              " 'अज्ञानाचे',\n",
              " 'अझरुद्दीन',\n",
              " 'अझीज',\n",
              " 'अझीम',\n",
              " 'अट',\n",
              " 'अटक',\n",
              " 'अटकपूर्व',\n",
              " 'अटकाव',\n",
              " 'अटकेची',\n",
              " 'अटकेचे',\n",
              " 'अटकेच्या',\n",
              " 'अटकेत',\n",
              " 'अटकेनंतर',\n",
              " 'अटकेमुळे',\n",
              " 'अटलबिहारी',\n",
              " 'अटलांटिको',\n",
              " 'अटळ',\n",
              " 'अटी',\n",
              " 'अटींवर',\n",
              " 'अटीवर',\n",
              " 'अट्टाकल',\n",
              " 'अट्टाकलारी',\n",
              " 'अट्टाहास',\n",
              " 'अट्टाहासाने',\n",
              " 'अठरा',\n",
              " 'अठराविश्\\u200dवे',\n",
              " 'अठराव्या',\n",
              " 'अठ्ठ्याणव',\n",
              " 'अडकणार',\n",
              " 'अडकत',\n",
              " 'अडकला',\n",
              " 'अडकलेल्या',\n",
              " 'अडकल्या',\n",
              " 'अडकल्याने',\n",
              " 'अडकल्यावर',\n",
              " 'अडकवण्याच्या',\n",
              " 'अडकवली',\n",
              " 'अडकून',\n",
              " 'अडकूरकर',\n",
              " 'अडकेल',\n",
              " 'अडखळत',\n",
              " 'अडखळू',\n",
              " 'अडगळीच्या',\n",
              " 'अडचण',\n",
              " 'अडचणनिर्माण',\n",
              " 'अडचणी',\n",
              " 'अडचणींनी',\n",
              " 'अडचणींबाबत',\n",
              " 'अडचणींमुळे',\n",
              " 'अडचणींवर',\n",
              " 'अडचणीचे',\n",
              " 'अडचणीच्या',\n",
              " 'अडचणीत',\n",
              " 'अडचणीतून',\n",
              " 'अडचणीबरोबरच',\n",
              " 'अडचणीवर',\n",
              " 'अडते',\n",
              " 'अडथळा',\n",
              " 'अडथळे',\n",
              " 'अडथळ्यांरहित',\n",
              " 'अडथळ्यांशी',\n",
              " 'अडबंग',\n",
              " 'अडला',\n",
              " 'अडलेली',\n",
              " 'अडवत',\n",
              " 'अडवली',\n",
              " 'अडवानी',\n",
              " 'अडविण्याचा',\n",
              " 'अडवीत',\n",
              " 'अडवू',\n",
              " 'अडसर',\n",
              " 'अडीअडचणीला',\n",
              " 'अडीअडीचणी',\n",
              " 'अडीच',\n",
              " 'अडीचनंतर',\n",
              " 'अडीचशे',\n",
              " 'अडेज्मधील',\n",
              " 'अड्ड्यांवर',\n",
              " 'अड्ड्यावरून',\n",
              " 'अढी',\n",
              " 'अढीच',\n",
              " 'अणुऊर्जा',\n",
              " 'अणुतंत्रज्ञान',\n",
              " 'अणू',\n",
              " 'अणूंनी',\n",
              " 'अणे',\n",
              " 'अण्णा',\n",
              " 'अण्णांच्या',\n",
              " 'अण्णांनी',\n",
              " 'अण्णासाहेब',\n",
              " 'अतः',\n",
              " 'अति',\n",
              " 'अति-उंच',\n",
              " 'अति-उंचीवर',\n",
              " 'अतिअतिजलद',\n",
              " 'अतिउंच',\n",
              " 'अतिउंचावरील',\n",
              " 'अतिक्रणविरोधी',\n",
              " 'अतिक्रमण',\n",
              " 'अतिक्रमणविरोधी',\n",
              " 'अतिक्रमणे',\n",
              " 'अतितातडीची',\n",
              " 'अतितातडीच्या',\n",
              " 'अतिथिगृहे',\n",
              " 'अतिथी',\n",
              " 'अतिथींना',\n",
              " 'अतिथींसाठी',\n",
              " 'अतिथीगृह',\n",
              " 'अतिथीगृहात',\n",
              " 'अतिनील',\n",
              " 'अतिपक्व',\n",
              " 'अतिप्रचीन',\n",
              " 'अतिप्रमाणात',\n",
              " 'अतिप्राचीन',\n",
              " 'अतिभव्य',\n",
              " 'अतिरिक्त',\n",
              " 'अतिरिक्\\u200dत',\n",
              " 'अतिरेकी',\n",
              " 'अतिरेक्\\u200dयांना',\n",
              " 'अतिरेक्\\u200dयाने',\n",
              " 'अतिरेक्\\u200dयाबरोबरच्या',\n",
              " 'अतिरेक्\\u200dयाला',\n",
              " 'अतिरेक्\\u200dयासह',\n",
              " 'अतिवृष्टी',\n",
              " 'अतिवृष्टीच्यावेळी',\n",
              " 'अतिवृष्टीमध्ये',\n",
              " 'अतिवृष्टीमुळे',\n",
              " 'अतिशय',\n",
              " 'अतिशयोक्ती',\n",
              " 'अतिसार',\n",
              " 'अतिसूचना',\n",
              " 'अतीच',\n",
              " 'अतीव',\n",
              " 'अतीश',\n",
              " 'अतुल',\n",
              " 'अतूट',\n",
              " 'अतोनात',\n",
              " 'अत्तर',\n",
              " 'अत्यंत',\n",
              " 'अत्यधिक',\n",
              " 'अत्यन्त',\n",
              " 'अत्यल्प',\n",
              " 'अत्याधिक',\n",
              " 'अत्याधुनिक',\n",
              " 'अत्याधुनिकता',\n",
              " 'अत्याधुनिकतेचा',\n",
              " 'अत्याधुनिकतेची',\n",
              " 'अत्याधुनिकतेला',\n",
              " 'अत्यावश्यक',\n",
              " 'अत्युच्च',\n",
              " 'अत्युत्कृष्ट',\n",
              " 'अत्युत्तम',\n",
              " 'अत्रे',\n",
              " 'अत्सुएज',\n",
              " 'अथवा',\n",
              " 'अथांग',\n",
              " 'अथावर',\n",
              " 'अदखलपात्र',\n",
              " 'अदभुत',\n",
              " 'अदलाबदल',\n",
              " 'अदृश्य',\n",
              " 'अदृश्\\u200dय',\n",
              " 'अद्दल',\n",
              " 'अद्भुत',\n",
              " 'अद्भूत',\n",
              " 'अद्ययावत',\n",
              " 'अद्याप',\n",
              " 'अद्यापपर्यंत',\n",
              " 'अद्यापही',\n",
              " 'अद्यापि',\n",
              " 'अद्रावणीय',\n",
              " 'अद्राव्य',\n",
              " 'अद्वितीय',\n",
              " 'अद्वैत',\n",
              " 'अद्\\u200cभुत',\n",
              " 'अद्\\u200cभूत',\n",
              " 'अधांतरी',\n",
              " 'अधांतरीच',\n",
              " 'अधिक',\n",
              " 'अधिकच',\n",
              " 'अधिकतम',\n",
              " 'अधिकतर',\n",
              " 'अधिकप्रमाणात',\n",
              " 'अधिकप्रमाणातील',\n",
              " 'अधिकऱ्यांकडून',\n",
              " 'अधिकांश',\n",
              " 'अधिकाधिक',\n",
              " 'अधिकार',\n",
              " 'अधिकारच',\n",
              " 'अधिकारांचा',\n",
              " 'अधिकाराखाली',\n",
              " 'अधिकारात',\n",
              " 'अधिकाराने',\n",
              " 'अधिकारिक',\n",
              " 'अधिकारी',\n",
              " 'अधिकारी...',\n",
              " 'अधिकारीच',\n",
              " 'अधिकारीही',\n",
              " 'अधिकार्यांना',\n",
              " 'अधिकार्\\u200dयांचे',\n",
              " 'अधिकार्\\u200dयांच्या',\n",
              " 'अधिकार्\\u200dयांना',\n",
              " 'अधिकाऱ्यांकडून',\n",
              " 'अधिकाऱ्यांकडूनही',\n",
              " 'अधिकाऱ्यांकडे',\n",
              " 'अधिकाऱ्यांचा',\n",
              " 'अधिकाऱ्यांची',\n",
              " 'अधिकाऱ्यांचे',\n",
              " 'अधिकाऱ्यांच्या',\n",
              " 'अधिकाऱ्यांना',\n",
              " 'अधिकाऱ्यांनी',\n",
              " 'अधिकाऱ्यांनीच',\n",
              " 'अधिकाऱ्यांनीही',\n",
              " 'अधिकाऱ्यांवर',\n",
              " 'अधिकाऱ्यांवरही',\n",
              " 'अधिकाऱ्यांवरील',\n",
              " 'अधिकाऱ्यांशी',\n",
              " 'अधिकाऱ्यांसाठी',\n",
              " 'अधिकाऱ्याचे',\n",
              " 'अधिकाऱ्याच्या',\n",
              " 'अधिकाऱ्याने',\n",
              " 'अधिकाऱ्यानेही',\n",
              " 'अधिकाऱ्याला',\n",
              " 'अधिकाऱ्यावर',\n",
              " 'अधिकाऱ्याशी',\n",
              " 'अधिकाऱ्यासमोर',\n",
              " 'अधिकृत',\n",
              " 'अधिकृतपणे',\n",
              " 'अधिग्रहण',\n",
              " 'अधिग्रहीत',\n",
              " 'अधिनियमित',\n",
              " 'अधिराज्य',\n",
              " 'अधिवेशन',\n",
              " 'अधिवेशनाचे',\n",
              " 'अधिवेशनाच्या',\n",
              " 'अधिवेशनात',\n",
              " 'अधिव्याख्याता',\n",
              " 'अधिष्ठाता',\n",
              " 'अधिसूचना',\n",
              " 'अधिसूचनेला',\n",
              " 'अधीक्षक',\n",
              " 'अधीक्षकांच्या',\n",
              " 'अधीक्षिका',\n",
              " 'अधीन',\n",
              " 'अधीर',\n",
              " 'अधीरता',\n",
              " 'अधुत्व',\n",
              " 'अधुनिक',\n",
              " 'अधूनमधून',\n",
              " 'अधेमधे',\n",
              " 'अधोगती',\n",
              " 'अधोबीजपत्राचे',\n",
              " 'अधोमुखी',\n",
              " 'अधोमुखीत',\n",
              " 'अधोरेखित',\n",
              " 'अध्यक्ष',\n",
              " 'अध्यक्षतेखाली',\n",
              " 'अध्यक्षतेखालील',\n",
              " 'अध्यक्षपद',\n",
              " 'अध्यक्षपदाची',\n",
              " 'अध्यक्षपदाच्या',\n",
              " 'अध्यक्षपदाबाबत',\n",
              " 'अध्यक्षपदावरून',\n",
              " 'अध्यक्षपदासाठी',\n",
              " 'अध्यक्षपदी',\n",
              " 'अध्यक्षस्थान',\n",
              " 'अध्यक्षस्थानावरून',\n",
              " 'अध्यक्षस्थानी',\n",
              " 'अध्यक्षस्थावरून',\n",
              " 'अध्यक्षा',\n",
              " 'अध्यक्षांची',\n",
              " 'अध्यक्षांना',\n",
              " 'अध्यक्षांनी',\n",
              " 'अध्ययन',\n",
              " 'अध्ययनाचा',\n",
              " 'अध्ययनाच्या',\n",
              " 'अध्ययनात',\n",
              " 'अध्ययनातून',\n",
              " 'अध्ययनाने',\n",
              " 'अध्ययनासाठी',\n",
              " 'अध्यात्म',\n",
              " 'अध्यात्मिक',\n",
              " 'अध्यापक',\n",
              " 'अध्याय',\n",
              " 'अनंग',\n",
              " 'अनंत',\n",
              " 'अनंतनाग',\n",
              " 'अनके',\n",
              " 'अनघा',\n",
              " 'अनधिकृत',\n",
              " 'अनन्तवर्मन',\n",
              " 'अनपेक्षितरीत्या',\n",
              " 'अनमोल',\n",
              " 'अनर्थ',\n",
              " 'अनवरत',\n",
              " 'अनवस्था',\n",
              " 'अनाकलनीय',\n",
              " 'अनाठायी',\n",
              " 'अनाथ',\n",
              " 'अनामिक',\n",
              " 'अनामुंडी',\n",
              " 'अनामुंडीपर्यंत',\n",
              " 'अनायन',\n",
              " 'अनारावाला',\n",
              " 'अनावर',\n",
              " 'अनावश्यक',\n",
              " 'अनावश्यकरित्या',\n",
              " 'अनासक्ती',\n",
              " 'अनास्था',\n",
              " 'अनिकेत',\n",
              " 'अनिता',\n",
              " 'अनियमित',\n",
              " 'अनियोजित',\n",
              " 'अनिल',\n",
              " 'अनिलने',\n",
              " 'अनिवर्ती',\n",
              " 'अनिवार्य',\n",
              " 'अनिवासी',\n",
              " 'अनिवासींचा',\n",
              " 'अनिश्चित',\n",
              " 'अनिश्\\u200dचित',\n",
              " 'अनिषेकजननिकरीत्या',\n",
              " 'अनिस',\n",
              " 'अनु',\n",
              " 'अनुकरण',\n",
              " 'अनुकुलचंद्राद्वारे',\n",
              " 'अनुकूल',\n",
              " 'अनुकूलचंद्र',\n",
              " 'अनुकूलता',\n",
              " 'अनुकूलनांनी',\n",
              " 'अनुकूलित',\n",
              " 'अनुक्रम',\n",
              " 'अनुक्रमण',\n",
              " 'अनुक्रमशः',\n",
              " 'अनुक्रमे',\n",
              " 'अनुचित',\n",
              " 'अनुज',\n",
              " 'अनुजा',\n",
              " 'अनुत्तरित',\n",
              " 'अनुदान',\n",
              " 'अनुदानही',\n",
              " 'अनुदानाचा',\n",
              " 'अनुदानाची',\n",
              " 'अनुदानात',\n",
              " 'अनुदानावर',\n",
              " 'अनुने',\n",
              " 'अनुप',\n",
              " 'अनुपम',\n",
              " 'अनुपमा',\n",
              " 'अनुपयुक्त',\n",
              " 'अनुपलब्ध',\n",
              " 'अनुपस्थितीमुळे',\n",
              " 'अनुपस्थितीही',\n",
              " 'अनुप्रयोगांकरीता',\n",
              " 'अनुप्रयोगांमध्ये',\n",
              " 'अनुभव',\n",
              " 'अनुभवण्यासाठी',\n",
              " 'अनुभवण्यासारखे',\n",
              " 'अनुभवतात',\n",
              " 'अनुभवला',\n",
              " 'अनुभवली',\n",
              " 'अनुभवलेले',\n",
              " 'अनुभवही',\n",
              " 'अनुभवांचा',\n",
              " 'अनुभवांनी',\n",
              " 'अनुभवांवर',\n",
              " 'अनुभवाचा',\n",
              " 'अनुभवातून',\n",
              " 'अनुभवाने',\n",
              " 'अनुभवायचे',\n",
              " 'अनुभवायला',\n",
              " 'अनुभवाला',\n",
              " 'अनुभवावर',\n",
              " 'अनुभवी',\n",
              " 'अनुभूती',\n",
              " 'अनुभूतींना',\n",
              " 'अनुमंडलमधील',\n",
              " 'अनुमंडळातच',\n",
              " 'अनुमती',\n",
              " 'अनुमान',\n",
              " 'अनुमानाच्या',\n",
              " 'अनुमोदन',\n",
              " 'अनुयांना',\n",
              " 'अनुयायांसाठी',\n",
              " 'अनुयायी',\n",
              " 'अनुराधा',\n",
              " 'अनुरूप',\n",
              " 'अनुला',\n",
              " 'अनुलाही',\n",
              " 'अनुवाद',\n",
              " 'अनुवादा',\n",
              " 'अनुशेष',\n",
              " 'अनुशेषाबाबत',\n",
              " 'अनुषंगाने',\n",
              " 'अनुष्ठान',\n",
              " 'अनुसंधान',\n",
              " 'अनुसरल्यामुळे',\n",
              " 'अनुसरून',\n",
              " 'अनुसार',\n",
              " 'अनुसारखा',\n",
              " 'अनुसूचित',\n",
              " 'अनू',\n",
              " 'अनूच',\n",
              " 'अनूचं',\n",
              " 'अनूची',\n",
              " 'अनूच्या',\n",
              " 'अनूच्यापेक्षा',\n",
              " 'अनूने',\n",
              " 'अनूपेक्षा',\n",
              " 'अनूला',\n",
              " 'अनूवर',\n",
              " 'अनूशी',\n",
              " 'अनूसहित',\n",
              " 'अनूसुद्धा',\n",
              " 'अनूहून',\n",
              " 'अनेक',\n",
              " 'अनेकजण',\n",
              " 'अनेकजणांचा',\n",
              " 'अनेकतेमध्ये',\n",
              " 'अनेकदा',\n",
              " 'अनेकविधतेशी',\n",
              " 'अनेकवेळा',\n",
              " 'अनेकांकडून',\n",
              " 'अनेकांना',\n",
              " ...]"
            ]
          },
          "metadata": {},
          "execution_count": 23
        }
      ],
      "source": [
        "words"
      ]
    },
    {
      "cell_type": "code",
      "execution_count": 24,
      "metadata": {
        "id": "5FPtzYx6rN59"
      },
      "outputs": [],
      "source": [
        "w = []\n",
        "for sent in tagged_sentences:\n",
        "  for word in sent:\n",
        "    w.append(word)\n"
      ]
    },
    {
      "cell_type": "code",
      "execution_count": 25,
      "metadata": {
        "colab": {
          "base_uri": "https://localhost:8080/"
        },
        "id": "4-fv9fp_roqM",
        "outputId": "29dcc368-b57f-44f0-877a-9684c9c848f3"
      },
      "outputs": [
        {
          "output_type": "execute_result",
          "data": {
            "text/plain": [
              "[\"''\",\n",
              " 'सनातनवाद्यांनी',\n",
              " 'व',\n",
              " 'प्रतिगाम्यांनी',\n",
              " 'समाज',\n",
              " 'रसातळाला',\n",
              " 'नेला',\n",
              " 'असताना',\n",
              " 'या',\n",
              " 'अंधारात',\n",
              " 'बाळशास्त्री',\n",
              " 'जांभेकर',\n",
              " 'यांनी',\n",
              " \"'दर्पण'च्या\",\n",
              " 'माध्यमातून',\n",
              " 'पहिली',\n",
              " 'ज्ञानज्योत',\n",
              " 'तेववली',\n",
              " ',',\n",
              " \"''\",\n",
              " 'असे',\n",
              " 'प्रतिपादन',\n",
              " 'नटसम्राट',\n",
              " 'प्रभाकर',\n",
              " 'पणशीकर',\n",
              " 'यांनी',\n",
              " 'केले',\n",
              " '.',\n",
              " 'दर्पणकार',\n",
              " 'बाळशास्त्री',\n",
              " 'जांभेकर',\n",
              " 'यांच्या',\n",
              " '१९५व्या',\n",
              " 'जयंतीनिमित्त',\n",
              " 'महाराष्ट्र',\n",
              " 'संपादक',\n",
              " 'परिषद',\n",
              " 'व',\n",
              " 'सिंधुदुर्ग',\n",
              " 'जिल्हा',\n",
              " 'मराठी',\n",
              " 'पत्रकार',\n",
              " 'संघाच्या',\n",
              " 'वतीने',\n",
              " 'तसेच',\n",
              " 'महाराष्ट्र',\n",
              " 'जर्नलिस्ट',\n",
              " 'फाउंडेशन',\n",
              " 'व',\n",
              " 'महाराष्ट्र',\n",
              " 'ग्रामीण',\n",
              " 'पत्रकार',\n",
              " 'संघाच्या',\n",
              " 'सहभागाने',\n",
              " 'अभिवादन',\n",
              " 'कार्यक्रम',\n",
              " 'आयोजित',\n",
              " 'केला',\n",
              " 'होता',\n",
              " '.',\n",
              " 'महाराष्ट्र',\n",
              " 'संपादक',\n",
              " 'परिषदेचे',\n",
              " 'कार्याध्यक्ष',\n",
              " 'यशवंत',\n",
              " 'पाध्ये',\n",
              " ',',\n",
              " 'जिल्हा',\n",
              " 'पत्रकार',\n",
              " 'संघाचे',\n",
              " 'अध्यक्ष',\n",
              " 'शशी',\n",
              " 'सावंत',\n",
              " 'यावेळी',\n",
              " 'उपस्थित',\n",
              " 'होते',\n",
              " '.',\n",
              " 'श्री.',\n",
              " 'पणशीकर',\n",
              " 'म्हणाले',\n",
              " ',',\n",
              " \"''\",\n",
              " 'नव्या',\n",
              " 'ज्ञानाचा',\n",
              " 'व',\n",
              " 'पाश्\\u200dचात्य',\n",
              " 'विद्यांचा',\n",
              " 'परिचय',\n",
              " 'व्हावा',\n",
              " 'व',\n",
              " 'नवसमाज',\n",
              " 'निर्मितीच्या',\n",
              " 'विचारातून',\n",
              " 'देशाची',\n",
              " 'समृद्धी',\n",
              " ',',\n",
              " 'जनकल्याण',\n",
              " 'साधावे',\n",
              " 'या',\n",
              " 'विचारातून',\n",
              " 'जांभेकर',\n",
              " 'यांनी',\n",
              " \"'दर्पण'च्या\",\n",
              " 'माध्यमातून',\n",
              " 'सातत्याने',\n",
              " 'प्रयत्न',\n",
              " 'केले',\n",
              " '.',\n",
              " 'आजचे',\n",
              " 'वर्तमान',\n",
              " 'उद्याचा',\n",
              " 'इतिहास',\n",
              " 'आहे',\n",
              " '.',\n",
              " 'दर्पणकारांचे',\n",
              " 'पोंभुर्ले',\n",
              " 'येथे',\n",
              " 'स्मारक',\n",
              " 'उभारून',\n",
              " 'यशवंत',\n",
              " 'पाध्ये',\n",
              " 'यांनी',\n",
              " 'सामाजिक',\n",
              " 'दायित्व',\n",
              " 'सिद्ध',\n",
              " 'केले',\n",
              " 'आहे',\n",
              " '.',\n",
              " \"''\",\n",
              " 'महाराष्ट्र',\n",
              " 'संपादक',\n",
              " 'परिषदेतर्फे',\n",
              " 'श्री.',\n",
              " 'पणशीकर',\n",
              " ',',\n",
              " 'शशी',\n",
              " 'सावंत',\n",
              " ',',\n",
              " 'वामन',\n",
              " 'काळे',\n",
              " ',',\n",
              " 'संतोष',\n",
              " 'वायंगणकर',\n",
              " ',',\n",
              " 'दिलीप',\n",
              " 'हिंदळेकर',\n",
              " ',',\n",
              " 'राजीव',\n",
              " 'लोहार',\n",
              " ',',\n",
              " 'मधुसूदन',\n",
              " 'नानिवडेकर',\n",
              " ',',\n",
              " 'सुधाकर',\n",
              " 'जांभेकर',\n",
              " 'यांचा',\n",
              " 'सत्कार',\n",
              " 'झाला',\n",
              " '.',\n",
              " 'भारतीय',\n",
              " 'जनता',\n",
              " 'पक्षातर्फे',\n",
              " 'जिल्हा',\n",
              " 'परिषदेच्या',\n",
              " 'पंचवीस',\n",
              " 'आणि',\n",
              " 'पंचायत',\n",
              " 'समितीच्या',\n",
              " 'चाळीस',\n",
              " 'जागा',\n",
              " 'लढवायचा',\n",
              " 'निर्णय',\n",
              " 'आज',\n",
              " 'झाला',\n",
              " '.',\n",
              " 'ग्रामीण',\n",
              " 'जिल्हाध्यक्ष',\n",
              " 'बाळासाहेब',\n",
              " 'भोसले',\n",
              " 'यांच्या',\n",
              " 'अध्यक्षतेखाली',\n",
              " 'पक्षाची',\n",
              " 'आज',\n",
              " 'बैठक',\n",
              " 'झाली',\n",
              " '.',\n",
              " 'त्यात',\n",
              " 'हा',\n",
              " 'निर्णय',\n",
              " 'घेण्यात',\n",
              " 'आला',\n",
              " '.',\n",
              " 'इच्छुक',\n",
              " 'उमेदवारांच्या',\n",
              " 'मुलाखतीदेखील',\n",
              " 'या',\n",
              " 'वेळी',\n",
              " 'घेण्यात',\n",
              " 'आल्या',\n",
              " '.',\n",
              " 'पक्षाच्या',\n",
              " 'चिन्हावर',\n",
              " 'निवडणुका',\n",
              " 'लढवण्याचा',\n",
              " 'निर्णय',\n",
              " 'झाला',\n",
              " '.',\n",
              " 'सध्या',\n",
              " 'जिल्हा',\n",
              " 'परिषदेत',\n",
              " 'भाजपचा',\n",
              " 'एकमेव',\n",
              " 'सदस्य',\n",
              " 'आहे',\n",
              " '.',\n",
              " 'त्यामुळे',\n",
              " 'प्रत्येक',\n",
              " 'तालुकाध्यक्षांनी',\n",
              " 'दक्षता',\n",
              " 'घ्यावी',\n",
              " '.',\n",
              " 'प्रत्येक',\n",
              " 'तालुक्\\u200dयातून',\n",
              " 'किमान',\n",
              " 'एक',\n",
              " 'सदस्य',\n",
              " 'निवडून',\n",
              " 'यावा',\n",
              " ',',\n",
              " 'यासाठी',\n",
              " 'प्रयत्नशील',\n",
              " 'राहावे',\n",
              " ',',\n",
              " 'असे',\n",
              " 'आवाहन',\n",
              " 'केले',\n",
              " '.',\n",
              " 'या',\n",
              " 'वेळी',\n",
              " 'बाबा',\n",
              " 'देसाई',\n",
              " ',',\n",
              " 'के.',\n",
              " 'एस.',\n",
              " 'चौगुले',\n",
              " ',',\n",
              " 'राजाराम',\n",
              " 'टिपुगडे',\n",
              " ',',\n",
              " 'संभाजीराव',\n",
              " 'पाटील',\n",
              " ',',\n",
              " 'सौ.',\n",
              " 'नंदा',\n",
              " 'पाटील',\n",
              " ',',\n",
              " 'डॉ.',\n",
              " 'सुभाष',\n",
              " 'जाधव',\n",
              " ',',\n",
              " 'के.',\n",
              " 'बी.',\n",
              " 'देसाई',\n",
              " ',',\n",
              " 'दिलीप',\n",
              " 'चौगले',\n",
              " ',',\n",
              " 'अरुण',\n",
              " 'जोशी',\n",
              " ',',\n",
              " 'गामाजी',\n",
              " 'पाटील',\n",
              " ',',\n",
              " 'पोपट',\n",
              " 'पुजारी',\n",
              " ',',\n",
              " 'मुकुंद',\n",
              " 'पुजारी',\n",
              " ',',\n",
              " 'अर्जुन',\n",
              " 'पाटील',\n",
              " ',',\n",
              " 'सखाराम',\n",
              " 'पाटील',\n",
              " ',',\n",
              " 'अमर',\n",
              " 'जत्राटे',\n",
              " ',',\n",
              " 'अन्वर',\n",
              " 'जमादार',\n",
              " ',',\n",
              " 'देवाप्पा',\n",
              " 'पुजारी',\n",
              " ',',\n",
              " 'शंकरराव',\n",
              " 'तोरस्कर',\n",
              " 'यांची',\n",
              " 'भाषणे',\n",
              " 'झाली',\n",
              " '.',\n",
              " 'सज्ञान',\n",
              " 'होण्यापूर्वीच',\n",
              " 'मुलांना',\n",
              " 'धर्माला',\n",
              " 'वाहून',\n",
              " 'टाकण्याचे',\n",
              " 'प्रकार',\n",
              " 'वाढत',\n",
              " 'आहेत',\n",
              " '.',\n",
              " 'यामध्ये',\n",
              " 'मुलींचे',\n",
              " 'प्रमाण',\n",
              " 'अधिक',\n",
              " 'आहे',\n",
              " '.',\n",
              " 'मानवी',\n",
              " 'हक्कांची',\n",
              " 'पायमल्ली',\n",
              " 'करणाऱ्या',\n",
              " 'अशा',\n",
              " 'प्रकारांना',\n",
              " 'आळा',\n",
              " 'घालण्यासाठी',\n",
              " 'कायद्यात',\n",
              " 'तरतूद',\n",
              " 'होणे',\n",
              " 'गरजेचे',\n",
              " 'असल्याचे',\n",
              " 'मत',\n",
              " 'प्रा.',\n",
              " 'पुष्पा',\n",
              " 'भावे',\n",
              " 'यांनी',\n",
              " 'आज',\n",
              " 'येथे',\n",
              " 'व्यक्त',\n",
              " 'केले',\n",
              " '.',\n",
              " 'शिवाजी',\n",
              " 'विद्यापीठाच्या',\n",
              " 'राज्यशास्त्र',\n",
              " 'विभागाच्या',\n",
              " 'वतीने',\n",
              " 'स्त्री',\n",
              " 'हक्क',\n",
              " 'या',\n",
              " 'विषयावर',\n",
              " 'आयोजित',\n",
              " 'कार्यशाळेच्या',\n",
              " 'उद्\\u200cघाटनप्रसंगी',\n",
              " 'त्या',\n",
              " 'बोलत',\n",
              " 'होत्या',\n",
              " '.',\n",
              " '\"',\n",
              " 'मानवी',\n",
              " 'हक्क',\n",
              " 'आणि',\n",
              " 'स्त्री',\n",
              " 'हक्क',\n",
              " '\"',\n",
              " 'असा',\n",
              " 'त्यांच्या',\n",
              " 'व्याख्यानाचा',\n",
              " 'विषय',\n",
              " 'होता',\n",
              " '.',\n",
              " 'अध्यक्षस्थानी',\n",
              " 'कुलगुरू',\n",
              " 'डॉ.',\n",
              " 'माणिकराव',\n",
              " 'साळुंखे',\n",
              " 'होते',\n",
              " '.',\n",
              " '\"मिळून',\n",
              " 'साऱ्या',\n",
              " 'जणी\"च्या',\n",
              " 'संपादिका',\n",
              " 'विद्या',\n",
              " 'बाळ',\n",
              " 'प्रमुख',\n",
              " 'उपस्थित',\n",
              " 'होत्या',\n",
              " '.',\n",
              " 'विद्यापीठाच्या',\n",
              " 'मानव्यशास्त्र',\n",
              " 'सभागृहात',\n",
              " 'कार्यक्रम',\n",
              " 'झाला',\n",
              " '.',\n",
              " 'प्रा.',\n",
              " 'भावे',\n",
              " 'म्हणाल्या',\n",
              " ',',\n",
              " '\"',\n",
              " 'मानव',\n",
              " 'या',\n",
              " 'संकल्पनेत',\n",
              " 'स्त्रीचा',\n",
              " 'समावेश',\n",
              " 'आहे',\n",
              " '.',\n",
              " 'त्यामुळे',\n",
              " 'मानवी',\n",
              " 'हक्क',\n",
              " 'आणि',\n",
              " 'स्त्रियांचे',\n",
              " 'हक्क',\n",
              " 'वेगळे',\n",
              " 'नाहीत',\n",
              " ';',\n",
              " 'पण',\n",
              " 'पुरुषसत्ताक',\n",
              " 'समाजव्यवस्थेमुळे',\n",
              " 'स्त्रीच्या',\n",
              " 'हक्कांची',\n",
              " 'पायमल्ली',\n",
              " 'होते',\n",
              " '.',\n",
              " 'विशिष्ट',\n",
              " 'समुदायांच्या',\n",
              " 'रूढी-परंपरांमुळे',\n",
              " 'स्त्रियांचे',\n",
              " 'हक्क',\n",
              " 'हिरावले',\n",
              " '.',\n",
              " 'त्याला',\n",
              " 'तत्त्वज्ञान',\n",
              " 'व',\n",
              " 'संस्कृतीचे',\n",
              " 'कुंपण',\n",
              " 'घालण्यात',\n",
              " 'आले',\n",
              " '.',\n",
              " 'हे',\n",
              " 'कुंपण',\n",
              " 'आजही',\n",
              " 'स्त्रिया',\n",
              " 'अनुभवतात',\n",
              " '.',\n",
              " 'जातपंचायतींचा',\n",
              " 'बडगा',\n",
              " 'आजही',\n",
              " 'अनेक',\n",
              " 'समाजांमध्ये',\n",
              " 'दिसत',\n",
              " 'आहे',\n",
              " '.',\n",
              " 'नोकरीच्या',\n",
              " 'ठिकाणी',\n",
              " 'होणारे',\n",
              " 'लैगिंक',\n",
              " 'शोषण',\n",
              " 'व',\n",
              " 'मानसिक',\n",
              " 'छळ',\n",
              " ',',\n",
              " 'गरोदरपणात',\n",
              " 'रजा',\n",
              " 'न',\n",
              " 'देणे',\n",
              " 'अशा',\n",
              " 'प्रकारांमुळे',\n",
              " 'महानगरांतील',\n",
              " 'स्त्री',\n",
              " 'त्रस्त',\n",
              " 'आहे',\n",
              " '.',\n",
              " 'त्याचबरोबर',\n",
              " 'काश्\\u200dमीर',\n",
              " 'व',\n",
              " 'पूर्वेकडील',\n",
              " 'राज्यांमधील',\n",
              " 'स्त्रियांना',\n",
              " 'अतिरेकी',\n",
              " 'व',\n",
              " 'लष्कर',\n",
              " 'या',\n",
              " 'दोघांपासून',\n",
              " 'धोका',\n",
              " 'आहे',\n",
              " '.',\n",
              " 'एका',\n",
              " 'वेगळ्या',\n",
              " 'परिघावर',\n",
              " 'असणाऱ्या',\n",
              " 'त्या',\n",
              " 'स्त्रिया',\n",
              " 'वेगळ्याच',\n",
              " 'समस्यांना',\n",
              " 'तोंड',\n",
              " 'देत',\n",
              " 'आहेत',\n",
              " '.',\n",
              " \"''\",\n",
              " 'मुलांना',\n",
              " 'धर्माला',\n",
              " 'वाहणाऱ्या',\n",
              " 'पालकांवर',\n",
              " 'कारवाईसाठी',\n",
              " 'कायदा',\n",
              " 'गरजेचा',\n",
              " 'असला',\n",
              " ',',\n",
              " 'तरी',\n",
              " 'शासनावर',\n",
              " 'धार्मिक',\n",
              " 'गटांचे',\n",
              " 'वर्चस्व',\n",
              " 'मोठ्या',\n",
              " 'प्रमाणावर',\n",
              " 'असल्याने',\n",
              " 'त्यासाठी',\n",
              " 'वेगळा',\n",
              " 'संघर्ष',\n",
              " 'करावा',\n",
              " 'लागणार',\n",
              " 'असल्याचे',\n",
              " 'प्रा.',\n",
              " 'भावे',\n",
              " 'यांनी',\n",
              " 'सांगितले',\n",
              " '.',\n",
              " 'त्या',\n",
              " 'म्हणाल्या',\n",
              " ',',\n",
              " '\"',\n",
              " 'जन्म',\n",
              " 'घेणाऱ्या',\n",
              " 'प्रत्येकाला',\n",
              " 'शिक्षणाचा',\n",
              " 'व',\n",
              " 'स्वतंत्र',\n",
              " 'विचाराने',\n",
              " 'जगण्याचा',\n",
              " 'हक्क',\n",
              " 'आहे',\n",
              " '.',\n",
              " 'देशात',\n",
              " 'आज',\n",
              " 'आठ',\n",
              " 'वर्षांपर्यंतच्या',\n",
              " 'मुलींची',\n",
              " 'संख्या',\n",
              " 'घटत',\n",
              " 'आहे',\n",
              " '.',\n",
              " 'भ्रूण',\n",
              " 'हत्येच्या',\n",
              " 'माध्यमातून',\n",
              " 'जन्माचाच',\n",
              " 'अधिकार',\n",
              " 'काढून',\n",
              " 'घेतल्या',\n",
              " 'जाणाऱ्या',\n",
              " 'स्त्रीला',\n",
              " 'इतर',\n",
              " 'हक्क',\n",
              " 'दूरचेच',\n",
              " 'आहेत',\n",
              " '.',\n",
              " \"''\",\n",
              " 'मागासलेल्यापेक्षा',\n",
              " 'प्रगत',\n",
              " 'आणि',\n",
              " 'सधन',\n",
              " 'प्रांतांमध्ये',\n",
              " 'हे',\n",
              " 'प्रमाण',\n",
              " 'वाढीस',\n",
              " 'लागले',\n",
              " 'असून',\n",
              " 'हे',\n",
              " 'सर्वांत',\n",
              " 'निंदनीय',\n",
              " 'असल्याचे',\n",
              " 'मत',\n",
              " 'प्रा.',\n",
              " 'भावे',\n",
              " 'यांनी',\n",
              " 'व्यक्त',\n",
              " 'केले',\n",
              " '.',\n",
              " 'कुलगुरू',\n",
              " 'डॉ.',\n",
              " 'साळुंखे',\n",
              " 'म्हणाले',\n",
              " ',',\n",
              " '\"',\n",
              " 'स्त्रीच्या',\n",
              " 'अवस्थेवरून',\n",
              " 'देशाच्या',\n",
              " 'प्रगतीचे',\n",
              " 'अनुमान',\n",
              " 'काढले',\n",
              " 'जाते',\n",
              " '.',\n",
              " 'त्यामुळे',\n",
              " 'स्त्री',\n",
              " 'हक्कांची',\n",
              " 'पायमल्ली',\n",
              " 'होणाऱ्या',\n",
              " 'प्रांतात',\n",
              " 'त्या',\n",
              " 'विरोधात',\n",
              " 'जागृती',\n",
              " 'करण्याचे',\n",
              " 'काम',\n",
              " 'होणे',\n",
              " 'गरजेचे',\n",
              " 'आहे',\n",
              " '.',\n",
              " \"''\",\n",
              " 'बचत',\n",
              " 'गटांच्या',\n",
              " 'माध्यमातून',\n",
              " 'स्त्रियांमध्ये',\n",
              " 'क्रांती',\n",
              " 'घडत',\n",
              " 'असल्याचे',\n",
              " 'मतही',\n",
              " 'त्यांनी',\n",
              " 'या',\n",
              " 'वेळी',\n",
              " 'व्यक्त',\n",
              " 'केले',\n",
              " '.',\n",
              " 'कार्यशाळेत',\n",
              " 'दुपारच्या',\n",
              " 'सत्रात',\n",
              " 'डॉ.',\n",
              " 'जया',\n",
              " 'सागडे',\n",
              " '(',\n",
              " 'पुणे',\n",
              " ')',\n",
              " 'यांनी',\n",
              " 'मार्गदर्शन',\n",
              " 'केले',\n",
              " '.',\n",
              " 'तसेच',\n",
              " 'विद्या',\n",
              " 'बाळ',\n",
              " 'यांचे',\n",
              " '\"',\n",
              " 'स्त्री',\n",
              " 'आणि',\n",
              " 'कुटुंब',\n",
              " 'व्यवस्था',\n",
              " '\"',\n",
              " 'या',\n",
              " 'विषयावर',\n",
              " 'व्याख्यान',\n",
              " 'झाले',\n",
              " '.',\n",
              " 'उद्या',\n",
              " '(',\n",
              " 'ता.',\n",
              " '१४',\n",
              " ')',\n",
              " 'सकाळी',\n",
              " 'अकरा',\n",
              " 'वाजता',\n",
              " 'प्रा.',\n",
              " 'पुष्पा',\n",
              " 'भावे',\n",
              " 'यांचे',\n",
              " 'व्याख्यान',\n",
              " 'होणार',\n",
              " 'असून',\n",
              " 'दुपारच्या',\n",
              " 'सत्रात',\n",
              " 'तनुजा',\n",
              " 'शिपूरकर',\n",
              " ',',\n",
              " 'राजश्री',\n",
              " 'साकळे',\n",
              " ',',\n",
              " 'प्राचार्य',\n",
              " 'मंगला',\n",
              " 'पाटील',\n",
              " 'बडदारे',\n",
              " 'यांनी',\n",
              " 'मार्गदर्शन',\n",
              " 'केले',\n",
              " '.',\n",
              " 'मध्य',\n",
              " 'भारतात',\n",
              " 'गेल्या',\n",
              " 'काही',\n",
              " 'वर्षांत',\n",
              " 'डायनासोरची',\n",
              " 'हजारो',\n",
              " 'अंडी',\n",
              " 'जीवाश्\\u200dमांच्या',\n",
              " 'स्वरूपात',\n",
              " 'सापडली',\n",
              " 'आहेत',\n",
              " '.',\n",
              " 'त्या',\n",
              " 'निमित्ताने',\n",
              " '.',\n",
              " 'एके',\n",
              " 'काळी',\n",
              " 'आपल्या',\n",
              " 'भारताचा',\n",
              " 'मध्यभाग',\n",
              " 'हाच',\n",
              " 'एक',\n",
              " 'पृथ्वीवरील',\n",
              " 'सर्वांत',\n",
              " 'मोठा',\n",
              " 'आणि',\n",
              " 'खराखुरा',\n",
              " '\"',\n",
              " 'ज्युरासिक',\n",
              " 'पार्क',\n",
              " '\"',\n",
              " 'होता',\n",
              " ',',\n",
              " 'यावरती',\n",
              " 'आपला',\n",
              " 'विश्\\u200dवास',\n",
              " 'बसणार',\n",
              " 'नाही',\n",
              " ';',\n",
              " 'पण',\n",
              " 'हे',\n",
              " 'खरंय',\n",
              " '!',\n",
              " 'सोळा',\n",
              " 'कोटी',\n",
              " 'वर्षांपूर्वी',\n",
              " 'दक्षिण',\n",
              " 'गोलार्धातील',\n",
              " 'गोंडवन',\n",
              " 'नामक',\n",
              " 'संयुक्त',\n",
              " 'खंडांचा',\n",
              " 'एक',\n",
              " 'भाग',\n",
              " 'भारतीय',\n",
              " 'उपखंडाने',\n",
              " 'व्यापलेला',\n",
              " 'होता',\n",
              " '.',\n",
              " 'साधारणतः',\n",
              " 'मध्य',\n",
              " 'भारतामधील',\n",
              " 'दहा',\n",
              " 'हजार',\n",
              " 'चौरस',\n",
              " 'किलोमीटरच्या',\n",
              " 'भागात',\n",
              " 'गेल्या',\n",
              " 'काही',\n",
              " 'वर्षांमध्ये',\n",
              " 'डायनासोरची',\n",
              " 'हजारो',\n",
              " 'अंडी',\n",
              " 'जीवाश्\\u200dमांच्या',\n",
              " 'स्वरूपात',\n",
              " 'सापडलेली',\n",
              " 'आहेत',\n",
              " '.',\n",
              " '\"\"',\n",
              " 'डायनासोर',\n",
              " '\"',\n",
              " 'या',\n",
              " 'शब्दाचा',\n",
              " 'अर्थ',\n",
              " 'आहे',\n",
              " '\"',\n",
              " 'भयानक',\n",
              " 'सरडा',\n",
              " '\"',\n",
              " 'त्यांच्या',\n",
              " 'अवशेषांचे',\n",
              " 'भांडार',\n",
              " 'भारतात',\n",
              " 'शोधण्यासाठी',\n",
              " 'काही',\n",
              " 'तरुण',\n",
              " 'उत्सुक',\n",
              " 'आहेत',\n",
              " '.',\n",
              " 'भौतिकीशास्त्राचे',\n",
              " 'शिक्षक',\n",
              " 'विशाल',\n",
              " 'शर्मा',\n",
              " ',',\n",
              " 'राजेश',\n",
              " 'चौहान',\n",
              " 'आणि',\n",
              " 'गोविंद',\n",
              " 'वर्मा',\n",
              " 'यांना',\n",
              " 'जीवाश्\\u200dम',\n",
              " 'गोळा',\n",
              " 'करण्याचा',\n",
              " 'छंद',\n",
              " 'आहे',\n",
              " '.',\n",
              " 'नर्मदेचे',\n",
              " 'खोरे',\n",
              " ',',\n",
              " 'दाहोद',\n",
              " 'ते',\n",
              " 'जबलपूर',\n",
              " 'येथे',\n",
              " 'संशोधन',\n",
              " 'करीत',\n",
              " 'असताना',\n",
              " 'त्यांना',\n",
              " 'नुकतीच',\n",
              " 'शंभर',\n",
              " 'अंडी',\n",
              " 'जीवाश्\\u200dमाच्या',\n",
              " 'स्वरूपात',\n",
              " 'सापडलेली',\n",
              " 'आहेत',\n",
              " '.',\n",
              " 'ती',\n",
              " 'सुमारे',\n",
              " 'सात',\n",
              " 'कोटी',\n",
              " 'वर्षांपूर्वीची',\n",
              " 'आहेत',\n",
              " '.',\n",
              " 'नागपूर',\n",
              " 'येथील',\n",
              " '\"जिओग्राफिकल',\n",
              " 'सर्व्हे',\n",
              " 'ऑफ',\n",
              " 'इंडिया\"चे',\n",
              " 'संचालक',\n",
              " 'डॉ.',\n",
              " 'धनंजय',\n",
              " 'मोहाबे',\n",
              " 'यांनी',\n",
              " 'ती',\n",
              " 'अंडी',\n",
              " 'डायनासोरची',\n",
              " 'आहेत',\n",
              " ',',\n",
              " 'यांची',\n",
              " 'शहानिशा',\n",
              " 'केली',\n",
              " 'आहे',\n",
              " '.',\n",
              " 'ते',\n",
              " 'रहस्य',\n",
              " 'शोधून',\n",
              " 'काढणे',\n",
              " ',',\n",
              " 'ही',\n",
              " 'गोष्ट',\n",
              " 'सोपी',\n",
              " 'नाही',\n",
              " '.',\n",
              " 'जीवाश्\\u200dम',\n",
              " 'झालेल्या',\n",
              " 'एखाद्या',\n",
              " 'अंड्यामध्ये',\n",
              " 'डायनासोरचे',\n",
              " '\"',\n",
              " 'पिल्लू',\n",
              " '\"',\n",
              " 'साकार',\n",
              " 'होत',\n",
              " 'असल्याचे',\n",
              " 'सिद्ध',\n",
              " 'व्हावे',\n",
              " 'लागते',\n",
              " '.',\n",
              " 'ती',\n",
              " 'अंडी',\n",
              " 'सॉरोपॉडवर्गीय',\n",
              " 'अवाढव्य',\n",
              " 'आकाराच्या',\n",
              " 'डायनासोरची',\n",
              " 'आहेत',\n",
              " '.',\n",
              " 'अतिउंच',\n",
              " 'निमुळती',\n",
              " 'मान',\n",
              " 'आणि',\n",
              " 'खूप',\n",
              " 'लांब',\n",
              " '(',\n",
              " '१५',\n",
              " 'मीटर',\n",
              " ')',\n",
              " 'शेपूट',\n",
              " 'हे',\n",
              " 'त्यांचे',\n",
              " 'खास',\n",
              " 'वैशिष्ट्य',\n",
              " 'होते',\n",
              " '.',\n",
              " 'जगात',\n",
              " 'आतापर्यंतच्या',\n",
              " 'इतिहासात',\n",
              " '२७',\n",
              " 'मीटर',\n",
              " 'इतका',\n",
              " 'उंच',\n",
              " 'अजस्र',\n",
              " 'प्राणी',\n",
              " 'कधीही',\n",
              " 'झाला',\n",
              " 'नाही',\n",
              " '.',\n",
              " 'त्या',\n",
              " 'अंड्यांमधून',\n",
              " 'बाहेर',\n",
              " 'पडलेले',\n",
              " 'डायनासोरचे',\n",
              " 'पिलू',\n",
              " 'वाढून',\n",
              " 'पूर्ण',\n",
              " 'झाले',\n",
              " 'की',\n",
              " 'त्याचे',\n",
              " 'वजन',\n",
              " 'निदान',\n",
              " 'सहाशे',\n",
              " 'व्यक्तींएवढे',\n",
              " 'असते',\n",
              " '.',\n",
              " '(',\n",
              " 'असा',\n",
              " 'डायनासोर',\n",
              " 'बुद्धीनेही',\n",
              " 'जड',\n",
              " 'होता',\n",
              " ',',\n",
              " 'कारण',\n",
              " 'त्याच्या',\n",
              " 'मेंदूचे',\n",
              " 'वजन',\n",
              " 'संपूर्ण',\n",
              " 'शरीराच्या',\n",
              " 'वजनाच्या',\n",
              " 'तुलनेत',\n",
              " 'अडीच',\n",
              " 'लाखपट',\n",
              " 'कमी',\n",
              " 'होते',\n",
              " '!',\n",
              " ')',\n",
              " 'त्यांची',\n",
              " 'उंची',\n",
              " 'निदान',\n",
              " 'तीन',\n",
              " 'माणसांच्या',\n",
              " 'उंचीएवढी',\n",
              " 'होती',\n",
              " '.',\n",
              " 'सॉरोपोडच्या',\n",
              " 'मादीने',\n",
              " 'उकिडवे',\n",
              " 'बसून',\n",
              " '७',\n",
              " 'किलोग्रॅम',\n",
              " 'वजनाचे',\n",
              " 'अंडे',\n",
              " 'घातले',\n",
              " 'तरी',\n",
              " 'ते',\n",
              " 'किमान',\n",
              " 'आठ',\n",
              " 'फुटांवरून',\n",
              " '(',\n",
              " 'किंवा',\n",
              " 'अडीच',\n",
              " 'मीटर',\n",
              " ')',\n",
              " 'उंचीवरून',\n",
              " 'जमिनीवरती',\n",
              " 'न',\n",
              " 'फुटता',\n",
              " 'पडत',\n",
              " 'असे',\n",
              " '!',\n",
              " 'भारतात',\n",
              " 'टिटॅनोसोरसची',\n",
              " 'अंडी',\n",
              " 'पण',\n",
              " 'सापडलेली',\n",
              " 'आहेत',\n",
              " '.',\n",
              " 'अशा',\n",
              " 'उंच',\n",
              " '-',\n",
              " 'धिप्पाड',\n",
              " 'डायनासोरना',\n",
              " 'खाण्यासाठी',\n",
              " 'गवत',\n",
              " ...]"
            ]
          },
          "metadata": {},
          "execution_count": 25
        }
      ],
      "source": [
        "w"
      ]
    },
    {
      "cell_type": "code",
      "execution_count": 26,
      "metadata": {
        "id": "yqVsJ10Oq-Sw"
      },
      "outputs": [],
      "source": [
        "trwv = words+w"
      ]
    },
    {
      "cell_type": "code",
      "execution_count": 27,
      "metadata": {
        "id": "QGQqBSvpkAOX"
      },
      "outputs": [],
      "source": [
        "y_train = [item for sublist in train_sentences for _, item in sublist]\n",
        "y_test = [item for sublist in test_sentences for _, item in sublist]"
      ]
    },
    {
      "cell_type": "code",
      "execution_count": 28,
      "metadata": {
        "colab": {
          "base_uri": "https://localhost:8080/"
        },
        "id": "eN9gL2pekB7_",
        "outputId": "1fc6a49f-2368-47da-d308-cc3fd984882f"
      },
      "outputs": [
        {
          "output_type": "execute_result",
          "data": {
            "text/plain": [
              "(163688, 21437)"
            ]
          },
          "metadata": {},
          "execution_count": 28
        }
      ],
      "source": [
        "len(y_train), len(y_test)"
      ]
    },
    {
      "cell_type": "code",
      "execution_count": 29,
      "metadata": {
        "id": "YPnVtFQ1kDrs"
      },
      "outputs": [],
      "source": [
        "test_tags = sorted(set(y_test))"
      ]
    },
    {
      "cell_type": "code",
      "execution_count": 30,
      "metadata": {
        "colab": {
          "base_uri": "https://localhost:8080/"
        },
        "id": "-2vkyUu8kGDU",
        "outputId": "705ee108-83ba-414e-f9c5-c341b391b4cc"
      },
      "outputs": [
        {
          "output_type": "execute_result",
          "data": {
            "text/plain": [
              "['ADJ',\n",
              " 'ADP',\n",
              " 'ADV',\n",
              " 'AUX',\n",
              " 'CONJ',\n",
              " 'DET',\n",
              " 'NOUN',\n",
              " 'NST',\n",
              " 'NUM',\n",
              " 'PART',\n",
              " 'PRON',\n",
              " 'PROPN',\n",
              " 'PUNCT',\n",
              " 'SCONJ',\n",
              " 'VERB']"
            ]
          },
          "metadata": {},
          "execution_count": 30
        }
      ],
      "source": [
        "list(test_tags)"
      ]
    },
    {
      "cell_type": "code",
      "execution_count": 31,
      "metadata": {
        "colab": {
          "base_uri": "https://localhost:8080/"
        },
        "id": "l82xzf3pkHqr",
        "outputId": "49a9e99c-5966-4c7c-f93d-2c04fa012e5a"
      },
      "outputs": [
        {
          "output_type": "stream",
          "name": "stdout",
          "text": [
            "VOCABULARY SIZE:  39714\n",
            "TOTAL TAGS:  14\n"
          ]
        }
      ],
      "source": [
        "tags = set(y_train)\n",
        "print('VOCABULARY SIZE: ', len(words))\n",
        "print('TOTAL TAGS: ', len(tags))"
      ]
    },
    {
      "cell_type": "code",
      "execution_count": 32,
      "metadata": {
        "id": "kyjP2nY5kKSW"
      },
      "outputs": [],
      "source": [
        "word2int = {}\n",
        "int2word = {}\n",
        "\n",
        "for i, word in enumerate(words):\n",
        "    word2int[word] = i+2 #We keep indexes 0, 1 for -PAD-, -UNK- terms\n",
        "    int2word[i+2] = word"
      ]
    },
    {
      "cell_type": "code",
      "execution_count": 33,
      "metadata": {
        "id": "BJs24PDHkN-X"
      },
      "outputs": [],
      "source": [
        "# Special characters for the words\n",
        "word2int['-PAD-'] = 0\n",
        "int2word[0] = '-PAD-'\n",
        "word2int['-UNK-'] = 1\n",
        "int2word[1] = '-UNK-'"
      ]
    },
    {
      "cell_type": "code",
      "execution_count": 34,
      "metadata": {
        "colab": {
          "base_uri": "https://localhost:8080/"
        },
        "id": "0cYZmzNSkRMb",
        "outputId": "9e9780e9-ce02-4ce6-d640-0e807c6ca72f"
      },
      "outputs": [
        {
          "output_type": "execute_result",
          "data": {
            "text/plain": [
              "1"
            ]
          },
          "metadata": {},
          "execution_count": 34
        }
      ],
      "source": [
        "word2int['-UNK-']"
      ]
    },
    {
      "cell_type": "code",
      "execution_count": 35,
      "metadata": {
        "colab": {
          "base_uri": "https://localhost:8080/",
          "height": 36
        },
        "id": "cGK6C68ckTbc",
        "outputId": "05278495-c1ee-43f7-eb52-274debc236fe"
      },
      "outputs": [
        {
          "output_type": "execute_result",
          "data": {
            "text/plain": [
              "'-PAD-'"
            ],
            "application/vnd.google.colaboratory.intrinsic+json": {
              "type": "string"
            }
          },
          "metadata": {},
          "execution_count": 35
        }
      ],
      "source": [
        "int2word[0]"
      ]
    },
    {
      "cell_type": "code",
      "execution_count": 36,
      "metadata": {
        "id": "2s6aarpukVS1"
      },
      "outputs": [],
      "source": [
        "tag2int = {}\n",
        "int2tag = {}\n",
        "\n",
        "for i, tag in enumerate(sorted(tags)):\n",
        "    tag2int[tag] = i+1\n",
        "    int2tag[i+1] = tag"
      ]
    },
    {
      "cell_type": "code",
      "execution_count": 37,
      "metadata": {
        "id": "E1zs5bQkkXMk"
      },
      "outputs": [],
      "source": [
        "# Special character for the tags\n",
        "tag2int['-PAD-'] = 0\n",
        "int2tag[0] = '-PAD-'"
      ]
    },
    {
      "cell_type": "code",
      "execution_count": 38,
      "metadata": {
        "colab": {
          "base_uri": "https://localhost:8080/"
        },
        "id": "5p64BtbKkZdJ",
        "outputId": "e17f12be-129e-40c2-e84c-f0125843794c"
      },
      "outputs": [
        {
          "output_type": "stream",
          "name": "stdout",
          "text": [
            "Total words: 39716\n",
            "Total tags: 15\n"
          ]
        }
      ],
      "source": [
        "n_tags = len(tag2int)\n",
        "print('Total words:', len(word2int))\n",
        "print('Total tags:', n_tags)"
      ]
    },
    {
      "cell_type": "markdown",
      "metadata": {
        "id": "EhDbJpSbs7th"
      },
      "source": [
        "##training word2vec model"
      ]
    },
    {
      "cell_type": "code",
      "execution_count": 39,
      "metadata": {
        "colab": {
          "base_uri": "https://localhost:8080/"
        },
        "id": "AouqRntGsVGO",
        "outputId": "246bf5b8-2bc1-4609-a22c-fd20f9fba996"
      },
      "outputs": [
        {
          "output_type": "stream",
          "name": "stderr",
          "text": [
            "[nltk_data] Downloading package punkt to /root/nltk_data...\n",
            "[nltk_data]   Unzipping tokenizers/punkt.zip.\n"
          ]
        },
        {
          "output_type": "execute_result",
          "data": {
            "text/plain": [
              "True"
            ]
          },
          "metadata": {},
          "execution_count": 39
        }
      ],
      "source": [
        "import gensim\n",
        "from gensim.models import Word2Vec\n",
        "import nltk\n",
        "nltk.download('punkt')"
      ]
    },
    {
      "cell_type": "code",
      "execution_count": 40,
      "metadata": {
        "id": "tEkx8THSkbH-"
      },
      "outputs": [],
      "source": [
        "# Tokenize the Marathi text data\n",
        "tokenized_data = [trwv]\n",
        "\n",
        "# Train the Word2Vec model\n",
        "model = Word2Vec(tokenized_data, vector_size=300, window=5, min_count=1, workers=4)\n",
        "\n",
        "# Save the trained model\n",
        "model.save('marathi_word2vec.model')"
      ]
    },
    {
      "cell_type": "code",
      "execution_count": 41,
      "metadata": {
        "id": "wzxAYIsKkdSm"
      },
      "outputs": [],
      "source": [
        "model_wv = Word2Vec.load('marathi_word2vec.model')"
      ]
    },
    {
      "cell_type": "markdown",
      "metadata": {
        "id": "LkD7vj6MspjA"
      },
      "source": [
        "##Embedding Matrix"
      ]
    },
    {
      "cell_type": "code",
      "execution_count": 42,
      "metadata": {
        "colab": {
          "base_uri": "https://localhost:8080/"
        },
        "id": "8yacJFI3l7EL",
        "outputId": "cc7c72e8-3ff1-4f9d-8319-473f98271b38"
      },
      "outputs": [
        {
          "output_type": "stream",
          "name": "stdout",
          "text": [
            "Embedding matrix shape: (39716, 300)\n",
            "Words not found in embeddings: 39716\n"
          ]
        }
      ],
      "source": [
        "k=0\n",
        "unk_words=[]\n",
        "np.random.seed(3) # For reproducibility \n",
        "embedding_matrix = np.random.uniform(-0.25, 0.25, size=(len(word2int), EMBEDDING_DIM))\n",
        "for word, i in word2int.items():\n",
        "    try:\n",
        "        embedding_matrix[i] = model_wv[word]\n",
        "    except:\n",
        "        unk_words.append(word)\n",
        "        k += 1\n",
        "        pass\n",
        "\n",
        "print('Embedding matrix shape:', embedding_matrix.shape)\n",
        "print('Words not found in embeddings:', k)"
      ]
    },
    {
      "cell_type": "code",
      "execution_count": 43,
      "metadata": {
        "colab": {
          "base_uri": "https://localhost:8080/"
        },
        "id": "xiIVPylDtrm5",
        "outputId": "796a367a-cce0-453e-c90d-6bfc28f88ee4"
      },
      "outputs": [
        {
          "output_type": "execute_result",
          "data": {
            "text/plain": [
              "(39716, 300)"
            ]
          },
          "metadata": {},
          "execution_count": 43
        }
      ],
      "source": [
        "embedding_matrix.shape"
      ]
    },
    {
      "cell_type": "code",
      "execution_count": 44,
      "metadata": {
        "colab": {
          "base_uri": "https://localhost:8080/"
        },
        "id": "9Qg0ZYCwttrT",
        "outputId": "51c0844f-c66a-4a8d-cd37-e65ed3182e4f"
      },
      "outputs": [
        {
          "output_type": "execute_result",
          "data": {
            "text/plain": [
              "['!',\n",
              " '\"',\n",
              " '\"\"',\n",
              " '\"अक्षर',\n",
              " '\"अर्बन',\n",
              " '\"आदिशक्ती\\'चे',\n",
              " '\"आयआयटीएम\\'प्रमाणेच',\n",
              " '\"आयडिया\\'कडे',\n",
              " '\"आयडिया\\'चा',\n",
              " '\"आर्ट']"
            ]
          },
          "metadata": {},
          "execution_count": 44
        }
      ],
      "source": [
        "(unk_words)[:10]"
      ]
    },
    {
      "cell_type": "code",
      "execution_count": 45,
      "metadata": {
        "colab": {
          "base_uri": "https://localhost:8080/"
        },
        "id": "wL0ewZxltzR2",
        "outputId": "d59d7eed-72f3-49b8-d16e-fa4cdb5ae757"
      },
      "outputs": [
        {
          "output_type": "execute_result",
          "data": {
            "text/plain": [
              "array([-0.12402351,  0.03019588, -0.21169729, -0.07017687, -0.12655659,\n",
              "        0.138196  ,  0.24467439, -0.17433432, -0.21945646,  0.08067969,\n",
              "        0.23924466,  0.23163207,  0.18134145,  0.11479139,  0.03964597,\n",
              "       -0.24218824,  0.21675044,  0.03481452, -0.01539415, -0.24008275,\n",
              "       -0.16288825, -0.07807685,  0.23136062,  0.06932406,  0.10097452,\n",
              "       -0.05916224,  0.11957799, -0.14587269, -0.10912478,  0.01845367,\n",
              "       -0.16384929,  0.18997314, -0.12597264, -0.00773582,  0.21670087,\n",
              "       -0.0663794 ,  0.03737875,  0.09351411, -0.03241191, -0.12113257,\n",
              "        0.01079884,  0.14973573, -0.0447678 ,  0.09403175, -0.12367445,\n",
              "       -0.0550656 ,  0.2208763 , -0.21631786,  0.20715662, -0.22382006,\n",
              "        0.15579765, -0.06137883,  0.10059288, -0.13452766, -0.16136225,\n",
              "       -0.20516825, -0.24609471, -0.06312972, -0.22913444, -0.10881251,\n",
              "        0.18762239,  0.10026099, -0.04053603, -0.2392643 , -0.22557367,\n",
              "        0.24633441, -0.03020932,  0.04674418,  0.11981602,  0.05648929,\n",
              "        0.12595414,  0.03037457, -0.00296789, -0.02328889,  0.19407518,\n",
              "        0.24241004, -0.05891237, -0.14673755,  0.21316297, -0.10632827,\n",
              "        0.10931884, -0.13198567,  0.04768821, -0.09150047, -0.22870856,\n",
              "       -0.23924664, -0.09920833, -0.01836094, -0.02988461, -0.02955622,\n",
              "        0.0015676 , -0.18456532,  0.07525308,  0.13483592, -0.02949204,\n",
              "       -0.01764662, -0.18774217, -0.23367614, -0.1270221 , -0.03438303,\n",
              "       -0.19476298, -0.07153682, -0.01430193,  0.01891326,  0.11673428,\n",
              "        0.01259822, -0.16199747, -0.09588809, -0.03161231,  0.02164892,\n",
              "       -0.03923514, -0.05316553,  0.20572523,  0.08404444,  0.21352174,\n",
              "       -0.16377919,  0.08513292, -0.0110942 , -0.08991263, -0.22426551,\n",
              "        0.19428645, -0.24670532,  0.16307917, -0.06512342,  0.17663997,\n",
              "       -0.23313604, -0.22744924, -0.05035698,  0.0569508 ,  0.07582257,\n",
              "       -0.10609441,  0.06917853, -0.04781645, -0.16428806, -0.186652  ,\n",
              "       -0.12703878,  0.19626442, -0.11048301,  0.02675512, -0.18096703,\n",
              "        0.24227019,  0.19761525, -0.1658868 , -0.14120142,  0.19028023,\n",
              "       -0.10280368, -0.19975591,  0.04903679, -0.17580873, -0.21343454,\n",
              "        0.0670364 ,  0.23582753, -0.15557449,  0.17747316,  0.06499048,\n",
              "        0.18184094, -0.08423377, -0.07552346,  0.03542652, -0.1384229 ,\n",
              "       -0.09791071, -0.18766122,  0.17209374, -0.01331576, -0.1782617 ,\n",
              "        0.2053161 , -0.1412122 , -0.22786461, -0.00448559,  0.07594059,\n",
              "        0.02264098,  0.08337622, -0.03993052,  0.16591046,  0.05684783,\n",
              "       -0.14874962,  0.19484138, -0.21049143, -0.06853388,  0.05622225,\n",
              "        0.23587015, -0.07283849, -0.14894437,  0.08082397,  0.15883884,\n",
              "       -0.09675317,  0.00600328,  0.1097861 ,  0.03294212,  0.192513  ,\n",
              "       -0.15466517,  0.1698155 , -0.21035244, -0.08448967,  0.18314908,\n",
              "        0.0159526 ,  0.21403824,  0.06124261,  0.14699003, -0.13278517,\n",
              "       -0.00495934, -0.0109679 , -0.1026739 , -0.01919525,  0.07715056,\n",
              "        0.21528359,  0.01896424, -0.20035095, -0.05826277, -0.09688354,\n",
              "       -0.12094861, -0.02945012, -0.09197752,  0.14328305, -0.0286676 ,\n",
              "        0.18942896, -0.09883846,  0.24065994, -0.18737678,  0.06210891,\n",
              "       -0.1878719 , -0.13763679,  0.15166488,  0.02538017, -0.06501509,\n",
              "       -0.2194462 ,  0.18596115,  0.07720348, -0.23001282, -0.06838727,\n",
              "        0.00185472, -0.22921613, -0.20664719,  0.07207894,  0.19562605,\n",
              "       -0.0798487 , -0.22979012, -0.01074949,  0.13774842,  0.13688036,\n",
              "        0.15003889,  0.1376477 ,  0.10875614, -0.21151939,  0.08774234,\n",
              "        0.2265737 , -0.00123171, -0.11533985,  0.18584046,  0.13200572,\n",
              "        0.02656242, -0.24298778, -0.0401767 , -0.04855673,  0.11835819,\n",
              "        0.22779899, -0.00208789, -0.02707649,  0.04389297,  0.04072931,\n",
              "        0.08178143, -0.14156439, -0.03846321,  0.15959938,  0.03355332,\n",
              "       -0.04631155, -0.17215325, -0.157052  , -0.21403692,  0.2033314 ,\n",
              "        0.03013217,  0.10930178,  0.09675677,  0.05102037, -0.19455844,\n",
              "       -0.02865641, -0.09518056, -0.24819637,  0.00396913,  0.21304179,\n",
              "        0.23083675, -0.18903635,  0.14209308, -0.23781118, -0.17842035,\n",
              "       -0.17783974, -0.10838937, -0.23721689, -0.14588554, -0.21278092,\n",
              "        0.10039115,  0.18075769,  0.01631771, -0.21741256, -0.1338941 ,\n",
              "       -0.20127266,  0.24079039, -0.00438803, -0.16474592,  0.03265152])"
            ]
          },
          "metadata": {},
          "execution_count": 45
        }
      ],
      "source": [
        "embedding_matrix[word2int['\"अक्षर']]"
      ]
    },
    {
      "cell_type": "markdown",
      "metadata": {
        "id": "XGHKhzituML_"
      },
      "source": [
        "##Baseline Tagger"
      ]
    },
    {
      "cell_type": "code",
      "execution_count": 46,
      "metadata": {
        "id": "pbjMmJLGt5WM"
      },
      "outputs": [],
      "source": [
        "default_tagger = nltk.DefaultTagger('NN')\n",
        "unigram_tagger = nltk.UnigramTagger(train_sentences+val_sentences, backoff=default_tagger)"
      ]
    },
    {
      "cell_type": "code",
      "execution_count": 47,
      "metadata": {
        "id": "q0X5yVGbuT9D"
      },
      "outputs": [],
      "source": [
        "y_train = [item for sublist in tag_sequence(train_sentences+val_sentences) for item in sublist]\n",
        "y_test = [item for sublist in tag_sequence(test_sentences) for item in sublist]\n",
        "classes = sorted(list(set(y_train)))"
      ]
    },
    {
      "cell_type": "code",
      "execution_count": 48,
      "metadata": {
        "id": "yPTQ1-_vuWLs"
      },
      "outputs": [],
      "source": [
        "def tag_list(tagged_sents):\n",
        "    return [tag for sent in tagged_sents for (word, tag) in sent]\n",
        "def apply_tagger(tagger, corpus):\n",
        "    return [tagger.tag(nltk.tag.untag(sent)) for sent in corpus]"
      ]
    },
    {
      "cell_type": "code",
      "execution_count": 49,
      "metadata": {
        "colab": {
          "base_uri": "https://localhost:8080/"
        },
        "id": "XjxIEFfruYFR",
        "outputId": "dd974cc6-10dc-44be-ce00-af3293dea9b1"
      },
      "outputs": [
        {
          "output_type": "stream",
          "name": "stderr",
          "text": [
            "<ipython-input-49-07e75b121ec5>:2: DeprecationWarning: \n",
            "  Function evaluate() has been deprecated.  Use accuracy(gold)\n",
            "  instead.\n",
            "  print(\"Accuracy: {0:.4f}\".format(unigram_tagger.evaluate(test_sentences)))\n"
          ]
        },
        {
          "output_type": "stream",
          "name": "stdout",
          "text": [
            "Accuracy: 0.7752\n",
            "f1-macro score: 0.6868\n"
          ]
        }
      ],
      "source": [
        "y_pred = tag_list(apply_tagger(unigram_tagger, test_sentences))\n",
        "print(\"Accuracy: {0:.4f}\".format(unigram_tagger.evaluate(test_sentences)))\n",
        "print('f1-macro score: {0:.4f}'.format(f1_score(y_test, y_pred, average='macro')))"
      ]
    },
    {
      "cell_type": "code",
      "execution_count": 50,
      "metadata": {
        "colab": {
          "base_uri": "https://localhost:8080/"
        },
        "id": "KjRIlnavuZz0",
        "outputId": "4e74c692-dc31-4e5f-99cd-cd56338d5817"
      },
      "outputs": [
        {
          "output_type": "stream",
          "name": "stdout",
          "text": [
            "              precision    recall  f1-score   support\n",
            "\n",
            "         ADJ     0.9153    0.7849    0.8451      1776\n",
            "         ADP     0.3750    0.4286    0.4000        14\n",
            "         ADV     0.7914    0.5670    0.6607       261\n",
            "         AUX     0.7089    0.5411    0.6137       900\n",
            "        CONJ     0.0000    0.0000    0.0000         1\n",
            "         DET     0.9330    0.9003    0.9163       371\n",
            "          NN     0.0000    0.0000    0.0000         0\n",
            "        NOUN     0.9450    0.7091    0.8102      6401\n",
            "         NST     0.8380    0.8380    0.8380       395\n",
            "         NUM     0.9820    0.8655    0.9201       632\n",
            "        PART     0.8539    0.5588    0.6756       136\n",
            "        PRON     0.9088    0.9239    0.9163      1617\n",
            "       PROPN     0.8574    0.4754    0.6116      2011\n",
            "       PUNCT     1.0000    0.9913    0.9956      3103\n",
            "       SCONJ     0.9602    0.9458    0.9529       867\n",
            "        VERB     0.8501    0.8164    0.8329      2952\n",
            "\n",
            "    accuracy                         0.7752     21437\n",
            "   macro avg     0.7449    0.6466    0.6868     21437\n",
            "weighted avg     0.9132    0.7752    0.8326     21437\n",
            "\n"
          ]
        }
      ],
      "source": [
        "print(classification_report(y_test, y_pred, digits=4))"
      ]
    },
    {
      "cell_type": "code",
      "execution_count": 51,
      "metadata": {
        "id": "pEhlaU-LufMB"
      },
      "outputs": [],
      "source": [
        "def check_tagger(tagged_sentence):\n",
        "    note = ''\n",
        "    for tup in list(zip(unigram_tagger.tag(untag(tagged_sentence)),untag_pos(tagged_sentence))):\n",
        "        if tup[0][1]!=tup[1]: note='<<--- Error!'\n",
        "        print(tup[0], tup[1], note)\n",
        "        note=''"
      ]
    },
    {
      "cell_type": "code",
      "execution_count": 52,
      "metadata": {
        "colab": {
          "base_uri": "https://localhost:8080/"
        },
        "id": "xRv9tuoFuhO-",
        "outputId": "c725f8ff-ca24-4506-fb04-698135612186"
      },
      "outputs": [
        {
          "output_type": "stream",
          "name": "stdout",
          "text": [
            "('ही', 'PRON') PRON \n",
            "('अल्कली', 'NOUN') NOUN \n",
            "('प्रक्रिया', 'NOUN') NOUN \n",
            "('त्याच्या', 'PRON') PRON \n",
            "('निक्सतामालीझेशन', 'NN') NOUN <<--- Error!\n",
            "('ह्या', 'PRON') PRON \n",
            "('नावापासून', 'NN') NOUN <<--- Error!\n",
            "('उत्पन्न', 'NOUN') NOUN \n",
            "('झालेल्या', 'VERB') VERB \n",
            "('नहुआत्ल', 'NN') NOUN <<--- Error!\n",
            "('(', 'PUNCT') PUNCT \n",
            "('अॅझ्टेक', 'NN') NOUN <<--- Error!\n",
            "(')', 'PUNCT') PUNCT \n",
            "('ह्या', 'PRON') PRON \n",
            "('नावाने', 'NOUN') NOUN \n",
            "('ओळखले', 'VERB') VERB \n",
            "('जाते', 'AUX') AUX \n",
            "('.', 'PUNCT') PUNCT \n"
          ]
        }
      ],
      "source": [
        "check_tagger(test_sentences[1])"
      ]
    },
    {
      "cell_type": "code",
      "execution_count": 53,
      "metadata": {
        "id": "OhRelYmyujPZ"
      },
      "outputs": [],
      "source": [
        "cnf_matrix = confusion_matrix(y_test, y_pred)\n",
        "name='Baseline'"
      ]
    },
    {
      "cell_type": "code",
      "execution_count": 54,
      "metadata": {
        "colab": {
          "base_uri": "https://localhost:8080/",
          "height": 642
        },
        "id": "6EuOM8jLumma",
        "outputId": "654663fd-ccbb-4efd-b110-b844a2d110fa"
      },
      "outputs": [
        {
          "output_type": "display_data",
          "data": {
            "text/plain": [
              "<Figure size 1000x600 with 2 Axes>"
            ],
            "image/png": "[encoded data removed]"
          },
          "metadata": {}
        }
      ],
      "source": [
        "plot_confusion_matrix(f1_score(y_test, y_pred, average='macro'), cnf_matrix, target_names=classes, title='Confusion matrix for '+name+' classifier', normalize=False)"
      ]
    },
    {
      "cell_type": "markdown",
      "metadata": {
        "id": "WcbH-JYpuyyW"
      },
      "source": [
        "##Special preprocessing for NNs\n",
        "##This is a very importand step for the whole process! So be careful, to rerun this step in case you change one of the following parameters:\n",
        "\n",
        "*   MAX_SEQUENCE_LENGTH\n",
        "*   BATCH_SIZE\n",
        "\n",
        "\n"
      ]
    },
    {
      "cell_type": "code",
      "execution_count": 55,
      "metadata": {
        "colab": {
          "base_uri": "https://localhost:8080/",
          "height": 430
        },
        "id": "HviYXr4puwRV",
        "outputId": "3f3888d9-1a3d-43e6-8061-58c1cfac065e"
      },
      "outputs": [
        {
          "output_type": "display_data",
          "data": {
            "text/plain": [
              "<Figure size 640x480 with 1 Axes>"
            ],
            "image/png": "[encoded data removed]"
          },
          "metadata": {}
        }
      ],
      "source": [
        "import matplotlib.pyplot as plt\n",
        "plt.style.use(\"ggplot\")\n",
        "plt.hist([len(s) for s in train_sentences], bins=50)\n",
        "plt.show()"
      ]
    },
    {
      "cell_type": "code",
      "execution_count": 56,
      "metadata": {
        "colab": {
          "base_uri": "https://localhost:8080/"
        },
        "id": "kJm3z52YvIz0",
        "outputId": "740fc9ab-f367-4a70-bbcc-69718bc4df27"
      },
      "outputs": [
        {
          "output_type": "stream",
          "name": "stdout",
          "text": [
            "Max sentence length: 145\n"
          ]
        }
      ],
      "source": [
        "print('Max sentence length:',len(max(train_sentences+val_sentences, key=len)))"
      ]
    },
    {
      "cell_type": "markdown",
      "metadata": {
        "id": "A_0R65qwvOPX"
      },
      "source": [
        "To improve speed we will use a MAX_SEQUENCE_LENGTH shorter than the max lengthed sentence. To avoid truncating sequences during padding we split our sentences to MAX_SEQUENCE_LENGTH and so the number of samples increases accordingly. For example, a sentence with length 120 splits in 2 sentences: 150=70+70+10"
      ]
    },
    {
      "cell_type": "code",
      "execution_count": 57,
      "metadata": {
        "id": "yuQpw2gSvOD8"
      },
      "outputs": [],
      "source": [
        "def  split(sentences, max):\n",
        "    new=[]\n",
        "    for data in sentences:\n",
        "        new.append(([data[x:x+max] for x in range(0, len(data), max)]))\n",
        "    new = [val for sublist in new for val in sublist]\n",
        "    return new"
      ]
    },
    {
      "cell_type": "code",
      "execution_count": 58,
      "metadata": {
        "id": "GhFXb6E8vVTD"
      },
      "outputs": [],
      "source": [
        "train_sentences = split(train_sentences, MAX_SEQUENCE_LENGTH)\n",
        "val_sentences = split(val_sentences, MAX_SEQUENCE_LENGTH)\n",
        "test_sentences = split(test_sentences, MAX_SEQUENCE_LENGTH)"
      ]
    },
    {
      "cell_type": "code",
      "execution_count": 59,
      "metadata": {
        "colab": {
          "base_uri": "https://localhost:8080/"
        },
        "id": "Qm_Pg2z2vYIE",
        "outputId": "5f729c20-39f3-4801-fd6b-c098c20e7db5"
      },
      "outputs": [
        {
          "output_type": "execute_result",
          "data": {
            "text/plain": [
              "70"
            ]
          },
          "metadata": {},
          "execution_count": 59
        }
      ],
      "source": [
        "len(max(train_sentences+val_sentences, key=len))"
      ]
    },
    {
      "cell_type": "markdown",
      "metadata": {
        "id": "hpARg_GJvfM9"
      },
      "source": [
        "For ELMo to work correctly, the number of samples must be divisible by the batch_size. So here we pad the samples until their number becomes divisible by the batch_size:"
      ]
    },
    {
      "cell_type": "code",
      "execution_count": 60,
      "metadata": {
        "id": "MI5sHahiveGs"
      },
      "outputs": [],
      "source": [
        "train_sentences = train_sentences+val_sentences"
      ]
    },
    {
      "cell_type": "code",
      "execution_count": 61,
      "metadata": {
        "colab": {
          "base_uri": "https://localhost:8080/"
        },
        "id": "I_BMbR2kviI7",
        "outputId": "ec740e35-7770-40eb-eae4-678c264a92d6"
      },
      "outputs": [
        {
          "output_type": "stream",
          "name": "stdout",
          "text": [
            "Number of samples before sample padding: 13017\n"
          ]
        }
      ],
      "source": [
        "print('Number of samples before sample padding:',len(train_sentences))"
      ]
    },
    {
      "cell_type": "code",
      "execution_count": 62,
      "metadata": {
        "id": "A3X0AFWEvjrW"
      },
      "outputs": [],
      "source": [
        "def elmo_pad(sentences):\n",
        "    if len(sentences) % BATCH_SIZE !=0:\n",
        "        pad_len = ((len(sentences)//BATCH_SIZE)+1)*BATCH_SIZE-len(sentences)\n",
        "        return sentences.extend([[('-PAD-','-PAD-')]]*pad_len)"
      ]
    },
    {
      "cell_type": "code",
      "execution_count": 63,
      "metadata": {
        "id": "sdxJHhYmvmzM"
      },
      "outputs": [],
      "source": [
        "elmo_pad(train_sentences)\n",
        "elmo_pad(test_sentences)\n",
        "#elmo_pad(val_sentences)"
      ]
    },
    {
      "cell_type": "markdown",
      "metadata": {
        "id": "UI5Om3LBvrfi"
      },
      "source": [
        "Check the samples padding:"
      ]
    },
    {
      "cell_type": "code",
      "execution_count": 64,
      "metadata": {
        "colab": {
          "base_uri": "https://localhost:8080/"
        },
        "id": "kY--WuDzvonI",
        "outputId": "fbe772eb-04fb-4ee5-d558-18ad2890f937"
      },
      "outputs": [
        {
          "output_type": "stream",
          "name": "stdout",
          "text": [
            "Number of samples after sample padding: 13024\n"
          ]
        }
      ],
      "source": [
        "print('Number of samples after sample padding:',len(train_sentences))"
      ]
    },
    {
      "cell_type": "code",
      "execution_count": 65,
      "metadata": {
        "colab": {
          "base_uri": "https://localhost:8080/"
        },
        "id": "Cqr-us1vvtMI",
        "outputId": "0ab11394-66c4-4031-e2ef-b320238de2ab"
      },
      "outputs": [
        {
          "output_type": "execute_result",
          "data": {
            "text/plain": [
              "[[('-PAD-', '-PAD-')],\n",
              " [('-PAD-', '-PAD-')],\n",
              " [('-PAD-', '-PAD-')],\n",
              " [('-PAD-', '-PAD-')],\n",
              " [('-PAD-', '-PAD-')]]"
            ]
          },
          "metadata": {},
          "execution_count": 65
        }
      ],
      "source": [
        "train_sentences[-5:]"
      ]
    },
    {
      "cell_type": "markdown",
      "metadata": {
        "id": "Ljzqxq6uv1tY"
      },
      "source": [
        "##Map and then pad the sentences to sequences of numbers (for terms and also for tags)"
      ]
    },
    {
      "cell_type": "code",
      "execution_count": 66,
      "metadata": {
        "id": "y0P21RNGvvAz"
      },
      "outputs": [],
      "source": [
        "def transform(sentences):\n",
        "    X, y, unk = numberize(sentences)\n",
        "    print('sample X_train_numberised: ', X[0])\n",
        "    print('sample y_train_numberised: ', y[0])\n",
        "    print('Number of numberized sentences:', len(X))\n",
        "    print('Number of unknown words:', len(unk))\n",
        "    X = pad_sequences(X, maxlen=MAX_SEQUENCE_LENGTH, padding='post')\n",
        "    y = pad_sequences(y, maxlen=MAX_SEQUENCE_LENGTH, padding='post')\n",
        "    y = to_categorical(y, num_classes=n_tags)   \n",
        "    return X, y"
      ]
    },
    {
      "cell_type": "code",
      "execution_count": 67,
      "metadata": {
        "colab": {
          "base_uri": "https://localhost:8080/"
        },
        "id": "Pnpi25S4v4No",
        "outputId": "c69b5096-df26-494b-de34-16ce984db7c1"
      },
      "outputs": [
        {
          "output_type": "stream",
          "name": "stdout",
          "text": [
            "sample X_train_numberised:  [23704, 32831, 11566, 23863, 35061, 19678, 149]\n",
            "sample y_train_numberised:  [11, 6, 6, 6, 1, 14, 12]\n",
            "Number of numberized sentences: 13024\n",
            "Number of unknown words: 0\n"
          ]
        }
      ],
      "source": [
        "X_train, y_train = transform(train_sentences)"
      ]
    },
    {
      "cell_type": "code",
      "execution_count": 68,
      "metadata": {
        "colab": {
          "base_uri": "https://localhost:8080/"
        },
        "id": "cmrxa8Jev5iI",
        "outputId": "1c11a3eb-3d4b-4956-c16f-4a4b8264bff4"
      },
      "outputs": [
        {
          "output_type": "stream",
          "name": "stdout",
          "text": [
            "sample X_train_numberised:  [25479, 38342, 27256, 1014, 1751, 37620, 1329, 30623, 36111, 28223, 21496, 7055, 15973, 17061, 38641, 4518, 9458, 38791, 149]\n",
            "sample y_train_numberised:  [6, 10, 1, 6, 14, 1, 1, 6, 3, 10, 6, 6, 14, 9, 10, 8, 1, 14, 12]\n",
            "Number of numberized sentences: 1504\n",
            "Number of unknown words: 0\n"
          ]
        }
      ],
      "source": [
        "X_test, y_test = transform(test_sentences)"
      ]
    },
    {
      "cell_type": "markdown",
      "metadata": {
        "id": "-EmZTkXGv-Ye"
      },
      "source": [
        "See a padded numberized sample:"
      ]
    },
    {
      "cell_type": "code",
      "execution_count": 69,
      "metadata": {
        "colab": {
          "base_uri": "https://localhost:8080/"
        },
        "id": "caLnlAJlv8bu",
        "outputId": "71bad05a-80f4-4425-c66a-b5967259b17c"
      },
      "outputs": [
        {
          "output_type": "execute_result",
          "data": {
            "text/plain": [
              "array([23704, 32831, 11566, 23863, 35061, 19678,   149,     0,     0,\n",
              "           0,     0,     0,     0,     0,     0,     0,     0,     0,\n",
              "           0,     0,     0,     0,     0,     0,     0,     0,     0,\n",
              "           0,     0,     0,     0,     0,     0,     0,     0,     0,\n",
              "           0,     0,     0,     0,     0,     0,     0,     0,     0,\n",
              "           0,     0,     0,     0,     0,     0,     0,     0,     0,\n",
              "           0,     0,     0,     0,     0,     0,     0,     0,     0,\n",
              "           0,     0,     0,     0,     0,     0,     0], dtype=int32)"
            ]
          },
          "metadata": {},
          "execution_count": 69
        }
      ],
      "source": [
        "X_train[0]"
      ]
    },
    {
      "cell_type": "code",
      "execution_count": 70,
      "metadata": {
        "colab": {
          "base_uri": "https://localhost:8080/"
        },
        "id": "ivimp-8qv_4h",
        "outputId": "c5f5984e-07a3-430b-8445-deaa756eccbd"
      },
      "outputs": [
        {
          "output_type": "execute_result",
          "data": {
            "text/plain": [
              "array([[0., 0., 0., ..., 0., 0., 0.],\n",
              "       [0., 0., 0., ..., 0., 0., 0.],\n",
              "       [0., 0., 0., ..., 0., 0., 0.],\n",
              "       ...,\n",
              "       [1., 0., 0., ..., 0., 0., 0.],\n",
              "       [1., 0., 0., ..., 0., 0., 0.],\n",
              "       [1., 0., 0., ..., 0., 0., 0.]], dtype=float32)"
            ]
          },
          "metadata": {},
          "execution_count": 70
        }
      ],
      "source": [
        "y_train[0]"
      ]
    },
    {
      "cell_type": "code",
      "execution_count": 71,
      "metadata": {
        "colab": {
          "base_uri": "https://localhost:8080/"
        },
        "id": "Mjn5UvOQwB9I",
        "outputId": "c0131051-1ec5-4465-814c-39ba83730cdb"
      },
      "outputs": [
        {
          "output_type": "stream",
          "name": "stdout",
          "text": [
            "Training samples have shape (13024, 70) and training labels (13024, 70, 15)\n",
            "Testing samples have shape (1504, 70) and testing labels (1504, 70, 15)\n",
            "Word vectors have shape (39716, 300)\n"
          ]
        }
      ],
      "source": [
        "print('Training samples have shape {} and training labels {}'.format(X_train.shape,y_train.shape))\n",
        "print('Testing samples have shape {} and testing labels {}'.format(X_test.shape,y_test.shape))\n",
        "#print('Validation samples have shape {} and validation labels {}'.format(X_val.shape,y_val.shape))\n",
        "print('Word vectors have shape', embedding_matrix.shape)"
      ]
    },
    {
      "cell_type": "markdown",
      "metadata": {
        "id": "manqNO97wUDE"
      },
      "source": [
        "##=========================================================================================="
      ]
    },
    {
      "cell_type": "markdown",
      "metadata": {
        "id": "SbW_5hnvweZU"
      },
      "source": [
        "##1. CNN with pre-trained word embeddings"
      ]
    },
    {
      "cell_type": "code",
      "execution_count": 72,
      "metadata": {
        "id": "tL8dIOd8wD3Y"
      },
      "outputs": [],
      "source": [
        " def accuracy_masked_class(to_ignore=0):\n",
        "    def accuracy_masked(y_true, y_pred):\n",
        "        y_true_class = K.argmax(y_true, axis=-1)\n",
        "        y_pred_class = K.argmax(y_pred, axis=-1)\n",
        " \n",
        "        ignore_mask = K.cast(K.not_equal(y_true_class, to_ignore), 'int32')\n",
        "        matches = K.cast(K.equal(y_true_class, y_pred_class), 'int32') * ignore_mask\n",
        "        accuracy = K.sum(matches) / K.maximum(K.sum(ignore_mask), 1)\n",
        "        return accuracy\n",
        "    return accuracy_masked"
      ]
    },
    {
      "cell_type": "code",
      "execution_count": 73,
      "metadata": {
        "id": "_wgu-bXhwjsi"
      },
      "outputs": [],
      "source": [
        "def define_model(length, filters, vocab_size):\n",
        "    seed = 0\n",
        "    \n",
        "    np.random.seed(seed)\n",
        "    inputs = Input(shape=(length, ), dtype='int32')\n",
        "    np.random.seed(seed)\n",
        "    embedding = Embedding(input_dim=len(word2int),\n",
        "                  output_dim=EMBEDDING_DIM,\n",
        "                  weights=[embedding_matrix],\n",
        "                  input_length=length,\n",
        "                  trainable=True,\n",
        "                  mask_zero=False\n",
        "                 )(inputs)\n",
        "    \n",
        " \n",
        "    # channel 1\n",
        "    np.random.seed(seed)\n",
        "    channel_1 = Conv1D(filters=filters, kernel_size=2, padding='same')(embedding)\n",
        "    #np.random.seed(seed)\n",
        "    #channel_1 = add([embedding, channel_1])\n",
        "    np.random.seed(seed)\n",
        "    channel_1_2 = Conv1D(filters=filters, kernel_size=2, padding='same')(channel_1)\n",
        "    #channel_1_3 = Conv1D(filters=filters, kernel_size=2, padding='same')(channel_1_2)\n",
        "    np.random.seed(seed)\n",
        "    channel_1 = add([channel_1, channel_1_2])\n",
        "    np.random.seed(seed)\n",
        "    channel_1 = Dropout(0.5)(channel_1) \n",
        "\n",
        "    # channel 2\n",
        "    np.random.seed(seed)\n",
        "    channel_2 = Conv1D(filters=filters, kernel_size=3, padding='same')(embedding)\n",
        "    np.random.seed(seed)\n",
        "    #channel_2 = add([embedding, channel_2])\n",
        "    #np.random.seed(seed)\n",
        "    channel_2_2 = Conv1D(filters=filters, kernel_size=3, padding='same')(channel_2)\n",
        "    #channel_2_3 = Conv1D(filters=filters, kernel_size=3, padding='same')(channel_2_2)\n",
        "    np.random.seed(seed)\n",
        "    channel_2 = add([channel_2, channel_2_2])\n",
        "    np.random.seed(seed)\n",
        "    channel_2 = Dropout(0.5)(channel_2)  \n",
        "\n",
        "    # channel 3\n",
        "    np.random.seed(seed)\n",
        "    channel_3 = Conv1D(filters=filters, kernel_size=4, padding='same')(embedding)\n",
        "    np.random.seed(seed)\n",
        "    #channel_3 = add([embedding, channel_3])\n",
        "    #np.random.seed(seed)\n",
        "    channel_3_2 = Conv1D(filters=filters, kernel_size=4, padding='same')(channel_3)\n",
        "    #channe_3_3 = Conv1D(filters=filters, kernel_size=4, padding='same')(channel_3_2)\n",
        "    np.random.seed(seed)\n",
        "    channel_3 = add([channel_3, channel_3_2])\n",
        "    np.random.seed(seed)\n",
        "    channel_3 = Dropout(0.5)(channel_3) \n",
        "\n",
        "    np.random.seed(seed)    \n",
        "    merged = concatenate([channel_1, channel_2, channel_3])\n",
        "    np.random.seed(seed)    \n",
        "    #merged = Dropout(0.2)(merged)\n",
        "    \n",
        "    np.random.seed(seed)\n",
        "    output = Dense(n_tags, activation='softmax')(merged)  # softmax output layer   \n",
        "    np.random.seed(seed)\n",
        "    model = Model(inputs=inputs, outputs=output)\n",
        "    np.random.seed(seed)\n",
        "    model.compile(optimizer='adam', loss='categorical_crossentropy', metrics=['accuracy', accuracy_masked_class(0)])\n",
        "    print(model.summary())\n",
        "    return model"
      ]
    },
    {
      "cell_type": "code",
      "execution_count": 74,
      "metadata": {
        "colab": {
          "base_uri": "https://localhost:8080/"
        },
        "id": "a6K2JZzPwmU-",
        "outputId": "83612cee-f98d-4846-bfdc-e9204398374e"
      },
      "outputs": [
        {
          "output_type": "stream",
          "name": "stdout",
          "text": [
            "Model: \"model\"\n",
            "__________________________________________________________________________________________________\n",
            " Layer (type)                   Output Shape         Param #     Connected to                     \n",
            "==================================================================================================\n",
            " input_1 (InputLayer)           [(None, 70)]         0           []                               \n",
            "                                                                                                  \n",
            " embedding (Embedding)          (None, 70, 300)      11914800    ['input_1[0][0]']                \n",
            "                                                                                                  \n",
            " conv1d (Conv1D)                (None, 70, 100)      60100       ['embedding[0][0]']              \n",
            "                                                                                                  \n",
            " conv1d_2 (Conv1D)              (None, 70, 100)      90100       ['embedding[0][0]']              \n",
            "                                                                                                  \n",
            " conv1d_4 (Conv1D)              (None, 70, 100)      120100      ['embedding[0][0]']              \n",
            "                                                                                                  \n",
            " conv1d_1 (Conv1D)              (None, 70, 100)      20100       ['conv1d[0][0]']                 \n",
            "                                                                                                  \n",
            " conv1d_3 (Conv1D)              (None, 70, 100)      30100       ['conv1d_2[0][0]']               \n",
            "                                                                                                  \n",
            " conv1d_5 (Conv1D)              (None, 70, 100)      40100       ['conv1d_4[0][0]']               \n",
            "                                                                                                  \n",
            " add (Add)                      (None, 70, 100)      0           ['conv1d[0][0]',                 \n",
            "                                                                  'conv1d_1[0][0]']               \n",
            "                                                                                                  \n",
            " add_1 (Add)                    (None, 70, 100)      0           ['conv1d_2[0][0]',               \n",
            "                                                                  'conv1d_3[0][0]']               \n",
            "                                                                                                  \n",
            " add_2 (Add)                    (None, 70, 100)      0           ['conv1d_4[0][0]',               \n",
            "                                                                  'conv1d_5[0][0]']               \n",
            "                                                                                                  \n",
            " dropout (Dropout)              (None, 70, 100)      0           ['add[0][0]']                    \n",
            "                                                                                                  \n",
            " dropout_1 (Dropout)            (None, 70, 100)      0           ['add_1[0][0]']                  \n",
            "                                                                                                  \n",
            " dropout_2 (Dropout)            (None, 70, 100)      0           ['add_2[0][0]']                  \n",
            "                                                                                                  \n",
            " concatenate (Concatenate)      (None, 70, 300)      0           ['dropout[0][0]',                \n",
            "                                                                  'dropout_1[0][0]',              \n",
            "                                                                  'dropout_2[0][0]']              \n",
            "                                                                                                  \n",
            " dense (Dense)                  (None, 70, 15)       4515        ['concatenate[0][0]']            \n",
            "                                                                                                  \n",
            "==================================================================================================\n",
            "Total params: 12,279,915\n",
            "Trainable params: 12,279,915\n",
            "Non-trainable params: 0\n",
            "__________________________________________________________________________________________________\n",
            "None\n"
          ]
        }
      ],
      "source": [
        "model = define_model(length=MAX_SEQUENCE_LENGTH, filters=100, vocab_size=len(word2int))"
      ]
    },
    {
      "cell_type": "code",
      "execution_count": 75,
      "metadata": {
        "colab": {
          "base_uri": "https://localhost:8080/",
          "height": 865
        },
        "id": "0yyow3mKwobu",
        "outputId": "6afab604-59b2-4ec4-ce3c-48683d96380b"
      },
      "outputs": [
        {
          "output_type": "execute_result",
          "data": {
            "image/png": "[encoded data removed]",
            "text/plain": [
              "<IPython.core.display.Image object>"
            ]
          },
          "metadata": {},
          "execution_count": 75
        }
      ],
      "source": [
        "plot_model(model, to_file='model.png', show_shapes=True)\n",
        "Image('model.png')"
      ]
    },
    {
      "cell_type": "code",
      "execution_count": 76,
      "metadata": {
        "colab": {
          "base_uri": "https://localhost:8080/"
        },
        "id": "zjeNZFSewq8O",
        "outputId": "6e319fd1-ac95-4784-d05b-0dece4a6c4a6"
      },
      "outputs": [
        {
          "output_type": "stream",
          "name": "stdout",
          "text": [
            "Epoch 1/10\n",
            "406/407 [============================>.] - ETA: 0s - loss: 0.2018 - accuracy: 0.9367 - accuracy_masked: 0.6956\n",
            "Epoch 1: val_accuracy_masked improved from -inf to 0.84124, saving model to cnn_w2v_tagger.h5\n",
            "407/407 [==============================] - 57s 102ms/step - loss: 0.2016 - accuracy: 0.9367 - accuracy_masked: 0.6960 - val_loss: 0.1021 - val_accuracy: 0.9682 - val_accuracy_masked: 0.8412\n",
            "Epoch 2/10\n",
            "407/407 [==============================] - ETA: 0s - loss: 0.0573 - accuracy: 0.9825 - accuracy_masked: 0.9132\n",
            "Epoch 2: val_accuracy_masked improved from 0.84124 to 0.86542, saving model to cnn_w2v_tagger.h5\n",
            "407/407 [==============================] - 10s 23ms/step - loss: 0.0573 - accuracy: 0.9825 - accuracy_masked: 0.9132 - val_loss: 0.0920 - val_accuracy: 0.9731 - val_accuracy_masked: 0.8654\n",
            "Epoch 3/10\n",
            "405/407 [============================>.] - ETA: 0s - loss: 0.0249 - accuracy: 0.9924 - accuracy_masked: 0.9622\n",
            "Epoch 3: val_accuracy_masked did not improve from 0.86542\n",
            "407/407 [==============================] - 5s 13ms/step - loss: 0.0249 - accuracy: 0.9924 - accuracy_masked: 0.9622 - val_loss: 0.1052 - val_accuracy: 0.9730 - val_accuracy_masked: 0.8644\n",
            "Epoch 4/10\n",
            "404/407 [============================>.] - ETA: 0s - loss: 0.0138 - accuracy: 0.9957 - accuracy_masked: 0.9788\n",
            "Epoch 4: val_accuracy_masked did not improve from 0.86542\n",
            "407/407 [==============================] - 5s 12ms/step - loss: 0.0138 - accuracy: 0.9957 - accuracy_masked: 0.9788 - val_loss: 0.1211 - val_accuracy: 0.9722 - val_accuracy_masked: 0.8615\n",
            "Epoch 5/10\n",
            "405/407 [============================>.] - ETA: 0s - loss: 0.0086 - accuracy: 0.9974 - accuracy_masked: 0.9869\n",
            "Epoch 5: val_accuracy_masked did not improve from 0.86542\n",
            "407/407 [==============================] - 6s 15ms/step - loss: 0.0086 - accuracy: 0.9974 - accuracy_masked: 0.9869 - val_loss: 0.1369 - val_accuracy: 0.9721 - val_accuracy_masked: 0.8606\n",
            "Epoch 6/10\n",
            "405/407 [============================>.] - ETA: 0s - loss: 0.0057 - accuracy: 0.9983 - accuracy_masked: 0.9919\n",
            "Epoch 6: val_accuracy_masked did not improve from 0.86542\n",
            "407/407 [==============================] - 5s 12ms/step - loss: 0.0057 - accuracy: 0.9983 - accuracy_masked: 0.9919 - val_loss: 0.1489 - val_accuracy: 0.9719 - val_accuracy_masked: 0.8600\n",
            "Training completed in 87.603057 seconds\n"
          ]
        }
      ],
      "source": [
        "seed = 0\n",
        "np.random.seed(seed)\n",
        "t_ini = datetime.datetime.now()\n",
        "\n",
        "cp = ModelCheckpoint(filepath=\"cnn_w2v_tagger.h5\",\n",
        "                     monitor='val_accuracy_masked',\n",
        "                     save_best_only=True,\n",
        "                     verbose=1)\n",
        "\n",
        "early_stopping = EarlyStopping(monitor = 'val_accuracy_masked', patience = 5)\n",
        "\n",
        "\n",
        "history = model.fit(X_train, y_train,\n",
        "                    epochs=EPOCHS,\n",
        "                    batch_size=BATCH_SIZE,\n",
        "                    shuffle=True,          \n",
        "                    validation_data=(X_test, y_test),\n",
        "                    verbose=1,\n",
        "                    callbacks=[cp, early_stopping])\n",
        "\n",
        "t_fin = datetime.datetime.now()\n",
        "print('Training completed in {} seconds'.format((t_fin - t_ini).total_seconds()))"
      ]
    },
    {
      "cell_type": "code",
      "execution_count": 78,
      "metadata": {
        "id": "n5IxH2gowtdx"
      },
      "outputs": [],
      "source": [
        "from keras.models import load_model\n",
        "model = load_model('cnn_w2v_tagger.h5', custom_objects={'accuracy_masked': accuracy_masked_class()})"
      ]
    },
    {
      "cell_type": "code",
      "execution_count": 79,
      "metadata": {
        "colab": {
          "base_uri": "https://localhost:8080/"
        },
        "id": "SxXE9wyAzx6p",
        "outputId": "f4f0cb35-a0d8-4016-d714-cc0ca8c3d5df"
      },
      "outputs": [
        {
          "output_type": "stream",
          "name": "stdout",
          "text": [
            "47/47 [==============================] - 0s 3ms/step\n"
          ]
        }
      ],
      "source": [
        "y_pred = model.predict(X_test, verbose=1).argmax(-1)\n",
        "y_true = y_test.argmax(-1)"
      ]
    },
    {
      "cell_type": "code",
      "execution_count": 80,
      "metadata": {
        "colab": {
          "base_uri": "https://localhost:8080/"
        },
        "id": "A-bokPU3zz0L",
        "outputId": "ef0fbe5e-e21a-454a-a91d-a7aa252a6698"
      },
      "outputs": [
        {
          "output_type": "execute_result",
          "data": {
            "text/plain": [
              "array([11, 10,  1,  6, 14,  1,  1,  6,  3, 10,  6,  6, 14,  9, 10,  8,  6,\n",
              "       14, 12,  0,  0,  0,  0,  0,  0,  0,  0,  0,  0,  0,  0,  0,  0,  0,\n",
              "        0,  0,  0,  0,  0,  0,  0,  0,  0,  0,  0,  0,  0,  0,  0,  0,  0,\n",
              "        0,  0,  0,  0,  0,  0,  0,  0,  0,  0,  0,  0,  0,  0,  0,  0,  0,\n",
              "        0,  0])"
            ]
          },
          "metadata": {},
          "execution_count": 80
        }
      ],
      "source": [
        "y_pred[0]"
      ]
    },
    {
      "cell_type": "code",
      "execution_count": 81,
      "metadata": {
        "colab": {
          "base_uri": "https://localhost:8080/"
        },
        "id": "NWH-5eVTz1Tr",
        "outputId": "2a5617c4-e7d5-4a42-92db-401b9ac4648d"
      },
      "outputs": [
        {
          "output_type": "execute_result",
          "data": {
            "text/plain": [
              "array([ 6, 10,  1,  6, 14,  1,  1,  6,  3, 10,  6,  6, 14,  9, 10,  8,  1,\n",
              "       14, 12,  0,  0,  0,  0,  0,  0,  0,  0,  0,  0,  0,  0,  0,  0,  0,\n",
              "        0,  0,  0,  0,  0,  0,  0,  0,  0,  0,  0,  0,  0,  0,  0,  0,  0,\n",
              "        0,  0,  0,  0,  0,  0,  0,  0,  0,  0,  0,  0,  0,  0,  0,  0,  0,\n",
              "        0,  0])"
            ]
          },
          "metadata": {},
          "execution_count": 81
        }
      ],
      "source": [
        "y_true[0]"
      ]
    },
    {
      "cell_type": "code",
      "execution_count": 82,
      "metadata": {
        "id": "ZIXOuKgkz3Ac"
      },
      "outputs": [],
      "source": [
        "# Function to convert label ids to labels and use them for sklearn's reports\n",
        "def y2label(zipped, mask=0):\n",
        "    out_true = []\n",
        "    out_pred = []\n",
        "    for zip_i in zipped:\n",
        "        a, b = tuple(zip_i)\n",
        "        if a != mask: #Exclude -PAD- term\n",
        "            out_true.append(int2tag[a])\n",
        "            out_pred.append(int2tag[b])\n",
        "    return out_true, out_pred"
      ]
    },
    {
      "cell_type": "code",
      "execution_count": 83,
      "metadata": {
        "id": "GHlV7VV4z-ER"
      },
      "outputs": [],
      "source": [
        "y_zipped = zip(y_true.flat, y_pred.flat)\n",
        "y_true, y_pred = y2label(y_zipped)"
      ]
    },
    {
      "cell_type": "code",
      "execution_count": 84,
      "metadata": {
        "colab": {
          "base_uri": "https://localhost:8080/"
        },
        "id": "fHGL86Hez_jV",
        "outputId": "0c352c12-f21f-48c1-f953-95fa857ca07f"
      },
      "outputs": [
        {
          "output_type": "execute_result",
          "data": {
            "text/plain": [
              "(21436, 21436)"
            ]
          },
          "metadata": {},
          "execution_count": 84
        }
      ],
      "source": [
        "len(y_true), len(y_pred)"
      ]
    },
    {
      "cell_type": "code",
      "execution_count": 85,
      "metadata": {
        "colab": {
          "base_uri": "https://localhost:8080/"
        },
        "id": "uce76zWS0A6f",
        "outputId": "68b5833b-ba7f-4a7d-bf6f-1b65d8f89cf5"
      },
      "outputs": [
        {
          "output_type": "stream",
          "name": "stdout",
          "text": [
            "\n",
            "--------- Result of CNN-Word embeddings model -------\n",
            "\n",
            "              precision    recall  f1-score   support\n",
            "\n",
            "       -PAD-     0.0000    0.0000    0.0000         0\n",
            "         ADJ     0.8227    0.7810    0.8013      1776\n",
            "         ADP     0.3750    0.2143    0.2727        14\n",
            "         ADV     0.6724    0.5977    0.6329       261\n",
            "         AUX     0.8810    0.8967    0.8888       900\n",
            "         DET     0.9061    0.8841    0.8950       371\n",
            "        NOUN     0.8372    0.8828    0.8594      6401\n",
            "         NST     0.8287    0.7468    0.7856       395\n",
            "         NUM     0.9372    0.8734    0.9042       632\n",
            "        PART     0.8165    0.6544    0.7265       136\n",
            "        PRON     0.9081    0.9171    0.9126      1617\n",
            "       PROPN     0.7196    0.6559    0.6863      2011\n",
            "       PUNCT     0.9980    0.9894    0.9937      3103\n",
            "       SCONJ     0.9627    0.9539    0.9583       867\n",
            "        VERB     0.8723    0.8933    0.8827      2952\n",
            "\n",
            "    accuracy                         0.8679     21436\n",
            "   macro avg     0.7692    0.7294    0.7467     21436\n",
            "weighted avg     0.8669    0.8679    0.8668     21436\n",
            "\n"
          ]
        }
      ],
      "source": [
        "name='CNN-Word embeddings model'\n",
        "print('\\n--------- Result of {} -------\\n'.format(name))\n",
        "print(classification_report(y_true, y_pred, digits=4))"
      ]
    },
    {
      "cell_type": "code",
      "execution_count": 86,
      "metadata": {
        "colab": {
          "base_uri": "https://localhost:8080/"
        },
        "id": "_Sslz7_I0CwU",
        "outputId": "6a841d7a-7bd5-434f-b89b-22225317fd40"
      },
      "outputs": [
        {
          "output_type": "stream",
          "name": "stdout",
          "text": [
            "Accuracy: 0.8679\n",
            "f1-macro score: 0.7467\n"
          ]
        }
      ],
      "source": [
        "print(\"Accuracy: {0:.4f}\".format(accuracy_score(y_true, y_pred)))\n",
        "print('f1-macro score: {0:.4f}'.format(f1_score(y_true, y_pred, average='macro')))"
      ]
    },
    {
      "cell_type": "code",
      "execution_count": 87,
      "metadata": {
        "colab": {
          "base_uri": "https://localhost:8080/",
          "height": 651
        },
        "id": "EKQEmcRM0Gbp",
        "outputId": "43feef49-6f37-4b35-98ce-3b6b61445079"
      },
      "outputs": [
        {
          "output_type": "display_data",
          "data": {
            "text/plain": [
              "<Figure size 1000x600 with 2 Axes>"
            ],
            "image/png": "[encoded data removed]"
          },
          "metadata": {}
        }
      ],
      "source": [
        "cnf_matrix = confusion_matrix(y_true, y_pred)\n",
        "plot_confusion_matrix(f1_score(y_true, y_pred, average='macro'), cnf_matrix, target_names=test_tags, title=name, normalize=False)"
      ]
    },
    {
      "cell_type": "code",
      "execution_count": 88,
      "metadata": {
        "colab": {
          "base_uri": "https://localhost:8080/"
        },
        "id": "BKBGSvaf0KU9",
        "outputId": "346fd704-cb1f-4ae7-9a0e-eff1cacfa6c6"
      },
      "outputs": [
        {
          "output_type": "stream",
          "name": "stdout",
          "text": [
            "47/47 [==============================] - 0s 3ms/step\n"
          ]
        }
      ],
      "source": [
        "y_pred = model.predict(X_test).argmax(-1)\n",
        "y_true = y_test.argmax(-1)\n",
        "\n",
        "def make_prediction(i=10):\n",
        "    note = ''\n",
        "    sent = []\n",
        "    print(\"{:15} ({:5}): {}\".format(\"Word\", \"True\", \"Predicted\"))\n",
        "    print(35*'-')\n",
        "    for w, true, pred in zip(X_test[i], y_true[i], y_pred[i]):\n",
        "        if w!=0:\n",
        "            if int2tag[true] != int2tag[pred]: note='<<--- Error!'\n",
        "            print(\"{:15} ({:5}): {:5} {:5}\".format(int2word[w], int2tag[true], int2tag[pred], note))\n",
        "            note=''"
      ]
    },
    {
      "cell_type": "code",
      "execution_count": 89,
      "metadata": {
        "colab": {
          "base_uri": "https://localhost:8080/"
        },
        "id": "UDH235kn0NdD",
        "outputId": "76a16037-441c-432f-d92d-7bdfe2c26d67"
      },
      "outputs": [
        {
          "output_type": "stream",
          "name": "stdout",
          "text": [
            "Word            (True ): Predicted\n",
            "-----------------------------------\n",
            "ही              (PRON ): PRON       \n",
            "अल्कली          (NOUN ): NOUN       \n",
            "प्रक्रिया       (NOUN ): NOUN       \n",
            "त्याच्या        (PRON ): PRON       \n",
            "निक्सतामालीझेशन (NOUN ): NOUN       \n",
            "ह्या            (PRON ): PRON       \n",
            "नावापासून       (NOUN ): NOUN       \n",
            "उत्पन्न         (NOUN ): ADJ   <<--- Error!\n",
            "झालेल्या        (VERB ): VERB       \n",
            "नहुआत्ल         (NOUN ): NOUN       \n",
            "(               (PUNCT): PUNCT      \n",
            "अॅझ्टेक         (NOUN ): NOUN       \n",
            ")               (PUNCT): PUNCT      \n",
            "ह्या            (PRON ): PRON       \n",
            "नावाने          (NOUN ): NOUN       \n",
            "ओळखले           (VERB ): VERB       \n",
            "जाते            (AUX  ): AUX        \n",
            ".               (PUNCT): PUNCT      \n"
          ]
        }
      ],
      "source": [
        "make_prediction(i=1)"
      ]
    },
    {
      "cell_type": "markdown",
      "metadata": {
        "id": "0SHjNHex1Ylc"
      },
      "source": [
        "##tag new user input sentence"
      ]
    },
    {
      "cell_type": "code",
      "execution_count": 90,
      "metadata": {
        "id": "IrCl1eT80PhT"
      },
      "outputs": [],
      "source": [
        "sentence = nltk.word_tokenize('हा लेख पन्ना जिल्ह्याविषयी आहे. पन्ना शहराविषयीचा लेख येथे आहे. पन्ना जिल्हा भारतातील मध्य प्रदेश राज्यातील एक जिल्हा आहे.')"
      ]
    },
    {
      "cell_type": "code",
      "execution_count": 92,
      "metadata": {
        "colab": {
          "base_uri": "https://localhost:8080/"
        },
        "id": "Y4YMMkFF0cZX",
        "outputId": "9b748055-dc9c-420e-f8d8-408b48f7b5a5"
      },
      "outputs": [
        {
          "output_type": "stream",
          "name": "stdout",
          "text": [
            "The sentence is: ['हा', 'लेख', 'पन्ना', 'जिल्ह्याविषयी', 'आहे', '.', 'पन्ना', 'शहराविषयीचा', 'लेख', 'येथे', 'आहे', '.', 'पन्ना', 'जिल्हा', 'भारतातील', 'मध्य', 'प्रदेश', 'राज्यातील', 'एक', 'जिल्हा', 'आहे', '.']\n",
            "The tokenized sentence is: [38342, 30501, 1, 1, 3087, 149, 1, 1, 30501, 28627, 3087, 149, 1, 12222, 24901, 25680, 21800, 29220, 4518, 12222, 3087, 149]\n",
            "The padded tokenized sentence is: [[    0     0     0     0     0     0     0     0     0     0     0     0\n",
            "      0     0     0     0     0     0     0     0     0     0     0     0\n",
            "      0     0     0     0     0     0     0     0     0     0     0     0\n",
            "      0     0     0     0     0     0     0     0     0     0     0     0\n",
            "  38342 30501     1     1  3087   149     1     1 30501 28627  3087   149\n",
            "      1 12222 24901 25680 21800 29220  4518 12222  3087   149]]\n",
            "There are 5 unknown words in sentence: ['पन्ना', 'जिल्ह्याविषयी', 'पन्ना', 'शहराविषयीचा', 'पन्ना']\n"
          ]
        }
      ],
      "source": [
        "tokenized_sentence = []\n",
        "unk = []\n",
        "i=0\n",
        "for word in sentence:\n",
        "    if word in words:\n",
        "        tokenized_sentence.append(word2int[word])\n",
        "    else:\n",
        "        tokenized_sentence.append(word2int['-UNK-'])\n",
        "        i += 1\n",
        "        unk.append(word)\n",
        "\n",
        "#tokenized_sentence = [tokenized_sentence]\n",
        "padded_tokenized_sentence = pad_sequences([tokenized_sentence], maxlen=MAX_SEQUENCE_LENGTH)\n",
        "\n",
        "#print(\"{:15} ({:5}): {:5} {:5}\".format(int2word[w], int2tag[true], int2tag[pred], note))\n",
        "\n",
        "print('The sentence is:', sentence)\n",
        "print('The tokenized sentence is:', tokenized_sentence)\n",
        "print('The padded tokenized sentence is:', padded_tokenized_sentence)\n",
        "print(\"There are {:} unknown words in sentence: {:}\".format(i,(unk)))"
      ]
    },
    {
      "cell_type": "markdown",
      "metadata": {
        "id": "bgMYQsbI1d6E"
      },
      "source": [
        "##MAke predictions"
      ]
    },
    {
      "cell_type": "code",
      "execution_count": 93,
      "metadata": {
        "colab": {
          "base_uri": "https://localhost:8080/"
        },
        "id": "U8nuEZE00ePL",
        "outputId": "8d9e050b-0b8b-4314-f0d0-97e5cd3f0611"
      },
      "outputs": [
        {
          "output_type": "stream",
          "name": "stdout",
          "text": [
            "1/1 [==============================] - 0s 282ms/step\n",
            "\n",
            "Word in embedding layer  | Initial word   : Predicted POS-tag\n",
            "-------------------------------------------------------------\n",
            "हा                       | हा             : PRON \n",
            "लेख                      | लेख            : NOUN \n",
            "-UNK-                    | पन्ना          : NOUN \n",
            "-UNK-                    | जिल्ह्याविषयी  : NOUN \n",
            "आहे                      | आहे            : VERB \n",
            ".                        | .              : PUNCT\n",
            "-UNK-                    | पन्ना          : PROPN\n",
            "-UNK-                    | शहराविषयीचा    : ADJ  \n",
            "लेख                      | लेख            : NOUN \n",
            "येथे                     | येथे           : NST  \n",
            "आहे                      | आहे            : VERB \n",
            ".                        | .              : PUNCT\n",
            "-UNK-                    | पन्ना          : PROPN\n",
            "जिल्हा                   | जिल्हा         : NOUN \n",
            "भारतातील                 | भारतातील       : PROPN\n",
            "मध्य                     | मध्य           : ADJ  \n",
            "प्रदेश                   | प्रदेश         : PROPN\n",
            "राज्यातील                | राज्यातील      : NOUN \n",
            "एक                       | एक             : NUM  \n",
            "जिल्हा                   | जिल्हा         : NOUN \n",
            "आहे                      | आहे            : VERB \n",
            ".                        | .              : PUNCT\n"
          ]
        }
      ],
      "source": [
        "predictions = model.predict(padded_tokenized_sentence)\n",
        "\n",
        "print(\"\\n{:25}| {:15}: {:15}\".format(\"Word in embedding layer\", 'Initial word', \"Predicted POS-tag\"))\n",
        "print(61*'-')\n",
        "k = 0\n",
        "for i, pred in enumerate(predictions[0]):\n",
        "    try:\n",
        "        if padded_tokenized_sentence[0][i]!=0:\n",
        "            #print(i)\n",
        "            #print(int2word[padded_tokenized_sentence[0][i]], ' : ', int2tag[np.argmax(pred)])\n",
        "            print(\"{:25}| {:15}: {:5}\".format(int2word[padded_tokenized_sentence[0][i]], sentence[k], int2tag[np.argmax(pred)]))\n",
        "            k+=1\n",
        "    except:\n",
        "        pass"
      ]
    },
    {
      "cell_type": "markdown",
      "metadata": {
        "id": "LxXYGLUX0kxp"
      },
      "source": [
        "##Frequent types of mistakes"
      ]
    },
    {
      "cell_type": "code",
      "execution_count": 94,
      "metadata": {
        "id": "fsimdrCu0iPp"
      },
      "outputs": [],
      "source": [
        "def find_errors(X,y):\n",
        "    error_counter = collections.Counter()\n",
        "    support = 0\n",
        "    y_pred = model.predict(X).argmax(-1)\n",
        "    y_true = y_test.argmax(-1)\n",
        "    for i in range(X.shape[0]):\n",
        "        for w, true, pred in zip(X[i], y_true[i], y_pred[i]):\n",
        "            if w!=0:\n",
        "                support +=1\n",
        "                if true != pred:\n",
        "                    word = int2word[w]\n",
        "                    error_counter[word] += 1\n",
        "    return error_counter, support"
      ]
    },
    {
      "cell_type": "code",
      "execution_count": 95,
      "metadata": {
        "colab": {
          "base_uri": "https://localhost:8080/"
        },
        "id": "n29maYFg0nX4",
        "outputId": "2e1f28bb-89aa-4614-b9e9-4869538fc4fe"
      },
      "outputs": [
        {
          "output_type": "stream",
          "name": "stdout",
          "text": [
            "47/47 [==============================] - 0s 3ms/step\n",
            "Total errors/Total words: 2833/21437 | Accuracy: 0.8678\n",
            "\n",
            "Most common errors: [('असे', 34), ('आहे', 25), ('नाही', 25), ('अशी', 19), ('स्वत:च्या', 14), ('सुमारे', 13), ('डॉ.', 12), ('मराठी', 11), ('असा', 10), ('वाजता', 10), ('अशा', 9), ('तर', 9), ('येथे', 8), ('राष्ट्रीय', 8), ('श्री', 8), ('खाद्ये', 7), ('ते', 7), ('सौ', 7), ('उत्पन्न', 6), ('पेल्लाग्र', 6)]\n"
          ]
        }
      ],
      "source": [
        "errors, support = find_errors(X_test, y_test)\n",
        "print('Total errors/Total words: {}/{} | Accuracy: {:.4}\\n'.format(sum(errors.values()), support, 1-sum(errors.values())/support))\n",
        "print('Most common errors:', errors.most_common(20))"
      ]
    },
    {
      "cell_type": "code",
      "execution_count": 96,
      "metadata": {
        "colab": {
          "base_uri": "https://localhost:8080/",
          "height": 477
        },
        "id": "GoxZXPxL0oxO",
        "outputId": "30dccbf1-0523-4c8f-ab57-b3768d9b887f"
      },
      "outputs": [
        {
          "output_type": "display_data",
          "data": {
            "text/plain": [
              "<Figure size 640x480 with 1 Axes>"
            ],
            "image/png": "[encoded data removed]"
          },
          "metadata": {}
        }
      ],
      "source": [
        "plot_acc()"
      ]
    },
    {
      "cell_type": "code",
      "execution_count": 97,
      "metadata": {
        "colab": {
          "base_uri": "https://localhost:8080/",
          "height": 477
        },
        "id": "n6HlIsYa0qqM",
        "outputId": "637c7e1e-e43e-41f5-e099-ef81d41b625c"
      },
      "outputs": [
        {
          "output_type": "display_data",
          "data": {
            "text/plain": [
              "<Figure size 640x480 with 1 Axes>"
            ],
            "image/png": "[encoded data removed]"
          },
          "metadata": {}
        }
      ],
      "source": [
        "plot_loss()"
      ]
    },
    {
      "cell_type": "markdown",
      "metadata": {
        "id": "cmiD8UWWak05"
      },
      "source": [
        "##Making Wordnet definitions - dictionary"
      ]
    },
    {
      "cell_type": "code",
      "execution_count": 98,
      "metadata": {
        "id": "pew0t2Igdpsg"
      },
      "outputs": [],
      "source": [
        "import re"
      ]
    },
    {
      "cell_type": "code",
      "execution_count": 99,
      "metadata": {
        "id": "fToj59180sAo"
      },
      "outputs": [],
      "source": [
        "def deleteLeadingZeros(inputString):\n",
        "   # regex pattern for removing leading zeros from an input string\n",
        "   regexPattern = \"^0+(?!$)\"\n",
        "   # Replace the matched regex pattern with an empty string\n",
        "   outputString = re.sub(regexPattern, \"\", inputString)\n",
        "   # returning output string after removing leading 0s\n",
        "   return outputString"
      ]
    },
    {
      "cell_type": "code",
      "execution_count": 100,
      "metadata": {
        "id": "jBing2a_aznA"
      },
      "outputs": [],
      "source": [
        "# Initialize an empty dictionary\n",
        "dictionary = {}\n",
        "\n",
        "# Open the text file and read its contents line by line\n",
        "with open(\"/content/drive/MyDrive/MArathi_data/data.txt\", \"r\", encoding = 'utf-8') as f:\n",
        "    for line in f:\n",
        "        # Split the line into serial number and value\n",
        "        line = line.strip()  # Remove any leading/trailing whitespace\n",
        "        regexPattern = \"^0+(?!$)\"\n",
        "        line = re.sub(regexPattern, \"\", line)\n",
        "        serial_number, value = line.split(\" \", 1)\n",
        "        #serial_number = int(serial_number)  # Convert the serial number to an integer\n",
        "\n",
        "        # Add the key-value pair to the dictionary\n",
        "        dictionary[serial_number] = value"
      ]
    },
    {
      "cell_type": "code",
      "execution_count": 101,
      "metadata": {
        "id": "9LkIVf57d7es"
      },
      "outputs": [],
      "source": [
        "for n in dictionary.keys():\n",
        "    # Remove numbers from the line using regular expressions\n",
        "    line = dictionary.get(n)\n",
        "    cleaned_line = re.sub(r'\\d+', '', line)\n",
        "\n",
        "    # Remove unnecessary spaces from the line\n",
        "    cleaned_line = ' '.join(cleaned_line.strip().split())\n",
        "\n",
        "    # Add the cleaned line to the list of cleaned lines\n",
        "    dictionary.update({n:cleaned_line})"
      ]
    },
    {
      "cell_type": "code",
      "execution_count": 102,
      "metadata": {
        "colab": {
          "base_uri": "https://localhost:8080/"
        },
        "id": "0FZElt3Id758",
        "outputId": "7f0d09e5-d18c-4209-fd1d-09b03a8ad021"
      },
      "outputs": [
        {
          "output_type": "stream",
          "name": "stdout",
          "text": [
            "1 अजन्मा | ज्यास जन्म नाही असा:\"ईश्वर अजन्मा आहे\"\n",
            "2 अशुभ:अमंगळ | शुभ नाही असा:\"या योगामूळे कुंडलीतील इतर अशुभ योगांचा नाश होतो.\"\n",
            "3 अप्रविष्ट | ज्याने प्रवेश केला नाही असा:\"अप्रविष्ट व्यक्तींना ताबडतोब आत प्रवेश करू द्या.\"\n",
            "4 पुण्यभूमी:पवित्रभूमी:पुण्यस्थान:पवित्रस्थान:पावनस्थान | पवित्र मानले गेलेले स्थान:\"हिंदूंसाठी काशी ही पुण्यभूमी आहे.\"\n"
          ]
        }
      ],
      "source": [
        "count = 0\n",
        "for n in dictionary.keys():\n",
        "  count+=1\n",
        "  if count<5:\n",
        "    print(n, dictionary.get(n))\n",
        "  else:\n",
        "    break"
      ]
    },
    {
      "cell_type": "markdown",
      "metadata": {
        "id": "tNC_RYdJeWQr"
      },
      "source": [
        "##Synsets"
      ]
    },
    {
      "cell_type": "code",
      "execution_count": 103,
      "metadata": {
        "colab": {
          "base_uri": "https://localhost:8080/"
        },
        "id": "k1CmQocDeTXu",
        "outputId": "d3b1baa0-ad8b-4d28-f414-75128fcee56a"
      },
      "outputs": [
        {
          "output_type": "stream",
          "name": "stdout",
          "text": [
            "Looking in indexes: https://pypi.org/simple, https://us-python.pkg.dev/colab-wheels/public/simple/\n",
            "Collecting pyiwn\n",
            "  Downloading pyiwn-0.0.5-py3-none-any.whl (12 kB)\n",
            "Requirement already satisfied: pandas in /usr/local/lib/python3.9/dist-packages (from pyiwn) (1.4.4)\n",
            "Requirement already satisfied: requests in /usr/local/lib/python3.9/dist-packages (from pyiwn) (2.27.1)\n",
            "Requirement already satisfied: pytz>=2020.1 in /usr/local/lib/python3.9/dist-packages (from pandas->pyiwn) (2022.7.1)\n",
            "Requirement already satisfied: numpy>=1.18.5 in /usr/local/lib/python3.9/dist-packages (from pandas->pyiwn) (1.22.4)\n",
            "Requirement already satisfied: python-dateutil>=2.8.1 in /usr/local/lib/python3.9/dist-packages (from pandas->pyiwn) (2.8.2)\n",
            "Requirement already satisfied: urllib3<1.27,>=1.21.1 in /usr/local/lib/python3.9/dist-packages (from requests->pyiwn) (1.26.15)\n",
            "Requirement already satisfied: charset-normalizer~=2.0.0 in /usr/local/lib/python3.9/dist-packages (from requests->pyiwn) (2.0.12)\n",
            "Requirement already satisfied: certifi>=2017.4.17 in /usr/local/lib/python3.9/dist-packages (from requests->pyiwn) (2022.12.7)\n",
            "Requirement already satisfied: idna<4,>=2.5 in /usr/local/lib/python3.9/dist-packages (from requests->pyiwn) (3.4)\n",
            "Requirement already satisfied: six>=1.5 in /usr/local/lib/python3.9/dist-packages (from python-dateutil>=2.8.1->pandas->pyiwn) (1.16.0)\n",
            "Installing collected packages: pyiwn\n",
            "Successfully installed pyiwn-0.0.5\n"
          ]
        }
      ],
      "source": [
        "!pip install --upgrade pyiwn"
      ]
    },
    {
      "cell_type": "code",
      "execution_count": 104,
      "metadata": {
        "colab": {
          "base_uri": "https://localhost:8080/"
        },
        "id": "19sWIwSVfL61",
        "outputId": "0ba0ad4e-97b7-4d4c-8408-b819f9abdeea"
      },
      "outputs": [
        {
          "output_type": "stream",
          "name": "stdout",
          "text": [
            "[██████████████████████████████████████████████████]\n"
          ]
        }
      ],
      "source": [
        "import pyiwn"
      ]
    },
    {
      "cell_type": "markdown",
      "metadata": {
        "id": "R2JwvYL2fPzl"
      },
      "source": [
        "Marathi synset object creation"
      ]
    },
    {
      "cell_type": "code",
      "execution_count": 105,
      "metadata": {
        "id": "ddgy_YSFfNjS"
      },
      "outputs": [],
      "source": [
        "iwn = pyiwn.IndoWordNet(lang=pyiwn.Language.MARATHI)"
      ]
    },
    {
      "cell_type": "code",
      "execution_count": 106,
      "metadata": {
        "colab": {
          "base_uri": "https://localhost:8080/"
        },
        "id": "VCjrZb4MfRjn",
        "outputId": "bac3745c-61af-4a2c-90c8-f52528cb1e20"
      },
      "outputs": [
        {
          "output_type": "execute_result",
          "data": {
            "text/plain": [
              "['PosTag.NOUN', 'PosTag.VERB', 'PosTag.ADVERB', 'PosTag.ADJECTIVE']"
            ]
          },
          "metadata": {},
          "execution_count": 106
        }
      ],
      "source": [
        "list(map(str, pyiwn.PosTag))"
      ]
    },
    {
      "cell_type": "code",
      "execution_count": 108,
      "metadata": {
        "colab": {
          "base_uri": "https://localhost:8080/"
        },
        "id": "oZowbxuWfUqG",
        "outputId": "ba607e4b-a363-4f6c-fcca-b98fdc301cae"
      },
      "outputs": [
        {
          "output_type": "stream",
          "name": "stdout",
          "text": [
            "32200\n"
          ]
        }
      ],
      "source": [
        "synsets = iwn.all_synsets()\n",
        "print(len(synsets))"
      ]
    },
    {
      "cell_type": "code",
      "execution_count": 109,
      "metadata": {
        "id": "Zvs__XFzfl3e"
      },
      "outputs": [],
      "source": [
        "syn = synsets[:5]\n",
        "syn = str(synsets[:5])\n",
        "syn = list(syn.split(\",\"))"
      ]
    },
    {
      "cell_type": "code",
      "execution_count": 110,
      "metadata": {
        "id": "yXpI6jgdfWNR"
      },
      "outputs": [],
      "source": [
        "import string\n",
        "idx = []\n",
        "printable_chars = string.printable\n",
        "for line in syn:\n",
        "  cleaned_text = \"\".join([char for char in line if char in printable_chars and char not in string.whitespace])\n",
        "  n = re.findall('\\d+', cleaned_text)\n",
        "  idx.append(n)"
      ]
    },
    {
      "cell_type": "code",
      "execution_count": 111,
      "metadata": {
        "colab": {
          "base_uri": "https://localhost:8080/"
        },
        "id": "I9ZQCB9hfseV",
        "outputId": "730fe00e-5d13-4501-c972-ad85b3a71e7f"
      },
      "outputs": [
        {
          "output_type": "stream",
          "name": "stdout",
          "text": [
            "[['5'], ['1'], ['7'], ['2'], ['10']]\n"
          ]
        }
      ],
      "source": [
        "print(idx)"
      ]
    },
    {
      "cell_type": "markdown",
      "metadata": {
        "id": "F5vuVw0LfhZe"
      },
      "source": [
        "Lookup"
      ]
    },
    {
      "cell_type": "code",
      "execution_count": 112,
      "metadata": {
        "colab": {
          "base_uri": "https://localhost:8080/"
        },
        "id": "rt9hhckUfZGV",
        "outputId": "fe427e4d-de31-4e6a-bacb-bdee9ef49abb"
      },
      "outputs": [
        {
          "output_type": "stream",
          "name": "stdout",
          "text": [
            "['5'] शिवालय:शिवमंदिर | जिथे शंकराच्या पिंडीची स्थापना केली असून त्याची पूजा होते ती जागा:\"ती दर सोमवारी शिवालयात जाते.\"\n",
            "['1'] अजन्मा | ज्यास जन्म नाही असा:\"ईश्वर अजन्मा आहे\"\n",
            "['7'] आलेला:आगत | दाखल झालेला:\"आलेल्या पाहुण्यांचे स्वागत आहे.\"\n",
            "['2'] अशुभ:अमंगळ | शुभ नाही असा:\"या योगामूळे कुंडलीतील इतर अशुभ योगांचा नाश होतो.\"\n",
            "['10'] उत्पादित:उत्पन्न | ज्याची उत्पत्ति झाली आहे असा:\"आसाममध्ये उत्पादित चहा जगभर प्रसिद्ध आहे.\"\n"
          ]
        }
      ],
      "source": [
        "for n in idx:\n",
        "  print(n, dictionary.get(n[0]))"
      ]
    },
    {
      "cell_type": "markdown",
      "metadata": {
        "id": "k7InP70PhKDG"
      },
      "source": [
        "##FInal"
      ]
    },
    {
      "cell_type": "code",
      "execution_count": 141,
      "metadata": {
        "id": "nv7OcOO2fvw9",
        "colab": {
          "base_uri": "https://localhost:8080/"
        },
        "outputId": "c00355ed-f5d9-407f-cb30-bf4ea20eca26"
      },
      "outputs": [
        {
          "name": "stdout",
          "output_type": "stream",
          "text": [
            "दुकानात काही लोक काम करत असतात आणि कोपऱ्यात एक कुत्राही बसलेलं असते\n"
          ]
        }
      ],
      "source": [
        "sentence = nltk.word_tokenize(input())"
      ]
    },
    {
      "cell_type": "code",
      "execution_count": 160,
      "metadata": {
        "id": "Ik7QBeNehJdZ",
        "colab": {
          "base_uri": "https://localhost:8080/"
        },
        "outputId": "51a8edfc-8093-4ac9-834e-090de4618e04"
      },
      "outputs": [
        {
          "name": "stdout",
          "output_type": "stream",
          "text": [
            "लोक\n"
          ]
        }
      ],
      "source": [
        "key = input()"
      ]
    },
    {
      "cell_type": "code",
      "execution_count": 142,
      "metadata": {
        "id": "9KkhZ7dxhRjw",
        "colab": {
          "base_uri": "https://localhost:8080/"
        },
        "outputId": "7e1fd704-50d8-4bc7-fb10-e51778ecf1f2"
      },
      "outputs": [
        {
          "output_type": "stream",
          "name": "stdout",
          "text": [
            "The sentence is: ['दुकानात', 'काही', 'लोक', 'काम', 'करत', 'असतात', 'आणि', 'कोपऱ्यात', 'एक', 'कुत्राही', 'बसलेलं', 'असते']\n",
            "The tokenized sentence is: [16046, 6675, 30568, 6172, 5519, 1729, 2318, 7693, 4518, 1, 1, 1735]\n",
            "The padded tokenized sentence is: [[    0     0     0     0     0     0     0     0     0     0     0     0\n",
            "      0     0     0     0     0     0     0     0     0     0     0     0\n",
            "      0     0     0     0     0     0     0     0     0     0     0     0\n",
            "      0     0     0     0     0     0     0     0     0     0     0     0\n",
            "      0     0     0     0     0     0     0     0     0     0 16046  6675\n",
            "  30568  6172  5519  1729  2318  7693  4518     1     1  1735]]\n",
            "There are 2 unknown words in sentence: ['कुत्राही', 'बसलेलं']\n"
          ]
        }
      ],
      "source": [
        "tokenized_sentence = []\n",
        "unk = []\n",
        "i=0\n",
        "for word in sentence:\n",
        "    if word in words:\n",
        "        tokenized_sentence.append(word2int[word])\n",
        "    else:\n",
        "        tokenized_sentence.append(word2int['-UNK-'])\n",
        "        i += 1\n",
        "        unk.append(word)\n",
        "\n",
        "#tokenized_sentence = [tokenized_sentence]\n",
        "padded_tokenized_sentence = pad_sequences([tokenized_sentence], maxlen=MAX_SEQUENCE_LENGTH)\n",
        "\n",
        "#print(\"{:15} ({:5}): {:5} {:5}\".format(int2word[w], int2tag[true], int2tag[pred], note))\n",
        "\n",
        "print('The sentence is:', sentence)\n",
        "print('The tokenized sentence is:', tokenized_sentence)\n",
        "print('The padded tokenized sentence is:', padded_tokenized_sentence)\n",
        "print(\"There are {:} unknown words in sentence: {:}\".format(i,(unk)))"
      ]
    },
    {
      "cell_type": "code",
      "execution_count": 143,
      "metadata": {
        "id": "Yr-VdSMvhpso",
        "colab": {
          "base_uri": "https://localhost:8080/"
        },
        "outputId": "6b363b17-bdbe-4707-fe2d-73affebd769b"
      },
      "outputs": [
        {
          "output_type": "stream",
          "name": "stdout",
          "text": [
            "1/1 [==============================] - 0s 22ms/step\n",
            "\n",
            "Word in embedding layer  | Initial word   : Predicted POS-tag\n",
            "-------------------------------------------------------------\n",
            "दुकानात                  | दुकानात        : NOUN \n",
            "काही                     | काही           : DET  \n",
            "लोक                      | लोक            : NOUN \n",
            "काम                      | काम            : NOUN \n",
            "करत                      | करत            : VERB \n",
            "असतात                    | असतात          : AUX  \n",
            "आणि                      | आणि            : SCONJ\n",
            "कोपऱ्यात                 | कोपऱ्यात       : NOUN \n",
            "एक                       | एक             : NUM  \n",
            "-UNK-                    | कुत्राही       : NOUN \n",
            "-UNK-                    | बसलेलं         : NOUN \n",
            "असते                     | असते           : VERB \n"
          ]
        }
      ],
      "source": [
        "predictions = model.predict(padded_tokenized_sentence)\n",
        "\n",
        "print(\"\\n{:25}| {:15}: {:15}\".format(\"Word in embedding layer\", 'Initial word', \"Predicted POS-tag\"))\n",
        "print(61*'-')\n",
        "k = 0\n",
        "for i, pred in enumerate(predictions[0]):\n",
        "    try:\n",
        "        if padded_tokenized_sentence[0][i]!=0:\n",
        "            #print(i)\n",
        "            #print(int2word[padded_tokenized_sentence[0][i]], ' : ', int2tag[np.argmax(pred)])\n",
        "            print(\"{:25}| {:15}: {:5}\".format(int2word[padded_tokenized_sentence[0][i]], sentence[k], int2tag[np.argmax(pred)]))\n",
        "            k+=1\n",
        "    except:\n",
        "        pass"
      ]
    },
    {
      "cell_type": "code",
      "execution_count": 161,
      "metadata": {
        "id": "_vkNcj1IhqZc",
        "colab": {
          "base_uri": "https://localhost:8080/"
        },
        "outputId": "ca0fbbc4-61d7-4d80-ce13-7384e3047162"
      },
      "outputs": [
        {
          "output_type": "stream",
          "name": "stdout",
          "text": [
            "3\n"
          ]
        }
      ],
      "source": [
        "wordid=0\n",
        "for w in sentence:\n",
        "  wordid+=1\n",
        "  if w == key:\n",
        "    print(wordid)\n",
        "    break\n",
        "  else:\n",
        "    continue"
      ]
    },
    {
      "cell_type": "code",
      "execution_count": 162,
      "metadata": {
        "id": "X2rGxzcpvend"
      },
      "outputs": [],
      "source": [
        "tags = []\n",
        "for tag in predictions[0]:\n",
        "  T=[]\n",
        "  T.append(int2tag[np.argmax(tag)])\n",
        "  for t in T:\n",
        "    if t != \"-PAD-\":\n",
        "      tags.append(t)\n",
        "    else:\n",
        "      continue"
      ]
    },
    {
      "cell_type": "code",
      "execution_count": 163,
      "metadata": {
        "id": "JDoNUQl1qcvz"
      },
      "outputs": [],
      "source": [
        "TAG = tags[wordid-1]"
      ]
    },
    {
      "cell_type": "code",
      "execution_count": 164,
      "metadata": {
        "id": "hiMcUzDI1ltX",
        "colab": {
          "base_uri": "https://localhost:8080/",
          "height": 36
        },
        "outputId": "8001726e-588c-4cbb-ab55-df353fb6ab83"
      },
      "outputs": [
        {
          "output_type": "execute_result",
          "data": {
            "text/plain": [
              "'NOUN'"
            ],
            "application/vnd.google.colaboratory.intrinsic+json": {
              "type": "string"
            }
          },
          "metadata": {},
          "execution_count": 164
        }
      ],
      "source": [
        "TAG"
      ]
    },
    {
      "cell_type": "code",
      "execution_count": 165,
      "metadata": {
        "id": "8uQWYV7jq37e"
      },
      "outputs": [],
      "source": [
        "def get_synsets(word, tag):\n",
        "  j = []\n",
        "  if tag == \"NOUN\":\n",
        "    j.append(str(iwn.synsets(word, pos=pyiwn.PosTag.NOUN)))\n",
        "    \n",
        "  elif tag == \"ADJECTIVE\":\n",
        "  #all_synsets = iwn.synsets(word, pos=pyiwn.PosTag.ADJECTIVE)\n",
        "    j.append(str(iwn.synsets(word, pos=pyiwn.PosTag.ADJECTIVE)))\n",
        "    \n",
        "  elif tag == \"ADVERB\":\n",
        "  #all_synsets = iwn.synsets(word, pos=pyiwn.PosTag.ADVERB)\n",
        "    j.append(str(iwn.synsets(word, pos=pyiwn.PosTag.ADVERB)))\n",
        "    \n",
        "  else:\n",
        "  #all_synsets = iwn.synsets(word, pos=pyiwn.PosTag.VERB)\n",
        "    j.append(str(iwn.synsets(word, pos=pyiwn.PosTag.VERB)))\n",
        "  \n",
        "\n",
        "\n",
        "  if len(j) == 0:\n",
        "      print(\"The list is empty.\")\n",
        "  else:\n",
        "      print(\"The list is not empty.\")\n",
        "\n",
        "\n",
        "  all_synsets=[]\n",
        "  for i in j:\n",
        "    #for k in i:\n",
        "    temp = i.split(\",\")\n",
        "    all_synsets.append(temp)\n",
        "  \n",
        "  return all_synsets"
      ]
    },
    {
      "cell_type": "markdown",
      "metadata": {
        "id": "dwKZwvc9rrt_"
      },
      "source": [
        "#Lookup"
      ]
    },
    {
      "cell_type": "code",
      "execution_count": 166,
      "metadata": {
        "id": "zMKCWcDHrtOl"
      },
      "outputs": [],
      "source": [
        "def get_index(synsets):\n",
        "  idx = []\n",
        "  \n",
        "  #index idendification for lookup\n",
        "  printable_chars = string.printable\n",
        "  \n",
        "  for line in synsets[0]:\n",
        "    cleaned_text = \"\".join([char for char in line if char in printable_chars and char not in string.whitespace])\n",
        "    n = re.findall('\\d+', cleaned_text)\n",
        "    idx.append(n)\n",
        "\n",
        "  #returning the calculated results\n",
        "  return idx"
      ]
    },
    {
      "cell_type": "markdown",
      "metadata": {
        "id": "hgJQ-4BKry6o"
      },
      "source": [
        "##get synsets"
      ]
    },
    {
      "cell_type": "code",
      "execution_count": 167,
      "metadata": {
        "id": "kk87TP09rya1",
        "colab": {
          "base_uri": "https://localhost:8080/"
        },
        "outputId": "d84d45e1-6a3a-4ca9-bfe6-49e3ffbf9f6d"
      },
      "outputs": [
        {
          "output_type": "stream",
          "name": "stdout",
          "text": [
            "The list is not empty.\n"
          ]
        }
      ],
      "source": [
        "synsets = get_synsets(key,TAG)"
      ]
    },
    {
      "cell_type": "code",
      "execution_count": 168,
      "metadata": {
        "id": "qPAVbxllr0aK",
        "colab": {
          "base_uri": "https://localhost:8080/"
        },
        "outputId": "bec2c56a-c3f3-4b32-d258-b21b552821bd"
      },
      "outputs": [
        {
          "output_type": "stream",
          "name": "stdout",
          "text": [
            "[[\"[Synset('लोक.noun.189')\", \" Synset('प्रजा.noun.1722')\", \" Synset('जग.noun.5461')\", \" Synset('वर्ग.noun.28474')]\"]]\n"
          ]
        }
      ],
      "source": [
        "print(synsets)"
      ]
    },
    {
      "cell_type": "code",
      "execution_count": 169,
      "metadata": {
        "id": "R9lTQr24r2We",
        "colab": {
          "base_uri": "https://localhost:8080/"
        },
        "outputId": "83fa1135-119f-4a66-eb74-28355b6317f0"
      },
      "outputs": [
        {
          "output_type": "stream",
          "name": "stdout",
          "text": [
            "[['189'], ['1722'], ['5461'], ['28474']]\n"
          ]
        }
      ],
      "source": [
        "idx = get_index(synsets)\n",
        "print(idx)"
      ]
    },
    {
      "cell_type": "markdown",
      "metadata": {
        "id": "2gEimexWsFku"
      },
      "source": [
        "##POS"
      ]
    },
    {
      "cell_type": "code",
      "execution_count": 170,
      "metadata": {
        "id": "ozIoCEIssIkb",
        "colab": {
          "base_uri": "https://localhost:8080/"
        },
        "outputId": "c8c99752-2499-40c1-b3ec-25631782ea11"
      },
      "outputs": [
        {
          "output_type": "stream",
          "name": "stdout",
          "text": [
            "1/1 [==============================] - 0s 20ms/step\n",
            "\n",
            "Word in embedding layer  | Initial word   : Predicted POS-tag\n",
            "-------------------------------------------------------------\n",
            "दुकानात                  | दुकानात        : NOUN \n",
            "काही                     | काही           : DET  \n",
            "लोक                      | लोक            : NOUN \n",
            "काम                      | काम            : NOUN \n",
            "करत                      | करत            : VERB \n",
            "असतात                    | असतात          : AUX  \n",
            "आणि                      | आणि            : SCONJ\n",
            "कोपऱ्यात                 | कोपऱ्यात       : NOUN \n",
            "एक                       | एक             : NUM  \n",
            "-UNK-                    | कुत्राही       : NOUN \n",
            "-UNK-                    | बसलेलं         : NOUN \n",
            "असते                     | असते           : VERB \n"
          ]
        }
      ],
      "source": [
        "predictions = model.predict(padded_tokenized_sentence)\n",
        "\n",
        "print(\"\\n{:25}| {:15}: {:15}\".format(\"Word in embedding layer\", 'Initial word', \"Predicted POS-tag\"))\n",
        "print(61*'-')\n",
        "k = 0\n",
        "for i, pred in enumerate(predictions[0]):\n",
        "    try:\n",
        "        if padded_tokenized_sentence[0][i]!=0:\n",
        "            #print(i)\n",
        "            #print(int2word[padded_tokenized_sentence[0][i]], ' : ', int2tag[np.argmax(pred)])\n",
        "            print(\"{:25}| {:15}: {:5}\".format(int2word[padded_tokenized_sentence[0][i]], sentence[k], int2tag[np.argmax(pred)]))\n",
        "            k+=1\n",
        "    except:\n",
        "        pass"
      ]
    },
    {
      "cell_type": "code",
      "execution_count": 171,
      "metadata": {
        "id": "j-W_xKSE2xjb",
        "colab": {
          "base_uri": "https://localhost:8080/"
        },
        "outputId": "982e7785-3240-4764-c80b-036d30090c06"
      },
      "outputs": [
        {
          "output_type": "execute_result",
          "data": {
            "text/plain": [
              "[['189'], ['1722'], ['5461'], ['28474']]"
            ]
          },
          "metadata": {},
          "execution_count": 171
        }
      ],
      "source": [
        "idx"
      ]
    },
    {
      "cell_type": "code",
      "source": [
        "ambiguity = iwn.synsets(key)"
      ],
      "metadata": {
        "id": "vRgK63zoomVL"
      },
      "execution_count": 172,
      "outputs": []
    },
    {
      "cell_type": "code",
      "source": [
        "ambiguity = str(ambiguity)\n"
      ],
      "metadata": {
        "id": "js61n2c3seQX"
      },
      "execution_count": 173,
      "outputs": []
    },
    {
      "cell_type": "code",
      "source": [
        "ambiguity = re.findall(r\"\\w+\\.(noun|verb|adverb|adjective)\\.\\d+\", ambiguity)\n",
        "\n",
        "# Remove duplicates from the list\n",
        "ambiguity = list(set(ambiguity))"
      ],
      "metadata": {
        "id": "IWkDDDTKuA7z"
      },
      "execution_count": 174,
      "outputs": []
    },
    {
      "cell_type": "code",
      "source": [
        "print(\"lets see if the key input in this sentence is ambiguous or not?\")\n",
        "if len(ambiguity) == 1:\n",
        "  print(\"the required key is not ambiguos but can have different ways of representation please run the next cell to know more\")\n",
        "  print()\n",
        "  print(ambiguity,\"only have one POS tag related to this key: \", key)\n",
        "else:\n",
        "  print(\"the quried key is ambiguos and can appear or show multiple meaning and ways of representations please run the next cell to know more\")\n",
        "  print()\n",
        "  print(ambiguity,\"as you can see the key has multiple POS tags related to it and can change the meaning of the entire sentence if not tagged correctly: \", key)"
      ],
      "metadata": {
        "colab": {
          "base_uri": "https://localhost:8080/"
        },
        "id": "NyawBCOSom42",
        "outputId": "e62c545c-7829-40b3-c94b-013c93b23e72"
      },
      "execution_count": 176,
      "outputs": [
        {
          "output_type": "stream",
          "name": "stdout",
          "text": [
            "lets see if the key input in this sentence is ambiguous or not?\n",
            "the quried key is ambiguos and can appear or show multiple meaning and ways of representations please run the next cell to know more\n",
            "\n",
            "['noun', 'adjective'] as you can see the key has multiple POS tags related to it and can change the meaning of the entire sentence if not tagged correctly:  लोक\n"
          ]
        }
      ]
    },
    {
      "cell_type": "code",
      "execution_count": 177,
      "metadata": {
        "id": "uGG9WWqrr4ZU",
        "colab": {
          "base_uri": "https://localhost:8080/"
        },
        "outputId": "75ff715b-026c-4a67-cc05-100998c38062"
      },
      "outputs": [
        {
          "output_type": "stream",
          "name": "stdout",
          "text": [
            "['दुकानात', 'काही', 'लोक', 'काम', 'करत', 'असतात', 'आणि', 'कोपऱ्यात', 'एक', 'कुत्राही', 'बसलेलं', 'असते']\n",
            "\n",
            "Related synsets =  \n",
            " [[\"[Synset('लोक.noun.189')\", \" Synset('प्रजा.noun.1722')\", \" Synset('जग.noun.5461')\", \" Synset('वर्ग.noun.28474')]\"]]\n",
            "\n",
            "Related indexes =  \n",
            " [['189'], ['1722'], ['5461'], ['28474']]\n",
            "\n",
            "Word ID ['189']  -  लोक:जनता:जन | एकाहून अधिक व्यक्ती:\"नेत्याचे भाषण ऐकण्यासाठी बरेच लोक जमले होते\"\n",
            "Word ID ['1722']  -  प्रजा:रयत:लोक:जनता:प्रजाजन:जनसामान्य | एखाद्या राजा वा शासनाच्या आधिपत्याखाली असलेला किंवा त्याच्या राज्यात राहणारा व्यक्तीसमुह:\"रामराज्यात प्रजा सुखी होती.\"\n"
          ]
        }
      ],
      "source": [
        "\n",
        "print(sentence)\n",
        "print()\n",
        "print(\"Related synsets = \", \"\\n\", synsets)\n",
        "print()\n",
        "print(\"Related indexes = \", \"\\n\", idx)\n",
        "print()\n",
        "count = 0\n",
        "for sublist in idx:\n",
        "    if count == 2:\n",
        "        break\n",
        "    for i in range(1):\n",
        "        print(\"Word ID\", sublist,\" - \", dictionary.get(sublist[0]))\n",
        "    count += 1"
      ]
    },
    {
      "cell_type": "code",
      "execution_count": null,
      "metadata": {
        "id": "V1Fv526E18bA"
      },
      "outputs": [],
      "source": [
        "text1 = \"दुकानात काही लोक काम करत असतात आणि कोपऱ्यात एक कुत्राही बसलेलं असते\""
      ]
    },
    {
      "cell_type": "code",
      "source": [
        "key2 = \"बसलेलं\""
      ],
      "metadata": {
        "id": "HDhbenSC4fo2"
      },
      "execution_count": null,
      "outputs": []
    },
    {
      "cell_type": "code",
      "source": [
        "iwn.synsets(key2)"
      ],
      "metadata": {
        "id": "0C3IRazn4lmu"
      },
      "execution_count": null,
      "outputs": []
    },
    {
      "cell_type": "code",
      "source": [],
      "metadata": {
        "id": "8Gdbpfsj7OK-"
      },
      "execution_count": null,
      "outputs": []
    }
  ],
  "metadata": {
    "accelerator": "GPU",
    "colab": {
      "provenance": [],
      "gpuType": "T4"
    },
    "gpuClass": "standard",
    "kernelspec": {
      "display_name": "Python 3",
      "name": "python3"
    },
    "language_info": {
      "name": "python"
    }
  },
  "nbformat": 4,
  "nbformat_minor": 0
}