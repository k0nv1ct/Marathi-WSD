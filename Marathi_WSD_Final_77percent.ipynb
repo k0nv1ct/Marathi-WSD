{
  "nbformat": 4,
  "nbformat_minor": 0,
  "metadata": {
    "colab": {
      "provenance": []
    },
    "kernelspec": {
      "name": "python3",
      "display_name": "Python 3"
    },
    "language_info": {
      "name": "python"
    },
    "gpuClass": "standard"
  },
  "cells": [
    {
      "cell_type": "markdown",
      "source": [
        "##Word Sense Disambiguation for Marathi Language-\n",
        "Word Sense Disambiguation (WSD) is a natural language processing task of identifying the correct sense of a word in context. Many words in natural language have multiple senses, and it is often essential to disambiguate them to understand the meaning of the sentence accurately."
      ],
      "metadata": {
        "id": "TfAiHr98vsi0"
      }
    },
    {
      "cell_type": "markdown",
      "source": [
        "Required Library Imports"
      ],
      "metadata": {
        "id": "WodQJxBBxesm"
      }
    },
    {
      "cell_type": "code",
      "source": [
        "from google.colab import drive\n",
        "drive.mount('/content/drive')"
      ],
      "metadata": {
        "colab": {
          "base_uri": "https://localhost:8080/"
        },
        "id": "mkWsmVGqHQfe",
        "outputId": "b8dbd594-1963-4b67-ca6d-8cdba1e84f4c"
      },
      "execution_count": null,
      "outputs": [
        {
          "output_type": "stream",
          "name": "stdout",
          "text": [
            "Mounted at /content/drive\n"
          ]
        }
      ]
    },
    {
      "cell_type": "code",
      "source": [
        "import nltk\n",
        "import pandas as pd\n",
        "\n",
        "from nltk import word_tokenize\n",
        "from nltk.tag import untag\n",
        "from nltk import UnigramTagger\n",
        "\n",
        "pd.set_option('display.max_columns', None)  \n",
        "pd.set_option('display.expand_frame_repr', False)\n",
        "pd.set_option('max_colwidth', -1)\n",
        "\n",
        "from nltk.corpus import indian\n",
        "nltk.download('indian')"
      ],
      "metadata": {
        "colab": {
          "base_uri": "https://localhost:8080/"
        },
        "id": "Px9lldvLxcrn",
        "outputId": "b8c2c150-a60b-4223-b5c1-35d9d75bb154"
      },
      "execution_count": null,
      "outputs": [
        {
          "output_type": "stream",
          "name": "stderr",
          "text": [
            "<ipython-input-2-10b19ae55255>:10: FutureWarning: Passing a negative integer is deprecated in version 1.0 and will not be supported in future version. Instead, use None to not limit the column width.\n",
            "  pd.set_option('max_colwidth', -1)\n",
            "[nltk_data] Downloading package indian to /root/nltk_data...\n",
            "[nltk_data]   Unzipping corpora/indian.zip.\n"
          ]
        },
        {
          "output_type": "execute_result",
          "data": {
            "text/plain": [
              "True"
            ]
          },
          "metadata": {},
          "execution_count": 2
        }
      ]
    },
    {
      "cell_type": "code",
      "source": [
        "nltk.download('wordnet')"
      ],
      "metadata": {
        "colab": {
          "base_uri": "https://localhost:8080/"
        },
        "id": "PY5QXH-txlAr",
        "outputId": "3184871a-a76b-418d-a205-59afd4891d3c"
      },
      "execution_count": null,
      "outputs": [
        {
          "output_type": "stream",
          "name": "stderr",
          "text": [
            "[nltk_data] Downloading package wordnet to /root/nltk_data...\n"
          ]
        },
        {
          "output_type": "execute_result",
          "data": {
            "text/plain": [
              "True"
            ]
          },
          "metadata": {},
          "execution_count": 3
        }
      ]
    },
    {
      "cell_type": "code",
      "source": [
        "nltk.download('punkt')"
      ],
      "metadata": {
        "colab": {
          "base_uri": "https://localhost:8080/"
        },
        "id": "SogI5UVzxmKc",
        "outputId": "864bad66-ae5e-4909-8a7f-5e2b16654df4"
      },
      "execution_count": null,
      "outputs": [
        {
          "output_type": "stream",
          "name": "stderr",
          "text": [
            "[nltk_data] Downloading package punkt to /root/nltk_data...\n",
            "[nltk_data]   Unzipping tokenizers/punkt.zip.\n"
          ]
        },
        {
          "output_type": "execute_result",
          "data": {
            "text/plain": [
              "True"
            ]
          },
          "metadata": {},
          "execution_count": 4
        }
      ]
    },
    {
      "cell_type": "markdown",
      "source": [
        "Taking 2 sample texts for testing"
      ],
      "metadata": {
        "id": "pddAbFCKxWa2"
      }
    },
    {
      "cell_type": "code",
      "execution_count": null,
      "metadata": {
        "id": "2d48e1a3"
      },
      "outputs": [],
      "source": [
        "text = \"हा लेख पन्ना जिल्ह्याविषयी आहे. पन्ना शहराविषयीचा लेख येथे आहे. पन्ना जिल्हा भारतातील मध्य प्रदेश राज्यातील एक जिल्हा आहे.\"\n",
        "sent = \"समाजासाठी देशासाठी चांगले काम करणाऱ्या व्यक्तीला लोक एखाद्या मानद उपाधीने संबोधित करायला सुरुवात करतात आणि पुढे तीच उपाधी त्या व्यक्तीची ओळख होऊन जाते. पुण्यश्लोक, महर्षी, महात्मा, बाबासाहेब आणि लोकमान्य या अशाच काही उपाध्या आहेत. भारतातील अशा उपाध्या धारण करणाऱ्या काही व्यक्तींची नावे पुढील पुढीलप्रमाणे आहेत.\""
      ]
    },
    {
      "cell_type": "markdown",
      "source": [
        "##Preprocess"
      ],
      "metadata": {
        "id": "bIQfR16Kx0UP"
      }
    },
    {
      "cell_type": "code",
      "source": [
        "import re\n",
        "# Remove unnecessary spaces\n",
        "text = re.sub('\\s+', ' ', text).strip()\n",
        "\n",
        "# Remove numbers\n",
        "text = re.sub('[0-9]+', '', text)\n",
        "\n",
        "print(text)"
      ],
      "metadata": {
        "colab": {
          "base_uri": "https://localhost:8080/"
        },
        "id": "_M16ei_mx31d",
        "outputId": "ffb3de58-e34b-4bb0-bf6b-f097715e4032"
      },
      "execution_count": null,
      "outputs": [
        {
          "output_type": "stream",
          "name": "stdout",
          "text": [
            "हा लेख पन्ना जिल्ह्याविषयी आहे. पन्ना शहराविषयीचा लेख येथे आहे. पन्ना जिल्हा भारतातील मध्य प्रदेश राज्यातील एक जिल्हा आहे.\n"
          ]
        }
      ]
    },
    {
      "cell_type": "markdown",
      "source": [
        "##Parts of Speech Tagging"
      ],
      "metadata": {
        "id": "8K6eJGsPxn31"
      }
    },
    {
      "cell_type": "code",
      "source": [
        "tagged_set = 'marathi.pos'\n",
        "articles = indian.sents(tagged_set)"
      ],
      "metadata": {
        "id": "T-2mpq9qx6xL"
      },
      "execution_count": null,
      "outputs": []
    },
    {
      "cell_type": "code",
      "source": [
        "articles"
      ],
      "metadata": {
        "colab": {
          "base_uri": "https://localhost:8080/"
        },
        "id": "ydRN1RbAx8pt",
        "outputId": "eac27cb7-55f4-4ece-86be-2e54031874c0"
      },
      "execution_count": null,
      "outputs": [
        {
          "output_type": "execute_result",
          "data": {
            "text/plain": [
              "[[\"''\", 'सनातनवाद्यांनी', 'व', 'प्रतिगाम्यांनी', 'समाज', 'रसातळाला', 'नेला', 'असताना', 'या', 'अंधारात', 'बाळशास्त्री', 'जांभेकर', 'यांनी', \"'दर्पण'च्या\", 'माध्यमातून', 'पहिली', 'ज्ञानज्योत', 'तेववली', ',', \"''\", 'असे', 'प्रतिपादन', 'नटसम्राट', 'प्रभाकर', 'पणशीकर', 'यांनी', 'केले', '.'], ['दर्पणकार', 'बाळशास्त्री', 'जांभेकर', 'यांच्या', '१९५व्या', 'जयंतीनिमित्त', 'महाराष्ट्र', 'संपादक', 'परिषद', 'व', 'सिंधुदुर्ग', 'जिल्हा', 'मराठी', 'पत्रकार', 'संघाच्या', 'वतीने', 'तसेच', 'महाराष्ट्र', 'जर्नलिस्ट', 'फाउंडेशन', 'व', 'महाराष्ट्र', 'ग्रामीण', 'पत्रकार', 'संघाच्या', 'सहभागाने', 'अभिवादन', 'कार्यक्रम', 'आयोजित', 'केला', 'होता', '.'], ...]"
            ]
          },
          "metadata": {},
          "execution_count": 8
        }
      ]
    },
    {
      "cell_type": "code",
      "source": [
        "count=len(articles)\n",
        "print(count)"
      ],
      "metadata": {
        "colab": {
          "base_uri": "https://localhost:8080/"
        },
        "id": "GuLSaIlEx-1w",
        "outputId": "122bb368-6cc0-4fa1-fb3a-9a72d17c2f2a"
      },
      "execution_count": null,
      "outputs": [
        {
          "output_type": "stream",
          "name": "stdout",
          "text": [
            "1197\n"
          ]
        }
      ]
    },
    {
      "cell_type": "code",
      "source": [
        "sentence1 = \" \".join(articles[0])\n",
        "sentence1"
      ],
      "metadata": {
        "colab": {
          "base_uri": "https://localhost:8080/",
          "height": 36
        },
        "id": "MtUBtbpPyLVW",
        "outputId": "ac6363e1-f706-4c72-fdbd-3b52a4eaa532"
      },
      "execution_count": null,
      "outputs": [
        {
          "output_type": "execute_result",
          "data": {
            "text/plain": [
              "\"'' सनातनवाद्यांनी व प्रतिगाम्यांनी समाज रसातळाला नेला असताना या अंधारात बाळशास्त्री जांभेकर यांनी 'दर्पण'च्या माध्यमातून पहिली ज्ञानज्योत तेववली , '' असे प्रतिपादन नटसम्राट प्रभाकर पणशीकर यांनी केले .\""
            ],
            "application/vnd.google.colaboratory.intrinsic+json": {
              "type": "string"
            }
          },
          "metadata": {},
          "execution_count": 10
        }
      ]
    },
    {
      "cell_type": "markdown",
      "source": [
        "Making Training and testing set split"
      ],
      "metadata": {
        "id": "Jw31L07gyP4n"
      }
    },
    {
      "cell_type": "code",
      "source": [
        "train_perc = .9\n",
        "train_rows = int(train_perc*count)\n",
        "test_rows = train_rows + 1\n",
        "print(train_rows,test_rows)"
      ],
      "metadata": {
        "colab": {
          "base_uri": "https://localhost:8080/"
        },
        "id": "xvsNIPA3yPFk",
        "outputId": "bc55272b-e77c-4c88-d6e3-fc5309b27e11"
      },
      "execution_count": null,
      "outputs": [
        {
          "output_type": "stream",
          "name": "stdout",
          "text": [
            "1077 1078\n"
          ]
        }
      ]
    },
    {
      "cell_type": "markdown",
      "source": [
        "Getting already tagged sentences for traning"
      ],
      "metadata": {
        "id": "d6FSGZbSyYcS"
      }
    },
    {
      "cell_type": "code",
      "source": [
        "data = indian.tagged_sents(tagged_set)\n",
        "train_data = data[:train_rows] \n",
        "test_data = data[test_rows:]"
      ],
      "metadata": {
        "id": "qSHeHvH_yUzg"
      },
      "execution_count": null,
      "outputs": []
    },
    {
      "cell_type": "markdown",
      "source": [
        "##Traning Unigram POS Tagger"
      ],
      "metadata": {
        "id": "A54HOQO5yeBr"
      }
    },
    {
      "cell_type": "code",
      "source": [
        "# Train the unigram model\n",
        "unigram_tag = UnigramTagger(train_data)\n",
        "\n",
        "# Test it on a single sentence\n",
        "unigram_tag.tag(untag(test_data[0]))"
      ],
      "metadata": {
        "colab": {
          "base_uri": "https://localhost:8080/"
        },
        "id": "Dz0Om2a5yc9a",
        "outputId": "5f5ecc59-d5f8-4d3d-92e8-eb7ac9481f99"
      },
      "execution_count": null,
      "outputs": [
        {
          "output_type": "execute_result",
          "data": {
            "text/plain": [
              "[('ज्या', 'PRP'),\n",
              " ('देशवासीयांकडे', None),\n",
              " ('केबल', 'NN'),\n",
              " ('नाही', 'VAUX'),\n",
              " (',', 'SYM'),\n",
              " ('त्यांना', 'PRP'),\n",
              " ('सात', 'QC'),\n",
              " ('मिनिटे', 'NN'),\n",
              " ('उशिरा', None),\n",
              " ('सामना', 'NN'),\n",
              " ('दाखवावा', None),\n",
              " ('लागत', 'VAUX'),\n",
              " ('असल्याने', 'VM'),\n",
              " ('निंबस', 'NNP'),\n",
              " ('अन्याय', 'NN'),\n",
              " ('करत', 'VM'),\n",
              " ('असल्याचे', 'VAUX'),\n",
              " ('मत', 'NN'),\n",
              " ('त्यांनी', 'PRP'),\n",
              " ('व्यक्त', 'JJ'),\n",
              " ('केले', 'VM'),\n",
              " ('होते', 'VAUX'),\n",
              " (';', 'SYM'),\n",
              " ('तसेच', 'CC'),\n",
              " ('त्याच', 'DEM'),\n",
              " ('वेळी', 'NN'),\n",
              " ('सरकारी', 'JJ'),\n",
              " ('पातळीवर', 'NN'),\n",
              " ('एक', 'QC'),\n",
              " ('विधेयक', 'NN'),\n",
              " ('मांडण्याचाही', None),\n",
              " ('विचार', 'NN'),\n",
              " ('बोलून', 'VM'),\n",
              " ('दाखविला', 'VAUX'),\n",
              " ('होता', 'VAUX'),\n",
              " ('.', 'SYM')]"
            ]
          },
          "metadata": {},
          "execution_count": 13
        }
      ]
    },
    {
      "cell_type": "code",
      "source": [
        "unigram_tag.evaluate(test_data)   # Evaluation of model"
      ],
      "metadata": {
        "colab": {
          "base_uri": "https://localhost:8080/"
        },
        "id": "u9fCN4Omyk2i",
        "outputId": "bd56e8dd-5778-4d2f-f438-582dc0d4c979"
      },
      "execution_count": null,
      "outputs": [
        {
          "output_type": "stream",
          "name": "stderr",
          "text": [
            "<ipython-input-14-d8fa693e3b9f>:1: DeprecationWarning: \n",
            "  Function evaluate() has been deprecated.  Use accuracy(gold)\n",
            "  instead.\n",
            "  unigram_tag.evaluate(test_data)   # Evaluation of model\n"
          ]
        },
        {
          "output_type": "execute_result",
          "data": {
            "text/plain": [
              "0.5846774193548387"
            ]
          },
          "metadata": {},
          "execution_count": 14
        }
      ]
    },
    {
      "cell_type": "markdown",
      "source": [
        "##Unigram Tagger with Default Backoff"
      ],
      "metadata": {
        "id": "ubd17kXSyoqQ"
      }
    },
    {
      "cell_type": "code",
      "source": [
        "# Train the unigram model\n",
        "unigram_tagger = UnigramTagger(train_data,backoff=nltk.DefaultTagger('NN'))\n",
        "\n",
        "# Test it on a single sentence\n",
        "unigram_tagger.tag(untag(test_data[0]))"
      ],
      "metadata": {
        "colab": {
          "base_uri": "https://localhost:8080/"
        },
        "id": "CeWCQz89ymIz",
        "outputId": "f3f08ff4-e66b-4942-881a-236ec7e55b70"
      },
      "execution_count": null,
      "outputs": [
        {
          "output_type": "execute_result",
          "data": {
            "text/plain": [
              "[('ज्या', 'PRP'),\n",
              " ('देशवासीयांकडे', 'NN'),\n",
              " ('केबल', 'NN'),\n",
              " ('नाही', 'VAUX'),\n",
              " (',', 'SYM'),\n",
              " ('त्यांना', 'PRP'),\n",
              " ('सात', 'QC'),\n",
              " ('मिनिटे', 'NN'),\n",
              " ('उशिरा', 'NN'),\n",
              " ('सामना', 'NN'),\n",
              " ('दाखवावा', 'NN'),\n",
              " ('लागत', 'VAUX'),\n",
              " ('असल्याने', 'VM'),\n",
              " ('निंबस', 'NNP'),\n",
              " ('अन्याय', 'NN'),\n",
              " ('करत', 'VM'),\n",
              " ('असल्याचे', 'VAUX'),\n",
              " ('मत', 'NN'),\n",
              " ('त्यांनी', 'PRP'),\n",
              " ('व्यक्त', 'JJ'),\n",
              " ('केले', 'VM'),\n",
              " ('होते', 'VAUX'),\n",
              " (';', 'SYM'),\n",
              " ('तसेच', 'CC'),\n",
              " ('त्याच', 'DEM'),\n",
              " ('वेळी', 'NN'),\n",
              " ('सरकारी', 'JJ'),\n",
              " ('पातळीवर', 'NN'),\n",
              " ('एक', 'QC'),\n",
              " ('विधेयक', 'NN'),\n",
              " ('मांडण्याचाही', 'NN'),\n",
              " ('विचार', 'NN'),\n",
              " ('बोलून', 'VM'),\n",
              " ('दाखविला', 'VAUX'),\n",
              " ('होता', 'VAUX'),\n",
              " ('.', 'SYM')]"
            ]
          },
          "metadata": {},
          "execution_count": 15
        }
      ]
    },
    {
      "cell_type": "code",
      "source": [
        "unigram_tagger.evaluate(test_data)  #Evaluation of new model"
      ],
      "metadata": {
        "colab": {
          "base_uri": "https://localhost:8080/"
        },
        "id": "oBuxQ_CQysgk",
        "outputId": "3ed77f5b-3e98-4bab-e0bb-54466ff94782"
      },
      "execution_count": null,
      "outputs": [
        {
          "output_type": "stream",
          "name": "stderr",
          "text": [
            "<ipython-input-16-1de5a2157274>:1: DeprecationWarning: \n",
            "  Function evaluate() has been deprecated.  Use accuracy(gold)\n",
            "  instead.\n",
            "  unigram_tagger.evaluate(test_data)  #Evaluation of new model\n"
          ]
        },
        {
          "output_type": "execute_result",
          "data": {
            "text/plain": [
              "0.7240783410138248"
            ]
          },
          "metadata": {},
          "execution_count": 16
        }
      ]
    },
    {
      "cell_type": "markdown",
      "source": [
        "##Function to get POS of any provided marathi text uisng the above Unigram Tagger"
      ],
      "metadata": {
        "id": "TanIxU9EyvCu"
      }
    },
    {
      "cell_type": "code",
      "source": [
        "#Generalized function that would return the POS tags in a structured table format\n",
        "from collections import defaultdict\n",
        "\n",
        "def get_POS(article):\n",
        "\n",
        "    POS = {}\n",
        "\n",
        "    word_tags = unigram_tagger.tag(article)\n",
        "    for word, tag in word_tags:\n",
        "        if tag not in POS:\n",
        "            POS[tag] = [word]\n",
        "        else:\n",
        "            POS[tag].append(word)\n",
        "    \n",
        "    DF = {'Tags':[], 'Words':[], 'Count':[]}\n",
        "\n",
        "\n",
        "    for k in POS:\n",
        "        DF['Tags'].append(k)\n",
        "        DF['Words'].append(\" \".join(POS[k]))\n",
        "        DF['Count'].append(len(POS[k]))\n",
        "    \n",
        "    return pd.DataFrame(DF)"
      ],
      "metadata": {
        "id": "ghp65YBOyzoN"
      },
      "execution_count": null,
      "outputs": []
    },
    {
      "cell_type": "code",
      "source": [
        "token = word_tokenize(text)"
      ],
      "metadata": {
        "id": "oBINRfzSy27T"
      },
      "execution_count": null,
      "outputs": []
    },
    {
      "cell_type": "code",
      "source": [
        "df = get_POS(token)"
      ],
      "metadata": {
        "id": "SdxlYePcy40l"
      },
      "execution_count": null,
      "outputs": []
    },
    {
      "cell_type": "markdown",
      "source": [
        "Conversion of POS to DataFrame"
      ],
      "metadata": {
        "id": "cPCdCcyny6gV"
      }
    },
    {
      "cell_type": "code",
      "source": [
        "df.head(10)"
      ],
      "metadata": {
        "colab": {
          "base_uri": "https://localhost:8080/",
          "height": 331
        },
        "id": "VRoxsA0Py8LK",
        "outputId": "a3dc196c-8905-4a8b-8630-d4b14bbc7dfe"
      },
      "execution_count": null,
      "outputs": [
        {
          "output_type": "execute_result",
          "data": {
            "text/plain": [
              "   Tags                                                                 Words  Count\n",
              "0  DEM   हा                                                                    1    \n",
              "1  NN    लेख पन्ना जिल्ह्याविषयी पन्ना शहराविषयीचा लेख पन्ना प्रदेश राज्यातील  9    \n",
              "2  VAUX  आहे आहे आहे                                                           3    \n",
              "3  SYM   . . .                                                                 3    \n",
              "4  PRP   येथे                                                                  1    \n",
              "5  NNC   जिल्हा जिल्हा                                                         2    \n",
              "6  NNP   भारतातील                                                              1    \n",
              "7  NNPC  मध्य                                                                  1    \n",
              "8  QC    एक                                                                    1    "
            ],
            "text/html": [
              "\n",
              "  <div id=\"df-c4cf4065-193c-4bee-9d95-4ce013ce19cd\">\n",
              "    <div class=\"colab-df-container\">\n",
              "      <div>\n",
              "<style scoped>\n",
              "    .dataframe tbody tr th:only-of-type {\n",
              "        vertical-align: middle;\n",
              "    }\n",
              "\n",
              "    .dataframe tbody tr th {\n",
              "        vertical-align: top;\n",
              "    }\n",
              "\n",
              "    .dataframe thead th {\n",
              "        text-align: right;\n",
              "    }\n",
              "</style>\n",
              "<table border=\"1\" class=\"dataframe\">\n",
              "  <thead>\n",
              "    <tr style=\"text-align: right;\">\n",
              "      <th></th>\n",
              "      <th>Tags</th>\n",
              "      <th>Words</th>\n",
              "      <th>Count</th>\n",
              "    </tr>\n",
              "  </thead>\n",
              "  <tbody>\n",
              "    <tr>\n",
              "      <th>0</th>\n",
              "      <td>DEM</td>\n",
              "      <td>हा</td>\n",
              "      <td>1</td>\n",
              "    </tr>\n",
              "    <tr>\n",
              "      <th>1</th>\n",
              "      <td>NN</td>\n",
              "      <td>लेख पन्ना जिल्ह्याविषयी पन्ना शहराविषयीचा लेख पन्ना प्रदेश राज्यातील</td>\n",
              "      <td>9</td>\n",
              "    </tr>\n",
              "    <tr>\n",
              "      <th>2</th>\n",
              "      <td>VAUX</td>\n",
              "      <td>आहे आहे आहे</td>\n",
              "      <td>3</td>\n",
              "    </tr>\n",
              "    <tr>\n",
              "      <th>3</th>\n",
              "      <td>SYM</td>\n",
              "      <td>. . .</td>\n",
              "      <td>3</td>\n",
              "    </tr>\n",
              "    <tr>\n",
              "      <th>4</th>\n",
              "      <td>PRP</td>\n",
              "      <td>येथे</td>\n",
              "      <td>1</td>\n",
              "    </tr>\n",
              "    <tr>\n",
              "      <th>5</th>\n",
              "      <td>NNC</td>\n",
              "      <td>जिल्हा जिल्हा</td>\n",
              "      <td>2</td>\n",
              "    </tr>\n",
              "    <tr>\n",
              "      <th>6</th>\n",
              "      <td>NNP</td>\n",
              "      <td>भारतातील</td>\n",
              "      <td>1</td>\n",
              "    </tr>\n",
              "    <tr>\n",
              "      <th>7</th>\n",
              "      <td>NNPC</td>\n",
              "      <td>मध्य</td>\n",
              "      <td>1</td>\n",
              "    </tr>\n",
              "    <tr>\n",
              "      <th>8</th>\n",
              "      <td>QC</td>\n",
              "      <td>एक</td>\n",
              "      <td>1</td>\n",
              "    </tr>\n",
              "  </tbody>\n",
              "</table>\n",
              "</div>\n",
              "      <button class=\"colab-df-convert\" onclick=\"convertToInteractive('df-c4cf4065-193c-4bee-9d95-4ce013ce19cd')\"\n",
              "              title=\"Convert this dataframe to an interactive table.\"\n",
              "              style=\"display:none;\">\n",
              "        \n",
              "  <svg xmlns=\"http://www.w3.org/2000/svg\" height=\"24px\"viewBox=\"0 0 24 24\"\n",
              "       width=\"24px\">\n",
              "    <path d=\"M0 0h24v24H0V0z\" fill=\"none\"/>\n",
              "    <path d=\"M18.56 5.44l.94 2.06.94-2.06 2.06-.94-2.06-.94-.94-2.06-.94 2.06-2.06.94zm-11 1L8.5 8.5l.94-2.06 2.06-.94-2.06-.94L8.5 2.5l-.94 2.06-2.06.94zm10 10l.94 2.06.94-2.06 2.06-.94-2.06-.94-.94-2.06-.94 2.06-2.06.94z\"/><path d=\"M17.41 7.96l-1.37-1.37c-.4-.4-.92-.59-1.43-.59-.52 0-1.04.2-1.43.59L10.3 9.45l-7.72 7.72c-.78.78-.78 2.05 0 2.83L4 21.41c.39.39.9.59 1.41.59.51 0 1.02-.2 1.41-.59l7.78-7.78 2.81-2.81c.8-.78.8-2.07 0-2.86zM5.41 20L4 18.59l7.72-7.72 1.47 1.35L5.41 20z\"/>\n",
              "  </svg>\n",
              "      </button>\n",
              "      \n",
              "  <style>\n",
              "    .colab-df-container {\n",
              "      display:flex;\n",
              "      flex-wrap:wrap;\n",
              "      gap: 12px;\n",
              "    }\n",
              "\n",
              "    .colab-df-convert {\n",
              "      background-color: #E8F0FE;\n",
              "      border: none;\n",
              "      border-radius: 50%;\n",
              "      cursor: pointer;\n",
              "      display: none;\n",
              "      fill: #1967D2;\n",
              "      height: 32px;\n",
              "      padding: 0 0 0 0;\n",
              "      width: 32px;\n",
              "    }\n",
              "\n",
              "    .colab-df-convert:hover {\n",
              "      background-color: #E2EBFA;\n",
              "      box-shadow: 0px 1px 2px rgba(60, 64, 67, 0.3), 0px 1px 3px 1px rgba(60, 64, 67, 0.15);\n",
              "      fill: #174EA6;\n",
              "    }\n",
              "\n",
              "    [theme=dark] .colab-df-convert {\n",
              "      background-color: #3B4455;\n",
              "      fill: #D2E3FC;\n",
              "    }\n",
              "\n",
              "    [theme=dark] .colab-df-convert:hover {\n",
              "      background-color: #434B5C;\n",
              "      box-shadow: 0px 1px 3px 1px rgba(0, 0, 0, 0.15);\n",
              "      filter: drop-shadow(0px 1px 2px rgba(0, 0, 0, 0.3));\n",
              "      fill: #FFFFFF;\n",
              "    }\n",
              "  </style>\n",
              "\n",
              "      <script>\n",
              "        const buttonEl =\n",
              "          document.querySelector('#df-c4cf4065-193c-4bee-9d95-4ce013ce19cd button.colab-df-convert');\n",
              "        buttonEl.style.display =\n",
              "          google.colab.kernel.accessAllowed ? 'block' : 'none';\n",
              "\n",
              "        async function convertToInteractive(key) {\n",
              "          const element = document.querySelector('#df-c4cf4065-193c-4bee-9d95-4ce013ce19cd');\n",
              "          const dataTable =\n",
              "            await google.colab.kernel.invokeFunction('convertToInteractive',\n",
              "                                                     [key], {});\n",
              "          if (!dataTable) return;\n",
              "\n",
              "          const docLinkHtml = 'Like what you see? Visit the ' +\n",
              "            '<a target=\"_blank\" href=https://colab.research.google.com/notebooks/data_table.ipynb>data table notebook</a>'\n",
              "            + ' to learn more about interactive tables.';\n",
              "          element.innerHTML = '';\n",
              "          dataTable['output_type'] = 'display_data';\n",
              "          await google.colab.output.renderOutput(dataTable, element);\n",
              "          const docLink = document.createElement('div');\n",
              "          docLink.innerHTML = docLinkHtml;\n",
              "          element.appendChild(docLink);\n",
              "        }\n",
              "      </script>\n",
              "    </div>\n",
              "  </div>\n",
              "  "
            ]
          },
          "metadata": {},
          "execution_count": 20
        }
      ]
    },
    {
      "cell_type": "code",
      "source": [
        "word_tags = unigram_tagger.tag(token)"
      ],
      "metadata": {
        "id": "6XtEEQHLzCel"
      },
      "execution_count": null,
      "outputs": []
    },
    {
      "cell_type": "code",
      "source": [
        "word_tags"
      ],
      "metadata": {
        "colab": {
          "base_uri": "https://localhost:8080/"
        },
        "id": "yuFGgoT9zEnz",
        "outputId": "3d529139-0de7-48e2-c482-e4a9393801d8"
      },
      "execution_count": null,
      "outputs": [
        {
          "output_type": "execute_result",
          "data": {
            "text/plain": [
              "[('हा', 'DEM'),\n",
              " ('लेख', 'NN'),\n",
              " ('पन्ना', 'NN'),\n",
              " ('जिल्ह्याविषयी', 'NN'),\n",
              " ('आहे', 'VAUX'),\n",
              " ('.', 'SYM'),\n",
              " ('पन्ना', 'NN'),\n",
              " ('शहराविषयीचा', 'NN'),\n",
              " ('लेख', 'NN'),\n",
              " ('येथे', 'PRP'),\n",
              " ('आहे', 'VAUX'),\n",
              " ('.', 'SYM'),\n",
              " ('पन्ना', 'NN'),\n",
              " ('जिल्हा', 'NNC'),\n",
              " ('भारतातील', 'NNP'),\n",
              " ('मध्य', 'NNPC'),\n",
              " ('प्रदेश', 'NN'),\n",
              " ('राज्यातील', 'NN'),\n",
              " ('एक', 'QC'),\n",
              " ('जिल्हा', 'NNC'),\n",
              " ('आहे', 'VAUX'),\n",
              " ('.', 'SYM')]"
            ]
          },
          "metadata": {},
          "execution_count": 22
        }
      ]
    },
    {
      "cell_type": "markdown",
      "source": [
        "##Word of Interest Lookup accroding to synset format"
      ],
      "metadata": {
        "id": "TBqUYkx1zTkY"
      }
    },
    {
      "cell_type": "code",
      "source": [
        "def wordOfInterest(pos):\n",
        "    wn_pos=['NN','VB','JJ','JJR','JJS','NNP','VBG','RB','VBD','VBP','VAUX','PRP','DEM']\n",
        "\n",
        "    woi1=[]\n",
        "    for x in range(0,len(pos)):\n",
        "      arr=[]\n",
        "      j=pos[x]\n",
        "      for y in range(0,len(j)):\n",
        "        i=j[y]\n",
        "        if i in wn_pos:\n",
        "          arr.append(j)\n",
        "          woi1.append(arr) \n",
        "    woi=[]\n",
        "\n",
        "\n",
        "    for i in woi1:\n",
        "        arr2=[]\n",
        "        for j in i:\n",
        "\n",
        "            if j[1]=='VBD' or j[1]=='VB' or j[1]=='VBP':\n",
        "                tup=(j[0],'verb')\n",
        "                arr2.append(tup)\n",
        "            elif j[1]=='VBG' or j[1]=='PRP':\n",
        "                tup=(j[0],'noun')\n",
        "                arr2.append(tup)\n",
        "            elif j[1]=='NN' or j[1]=='NNP':\n",
        "                tup=(j[0],'noun')\n",
        "                arr2.append(tup)\n",
        "            elif j[1]== 'JJ' or j[1]=='JJR' or j[1]=='JJS' or j[1]=='VAUX' or j[1]=='DEM':\n",
        "                tup=(j[0],'adjective')\n",
        "                arr2.append(tup)\n",
        "            elif j[1]=='RB' or j[1]=='VM':\n",
        "                tup=(j[0],'adverb')\n",
        "                arr2.append(tup)\n",
        "        woi.append(arr2)       \n",
        "            \n",
        "    return woi"
      ],
      "metadata": {
        "id": "wmWTDTcuzRMQ"
      },
      "execution_count": null,
      "outputs": []
    },
    {
      "cell_type": "markdown",
      "source": [
        "##Making a Wordnet dictionary"
      ],
      "metadata": {
        "id": "PxAp6PoD1kmb"
      }
    },
    {
      "cell_type": "markdown",
      "source": [
        "reading wordbank txt file and preprocessing"
      ],
      "metadata": {
        "id": "VsQsJ3O810fK"
      }
    },
    {
      "cell_type": "markdown",
      "source": [
        "##Making Wordnet definitions - dictionary"
      ],
      "metadata": {
        "id": "uFdgfoBN17G4"
      }
    },
    {
      "cell_type": "code",
      "source": [
        "def deleteLeadingZeros(inputString):\n",
        "   # regex pattern for removing leading zeros from an input string\n",
        "   regexPattern = \"^0+(?!$)\"\n",
        "   # Replace the matched regex pattern with an empty string\n",
        "   outputString = re.sub(regexPattern, \"\", inputString)\n",
        "   # returning output string after removing leading 0s\n",
        "   return outputString"
      ],
      "metadata": {
        "id": "gO_0pQ5gbCMS"
      },
      "execution_count": null,
      "outputs": []
    },
    {
      "cell_type": "code",
      "source": [
        "# Initialize an empty dictionary\n",
        "dictionary = {}\n",
        "\n",
        "# Open the text file and read its contents line by line\n",
        "with open(\"/content/drive/MyDrive/MArathi_data/data.txt\", \"r\", encoding = 'utf-8') as f:\n",
        "    for line in f:\n",
        "        # Split the line into serial number and value\n",
        "        line = line.strip()  # Remove any leading/trailing whitespace\n",
        "        regexPattern = \"^0+(?!$)\"\n",
        "        line = re.sub(regexPattern, \"\", line)\n",
        "        serial_number, value = line.split(\" \", 1)\n",
        "        #serial_number = int(serial_number)  # Convert the serial number to an integer\n",
        "\n",
        "        # Add the key-value pair to the dictionary\n",
        "        dictionary[serial_number] = value"
      ],
      "metadata": {
        "id": "A8DZXYlc15TB"
      },
      "execution_count": null,
      "outputs": []
    },
    {
      "cell_type": "code",
      "source": [
        "for n in dictionary.keys():\n",
        "    # Remove numbers from the line using regular expressions\n",
        "    line = dictionary.get(n)\n",
        "    cleaned_line = re.sub(r'\\d+', '', line)\n",
        "\n",
        "    # Remove unnecessary spaces from the line\n",
        "    cleaned_line = ' '.join(cleaned_line.strip().split())\n",
        "\n",
        "    # Add the cleaned line to the list of cleaned lines\n",
        "    dictionary.update({n:cleaned_line})"
      ],
      "metadata": {
        "id": "_EEWsIJeZVYI"
      },
      "execution_count": null,
      "outputs": []
    },
    {
      "cell_type": "markdown",
      "source": [
        "First 5 entries"
      ],
      "metadata": {
        "id": "kHOMhLtd2Co9"
      }
    },
    {
      "cell_type": "code",
      "source": [
        "count = 0\n",
        "for n in dictionary.keys():\n",
        "  count+=1\n",
        "  if count<5:\n",
        "    print(n, dictionary.get(n))\n",
        "  else:\n",
        "    break"
      ],
      "metadata": {
        "colab": {
          "base_uri": "https://localhost:8080/"
        },
        "id": "9YZAN7PN1_FP",
        "outputId": "2338713e-1614-4546-a619-6183d2899215"
      },
      "execution_count": null,
      "outputs": [
        {
          "output_type": "stream",
          "name": "stdout",
          "text": [
            "1 अजन्मा | ज्यास जन्म नाही असा:\"ईश्वर अजन्मा आहे\"\n",
            "2 अशुभ:अमंगळ | शुभ नाही असा:\"या योगामूळे कुंडलीतील इतर अशुभ योगांचा नाश होतो.\"\n",
            "3 अप्रविष्ट | ज्याने प्रवेश केला नाही असा:\"अप्रविष्ट व्यक्तींना ताबडतोब आत प्रवेश करू द्या.\"\n",
            "4 पुण्यभूमी:पवित्रभूमी:पुण्यस्थान:पवित्रस्थान:पावनस्थान | पवित्र मानले गेलेले स्थान:\"हिंदूंसाठी काशी ही पुण्यभूमी आहे.\"\n"
          ]
        }
      ]
    },
    {
      "cell_type": "markdown",
      "source": [
        "##Synsets "
      ],
      "metadata": {
        "id": "gX31NYsQ1Jd7"
      }
    },
    {
      "cell_type": "code",
      "source": [
        "!pip install --upgrade pyiwn"
      ],
      "metadata": {
        "colab": {
          "base_uri": "https://localhost:8080/"
        },
        "id": "eUF1zR4G1LpW",
        "outputId": "91e69c72-1e63-4034-852d-29a5d1bbe5e0"
      },
      "execution_count": null,
      "outputs": [
        {
          "output_type": "stream",
          "name": "stdout",
          "text": [
            "Looking in indexes: https://pypi.org/simple, https://us-python.pkg.dev/colab-wheels/public/simple/\n",
            "Collecting pyiwn\n",
            "  Downloading pyiwn-0.0.5-py3-none-any.whl (12 kB)\n",
            "Requirement already satisfied: requests in /usr/local/lib/python3.9/dist-packages (from pyiwn) (2.27.1)\n",
            "Requirement already satisfied: pandas in /usr/local/lib/python3.9/dist-packages (from pyiwn) (1.4.4)\n",
            "Requirement already satisfied: numpy>=1.18.5 in /usr/local/lib/python3.9/dist-packages (from pandas->pyiwn) (1.22.4)\n",
            "Requirement already satisfied: pytz>=2020.1 in /usr/local/lib/python3.9/dist-packages (from pandas->pyiwn) (2022.7.1)\n",
            "Requirement already satisfied: python-dateutil>=2.8.1 in /usr/local/lib/python3.9/dist-packages (from pandas->pyiwn) (2.8.2)\n",
            "Requirement already satisfied: idna<4,>=2.5 in /usr/local/lib/python3.9/dist-packages (from requests->pyiwn) (3.4)\n",
            "Requirement already satisfied: urllib3<1.27,>=1.21.1 in /usr/local/lib/python3.9/dist-packages (from requests->pyiwn) (1.26.15)\n",
            "Requirement already satisfied: charset-normalizer~=2.0.0 in /usr/local/lib/python3.9/dist-packages (from requests->pyiwn) (2.0.12)\n",
            "Requirement already satisfied: certifi>=2017.4.17 in /usr/local/lib/python3.9/dist-packages (from requests->pyiwn) (2022.12.7)\n",
            "Requirement already satisfied: six>=1.5 in /usr/local/lib/python3.9/dist-packages (from python-dateutil>=2.8.1->pandas->pyiwn) (1.16.0)\n",
            "Installing collected packages: pyiwn\n",
            "Successfully installed pyiwn-0.0.5\n"
          ]
        }
      ]
    },
    {
      "cell_type": "code",
      "source": [
        "import pyiwn"
      ],
      "metadata": {
        "colab": {
          "base_uri": "https://localhost:8080/"
        },
        "id": "SwwwZs6D1NXb",
        "outputId": "6e2b11b3-094f-4773-f0a2-0bc3815cdc73"
      },
      "execution_count": null,
      "outputs": [
        {
          "output_type": "stream",
          "name": "stdout",
          "text": [
            "[██████████████████████████████████████████████████]\n"
          ]
        }
      ]
    },
    {
      "cell_type": "markdown",
      "source": [
        "Marathi synset object creation"
      ],
      "metadata": {
        "id": "aUoJe0_-2qZu"
      }
    },
    {
      "cell_type": "code",
      "source": [
        "iwn = pyiwn.IndoWordNet(lang=pyiwn.Language.MARATHI)"
      ],
      "metadata": {
        "id": "d1UeEAaq1S0g"
      },
      "execution_count": null,
      "outputs": []
    },
    {
      "cell_type": "code",
      "source": [
        "all_synsets = iwn.synsets('आई')"
      ],
      "metadata": {
        "id": "66vXKuDz1T6U"
      },
      "execution_count": null,
      "outputs": []
    },
    {
      "cell_type": "code",
      "source": [
        "all_synsets"
      ],
      "metadata": {
        "colab": {
          "base_uri": "https://localhost:8080/"
        },
        "id": "OK5ctu_s1WQ8",
        "outputId": "1713aeb8-15da-4ae6-e03b-2b235d507d30"
      },
      "execution_count": null,
      "outputs": [
        {
          "output_type": "execute_result",
          "data": {
            "text/plain": [
              "[Synset('आई.noun.2191'), Synset('आई.noun.36505')]"
            ]
          },
          "metadata": {},
          "execution_count": 32
        }
      ]
    },
    {
      "cell_type": "markdown",
      "source": [
        "List of tags available"
      ],
      "metadata": {
        "id": "8g7IXrqZ1ZtR"
      }
    },
    {
      "cell_type": "code",
      "source": [
        "list(map(str, pyiwn.PosTag))"
      ],
      "metadata": {
        "colab": {
          "base_uri": "https://localhost:8080/"
        },
        "id": "UwBAKsVj1ZUm",
        "outputId": "10a87a39-a140-4cc2-e744-2e9c3dd3a64b"
      },
      "execution_count": null,
      "outputs": [
        {
          "output_type": "execute_result",
          "data": {
            "text/plain": [
              "['PosTag.NOUN', 'PosTag.VERB', 'PosTag.ADVERB', 'PosTag.ADJECTIVE']"
            ]
          },
          "metadata": {},
          "execution_count": 33
        }
      ]
    },
    {
      "cell_type": "code",
      "source": [
        "synsets = iwn.all_synsets()\n",
        "print(len(synsets))"
      ],
      "metadata": {
        "colab": {
          "base_uri": "https://localhost:8080/"
        },
        "id": "1yTVS-ZV1b69",
        "outputId": "127c3df2-a9b4-4504-c9f6-e1c737f32f9d"
      },
      "execution_count": null,
      "outputs": [
        {
          "output_type": "stream",
          "name": "stdout",
          "text": [
            "32200\n"
          ]
        }
      ]
    },
    {
      "cell_type": "code",
      "source": [
        "syn = synsets[:5]"
      ],
      "metadata": {
        "id": "u6X5cEk_1fol"
      },
      "execution_count": null,
      "outputs": []
    },
    {
      "cell_type": "code",
      "source": [
        "syn = str(synsets[:5])"
      ],
      "metadata": {
        "id": "DNXoHSaHHRuh"
      },
      "execution_count": null,
      "outputs": []
    },
    {
      "cell_type": "code",
      "source": [
        "syn = list(syn.split(\",\"))"
      ],
      "metadata": {
        "id": "IOYiCq_oHS2j"
      },
      "execution_count": null,
      "outputs": []
    },
    {
      "cell_type": "code",
      "source": [
        "import string\n",
        "idx = []\n",
        "printable_chars = string.printable\n",
        "for line in syn:\n",
        "  cleaned_text = \"\".join([char for char in line if char in printable_chars and char not in string.whitespace])\n",
        "  n = re.findall('\\d+', cleaned_text)\n",
        "  idx.append(n)"
      ],
      "metadata": {
        "id": "T978ofQx5X8B"
      },
      "execution_count": null,
      "outputs": []
    },
    {
      "cell_type": "code",
      "source": [
        "print(idx)"
      ],
      "metadata": {
        "colab": {
          "base_uri": "https://localhost:8080/"
        },
        "id": "kczZj4UvHV3O",
        "outputId": "f84d2b97-df6d-425f-d4de-7a9cbd6deca9"
      },
      "execution_count": null,
      "outputs": [
        {
          "output_type": "stream",
          "name": "stdout",
          "text": [
            "[['5'], ['1'], ['7'], ['2'], ['10']]\n"
          ]
        }
      ]
    },
    {
      "cell_type": "markdown",
      "source": [
        "##Lookup"
      ],
      "metadata": {
        "id": "heJRrbsS4LSM"
      }
    },
    {
      "cell_type": "code",
      "source": [
        "for n in idx:\n",
        "  print(n, dictionary.get(n[0]))"
      ],
      "metadata": {
        "colab": {
          "base_uri": "https://localhost:8080/"
        },
        "id": "V4Qov5zn4Fzc",
        "outputId": "256dcf45-355b-4f2e-ea9b-0c8cdfcbfd7a"
      },
      "execution_count": null,
      "outputs": [
        {
          "output_type": "stream",
          "name": "stdout",
          "text": [
            "['5'] शिवालय:शिवमंदिर | जिथे शंकराच्या पिंडीची स्थापना केली असून त्याची पूजा होते ती जागा:\"ती दर सोमवारी शिवालयात जाते.\"\n",
            "['1'] अजन्मा | ज्यास जन्म नाही असा:\"ईश्वर अजन्मा आहे\"\n",
            "['7'] आलेला:आगत | दाखल झालेला:\"आलेल्या पाहुण्यांचे स्वागत आहे.\"\n",
            "['2'] अशुभ:अमंगळ | शुभ नाही असा:\"या योगामूळे कुंडलीतील इतर अशुभ योगांचा नाश होतो.\"\n",
            "['10'] उत्पादित:उत्पन्न | ज्याची उत्पत्ति झाली आहे असा:\"आसाममध्ये उत्पादित चहा जगभर प्रसिद्ध आहे.\"\n"
          ]
        }
      ]
    },
    {
      "cell_type": "markdown",
      "source": [
        "##Final Complete Function for WSD"
      ],
      "metadata": {
        "id": "Tt7qi4VfE5A_"
      }
    },
    {
      "cell_type": "code",
      "source": [
        "text = str(input())\n"
      ],
      "metadata": {
        "colab": {
          "base_uri": "https://localhost:8080/"
        },
        "id": "5kBKF62oE-F0",
        "outputId": "0fc23529-b357-4787-ba35-b012737b5cb2"
      },
      "execution_count": null,
      "outputs": [
        {
          "name": "stdout",
          "output_type": "stream",
          "text": [
            "हा लेख पन्ना जिल्ह्याविषयी आहे. पन्ना शहराविषयीचा लेख येथे आहे. पन्ना जिल्हा भारतातील मध्य प्रदेश राज्यातील एक जिल्हा आहे\n"
          ]
        }
      ]
    },
    {
      "cell_type": "code",
      "source": [
        "text"
      ],
      "metadata": {
        "colab": {
          "base_uri": "https://localhost:8080/",
          "height": 36
        },
        "id": "IKxTuhezRLCB",
        "outputId": "d5624df7-bfed-4afc-fbdd-04f97188ef52"
      },
      "execution_count": null,
      "outputs": [
        {
          "output_type": "execute_result",
          "data": {
            "text/plain": [
              "'हा लेख पन्ना जिल्ह्याविषयी आहे. पन्ना शहराविषयीचा लेख येथे आहे. पन्ना जिल्हा भारतातील मध्य प्रदेश राज्यातील एक जिल्हा आहे'"
            ],
            "application/vnd.google.colaboratory.intrinsic+json": {
              "type": "string"
            }
          },
          "metadata": {},
          "execution_count": 42
        }
      ]
    },
    {
      "cell_type": "code",
      "source": [
        "word = input()"
      ],
      "metadata": {
        "colab": {
          "base_uri": "https://localhost:8080/"
        },
        "id": "6nQUnkc-Hzs1",
        "outputId": "c3b4c2e3-31cb-4608-a4c9-a431b8f0a256"
      },
      "execution_count": null,
      "outputs": [
        {
          "name": "stdout",
          "output_type": "stream",
          "text": [
            "प्रदेश\n"
          ]
        }
      ]
    },
    {
      "cell_type": "markdown",
      "source": [
        "Function to Get Parts of Speech of the Input text"
      ],
      "metadata": {
        "id": "6U9zy3dApsor"
      }
    },
    {
      "cell_type": "code",
      "source": [
        "def get_pos(text):\n",
        "  # Remove unnecessary spaces\n",
        "  #text = re.sub('\\s+', ' ', string).strip()\n",
        "\n",
        "  # Remove numbers\n",
        "  #text = re.sub('[0-9]+', '', string)\n",
        "  \n",
        "  #Parts of speech tagging\n",
        "  POS = {}\n",
        "  token = word_tokenize(text)\n",
        "  \n",
        "  word_tags = unigram_tagger.tag(token)\n",
        "  \n",
        "  for w, tag in word_tags:\n",
        "    if tag not in POS:\n",
        "      POS[tag] = [w]\n",
        "    else:\n",
        "      POS[tag].append(w)\n",
        "  \n",
        "  return POS,word_tags"
      ],
      "metadata": {
        "id": "8jH3__VskdnP"
      },
      "execution_count": null,
      "outputs": []
    },
    {
      "cell_type": "markdown",
      "source": [
        "DataFrame for better visuals"
      ],
      "metadata": {
        "id": "dxvAAkhAqsvZ"
      }
    },
    {
      "cell_type": "code",
      "source": [
        "def pos_df(text):\n",
        "  token = word_tokenize(text)\n",
        "  df = get_POS(token)\n",
        "\n",
        "  return df\n"
      ],
      "metadata": {
        "id": "y5r4OnFTqZhs"
      },
      "execution_count": null,
      "outputs": []
    },
    {
      "cell_type": "markdown",
      "source": [
        "Function to Get Word of Interest Tags"
      ],
      "metadata": {
        "id": "sL5cfNnTpm0T"
      }
    },
    {
      "cell_type": "code",
      "source": [
        "def get_word_of_interest(POS):\n",
        "  w=[]\n",
        "  for token in POS:\n",
        "    if(token[0] == word):\n",
        "      w.append(token[1])\n",
        "    else:\n",
        "      continue\n",
        "\n",
        "  wn_pos=['NN','VB','JJ','JJR','JJS','NNP','VBG','RB','VBD','VBP','VAUX','PRP','DEM']\n",
        "  for i in range(len(w)):\n",
        "    if w[i]=='VBD' or w[i]=='VB' or w[i]=='VBP':\n",
        "      w[i]='VERB'\n",
        "\n",
        "    elif w[i]=='VBG' or w[i]=='PRP':\n",
        "      w[i]='NOUN'\n",
        "\n",
        "    elif w[i]=='NN' or w[i]=='NNP' or 'N' or 'NNC':\n",
        "      w[i]='NOUN'\n",
        "\n",
        "    elif w[i]== 'JJ' or w[i]=='JJR' or w[i]=='JJS' or w[i]=='VAUX' or w[i]=='DEM':\n",
        "      w[i]='ADJECTIVE'\n",
        "\n",
        "    elif w[i]=='RB' or w[i]=='VM':\n",
        "      w[i]='ADVERB'\n",
        "\n",
        "  return w"
      ],
      "metadata": {
        "id": "pXxDnl8wk072"
      },
      "execution_count": null,
      "outputs": []
    },
    {
      "cell_type": "markdown",
      "source": [
        "Function to get synsets of the word of Interest "
      ],
      "metadata": {
        "id": "8k7Wt6vApxTV"
      }
    },
    {
      "cell_type": "code",
      "source": [
        "def get_synsets(w):\n",
        "  j = []  \n",
        "  for i in range(len(w)):\n",
        "    if len(w) == 1:\n",
        "      if w[i] == \"NOUN\":\n",
        "        j.append(str(iwn.synsets(word, pos=pyiwn.PosTag.NOUN)))\n",
        "        break\n",
        "      elif w[i] == \"ADJECTIVE\":\n",
        "      #all_synsets = iwn.synsets(word, pos=pyiwn.PosTag.ADJECTIVE)\n",
        "        j.append(str(iwn.synsets(word, pos=pyiwn.PosTag.ADJECTIVE)))\n",
        "        break\n",
        "      elif w[i] == \"ADVERB\":\n",
        "      #all_synsets = iwn.synsets(word, pos=pyiwn.PosTag.ADVERB)\n",
        "       j.append(str(iwn.synsets(word, pos=pyiwn.PosTag.ADVERB)))\n",
        "       break\n",
        "      else:\n",
        "      #all_synsets = iwn.synsets(word, pos=pyiwn.PosTag.VERB)\n",
        "        j.append(str(iwn.synsets(word, pos=pyiwn.PosTag.VERB)))\n",
        "        break\n",
        "\n",
        "    elif w[i] == w[i+1] == w[i+2]:\n",
        "      if w[i] == \"NOUN\":\n",
        "      #all_synsets = iwn.synsets(word, pos=pyiwn.PosTag.NOUN)\n",
        "        j.append(str(iwn.synsets(word, pos=pyiwn.PosTag.NOUN)))\n",
        "        break\n",
        "      elif w[i] == \"ADJECTIVE\":\n",
        "      #all_synsets = iwn.synsets(word, pos=pyiwn.PosTag.ADJECTIVE)\n",
        "        j.append(str(iwn.synsets(word, pos=pyiwn.PosTag.ADJECTIVE)))\n",
        "        break\n",
        "      elif w[i] == \"ADVERB\":\n",
        "      #all_synsets = iwn.synsets(word, pos=pyiwn.PosTag.ADVERB)\n",
        "       j.append(str(iwn.synsets(word, pos=pyiwn.PosTag.ADVERB)))\n",
        "       break\n",
        "      else:\n",
        "      #all_synsets = iwn.synsets(word, pos=pyiwn.PosTag.VERB)\n",
        "        j.append(str(iwn.synsets(word, pos=pyiwn.PosTag.VERB)))\n",
        "        break\n",
        "\n",
        "\n",
        "  all_synsets=[]\n",
        "  for i in j:\n",
        "    #for k in i:\n",
        "    temp = i.split(\",\")\n",
        "    all_synsets.append(temp)\n",
        "  \n",
        "  return all_synsets"
      ],
      "metadata": {
        "id": "Bhbb_sihlBxg"
      },
      "execution_count": null,
      "outputs": []
    },
    {
      "cell_type": "markdown",
      "source": [
        "Function to get the Index for Lookup"
      ],
      "metadata": {
        "id": "2NyTM9nap2PT"
      }
    },
    {
      "cell_type": "code",
      "source": [
        "def get_index(synsets):\n",
        "  idx = []\n",
        "  \n",
        "  #index idendification for lookup\n",
        "  printable_chars = string.printable\n",
        "  \n",
        "  for line in synsets[0]:\n",
        "    cleaned_text = \"\".join([char for char in line if char in printable_chars and char not in string.whitespace])\n",
        "    n = re.findall('\\d+', cleaned_text)\n",
        "    idx.append(n)\n",
        "\n",
        "  #returning the calculated results\n",
        "  return idx"
      ],
      "metadata": {
        "id": "PoItgxPVBmnH"
      },
      "execution_count": null,
      "outputs": []
    },
    {
      "cell_type": "markdown",
      "source": [
        "Get Parts of Speech Tags"
      ],
      "metadata": {
        "id": "eShgV8zNpNib"
      }
    },
    {
      "cell_type": "code",
      "source": [
        "#getting the parts od speech, synsets and index for the given text\n",
        "pos, tags = get_pos(text)\n",
        "print(pos)\n",
        "print()\n",
        "print(tags)"
      ],
      "metadata": {
        "colab": {
          "base_uri": "https://localhost:8080/"
        },
        "id": "n7s45WSEFtug",
        "outputId": "7aff51e1-7a2f-42cc-b1f4-0e3cfd15fa18"
      },
      "execution_count": null,
      "outputs": [
        {
          "output_type": "stream",
          "name": "stdout",
          "text": [
            "{'DEM': ['हा'], 'NN': ['लेख', 'पन्ना', 'जिल्ह्याविषयी', 'पन्ना', 'शहराविषयीचा', 'लेख', 'पन्ना', 'प्रदेश', 'राज्यातील'], 'VAUX': ['आहे', 'आहे', 'आहे'], 'SYM': ['.', '.'], 'PRP': ['येथे'], 'NNC': ['जिल्हा', 'जिल्हा'], 'NNP': ['भारतातील'], 'NNPC': ['मध्य'], 'QC': ['एक']}\n",
            "\n",
            "[('हा', 'DEM'), ('लेख', 'NN'), ('पन्ना', 'NN'), ('जिल्ह्याविषयी', 'NN'), ('आहे', 'VAUX'), ('.', 'SYM'), ('पन्ना', 'NN'), ('शहराविषयीचा', 'NN'), ('लेख', 'NN'), ('येथे', 'PRP'), ('आहे', 'VAUX'), ('.', 'SYM'), ('पन्ना', 'NN'), ('जिल्हा', 'NNC'), ('भारतातील', 'NNP'), ('मध्य', 'NNPC'), ('प्रदेश', 'NN'), ('राज्यातील', 'NN'), ('एक', 'QC'), ('जिल्हा', 'NNC'), ('आहे', 'VAUX')]\n"
          ]
        }
      ]
    },
    {
      "cell_type": "code",
      "source": [
        "df_pos = pos_df(text)"
      ],
      "metadata": {
        "id": "IltMblAnqJa0"
      },
      "execution_count": null,
      "outputs": []
    },
    {
      "cell_type": "markdown",
      "source": [
        "Get word of Interest Tag"
      ],
      "metadata": {
        "id": "yGmMbEvepQun"
      }
    },
    {
      "cell_type": "code",
      "source": [
        "woi = get_word_of_interest(tags, word)\n",
        "print(woi)"
      ],
      "metadata": {
        "colab": {
          "base_uri": "https://localhost:8080/"
        },
        "id": "7PDEYZXTmgD2",
        "outputId": "82b79728-aaae-4b3f-ae74-1697377f11eb"
      },
      "execution_count": null,
      "outputs": [
        {
          "output_type": "stream",
          "name": "stdout",
          "text": [
            "['NOUN']\n"
          ]
        }
      ]
    },
    {
      "cell_type": "markdown",
      "source": [
        "Get synsets for the Word of Interest"
      ],
      "metadata": {
        "id": "p9VNVEQgpUo1"
      }
    },
    {
      "cell_type": "code",
      "source": [
        "synsets = get_synsets(woi)"
      ],
      "metadata": {
        "id": "LCsFTTBNnmy5"
      },
      "execution_count": null,
      "outputs": []
    },
    {
      "cell_type": "code",
      "source": [
        "print(synsets)"
      ],
      "metadata": {
        "colab": {
          "base_uri": "https://localhost:8080/"
        },
        "id": "5T-3D4YTnzPX",
        "outputId": "199d350a-f034-4c80-9b18-cd092dc8c71d"
      },
      "execution_count": null,
      "outputs": [
        {
          "output_type": "stream",
          "name": "stdout",
          "text": [
            "[[\"[Synset('राज्य.noun.231')\", \" Synset('प्रदेश.noun.2022')\", \" Synset('राज्य.noun.26705')]\"]]\n"
          ]
        }
      ]
    },
    {
      "cell_type": "markdown",
      "source": [
        "Get Index of the Word of Interest to Lookup in Dictionary"
      ],
      "metadata": {
        "id": "tyxRn714pXyk"
      }
    },
    {
      "cell_type": "code",
      "source": [
        "idx = get_index(synsets)\n",
        "print(idx)"
      ],
      "metadata": {
        "colab": {
          "base_uri": "https://localhost:8080/"
        },
        "id": "FnfR7BE6o5IS",
        "outputId": "205cccaa-ca85-42aa-f07b-be9014bf57dc"
      },
      "execution_count": null,
      "outputs": [
        {
          "output_type": "stream",
          "name": "stdout",
          "text": [
            "[['231'], ['2022'], ['26705']]\n"
          ]
        }
      ]
    },
    {
      "cell_type": "markdown",
      "source": [
        "##Final Result"
      ],
      "metadata": {
        "id": "P2nepnxBpeww"
      }
    },
    {
      "cell_type": "code",
      "source": [
        "print(\"Parts of Speech Tags for the Given Text\")\n",
        "print(df_pos)\n",
        "print()\n",
        "print(\"Related synsets = \", \"\\n\", synsets)\n",
        "print()\n",
        "print(\"Related indexes = \", \"\\n\", idx)\n",
        "print()\n",
        "for n in idx:\n",
        "  print(\"Word ID\", n,\" - \", dictionary.get(n[0])) "
      ],
      "metadata": {
        "colab": {
          "base_uri": "https://localhost:8080/"
        },
        "id": "33A3uwT2_fYz",
        "outputId": "8d91d9b5-34eb-4b0a-e615-58513860a17d"
      },
      "execution_count": null,
      "outputs": [
        {
          "output_type": "stream",
          "name": "stdout",
          "text": [
            "Parts of Speech Tags for the Given Text\n",
            "   Tags                                                                 Words  Count\n",
            "0  DEM   हा                                                                    1    \n",
            "1  NN    लेख पन्ना जिल्ह्याविषयी पन्ना शहराविषयीचा लेख पन्ना प्रदेश राज्यातील  9    \n",
            "2  VAUX  आहे आहे आहे                                                           3    \n",
            "3  SYM   . .                                                                   2    \n",
            "4  PRP   येथे                                                                  1    \n",
            "5  NNC   जिल्हा जिल्हा                                                         2    \n",
            "6  NNP   भारतातील                                                              1    \n",
            "7  NNPC  मध्य                                                                  1    \n",
            "8  QC    एक                                                                    1    \n",
            "\n",
            "Related synsets =  \n",
            " [[\"[Synset('राज्य.noun.231')\", \" Synset('प्रदेश.noun.2022')\", \" Synset('राज्य.noun.26705')]\"]]\n",
            "\n",
            "Related indexes =  \n",
            " [['231'], ['2022'], ['26705']]\n",
            "\n",
            "Word ID ['231']  -  प्रदेश:प्रांत:सुभा:मुलूख | विशिष्ट अशा मर्यादांनी निश्चित केलेला व ज्यात राहणार्‍या लोकांची भाषा, राहणीमान इत्यादी दुसर्‍या भागाच्या लोकांपेक्षा वेगळी असते असा देशाचा एक भाग:\"प्रत्येक प्रदेशाच्या लोकांची राहणी वेगवेगळी असते\"\n",
            "Word ID ['2022']  -  प्रदेश:क्षेत्र:इलाखा:मुलूख:भाग:पट्टा | भूमीचा एक तुकडा:\"ग्रामीण प्रदेशात अजूनदेखील वीज समस्या कायम आहे.\"\n",
            "Word ID ['26705']  -  राज्य:प्रदेश | एखाद्या राज्यात किंवा प्रदेशात राहणारे लोक:\"पूर्ण राज्य महागाईने त्रस्त आहे.\"\n"
          ]
        }
      ]
    }
  ]
}