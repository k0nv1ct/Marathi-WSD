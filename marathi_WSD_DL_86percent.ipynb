{
  "nbformat": 4,
  "nbformat_minor": 0,
  "metadata": {
    "colab": {
      "provenance": [],
      "gpuType": "T4"
    },
    "kernelspec": {
      "name": "python3",
      "display_name": "Python 3"
    },
    "language_info": {
      "name": "python"
    },
    "gpuClass": "standard",
    "accelerator": "GPU"
  },
  "cells": [
    {
      "cell_type": "code",
      "execution_count": 2,
      "metadata": {
        "colab": {
          "base_uri": "https://localhost:8080/"
        },
        "id": "P9zYRBsx-jF_",
        "outputId": "e9939ceb-e0b3-457f-99a2-f0f560e3b8c1"
      },
      "outputs": [
        {
          "output_type": "stream",
          "name": "stdout",
          "text": [
            "Looking in indexes: https://pypi.org/simple, https://us-python.pkg.dev/colab-wheels/public/simple/\n",
            "Collecting pyconll\n",
            "  Downloading pyconll-3.1.0-py3-none-any.whl (26 kB)\n",
            "Installing collected packages: pyconll\n",
            "Successfully installed pyconll-3.1.0\n"
          ]
        }
      ],
      "source": [
        "! pip install pyconll"
      ]
    },
    {
      "cell_type": "code",
      "source": [
        "! pip install pydot"
      ],
      "metadata": {
        "colab": {
          "base_uri": "https://localhost:8080/"
        },
        "id": "B3wRA2z0-qs1",
        "outputId": "f03e7ce8-f4f5-4411-fe67-1427fa798554"
      },
      "execution_count": 3,
      "outputs": [
        {
          "output_type": "stream",
          "name": "stdout",
          "text": [
            "Looking in indexes: https://pypi.org/simple, https://us-python.pkg.dev/colab-wheels/public/simple/\n",
            "Requirement already satisfied: pydot in /usr/local/lib/python3.9/dist-packages (1.4.2)\n",
            "Requirement already satisfied: pyparsing>=2.1.4 in /usr/local/lib/python3.9/dist-packages (from pydot) (3.0.9)\n"
          ]
        }
      ]
    },
    {
      "cell_type": "code",
      "source": [
        "! pip install graphviz"
      ],
      "metadata": {
        "colab": {
          "base_uri": "https://localhost:8080/"
        },
        "id": "peS2ay1g-vtt",
        "outputId": "8997d171-76bc-42af-bcdb-a6c4be0373b5"
      },
      "execution_count": 4,
      "outputs": [
        {
          "output_type": "stream",
          "name": "stdout",
          "text": [
            "Looking in indexes: https://pypi.org/simple, https://us-python.pkg.dev/colab-wheels/public/simple/\n",
            "Requirement already satisfied: graphviz in /usr/local/lib/python3.9/dist-packages (0.20.1)\n"
          ]
        }
      ]
    },
    {
      "cell_type": "code",
      "source": [
        "from google.colab import drive\n",
        "drive.mount('/content/drive')"
      ],
      "metadata": {
        "colab": {
          "base_uri": "https://localhost:8080/"
        },
        "id": "kStTHq4bh1N5",
        "outputId": "2c0db1be-c90a-4f8f-a17f-bb2924f4f8e7"
      },
      "execution_count": 5,
      "outputs": [
        {
          "output_type": "stream",
          "name": "stdout",
          "text": [
            "Drive already mounted at /content/drive; to attempt to forcibly remount, call drive.mount(\"/content/drive\", force_remount=True).\n"
          ]
        }
      ]
    },
    {
      "cell_type": "code",
      "source": [
        "from numpy.random import seed\n",
        "seed(1)\n",
        "import tensorflow\n",
        "#from tensorflow import set_random_seed\n",
        "tensorflow.random.set_seed(2)\n",
        "import pyconll, keras, gensim, pickle, os, random, nltk, datetime, warnings, gc, urllib.request, zipfile, collections\n",
        "import numpy as np\n",
        "import matplotlib.pyplot as plt\n",
        "from gensim.models.keyedvectors import KeyedVectors\n",
        "from gensim.models import FastText\n",
        "from sklearn.utils import shuffle\n",
        "from sklearn.metrics import recall_score, precision_score, classification_report, accuracy_score, confusion_matrix, f1_score\n",
        "from sklearn.model_selection import train_test_split, StratifiedKFold, KFold, GridSearchCV, learning_curve, cross_val_score\n",
        "from sklearn import preprocessing\n",
        "from sklearn.exceptions import UndefinedMetricWarning\n",
        "\n",
        "from keras.models import Sequential, Model\n",
        "from keras.layers import Embedding, Dense, Input, LSTM, Bidirectional, GRU, TimeDistributed, concatenate,\\\n",
        "SpatialDropout1D, Layer, Lambda, BatchNormalization, Dropout, Activation\n",
        "from keras.callbacks import ModelCheckpoint, EarlyStopping, TensorBoard\n",
        "from tensorflow.keras.preprocessing.sequence import pad_sequences\n",
        "from keras.utils.np_utils import to_categorical\n",
        "from keras.callbacks import Callback\n",
        "from keras.models import load_model\n",
        "from keras.utils import plot_model\n",
        "from IPython.display import Image \n",
        "warnings.filterwarnings(action='ignore', category=UndefinedMetricWarning)"
      ],
      "metadata": {
        "id": "Pl3syWWp_ie9"
      },
      "execution_count": 6,
      "outputs": []
    },
    {
      "cell_type": "code",
      "source": [
        "from keras.layers import Flatten, GlobalMaxPooling1D\n",
        "from tensorflow.keras.layers import add\n",
        "from keras.layers.convolutional import Conv1D, Conv2D\n",
        "from keras.layers.convolutional import MaxPooling1D, MaxPooling2D\n",
        "from keras import backend as K"
      ],
      "metadata": {
        "id": "9W1BlyJMApa-"
      },
      "execution_count": 7,
      "outputs": []
    },
    {
      "cell_type": "code",
      "source": [
        "def plot_learning_curve(estimator, title, X, y, ylim=None, cv=None,\n",
        "                        n_jobs=None, train_sizes=np.linspace(.1, 1.0, 5)):\n",
        "    plt.title(title)\n",
        "    if ylim is not None:\n",
        "        plt.ylim(*ylim)\n",
        "    plt.xlabel(\"Training examples\")\n",
        "    plt.ylabel(\"Accuracy\")\n",
        "    train_sizes, train_scores, test_scores = learning_curve(\n",
        "        estimator, X, y, cv=cv, n_jobs=n_jobs, train_sizes=train_sizes, scoring='accuracy')\n",
        "    train_scores_mean = np.mean(train_scores, axis=1)\n",
        "    train_scores_std = np.std(train_scores, axis=1)\n",
        "    test_scores_mean = np.mean(test_scores, axis=1)\n",
        "    test_scores_std = np.std(test_scores, axis=1)\n",
        "    plt.grid()\n",
        "\n",
        "    plt.fill_between(train_sizes, train_scores_mean - train_scores_std,\n",
        "                     train_scores_mean + train_scores_std, alpha=0.1,\n",
        "                     color=\"r\")\n",
        "    plt.fill_between(train_sizes, test_scores_mean - test_scores_std,\n",
        "                     test_scores_mean + test_scores_std, alpha=0.1, color=\"g\")\n",
        "    plt.plot(train_sizes, train_scores_mean, 'o-', color=\"r\",\n",
        "             label=\"Training score\")\n",
        "    plt.plot(train_sizes, test_scores_mean, 'o-', color=\"g\",\n",
        "             label=\"Cross-validation score\")\n",
        "\n",
        "    plt.legend(loc=\"best\")\n",
        "    return plt"
      ],
      "metadata": {
        "id": "0lloDyNlHzM1"
      },
      "execution_count": 8,
      "outputs": []
    },
    {
      "cell_type": "code",
      "source": [
        "def plot_confusion_matrix(f1,\n",
        "                          cm,\n",
        "                          target_names,\n",
        "                          title='Confusion matrix',\n",
        "                          cmap=None,\n",
        "                          normalize=True,\n",
        "                          i=1):\n",
        "    \"\"\"\n",
        "    given a sklearn confusion matrix (cm), make a nice plot\n",
        "\n",
        "    Arguments\n",
        "    ---------\n",
        "    cm:           confusion matrix from sklearn.metrics.confusion_matrix\n",
        "\n",
        "    target_names: given classification classes such as [0, 1, 2]\n",
        "                  the class names, for example: ['high', 'medium', 'low']\n",
        "\n",
        "    title:        the text to display at the top of the matrix\n",
        "\n",
        "    cmap:         the gradient of the values displayed from matplotlib.pyplot.cm\n",
        "                  see http://matplotlib.org/examples/color/colormaps_reference.html\n",
        "                  plt.get_cmap('jet') or plt.cm.Blues\n",
        "\n",
        "    normalize:    If False, plot the raw numbers\n",
        "                  If True, plot the proportions\n",
        "\n",
        "    Usage\n",
        "    -----\n",
        "    plot_confusion_matrix(cm           = cm,                  # confusion matrix created by\n",
        "                                                              # sklearn.metrics.confusion_matrix\n",
        "                          normalize    = True,                # show proportions\n",
        "                          target_names = y_labels_vals,       # list of names of the classes\n",
        "                          title        = best_estimator_name) # title of graph\n",
        "\n",
        "    Citiation\n",
        "    ---------\n",
        "    http://scikit-learn.org/stable/auto_examples/model_selection/plot_confusion_matrix.html\n",
        "\n",
        "    \"\"\"\n",
        "    import matplotlib.pyplot as plt\n",
        "    import numpy as np\n",
        "    import itertools\n",
        "\n",
        "    accuracy = np.trace(cm) / float(np.sum(cm))\n",
        "    misclass = 1 - accuracy\n",
        "    plt.figure(figsize=(10, 6))\n",
        "    if cmap is None:\n",
        "        cmap = plt.get_cmap('Blues')\n",
        "\n",
        "    plt.imshow(cm, interpolation='nearest', cmap=cmap)\n",
        "    plt.title(title)\n",
        "    plt.colorbar()\n",
        "\n",
        "    if target_names is not None:\n",
        "        tick_marks = np.arange(len(target_names))\n",
        "        plt.xticks(tick_marks, target_names, rotation=45)\n",
        "        plt.yticks(tick_marks, target_names)\n",
        "\n",
        "    if normalize:\n",
        "        cm = cm.astype('float') / cm.sum(axis=1)[:, np.newaxis]\n",
        "\n",
        "\n",
        "    thresh = cm.max() / 1.5 if normalize else cm.max() / 2\n",
        "    for i, j in itertools.product(range(cm.shape[0]), range(cm.shape[1])):\n",
        "        if normalize:\n",
        "            plt.text(j, i, \"{:0.4f}\".format(cm[i, j]),\n",
        "                     horizontalalignment=\"center\",\n",
        "                     color=\"white\" if cm[i, j] > thresh else \"black\")\n",
        "        else:\n",
        "            plt.text(j, i, \"{:,}\".format(cm[i, j]),\n",
        "                     horizontalalignment=\"center\",\n",
        "                     color=\"white\" if cm[i, j] > thresh else \"black\")\n",
        "\n",
        "\n",
        "    plt.tight_layout()\n",
        "    plt.ylabel('True label')\n",
        "    plt.xlabel('Predicted label\\naccuracy={:0.4f}; misclass={:0.4f}; f1-score={:0.4f}'.format(accuracy, misclass, f1))"
      ],
      "metadata": {
        "id": "iVzNO-w_HzkV"
      },
      "execution_count": 9,
      "outputs": []
    },
    {
      "cell_type": "code",
      "source": [
        "def plot_acc():\n",
        "    plt.plot(history.history['accuracy'])\n",
        "    plt.plot(history.history['val_accuracy'])\n",
        "    plt.title('model accuracy')\n",
        "    plt.ylabel('accuracy')\n",
        "    plt.xlabel('epoch')\n",
        "    plt.legend(['train', 'test'], loc='upper left')\n",
        "    plt.show()"
      ],
      "metadata": {
        "id": "kVwKk6DAJM3P"
      },
      "execution_count": 10,
      "outputs": []
    },
    {
      "cell_type": "code",
      "source": [
        "def plot_loss():\n",
        "    plt.plot(history.history['loss'])\n",
        "    plt.plot(history.history['val_loss'])\n",
        "    plt.title('model loss')\n",
        "    plt.ylabel('loss')\n",
        "    plt.xlabel('epoch')\n",
        "    plt.legend(['train', 'test'], loc='upper left')\n",
        "    plt.show()"
      ],
      "metadata": {
        "id": "o_2Gj73wJPWf"
      },
      "execution_count": 11,
      "outputs": []
    },
    {
      "cell_type": "markdown",
      "source": [
        "##Parameters"
      ],
      "metadata": {
        "id": "Tm_vDgTiJUav"
      }
    },
    {
      "cell_type": "code",
      "source": [
        "MAX_CHAR_LENGTH=3\n",
        "MAX_SEQUENCE_LENGTH = 70\n",
        "EMBEDDING_DIM = 300\n",
        "#VALIDATION_SPLIT = 0.2\n",
        "BATCH_SIZE = 32\n",
        "EPOCHS = 10"
      ],
      "metadata": {
        "id": "THYy-VTlJQ7y"
      },
      "execution_count": 12,
      "outputs": []
    },
    {
      "cell_type": "markdown",
      "source": [
        "##dataSET"
      ],
      "metadata": {
        "id": "rY2YmI3-herc"
      }
    },
    {
      "cell_type": "code",
      "source": [
        "TRAIN = '/content/drive/MyDrive/MArathi_data/mr_cmupan-ud-train.conllu'\n",
        "DEV = '/content/drive/MyDrive/MArathi_data/mr_cmupan-ud-dev.conllu'\n",
        "TEST = '/content/drive/MyDrive/MArathi_data/mr_cmupan-ud-test.conllu'"
      ],
      "metadata": {
        "id": "hRitnl72JW1f"
      },
      "execution_count": 13,
      "outputs": []
    },
    {
      "cell_type": "code",
      "source": [
        "def read_conllu(path):\n",
        "    data = pyconll.load_from_file(path)\n",
        "    tagged_sentences=[]\n",
        "    t=0\n",
        "    for sentence in data:\n",
        "        tagged_sentence=[]\n",
        "        for token in sentence:\n",
        "            if token.upos and token.form:\n",
        "                t+=1\n",
        "                tagged_sentence.append((token.form.lower(), token.upos))\n",
        "        tagged_sentences.append(tagged_sentence)\n",
        "    return tagged_sentences"
      ],
      "metadata": {
        "id": "ZsOAdAz_irvN"
      },
      "execution_count": 14,
      "outputs": []
    },
    {
      "cell_type": "code",
      "source": [
        "train_sentences = read_conllu(TRAIN)\n",
        "val_sentences = read_conllu(DEV)\n",
        "test_sentences = read_conllu(TEST)"
      ],
      "metadata": {
        "id": "8gSmWpEaiyyq"
      },
      "execution_count": 15,
      "outputs": []
    },
    {
      "cell_type": "code",
      "source": [
        "print(\"Tagged sentences in train set: \", len(train_sentences))\n",
        "print(\"Tagged words in train set:\", len([item for sublist in train_sentences for item in sublist]))\n",
        "print(40*'=')\n",
        "print(\"Tagged sentences in dev set: \", len(val_sentences))\n",
        "print(\"Tagged words in dev set:\", len([item for sublist in val_sentences for item in sublist]))\n",
        "print(40*'=')\n",
        "print(\"Tagged sentences in test set: \", len(test_sentences))\n",
        "print(\"Tagged words in test set:\", len([item for sublist in test_sentences for item in sublist]))\n",
        "print(40*'*')\n",
        "print(\"Total sentences in dataset:\", len(train_sentences)+len(val_sentences)+len(test_sentences))"
      ],
      "metadata": {
        "colab": {
          "base_uri": "https://localhost:8080/"
        },
        "id": "-A0DL5dsi6H6",
        "outputId": "bbd66410-76ff-4f85-a2d9-b76a92488ea9"
      },
      "execution_count": 16,
      "outputs": [
        {
          "output_type": "stream",
          "name": "stdout",
          "text": [
            "Tagged sentences in train set:  11518\n",
            "Tagged words in train set: 163688\n",
            "========================================\n",
            "Tagged sentences in dev set:  1490\n",
            "Tagged words in dev set: 20089\n",
            "========================================\n",
            "Tagged sentences in test set:  1503\n",
            "Tagged words in test set: 21437\n",
            "****************************************\n",
            "Total sentences in dataset: 14511\n"
          ]
        }
      ]
    },
    {
      "cell_type": "code",
      "source": [
        "print(train_sentences[0])"
      ],
      "metadata": {
        "colab": {
          "base_uri": "https://localhost:8080/"
        },
        "id": "yqWgBeN-i8gn",
        "outputId": "ca069ef3-0b11-437f-fb1a-6ecbec4064e4"
      },
      "execution_count": 17,
      "outputs": [
        {
          "output_type": "stream",
          "name": "stdout",
          "text": [
            "[('बार्लीची', 'PROPN'), ('वैरण', 'NOUN'), ('जनावरांसाठी', 'NOUN'), ('बिछाना', 'NOUN'), ('सदृश', 'ADJ'), ('पसरवतात', 'VERB'), ('.', 'PUNCT')]\n"
          ]
        }
      ]
    },
    {
      "cell_type": "code",
      "source": [
        "# Some usefull functions\n",
        "def tag_sequence(sentences):\n",
        "    return [[t for w, t in sentence] for sentence in sentences]\n",
        "\n",
        "def text_sequence(sentences):\n",
        "    return [[w for w, t in sentence] for sentence in sentences]\n",
        "    #return [[' '.join([w for w, t in sentence])] for sentence in sentences]\n",
        "\n",
        "def id2word(sentences):\n",
        "    wordlist = [item for sublist in text_sequence(sentences) for item in sublist]\n",
        "    id2word = {k:v for k,v in enumerate(wordlist)}\n",
        "    return id2word\n",
        "\n",
        "def untag(tagged_sentence):\n",
        "    return [w for w, _ in tagged_sentence]\n",
        "\n",
        "def untag_pos(tagged_sentence):\n",
        "    return [t for _, t in tagged_sentence]\n",
        "\n",
        "def build_vocab(sentences):\n",
        "    vocab =set()\n",
        "    for sentence in sentences:\n",
        "        for word in untag(sentence):\n",
        "            vocab.add(word)\n",
        "    return sorted(list(vocab))"
      ],
      "metadata": {
        "id": "2AjmkGZjjAp7"
      },
      "execution_count": 18,
      "outputs": []
    },
    {
      "cell_type": "code",
      "source": [
        "# Function to convert terms to ids\n",
        "def numberize(sentences):\n",
        "    X = []\n",
        "    Y = []\n",
        "    u = set() #to keep unkown words\n",
        "    for sentence in sentences:\n",
        "        tempX = []\n",
        "        for word in untag(sentence):\n",
        "            if word in word2int:\n",
        "                tempX.append(word2int[word])\n",
        "            else:\n",
        "                tempX.append(word2int['-UNK-'])\n",
        "                u.add(word)\n",
        "        X.append(tempX)\n",
        "\n",
        "    for sentence in sentences:\n",
        "        tempY = []\n",
        "        for tag in untag_pos(sentence):\n",
        "            try:\n",
        "                tempY.append(tag2int[tag])\n",
        "            except:\n",
        "                tempY.append(0)                \n",
        "        Y.append(tempY)\n",
        "    return X, Y, u"
      ],
      "metadata": {
        "id": "EkU8VGWPjnOr"
      },
      "execution_count": 19,
      "outputs": []
    },
    {
      "cell_type": "code",
      "source": [
        "text_sequence(train_sentences)[0:2]"
      ],
      "metadata": {
        "colab": {
          "base_uri": "https://localhost:8080/"
        },
        "id": "iLaj098gjpLf",
        "outputId": "22131851-97c0-41bf-aa17-a127052458d7"
      },
      "execution_count": 20,
      "outputs": [
        {
          "output_type": "execute_result",
          "data": {
            "text/plain": [
              "[['बार्लीची', 'वैरण', 'जनावरांसाठी', 'बिछाना', 'सदृश', 'पसरवतात', '.'],\n",
              " ['बार्लीची',\n",
              "  'खोडे',\n",
              "  'कागद',\n",
              "  'तसेच',\n",
              "  'फायबरबोर्डनिर्मितीसाठी',\n",
              "  'वापरतात',\n",
              "  '.']]"
            ]
          },
          "metadata": {},
          "execution_count": 20
        }
      ]
    },
    {
      "cell_type": "code",
      "source": [
        "tag_sequence(train_sentences)[0:2]"
      ],
      "metadata": {
        "colab": {
          "base_uri": "https://localhost:8080/"
        },
        "id": "Ztq8Qv6TjrDR",
        "outputId": "aeacbc2a-a4a8-48c3-e4b7-5b702f79e199"
      },
      "execution_count": 21,
      "outputs": [
        {
          "output_type": "execute_result",
          "data": {
            "text/plain": [
              "[['PROPN', 'NOUN', 'NOUN', 'NOUN', 'ADJ', 'VERB', 'PUNCT'],\n",
              " ['PROPN', 'NOUN', 'NOUN', 'SCONJ', 'NOUN', 'VERB', 'PUNCT']]"
            ]
          },
          "metadata": {},
          "execution_count": 21
        }
      ]
    },
    {
      "cell_type": "markdown",
      "source": [
        "##Build dictionaries with word and tag vocabularies"
      ],
      "metadata": {
        "id": "zeOiKx8aj6dd"
      }
    },
    {
      "cell_type": "code",
      "source": [
        "import nltk\n",
        "from nltk.corpus import indian\n",
        "nltk.download('indian')\n",
        "# Load the Marathi POS dataset\n",
        "tagged_set = 'marathi.pos'\n",
        "tagged_sentences = indian.sents(tagged_set)"
      ],
      "metadata": {
        "colab": {
          "base_uri": "https://localhost:8080/"
        },
        "id": "MJNIjowwq4ln",
        "outputId": "d279ad1b-9718-4249-da67-3687def38591"
      },
      "execution_count": 22,
      "outputs": [
        {
          "output_type": "stream",
          "name": "stderr",
          "text": [
            "[nltk_data] Downloading package indian to /root/nltk_data...\n",
            "[nltk_data]   Unzipping corpora/indian.zip.\n"
          ]
        }
      ]
    },
    {
      "cell_type": "code",
      "source": [
        "words = build_vocab(train_sentences+val_sentences+test_sentences)"
      ],
      "metadata": {
        "id": "S9e5JBomjwNr"
      },
      "execution_count": 23,
      "outputs": []
    },
    {
      "cell_type": "code",
      "source": [
        "words"
      ],
      "metadata": {
        "colab": {
          "base_uri": "https://localhost:8080/"
        },
        "id": "oc2P0FT9uAwb",
        "outputId": "73dccb3d-daae-480c-ed69-186b92973b4c"
      },
      "execution_count": 24,
      "outputs": [
        {
          "output_type": "execute_result",
          "data": {
            "text/plain": [
              "['!',\n",
              " '\"',\n",
              " '\"\"',\n",
              " '\"अक्षर',\n",
              " '\"अर्बन',\n",
              " '\"आदिशक्ती\\'चे',\n",
              " '\"आयआयटीएम\\'प्रमाणेच',\n",
              " '\"आयडिया\\'कडे',\n",
              " '\"आयडिया\\'चा',\n",
              " '\"आर्ट',\n",
              " '\"इन्फोसिस\\'पासून',\n",
              " '\"इव्हेंटस्\\u200c\\'चा',\n",
              " '\"ई',\n",
              " '\"उपकार\\'च्या',\n",
              " '\"उल्फा\\'चा',\n",
              " '\"एनएसयूआय\\'चे',\n",
              " '\"एफआयआर\\'नुसार',\n",
              " '\"एमआयडीसी\\'च्या',\n",
              " '\"एमआयडीसी\\'ने',\n",
              " '\"एमएमआरडीए\\'कडून',\n",
              " '\"एसईझेड\\'चा',\n",
              " '\"ऑर्कुट\\'वर',\n",
              " '\"कयाकिंग\\'',\n",
              " '\"कलारंग\\'ची',\n",
              " '\"कलाश्री',\n",
              " '\"केबल',\n",
              " '\"क्\\u200dलोरिनेशन\\'ची',\n",
              " '\"गरीब',\n",
              " '\"गिनेस\\'मध्ये',\n",
              " '\"गोमन्तक\\'ला',\n",
              " '\"घर',\n",
              " '\"चंद्रा\\'च्या',\n",
              " '\"चेंज',\n",
              " '\"जंजीर\\'चे',\n",
              " '\"जंजीर\\'च्या',\n",
              " '\"जनसुराज्य\\'ला',\n",
              " '\"जादूगर\\'च्या',\n",
              " '\"जिहाद\\'चे',\n",
              " '\"टीएमटी\\'मध्ये',\n",
              " '\"टॉवर\\'मध्ये',\n",
              " '\"ट्राम\\'चा',\n",
              " '\"डब्ल्यूडब्ल्यूएफ\\'च्या',\n",
              " '\"डायव्हर्सीफाईड',\n",
              " '\"डिनर',\n",
              " '\"त्रिनिदाद',\n",
              " '\"थ्री',\n",
              " '\"दुष्काळा\\'शी',\n",
              " '\"दौलत\\'चे',\n",
              " '\"नगर',\n",
              " '\"नवप्रभा\\'चे',\n",
              " '\"निर्भय',\n",
              " '\"निसर्ग',\n",
              " '\"नॅशनल',\n",
              " '\"पारस\\'च्या',\n",
              " '\"पॅलेट',\n",
              " '\"पेपरबॅक\\'',\n",
              " '\"पेपरबॅक\\'ची',\n",
              " '\"पेपरबॅक\\'च्या',\n",
              " '\"पेपरबॅक\\'ना',\n",
              " '\"प्रमोशन\\'साठी',\n",
              " '\"फिल्टर',\n",
              " '\"फुलराणी',\n",
              " '\"बाईंडर\\'च्या',\n",
              " '\"बाईंडरचे',\n",
              " '\"बालाजी',\n",
              " '\"बिग',\n",
              " '\"बियॉंड',\n",
              " '\"बिल्ड',\n",
              " '\"बीआयएफआर\\'ला',\n",
              " '\"ब्राह्मोस\\'च्या',\n",
              " '\"ब्लॅक',\n",
              " '\"भरतनाट्यम्\\u200c\\'ने',\n",
              " '\"मनसे\\'कडे',\n",
              " '\"मनसे\\'च्या',\n",
              " '\"मनसे\\'बरोबर',\n",
              " '\"महानगर',\n",
              " '\"महावितरण\\'चे',\n",
              " '\"महावितरण\\'ने',\n",
              " '\"मांडवी',\n",
              " '\"मान्सून\\'च्या',\n",
              " '\"मालिक',\n",
              " '\"मिसिंग\\'च्या',\n",
              " '\"मुक्तांगण\\'चे',\n",
              " '\"मुक्तांगण\\'सारख्या',\n",
              " '\"मॉल\\'च्या',\n",
              " '\"मोबाईल\\'चा',\n",
              " '\"रडार',\n",
              " '\"रडार\\'मुळे',\n",
              " '\"राजा',\n",
              " '\"रिमोट\\'च्या',\n",
              " '\"री',\n",
              " '\"रुंदी\\'ही',\n",
              " '\"रेंट',\n",
              " '\"रेव्ह',\n",
              " '\"रॉ\\'कडे',\n",
              " '\"रॉ\\'ने',\n",
              " '\"लाइव्ह',\n",
              " '\"लेटर',\n",
              " '\"वादा\\'ला',\n",
              " '\"वॉश\\'ची',\n",
              " '\"व्हायेबिलिटी',\n",
              " '\"शिवस्पर्श\\'चे',\n",
              " '\"संग्रह',\n",
              " '\"संस्कारभारती\\'च्या',\n",
              " '\"सकाळ',\n",
              " '\"सकाळ\\'चा',\n",
              " '\"सकाळ\\'चे',\n",
              " '\"सकाळ\\'च्या',\n",
              " '\"सकाळ\\'जवळ',\n",
              " '\"सकाळ\\'तर्फे',\n",
              " '\"सकाळ\\'ला',\n",
              " '\"सकाळ\\'शी',\n",
              " '\"सर्च\\'ने',\n",
              " '\"सहचरी\\'मधल्या',\n",
              " '\"सहचरी\\'मध्ये',\n",
              " '\"सायकल\\'चा',\n",
              " '\"सिद्धार्थ\\'ने',\n",
              " '\"सीआयडी\\'चे',\n",
              " '\"सीआयडी\\'च्या',\n",
              " '\"सीआयडी\\'ने',\n",
              " '\"सीआयडी\\'ला',\n",
              " '\"सीबीआय\\'चे',\n",
              " '\"सीसीटीव्ही\\'च्या',\n",
              " '\"सूरज\\'पासून',\n",
              " '\"सेल\\'द्वारे',\n",
              " '\"सोमेश्\\u200dवर\\'चे',\n",
              " '\"स्टार',\n",
              " '\"स्वरानंद',\n",
              " '\"हॉट',\n",
              " '#',\n",
              " '$',\n",
              " \"'\",\n",
              " \"'राष्ट्रवादी'\",\n",
              " \"'राष्ट्रवादी'ची\",\n",
              " \"'राष्ट्रवादी'चे\",\n",
              " \"'राष्ट्रवादी'च्या\",\n",
              " \"'राष्ट्रवादी'ने\",\n",
              " \"'राष्ट्रवादी'ला\",\n",
              " '(',\n",
              " ')',\n",
              " '*',\n",
              " '+',\n",
              " ',',\n",
              " '-',\n",
              " '-१५°से',\n",
              " '-१८°से',\n",
              " '-६°से.पेक्षा',\n",
              " '.',\n",
              " '..',\n",
              " '...',\n",
              " '.....',\n",
              " '...चिरीमिरी',\n",
              " '/',\n",
              " '0c',\n",
              " '100',\n",
              " '100%',\n",
              " '15',\n",
              " '15%',\n",
              " '15%पर्यंत',\n",
              " '15-dec',\n",
              " '150-200g',\n",
              " '1767मध्ये',\n",
              " '18%',\n",
              " '1855मध्ये',\n",
              " '1873मध्ये',\n",
              " '1876पासून',\n",
              " '1876मध्ये',\n",
              " '1877चा',\n",
              " '1878मध्ये',\n",
              " '1895मध्ये',\n",
              " '19',\n",
              " '19%',\n",
              " '1930मध्ये',\n",
              " '1980',\n",
              " '2',\n",
              " '20%',\n",
              " '200-300g',\n",
              " '2003',\n",
              " '2006च्या',\n",
              " '2006मध्ये',\n",
              " '2007मध्ये',\n",
              " '2007साली',\n",
              " '2008',\n",
              " '2010मध्ये',\n",
              " '20on',\n",
              " '25%',\n",
              " '28%',\n",
              " '30',\n",
              " '310',\n",
              " '38-45%',\n",
              " '4',\n",
              " '40-60g',\n",
              " '5%',\n",
              " '50%',\n",
              " '8%',\n",
              " '85%',\n",
              " '90',\n",
              " ':',\n",
              " ';',\n",
              " '?',\n",
              " '@',\n",
              " '[',\n",
              " '[[.',\n",
              " '[[अनेक',\n",
              " '[[केला',\n",
              " '[[मुख्य',\n",
              " '[[व',\n",
              " '[[साजरे',\n",
              " '[[४२',\n",
              " '\\\\',\n",
              " ']',\n",
              " '`',\n",
              " '``',\n",
              " '````',\n",
              " 'backwaters',\n",
              " 'bakery',\n",
              " 'cacahuate',\n",
              " 'cacahuète',\n",
              " 'com',\n",
              " 'comवर',\n",
              " 'cwq',\n",
              " 'e.',\n",
              " 'esakal',\n",
              " 'family',\n",
              " 'giant',\n",
              " 'grizzled',\n",
              " 'h2',\n",
              " 'human',\n",
              " 'i',\n",
              " 'icar',\n",
              " 'icrisat',\n",
              " 'ildc',\n",
              " 'in',\n",
              " 'india',\n",
              " 'isma',\n",
              " 'jul-२०',\n",
              " 'k',\n",
              " 'k2o',\n",
              " 'lb',\n",
              " 'm.',\n",
              " 'm2',\n",
              " 'm3',\n",
              " 'm3पर्यंत',\n",
              " 'mn',\n",
              " 'n',\n",
              " 'n2',\n",
              " 'nh4+',\n",
              " 'nची',\n",
              " 'of',\n",
              " 'off',\n",
              " 'org',\n",
              " 'p',\n",
              " 'p2o5',\n",
              " 'ph',\n",
              " 'phचे',\n",
              " 'pची',\n",
              " 'region',\n",
              " 'resource',\n",
              " 'squirrel',\n",
              " 'tlalcacahuatl',\n",
              " 'voc',\n",
              " 'webeditor',\n",
              " 'welcomenepal',\n",
              " 'www',\n",
              " 'zn',\n",
              " '{',\n",
              " 'ः',\n",
              " 'अ',\n",
              " 'अ-सेंद्रिय',\n",
              " 'अँगचोक',\n",
              " 'अँग्री',\n",
              " 'अँग्लोइंडियन',\n",
              " 'अँड',\n",
              " 'अँड्रोपोगोनिआच्या',\n",
              " 'अँफ्लाटॉक्सिनसाठी',\n",
              " 'अँलन',\n",
              " 'अंकाचे',\n",
              " 'अंकात',\n",
              " 'अंकित',\n",
              " 'अंकुर',\n",
              " 'अंकुरण',\n",
              " 'अंकुरणकाळ',\n",
              " 'अंकुरणाची',\n",
              " 'अंकुरणाचे',\n",
              " 'अंकुरणाच्या',\n",
              " 'अंकुरणासाठी',\n",
              " 'अंकुरत',\n",
              " 'अंकुरपोष',\n",
              " 'अंकुरवले',\n",
              " 'अंकुरांचे',\n",
              " 'अंकुरांच्या',\n",
              " 'अंकुरित',\n",
              " 'अंकुरीत',\n",
              " 'अंकुश',\n",
              " 'अंकूर',\n",
              " 'अंकूश',\n",
              " 'अंग',\n",
              " 'अंगठी',\n",
              " 'अंगठीच्या',\n",
              " 'अंगठीत',\n",
              " 'अंगठ्या',\n",
              " 'अंगठ्यांवर',\n",
              " 'अंगठ्याच्या',\n",
              " 'अंगण',\n",
              " 'अंगणात',\n",
              " 'अंगणाला',\n",
              " 'अंगणे',\n",
              " 'अंगभर',\n",
              " 'अंगभूत',\n",
              " 'अंगरक्षकाची',\n",
              " 'अंगरक्षकाने',\n",
              " 'अंगरखा',\n",
              " 'अंगरावाडीला',\n",
              " 'अंगविक्षेप',\n",
              " 'अंगात',\n",
              " 'अंगातील',\n",
              " 'अंगावर',\n",
              " 'अंगावरच्या',\n",
              " 'अंगावरील',\n",
              " 'अंगी',\n",
              " 'अंगीकार',\n",
              " 'अंगीकारला',\n",
              " 'अंगुलीनिर्देश',\n",
              " 'अंगोरा',\n",
              " 'अंघोळ',\n",
              " 'अंचुतेंगु',\n",
              " 'अंचुतेंगुचा',\n",
              " 'अंचुतेंगुची',\n",
              " 'अंचुतेंगुचे',\n",
              " 'अंचुतेंगुमध्ये',\n",
              " 'अंचुतेंगुशी',\n",
              " 'अंचुतेंगुहून',\n",
              " 'अंजनगाव',\n",
              " 'अंजना',\n",
              " 'अंजनी',\n",
              " 'अंजनीच्या',\n",
              " 'अंजली',\n",
              " 'अंजुना',\n",
              " 'अंजू',\n",
              " 'अंजूम',\n",
              " 'अंडनिक्षेपक',\n",
              " 'अंडरग्राउंड',\n",
              " 'अंडाकार',\n",
              " 'अंडाशय',\n",
              " 'अंडाशयाचा',\n",
              " 'अंडाशयाच्या',\n",
              " 'अंडी',\n",
              " 'अंडे',\n",
              " 'अंड्यांचे',\n",
              " 'अंड्यांच्या',\n",
              " 'अंड्यांतून',\n",
              " 'अंड्यांमधून',\n",
              " 'अंड्याची',\n",
              " 'अंड्यामध्ये',\n",
              " 'अंत',\n",
              " 'अंतर',\n",
              " 'अंतरं',\n",
              " 'अंतरंग',\n",
              " 'अंतरंगसुद्धा',\n",
              " 'अंतरंगाकडे',\n",
              " 'अंतरराज्यीय',\n",
              " 'अंतरराष्ट्रीय',\n",
              " 'अंतराचा',\n",
              " 'अंतराची',\n",
              " 'अंतराचे',\n",
              " 'अंतराच्या',\n",
              " 'अंतरात',\n",
              " 'अंतराने',\n",
              " 'अंतराळवीर',\n",
              " 'अंतराळवीरांना',\n",
              " 'अंतराळवीरांपुढे',\n",
              " 'अंतराळात',\n",
              " 'अंतरावर',\n",
              " 'अंतरावरील',\n",
              " 'अंतरावरून',\n",
              " 'अंतरीम',\n",
              " 'अंतर्गत',\n",
              " 'अंतर्गते',\n",
              " 'अंतर्गलन',\n",
              " 'अंतर्गलनामुळे',\n",
              " 'अंतर्धान',\n",
              " 'अंतर्भाव',\n",
              " 'अंतर्भूत',\n",
              " 'अंतर्मिश्रित',\n",
              " 'अंतस्त्वचेचा',\n",
              " 'अंतिम',\n",
              " 'अंत्ययात्रा',\n",
              " 'अंत्यसंस्कार',\n",
              " 'अंथरुणाला',\n",
              " 'अंथरुणावर',\n",
              " 'अंदाज',\n",
              " 'अंदाजच',\n",
              " 'अंदाजपत्रक',\n",
              " 'अंदाजपत्रकात',\n",
              " 'अंदाजयोग्य',\n",
              " 'अंदाजही',\n",
              " 'अंदाजात',\n",
              " 'अंदाजातील',\n",
              " 'अंदाजानुसार',\n",
              " 'अंदाजाप्रमाणे',\n",
              " 'अंदाजित',\n",
              " 'अंदाजे',\n",
              " 'अंदाधुंद',\n",
              " 'अंदावर',\n",
              " 'अंध',\n",
              " 'अंधकारमय',\n",
              " 'अंधच',\n",
              " 'अंधत्वावर',\n",
              " 'अंधांची',\n",
              " 'अंधार',\n",
              " 'अंधारल्यावर',\n",
              " 'अंधारात',\n",
              " 'अंधारातच',\n",
              " 'अंधाऱ्या',\n",
              " 'अंधेरीतील',\n",
              " 'अंबकेश्वर',\n",
              " 'अंबरनाथ',\n",
              " 'अंबरनाथच्या',\n",
              " 'अंबरीशाच्या',\n",
              " 'अंबवण',\n",
              " 'अंबाडकर',\n",
              " 'अंबाडी',\n",
              " 'अंबाडीच्या',\n",
              " 'अंबादास',\n",
              " 'अंबाला',\n",
              " 'अंबिका',\n",
              " 'अंमल',\n",
              " 'अंमलबजावणी',\n",
              " 'अंमलबजावणीत',\n",
              " 'अंमलबजावणीद्वारे',\n",
              " 'अंमलबजावणीवर',\n",
              " 'अंर्तगत',\n",
              " 'अंश',\n",
              " 'अंशतः',\n",
              " 'अंशांवर',\n",
              " 'अंशात',\n",
              " 'अंशी',\n",
              " 'अकबर',\n",
              " 'अकबराकडून',\n",
              " 'अकबराची',\n",
              " 'अकबराचे',\n",
              " 'अकबराच्या',\n",
              " 'अकबरानंतर',\n",
              " 'अकबराने',\n",
              " 'अकबरासमोर',\n",
              " 'अकबरी',\n",
              " 'अकरा',\n",
              " 'अकरावी',\n",
              " 'अकराव्या',\n",
              " 'अकस्मात',\n",
              " 'अकादमी',\n",
              " 'अकादमीची',\n",
              " 'अकादमीचे',\n",
              " 'अकादमीच्या',\n",
              " 'अकादमीतून',\n",
              " 'अकादमीमध्ये',\n",
              " 'अकादमीसुद्धा',\n",
              " 'अकाली',\n",
              " 'अकाष्ठीय',\n",
              " 'अकुशल',\n",
              " 'अकेशिया',\n",
              " 'अकोल्याला',\n",
              " 'अक्करमाशी',\n",
              " 'अक्कलकोट',\n",
              " 'अक्खी',\n",
              " 'अक्टोबर',\n",
              " 'अक्रोड',\n",
              " 'अक्रोडसहित',\n",
              " 'अक्ष',\n",
              " 'अक्षंशावर',\n",
              " 'अक्षय',\n",
              " 'अक्षयतृतीया',\n",
              " 'अक्षयतृतीयेच्या',\n",
              " 'अक्षयतृतीयेपासून',\n",
              " 'अक्षयतृतीयेला',\n",
              " 'अक्षय्यी',\n",
              " 'अक्षर',\n",
              " 'अक्षरधन',\n",
              " 'अक्षरलेखक',\n",
              " 'अक्षरलेखन',\n",
              " 'अक्षरलेखनाचा',\n",
              " 'अक्षरलेखनाचे',\n",
              " 'अक्षरलेखनातून',\n",
              " 'अक्षरलेखनाद्वारे',\n",
              " 'अक्षरशः',\n",
              " 'अक्षरांची',\n",
              " 'अक्षरावर',\n",
              " 'अक्षांश',\n",
              " 'अक्षांशाच्या',\n",
              " 'अक्षांशामध्ये',\n",
              " 'अक्षांशावर',\n",
              " 'अक्षुण्ण',\n",
              " 'अक्\\u200dकल',\n",
              " 'अखंड',\n",
              " 'अखंडपणे',\n",
              " 'अखत्यारीत',\n",
              " 'अखत्यारीतील',\n",
              " 'अखनूर',\n",
              " 'अखनूरमध्ये',\n",
              " 'अखाडा',\n",
              " 'अखाद्यभाग',\n",
              " 'अखिल',\n",
              " 'अखेर',\n",
              " 'अखेरचा',\n",
              " 'अखेरची',\n",
              " 'अखेरच्या',\n",
              " 'अखेरपर्यंत',\n",
              " 'अखेरीस',\n",
              " 'अख्खा',\n",
              " 'अख्तर',\n",
              " 'अगणित',\n",
              " 'अगदी',\n",
              " 'अगदीच',\n",
              " 'अगम',\n",
              " 'अगम्य',\n",
              " 'अगर्\\u200dयातील',\n",
              " 'अगस्त्य',\n",
              " 'अगस्त्यकूडमधून',\n",
              " 'अगस्त्यांचे',\n",
              " 'अगस्त्यारकूडम',\n",
              " 'अगस्त्यारकूडमपर्यंतचे',\n",
              " 'अगाध',\n",
              " 'अगोंडा',\n",
              " 'अगोदर',\n",
              " 'अग्निप्रदीपन',\n",
              " 'अग्निप्रलयाचे',\n",
              " 'अग्निमध्ये',\n",
              " 'अग्निशमन',\n",
              " 'अग्निशामक',\n",
              " 'अग्नी',\n",
              " 'अग्यार',\n",
              " 'अग्र',\n",
              " 'अग्रक्रम',\n",
              " 'अग्रगण्य',\n",
              " 'अग्रणी',\n",
              " 'अग्रपादांच्या',\n",
              " 'अग्रभागी',\n",
              " 'अग्रवक्ष',\n",
              " 'अग्रसेन',\n",
              " 'अग्रस्थानी',\n",
              " 'अग्रीकल्चर',\n",
              " 'अग्रेसर',\n",
              " 'अघार',\n",
              " 'अघोड',\n",
              " 'अचंबीत',\n",
              " 'अचल',\n",
              " 'अचलपूर',\n",
              " 'अचलीयन',\n",
              " 'अचानक',\n",
              " 'अचानकपणे',\n",
              " 'अचूक',\n",
              " 'अचूकतेसाठी',\n",
              " 'अचूकपणा',\n",
              " 'अच्युत',\n",
              " 'अजंता',\n",
              " 'अजब',\n",
              " 'अजमावीत',\n",
              " 'अजमेर',\n",
              " 'अजय',\n",
              " 'अजरामर',\n",
              " 'अजस्र',\n",
              " 'अजाणत्या',\n",
              " 'अजातशत्रु',\n",
              " 'अजायबदेव',\n",
              " 'अजिंठा',\n",
              " 'अजित',\n",
              " 'अजितचं',\n",
              " 'अजितच्या',\n",
              " 'अजिबात',\n",
              " 'अजी',\n",
              " 'अजीमाबाद',\n",
              " 'अजून',\n",
              " 'अजूनही',\n",
              " 'अजैविक',\n",
              " 'अज्ञात',\n",
              " 'अज्ञातवासात',\n",
              " 'अज्ञानाचे',\n",
              " 'अझरुद्दीन',\n",
              " 'अझीज',\n",
              " 'अझीम',\n",
              " 'अट',\n",
              " 'अटक',\n",
              " 'अटकपूर्व',\n",
              " 'अटकाव',\n",
              " 'अटकेची',\n",
              " 'अटकेचे',\n",
              " 'अटकेच्या',\n",
              " 'अटकेत',\n",
              " 'अटकेनंतर',\n",
              " 'अटकेमुळे',\n",
              " 'अटलबिहारी',\n",
              " 'अटलांटिको',\n",
              " 'अटळ',\n",
              " 'अटी',\n",
              " 'अटींवर',\n",
              " 'अटीवर',\n",
              " 'अट्टाकल',\n",
              " 'अट्टाकलारी',\n",
              " 'अट्टाहास',\n",
              " 'अट्टाहासाने',\n",
              " 'अठरा',\n",
              " 'अठराविश्\\u200dवे',\n",
              " 'अठराव्या',\n",
              " 'अठ्ठ्याणव',\n",
              " 'अडकणार',\n",
              " 'अडकत',\n",
              " 'अडकला',\n",
              " 'अडकलेल्या',\n",
              " 'अडकल्या',\n",
              " 'अडकल्याने',\n",
              " 'अडकल्यावर',\n",
              " 'अडकवण्याच्या',\n",
              " 'अडकवली',\n",
              " 'अडकून',\n",
              " 'अडकूरकर',\n",
              " 'अडकेल',\n",
              " 'अडखळत',\n",
              " 'अडखळू',\n",
              " 'अडगळीच्या',\n",
              " 'अडचण',\n",
              " 'अडचणनिर्माण',\n",
              " 'अडचणी',\n",
              " 'अडचणींनी',\n",
              " 'अडचणींबाबत',\n",
              " 'अडचणींमुळे',\n",
              " 'अडचणींवर',\n",
              " 'अडचणीचे',\n",
              " 'अडचणीच्या',\n",
              " 'अडचणीत',\n",
              " 'अडचणीतून',\n",
              " 'अडचणीबरोबरच',\n",
              " 'अडचणीवर',\n",
              " 'अडते',\n",
              " 'अडथळा',\n",
              " 'अडथळे',\n",
              " 'अडथळ्यांरहित',\n",
              " 'अडथळ्यांशी',\n",
              " 'अडबंग',\n",
              " 'अडला',\n",
              " 'अडलेली',\n",
              " 'अडवत',\n",
              " 'अडवली',\n",
              " 'अडवानी',\n",
              " 'अडविण्याचा',\n",
              " 'अडवीत',\n",
              " 'अडवू',\n",
              " 'अडसर',\n",
              " 'अडीअडचणीला',\n",
              " 'अडीअडीचणी',\n",
              " 'अडीच',\n",
              " 'अडीचनंतर',\n",
              " 'अडीचशे',\n",
              " 'अडेज्मधील',\n",
              " 'अड्ड्यांवर',\n",
              " 'अड्ड्यावरून',\n",
              " 'अढी',\n",
              " 'अढीच',\n",
              " 'अणुऊर्जा',\n",
              " 'अणुतंत्रज्ञान',\n",
              " 'अणू',\n",
              " 'अणूंनी',\n",
              " 'अणे',\n",
              " 'अण्णा',\n",
              " 'अण्णांच्या',\n",
              " 'अण्णांनी',\n",
              " 'अण्णासाहेब',\n",
              " 'अतः',\n",
              " 'अति',\n",
              " 'अति-उंच',\n",
              " 'अति-उंचीवर',\n",
              " 'अतिअतिजलद',\n",
              " 'अतिउंच',\n",
              " 'अतिउंचावरील',\n",
              " 'अतिक्रणविरोधी',\n",
              " 'अतिक्रमण',\n",
              " 'अतिक्रमणविरोधी',\n",
              " 'अतिक्रमणे',\n",
              " 'अतितातडीची',\n",
              " 'अतितातडीच्या',\n",
              " 'अतिथिगृहे',\n",
              " 'अतिथी',\n",
              " 'अतिथींना',\n",
              " 'अतिथींसाठी',\n",
              " 'अतिथीगृह',\n",
              " 'अतिथीगृहात',\n",
              " 'अतिनील',\n",
              " 'अतिपक्व',\n",
              " 'अतिप्रचीन',\n",
              " 'अतिप्रमाणात',\n",
              " 'अतिप्राचीन',\n",
              " 'अतिभव्य',\n",
              " 'अतिरिक्त',\n",
              " 'अतिरिक्\\u200dत',\n",
              " 'अतिरेकी',\n",
              " 'अतिरेक्\\u200dयांना',\n",
              " 'अतिरेक्\\u200dयाने',\n",
              " 'अतिरेक्\\u200dयाबरोबरच्या',\n",
              " 'अतिरेक्\\u200dयाला',\n",
              " 'अतिरेक्\\u200dयासह',\n",
              " 'अतिवृष्टी',\n",
              " 'अतिवृष्टीच्यावेळी',\n",
              " 'अतिवृष्टीमध्ये',\n",
              " 'अतिवृष्टीमुळे',\n",
              " 'अतिशय',\n",
              " 'अतिशयोक्ती',\n",
              " 'अतिसार',\n",
              " 'अतिसूचना',\n",
              " 'अतीच',\n",
              " 'अतीव',\n",
              " 'अतीश',\n",
              " 'अतुल',\n",
              " 'अतूट',\n",
              " 'अतोनात',\n",
              " 'अत्तर',\n",
              " 'अत्यंत',\n",
              " 'अत्यधिक',\n",
              " 'अत्यन्त',\n",
              " 'अत्यल्प',\n",
              " 'अत्याधिक',\n",
              " 'अत्याधुनिक',\n",
              " 'अत्याधुनिकता',\n",
              " 'अत्याधुनिकतेचा',\n",
              " 'अत्याधुनिकतेची',\n",
              " 'अत्याधुनिकतेला',\n",
              " 'अत्यावश्यक',\n",
              " 'अत्युच्च',\n",
              " 'अत्युत्कृष्ट',\n",
              " 'अत्युत्तम',\n",
              " 'अत्रे',\n",
              " 'अत्सुएज',\n",
              " 'अथवा',\n",
              " 'अथांग',\n",
              " 'अथावर',\n",
              " 'अदखलपात्र',\n",
              " 'अदभुत',\n",
              " 'अदलाबदल',\n",
              " 'अदृश्य',\n",
              " 'अदृश्\\u200dय',\n",
              " 'अद्दल',\n",
              " 'अद्भुत',\n",
              " 'अद्भूत',\n",
              " 'अद्ययावत',\n",
              " 'अद्याप',\n",
              " 'अद्यापपर्यंत',\n",
              " 'अद्यापही',\n",
              " 'अद्यापि',\n",
              " 'अद्रावणीय',\n",
              " 'अद्राव्य',\n",
              " 'अद्वितीय',\n",
              " 'अद्वैत',\n",
              " 'अद्\\u200cभुत',\n",
              " 'अद्\\u200cभूत',\n",
              " 'अधांतरी',\n",
              " 'अधांतरीच',\n",
              " 'अधिक',\n",
              " 'अधिकच',\n",
              " 'अधिकतम',\n",
              " 'अधिकतर',\n",
              " 'अधिकप्रमाणात',\n",
              " 'अधिकप्रमाणातील',\n",
              " 'अधिकऱ्यांकडून',\n",
              " 'अधिकांश',\n",
              " 'अधिकाधिक',\n",
              " 'अधिकार',\n",
              " 'अधिकारच',\n",
              " 'अधिकारांचा',\n",
              " 'अधिकाराखाली',\n",
              " 'अधिकारात',\n",
              " 'अधिकाराने',\n",
              " 'अधिकारिक',\n",
              " 'अधिकारी',\n",
              " 'अधिकारी...',\n",
              " 'अधिकारीच',\n",
              " 'अधिकारीही',\n",
              " 'अधिकार्यांना',\n",
              " 'अधिकार्\\u200dयांचे',\n",
              " 'अधिकार्\\u200dयांच्या',\n",
              " 'अधिकार्\\u200dयांना',\n",
              " 'अधिकाऱ्यांकडून',\n",
              " 'अधिकाऱ्यांकडूनही',\n",
              " 'अधिकाऱ्यांकडे',\n",
              " 'अधिकाऱ्यांचा',\n",
              " 'अधिकाऱ्यांची',\n",
              " 'अधिकाऱ्यांचे',\n",
              " 'अधिकाऱ्यांच्या',\n",
              " 'अधिकाऱ्यांना',\n",
              " 'अधिकाऱ्यांनी',\n",
              " 'अधिकाऱ्यांनीच',\n",
              " 'अधिकाऱ्यांनीही',\n",
              " 'अधिकाऱ्यांवर',\n",
              " 'अधिकाऱ्यांवरही',\n",
              " 'अधिकाऱ्यांवरील',\n",
              " 'अधिकाऱ्यांशी',\n",
              " 'अधिकाऱ्यांसाठी',\n",
              " 'अधिकाऱ्याचे',\n",
              " 'अधिकाऱ्याच्या',\n",
              " 'अधिकाऱ्याने',\n",
              " 'अधिकाऱ्यानेही',\n",
              " 'अधिकाऱ्याला',\n",
              " 'अधिकाऱ्यावर',\n",
              " 'अधिकाऱ्याशी',\n",
              " 'अधिकाऱ्यासमोर',\n",
              " 'अधिकृत',\n",
              " 'अधिकृतपणे',\n",
              " 'अधिग्रहण',\n",
              " 'अधिग्रहीत',\n",
              " 'अधिनियमित',\n",
              " 'अधिराज्य',\n",
              " 'अधिवेशन',\n",
              " 'अधिवेशनाचे',\n",
              " 'अधिवेशनाच्या',\n",
              " 'अधिवेशनात',\n",
              " 'अधिव्याख्याता',\n",
              " 'अधिष्ठाता',\n",
              " 'अधिसूचना',\n",
              " 'अधिसूचनेला',\n",
              " 'अधीक्षक',\n",
              " 'अधीक्षकांच्या',\n",
              " 'अधीक्षिका',\n",
              " 'अधीन',\n",
              " 'अधीर',\n",
              " 'अधीरता',\n",
              " 'अधुत्व',\n",
              " 'अधुनिक',\n",
              " 'अधूनमधून',\n",
              " 'अधेमधे',\n",
              " 'अधोगती',\n",
              " 'अधोबीजपत्राचे',\n",
              " 'अधोमुखी',\n",
              " 'अधोमुखीत',\n",
              " 'अधोरेखित',\n",
              " 'अध्यक्ष',\n",
              " 'अध्यक्षतेखाली',\n",
              " 'अध्यक्षतेखालील',\n",
              " 'अध्यक्षपद',\n",
              " 'अध्यक्षपदाची',\n",
              " 'अध्यक्षपदाच्या',\n",
              " 'अध्यक्षपदाबाबत',\n",
              " 'अध्यक्षपदावरून',\n",
              " 'अध्यक्षपदासाठी',\n",
              " 'अध्यक्षपदी',\n",
              " 'अध्यक्षस्थान',\n",
              " 'अध्यक्षस्थानावरून',\n",
              " 'अध्यक्षस्थानी',\n",
              " 'अध्यक्षस्थावरून',\n",
              " 'अध्यक्षा',\n",
              " 'अध्यक्षांची',\n",
              " 'अध्यक्षांना',\n",
              " 'अध्यक्षांनी',\n",
              " 'अध्ययन',\n",
              " 'अध्ययनाचा',\n",
              " 'अध्ययनाच्या',\n",
              " 'अध्ययनात',\n",
              " 'अध्ययनातून',\n",
              " 'अध्ययनाने',\n",
              " 'अध्ययनासाठी',\n",
              " 'अध्यात्म',\n",
              " 'अध्यात्मिक',\n",
              " 'अध्यापक',\n",
              " 'अध्याय',\n",
              " 'अनंग',\n",
              " 'अनंत',\n",
              " 'अनंतनाग',\n",
              " 'अनके',\n",
              " 'अनघा',\n",
              " 'अनधिकृत',\n",
              " 'अनन्तवर्मन',\n",
              " 'अनपेक्षितरीत्या',\n",
              " 'अनमोल',\n",
              " 'अनर्थ',\n",
              " 'अनवरत',\n",
              " 'अनवस्था',\n",
              " 'अनाकलनीय',\n",
              " 'अनाठायी',\n",
              " 'अनाथ',\n",
              " 'अनामिक',\n",
              " 'अनामुंडी',\n",
              " 'अनामुंडीपर्यंत',\n",
              " 'अनायन',\n",
              " 'अनारावाला',\n",
              " 'अनावर',\n",
              " 'अनावश्यक',\n",
              " 'अनावश्यकरित्या',\n",
              " 'अनासक्ती',\n",
              " 'अनास्था',\n",
              " 'अनिकेत',\n",
              " 'अनिता',\n",
              " 'अनियमित',\n",
              " 'अनियोजित',\n",
              " 'अनिल',\n",
              " 'अनिलने',\n",
              " 'अनिवर्ती',\n",
              " 'अनिवार्य',\n",
              " 'अनिवासी',\n",
              " 'अनिवासींचा',\n",
              " 'अनिश्चित',\n",
              " 'अनिश्\\u200dचित',\n",
              " 'अनिषेकजननिकरीत्या',\n",
              " 'अनिस',\n",
              " 'अनु',\n",
              " 'अनुकरण',\n",
              " 'अनुकुलचंद्राद्वारे',\n",
              " 'अनुकूल',\n",
              " 'अनुकूलचंद्र',\n",
              " 'अनुकूलता',\n",
              " 'अनुकूलनांनी',\n",
              " 'अनुकूलित',\n",
              " 'अनुक्रम',\n",
              " 'अनुक्रमण',\n",
              " 'अनुक्रमशः',\n",
              " 'अनुक्रमे',\n",
              " 'अनुचित',\n",
              " 'अनुज',\n",
              " 'अनुजा',\n",
              " 'अनुत्तरित',\n",
              " 'अनुदान',\n",
              " 'अनुदानही',\n",
              " 'अनुदानाचा',\n",
              " 'अनुदानाची',\n",
              " 'अनुदानात',\n",
              " 'अनुदानावर',\n",
              " 'अनुने',\n",
              " 'अनुप',\n",
              " 'अनुपम',\n",
              " 'अनुपमा',\n",
              " 'अनुपयुक्त',\n",
              " 'अनुपलब्ध',\n",
              " 'अनुपस्थितीमुळे',\n",
              " 'अनुपस्थितीही',\n",
              " 'अनुप्रयोगांकरीता',\n",
              " 'अनुप्रयोगांमध्ये',\n",
              " 'अनुभव',\n",
              " 'अनुभवण्यासाठी',\n",
              " 'अनुभवण्यासारखे',\n",
              " 'अनुभवतात',\n",
              " 'अनुभवला',\n",
              " 'अनुभवली',\n",
              " 'अनुभवलेले',\n",
              " 'अनुभवही',\n",
              " 'अनुभवांचा',\n",
              " 'अनुभवांनी',\n",
              " 'अनुभवांवर',\n",
              " 'अनुभवाचा',\n",
              " 'अनुभवातून',\n",
              " 'अनुभवाने',\n",
              " 'अनुभवायचे',\n",
              " 'अनुभवायला',\n",
              " 'अनुभवाला',\n",
              " 'अनुभवावर',\n",
              " 'अनुभवी',\n",
              " 'अनुभूती',\n",
              " 'अनुभूतींना',\n",
              " 'अनुमंडलमधील',\n",
              " 'अनुमंडळातच',\n",
              " 'अनुमती',\n",
              " 'अनुमान',\n",
              " 'अनुमानाच्या',\n",
              " 'अनुमोदन',\n",
              " 'अनुयांना',\n",
              " 'अनुयायांसाठी',\n",
              " 'अनुयायी',\n",
              " 'अनुराधा',\n",
              " 'अनुरूप',\n",
              " 'अनुला',\n",
              " 'अनुलाही',\n",
              " 'अनुवाद',\n",
              " 'अनुवादा',\n",
              " 'अनुशेष',\n",
              " 'अनुशेषाबाबत',\n",
              " 'अनुषंगाने',\n",
              " 'अनुष्ठान',\n",
              " 'अनुसंधान',\n",
              " 'अनुसरल्यामुळे',\n",
              " 'अनुसरून',\n",
              " 'अनुसार',\n",
              " 'अनुसारखा',\n",
              " 'अनुसूचित',\n",
              " 'अनू',\n",
              " 'अनूच',\n",
              " 'अनूचं',\n",
              " 'अनूची',\n",
              " 'अनूच्या',\n",
              " 'अनूच्यापेक्षा',\n",
              " 'अनूने',\n",
              " 'अनूपेक्षा',\n",
              " 'अनूला',\n",
              " 'अनूवर',\n",
              " 'अनूशी',\n",
              " 'अनूसहित',\n",
              " 'अनूसुद्धा',\n",
              " 'अनूहून',\n",
              " 'अनेक',\n",
              " 'अनेकजण',\n",
              " 'अनेकजणांचा',\n",
              " 'अनेकतेमध्ये',\n",
              " 'अनेकदा',\n",
              " 'अनेकविधतेशी',\n",
              " 'अनेकवेळा',\n",
              " 'अनेकांकडून',\n",
              " 'अनेकांना',\n",
              " ...]"
            ]
          },
          "metadata": {},
          "execution_count": 24
        }
      ]
    },
    {
      "cell_type": "code",
      "source": [
        "w = []\n",
        "for sent in tagged_sentences:\n",
        "  for word in sent:\n",
        "    w.append(word)\n"
      ],
      "metadata": {
        "id": "5FPtzYx6rN59"
      },
      "execution_count": 25,
      "outputs": []
    },
    {
      "cell_type": "code",
      "source": [
        "w"
      ],
      "metadata": {
        "colab": {
          "base_uri": "https://localhost:8080/"
        },
        "id": "4-fv9fp_roqM",
        "outputId": "aaf24278-fbe8-4832-e0eb-b5dd02fad498"
      },
      "execution_count": 26,
      "outputs": [
        {
          "output_type": "execute_result",
          "data": {
            "text/plain": [
              "[\"''\",\n",
              " 'सनातनवाद्यांनी',\n",
              " 'व',\n",
              " 'प्रतिगाम्यांनी',\n",
              " 'समाज',\n",
              " 'रसातळाला',\n",
              " 'नेला',\n",
              " 'असताना',\n",
              " 'या',\n",
              " 'अंधारात',\n",
              " 'बाळशास्त्री',\n",
              " 'जांभेकर',\n",
              " 'यांनी',\n",
              " \"'दर्पण'च्या\",\n",
              " 'माध्यमातून',\n",
              " 'पहिली',\n",
              " 'ज्ञानज्योत',\n",
              " 'तेववली',\n",
              " ',',\n",
              " \"''\",\n",
              " 'असे',\n",
              " 'प्रतिपादन',\n",
              " 'नटसम्राट',\n",
              " 'प्रभाकर',\n",
              " 'पणशीकर',\n",
              " 'यांनी',\n",
              " 'केले',\n",
              " '.',\n",
              " 'दर्पणकार',\n",
              " 'बाळशास्त्री',\n",
              " 'जांभेकर',\n",
              " 'यांच्या',\n",
              " '१९५व्या',\n",
              " 'जयंतीनिमित्त',\n",
              " 'महाराष्ट्र',\n",
              " 'संपादक',\n",
              " 'परिषद',\n",
              " 'व',\n",
              " 'सिंधुदुर्ग',\n",
              " 'जिल्हा',\n",
              " 'मराठी',\n",
              " 'पत्रकार',\n",
              " 'संघाच्या',\n",
              " 'वतीने',\n",
              " 'तसेच',\n",
              " 'महाराष्ट्र',\n",
              " 'जर्नलिस्ट',\n",
              " 'फाउंडेशन',\n",
              " 'व',\n",
              " 'महाराष्ट्र',\n",
              " 'ग्रामीण',\n",
              " 'पत्रकार',\n",
              " 'संघाच्या',\n",
              " 'सहभागाने',\n",
              " 'अभिवादन',\n",
              " 'कार्यक्रम',\n",
              " 'आयोजित',\n",
              " 'केला',\n",
              " 'होता',\n",
              " '.',\n",
              " 'महाराष्ट्र',\n",
              " 'संपादक',\n",
              " 'परिषदेचे',\n",
              " 'कार्याध्यक्ष',\n",
              " 'यशवंत',\n",
              " 'पाध्ये',\n",
              " ',',\n",
              " 'जिल्हा',\n",
              " 'पत्रकार',\n",
              " 'संघाचे',\n",
              " 'अध्यक्ष',\n",
              " 'शशी',\n",
              " 'सावंत',\n",
              " 'यावेळी',\n",
              " 'उपस्थित',\n",
              " 'होते',\n",
              " '.',\n",
              " 'श्री.',\n",
              " 'पणशीकर',\n",
              " 'म्हणाले',\n",
              " ',',\n",
              " \"''\",\n",
              " 'नव्या',\n",
              " 'ज्ञानाचा',\n",
              " 'व',\n",
              " 'पाश्\\u200dचात्य',\n",
              " 'विद्यांचा',\n",
              " 'परिचय',\n",
              " 'व्हावा',\n",
              " 'व',\n",
              " 'नवसमाज',\n",
              " 'निर्मितीच्या',\n",
              " 'विचारातून',\n",
              " 'देशाची',\n",
              " 'समृद्धी',\n",
              " ',',\n",
              " 'जनकल्याण',\n",
              " 'साधावे',\n",
              " 'या',\n",
              " 'विचारातून',\n",
              " 'जांभेकर',\n",
              " 'यांनी',\n",
              " \"'दर्पण'च्या\",\n",
              " 'माध्यमातून',\n",
              " 'सातत्याने',\n",
              " 'प्रयत्न',\n",
              " 'केले',\n",
              " '.',\n",
              " 'आजचे',\n",
              " 'वर्तमान',\n",
              " 'उद्याचा',\n",
              " 'इतिहास',\n",
              " 'आहे',\n",
              " '.',\n",
              " 'दर्पणकारांचे',\n",
              " 'पोंभुर्ले',\n",
              " 'येथे',\n",
              " 'स्मारक',\n",
              " 'उभारून',\n",
              " 'यशवंत',\n",
              " 'पाध्ये',\n",
              " 'यांनी',\n",
              " 'सामाजिक',\n",
              " 'दायित्व',\n",
              " 'सिद्ध',\n",
              " 'केले',\n",
              " 'आहे',\n",
              " '.',\n",
              " \"''\",\n",
              " 'महाराष्ट्र',\n",
              " 'संपादक',\n",
              " 'परिषदेतर्फे',\n",
              " 'श्री.',\n",
              " 'पणशीकर',\n",
              " ',',\n",
              " 'शशी',\n",
              " 'सावंत',\n",
              " ',',\n",
              " 'वामन',\n",
              " 'काळे',\n",
              " ',',\n",
              " 'संतोष',\n",
              " 'वायंगणकर',\n",
              " ',',\n",
              " 'दिलीप',\n",
              " 'हिंदळेकर',\n",
              " ',',\n",
              " 'राजीव',\n",
              " 'लोहार',\n",
              " ',',\n",
              " 'मधुसूदन',\n",
              " 'नानिवडेकर',\n",
              " ',',\n",
              " 'सुधाकर',\n",
              " 'जांभेकर',\n",
              " 'यांचा',\n",
              " 'सत्कार',\n",
              " 'झाला',\n",
              " '.',\n",
              " 'भारतीय',\n",
              " 'जनता',\n",
              " 'पक्षातर्फे',\n",
              " 'जिल्हा',\n",
              " 'परिषदेच्या',\n",
              " 'पंचवीस',\n",
              " 'आणि',\n",
              " 'पंचायत',\n",
              " 'समितीच्या',\n",
              " 'चाळीस',\n",
              " 'जागा',\n",
              " 'लढवायचा',\n",
              " 'निर्णय',\n",
              " 'आज',\n",
              " 'झाला',\n",
              " '.',\n",
              " 'ग्रामीण',\n",
              " 'जिल्हाध्यक्ष',\n",
              " 'बाळासाहेब',\n",
              " 'भोसले',\n",
              " 'यांच्या',\n",
              " 'अध्यक्षतेखाली',\n",
              " 'पक्षाची',\n",
              " 'आज',\n",
              " 'बैठक',\n",
              " 'झाली',\n",
              " '.',\n",
              " 'त्यात',\n",
              " 'हा',\n",
              " 'निर्णय',\n",
              " 'घेण्यात',\n",
              " 'आला',\n",
              " '.',\n",
              " 'इच्छुक',\n",
              " 'उमेदवारांच्या',\n",
              " 'मुलाखतीदेखील',\n",
              " 'या',\n",
              " 'वेळी',\n",
              " 'घेण्यात',\n",
              " 'आल्या',\n",
              " '.',\n",
              " 'पक्षाच्या',\n",
              " 'चिन्हावर',\n",
              " 'निवडणुका',\n",
              " 'लढवण्याचा',\n",
              " 'निर्णय',\n",
              " 'झाला',\n",
              " '.',\n",
              " 'सध्या',\n",
              " 'जिल्हा',\n",
              " 'परिषदेत',\n",
              " 'भाजपचा',\n",
              " 'एकमेव',\n",
              " 'सदस्य',\n",
              " 'आहे',\n",
              " '.',\n",
              " 'त्यामुळे',\n",
              " 'प्रत्येक',\n",
              " 'तालुकाध्यक्षांनी',\n",
              " 'दक्षता',\n",
              " 'घ्यावी',\n",
              " '.',\n",
              " 'प्रत्येक',\n",
              " 'तालुक्\\u200dयातून',\n",
              " 'किमान',\n",
              " 'एक',\n",
              " 'सदस्य',\n",
              " 'निवडून',\n",
              " 'यावा',\n",
              " ',',\n",
              " 'यासाठी',\n",
              " 'प्रयत्नशील',\n",
              " 'राहावे',\n",
              " ',',\n",
              " 'असे',\n",
              " 'आवाहन',\n",
              " 'केले',\n",
              " '.',\n",
              " 'या',\n",
              " 'वेळी',\n",
              " 'बाबा',\n",
              " 'देसाई',\n",
              " ',',\n",
              " 'के.',\n",
              " 'एस.',\n",
              " 'चौगुले',\n",
              " ',',\n",
              " 'राजाराम',\n",
              " 'टिपुगडे',\n",
              " ',',\n",
              " 'संभाजीराव',\n",
              " 'पाटील',\n",
              " ',',\n",
              " 'सौ.',\n",
              " 'नंदा',\n",
              " 'पाटील',\n",
              " ',',\n",
              " 'डॉ.',\n",
              " 'सुभाष',\n",
              " 'जाधव',\n",
              " ',',\n",
              " 'के.',\n",
              " 'बी.',\n",
              " 'देसाई',\n",
              " ',',\n",
              " 'दिलीप',\n",
              " 'चौगले',\n",
              " ',',\n",
              " 'अरुण',\n",
              " 'जोशी',\n",
              " ',',\n",
              " 'गामाजी',\n",
              " 'पाटील',\n",
              " ',',\n",
              " 'पोपट',\n",
              " 'पुजारी',\n",
              " ',',\n",
              " 'मुकुंद',\n",
              " 'पुजारी',\n",
              " ',',\n",
              " 'अर्जुन',\n",
              " 'पाटील',\n",
              " ',',\n",
              " 'सखाराम',\n",
              " 'पाटील',\n",
              " ',',\n",
              " 'अमर',\n",
              " 'जत्राटे',\n",
              " ',',\n",
              " 'अन्वर',\n",
              " 'जमादार',\n",
              " ',',\n",
              " 'देवाप्पा',\n",
              " 'पुजारी',\n",
              " ',',\n",
              " 'शंकरराव',\n",
              " 'तोरस्कर',\n",
              " 'यांची',\n",
              " 'भाषणे',\n",
              " 'झाली',\n",
              " '.',\n",
              " 'सज्ञान',\n",
              " 'होण्यापूर्वीच',\n",
              " 'मुलांना',\n",
              " 'धर्माला',\n",
              " 'वाहून',\n",
              " 'टाकण्याचे',\n",
              " 'प्रकार',\n",
              " 'वाढत',\n",
              " 'आहेत',\n",
              " '.',\n",
              " 'यामध्ये',\n",
              " 'मुलींचे',\n",
              " 'प्रमाण',\n",
              " 'अधिक',\n",
              " 'आहे',\n",
              " '.',\n",
              " 'मानवी',\n",
              " 'हक्कांची',\n",
              " 'पायमल्ली',\n",
              " 'करणाऱ्या',\n",
              " 'अशा',\n",
              " 'प्रकारांना',\n",
              " 'आळा',\n",
              " 'घालण्यासाठी',\n",
              " 'कायद्यात',\n",
              " 'तरतूद',\n",
              " 'होणे',\n",
              " 'गरजेचे',\n",
              " 'असल्याचे',\n",
              " 'मत',\n",
              " 'प्रा.',\n",
              " 'पुष्पा',\n",
              " 'भावे',\n",
              " 'यांनी',\n",
              " 'आज',\n",
              " 'येथे',\n",
              " 'व्यक्त',\n",
              " 'केले',\n",
              " '.',\n",
              " 'शिवाजी',\n",
              " 'विद्यापीठाच्या',\n",
              " 'राज्यशास्त्र',\n",
              " 'विभागाच्या',\n",
              " 'वतीने',\n",
              " 'स्त्री',\n",
              " 'हक्क',\n",
              " 'या',\n",
              " 'विषयावर',\n",
              " 'आयोजित',\n",
              " 'कार्यशाळेच्या',\n",
              " 'उद्\\u200cघाटनप्रसंगी',\n",
              " 'त्या',\n",
              " 'बोलत',\n",
              " 'होत्या',\n",
              " '.',\n",
              " '\"',\n",
              " 'मानवी',\n",
              " 'हक्क',\n",
              " 'आणि',\n",
              " 'स्त्री',\n",
              " 'हक्क',\n",
              " '\"',\n",
              " 'असा',\n",
              " 'त्यांच्या',\n",
              " 'व्याख्यानाचा',\n",
              " 'विषय',\n",
              " 'होता',\n",
              " '.',\n",
              " 'अध्यक्षस्थानी',\n",
              " 'कुलगुरू',\n",
              " 'डॉ.',\n",
              " 'माणिकराव',\n",
              " 'साळुंखे',\n",
              " 'होते',\n",
              " '.',\n",
              " '\"मिळून',\n",
              " 'साऱ्या',\n",
              " 'जणी\"च्या',\n",
              " 'संपादिका',\n",
              " 'विद्या',\n",
              " 'बाळ',\n",
              " 'प्रमुख',\n",
              " 'उपस्थित',\n",
              " 'होत्या',\n",
              " '.',\n",
              " 'विद्यापीठाच्या',\n",
              " 'मानव्यशास्त्र',\n",
              " 'सभागृहात',\n",
              " 'कार्यक्रम',\n",
              " 'झाला',\n",
              " '.',\n",
              " 'प्रा.',\n",
              " 'भावे',\n",
              " 'म्हणाल्या',\n",
              " ',',\n",
              " '\"',\n",
              " 'मानव',\n",
              " 'या',\n",
              " 'संकल्पनेत',\n",
              " 'स्त्रीचा',\n",
              " 'समावेश',\n",
              " 'आहे',\n",
              " '.',\n",
              " 'त्यामुळे',\n",
              " 'मानवी',\n",
              " 'हक्क',\n",
              " 'आणि',\n",
              " 'स्त्रियांचे',\n",
              " 'हक्क',\n",
              " 'वेगळे',\n",
              " 'नाहीत',\n",
              " ';',\n",
              " 'पण',\n",
              " 'पुरुषसत्ताक',\n",
              " 'समाजव्यवस्थेमुळे',\n",
              " 'स्त्रीच्या',\n",
              " 'हक्कांची',\n",
              " 'पायमल्ली',\n",
              " 'होते',\n",
              " '.',\n",
              " 'विशिष्ट',\n",
              " 'समुदायांच्या',\n",
              " 'रूढी-परंपरांमुळे',\n",
              " 'स्त्रियांचे',\n",
              " 'हक्क',\n",
              " 'हिरावले',\n",
              " '.',\n",
              " 'त्याला',\n",
              " 'तत्त्वज्ञान',\n",
              " 'व',\n",
              " 'संस्कृतीचे',\n",
              " 'कुंपण',\n",
              " 'घालण्यात',\n",
              " 'आले',\n",
              " '.',\n",
              " 'हे',\n",
              " 'कुंपण',\n",
              " 'आजही',\n",
              " 'स्त्रिया',\n",
              " 'अनुभवतात',\n",
              " '.',\n",
              " 'जातपंचायतींचा',\n",
              " 'बडगा',\n",
              " 'आजही',\n",
              " 'अनेक',\n",
              " 'समाजांमध्ये',\n",
              " 'दिसत',\n",
              " 'आहे',\n",
              " '.',\n",
              " 'नोकरीच्या',\n",
              " 'ठिकाणी',\n",
              " 'होणारे',\n",
              " 'लैगिंक',\n",
              " 'शोषण',\n",
              " 'व',\n",
              " 'मानसिक',\n",
              " 'छळ',\n",
              " ',',\n",
              " 'गरोदरपणात',\n",
              " 'रजा',\n",
              " 'न',\n",
              " 'देणे',\n",
              " 'अशा',\n",
              " 'प्रकारांमुळे',\n",
              " 'महानगरांतील',\n",
              " 'स्त्री',\n",
              " 'त्रस्त',\n",
              " 'आहे',\n",
              " '.',\n",
              " 'त्याचबरोबर',\n",
              " 'काश्\\u200dमीर',\n",
              " 'व',\n",
              " 'पूर्वेकडील',\n",
              " 'राज्यांमधील',\n",
              " 'स्त्रियांना',\n",
              " 'अतिरेकी',\n",
              " 'व',\n",
              " 'लष्कर',\n",
              " 'या',\n",
              " 'दोघांपासून',\n",
              " 'धोका',\n",
              " 'आहे',\n",
              " '.',\n",
              " 'एका',\n",
              " 'वेगळ्या',\n",
              " 'परिघावर',\n",
              " 'असणाऱ्या',\n",
              " 'त्या',\n",
              " 'स्त्रिया',\n",
              " 'वेगळ्याच',\n",
              " 'समस्यांना',\n",
              " 'तोंड',\n",
              " 'देत',\n",
              " 'आहेत',\n",
              " '.',\n",
              " \"''\",\n",
              " 'मुलांना',\n",
              " 'धर्माला',\n",
              " 'वाहणाऱ्या',\n",
              " 'पालकांवर',\n",
              " 'कारवाईसाठी',\n",
              " 'कायदा',\n",
              " 'गरजेचा',\n",
              " 'असला',\n",
              " ',',\n",
              " 'तरी',\n",
              " 'शासनावर',\n",
              " 'धार्मिक',\n",
              " 'गटांचे',\n",
              " 'वर्चस्व',\n",
              " 'मोठ्या',\n",
              " 'प्रमाणावर',\n",
              " 'असल्याने',\n",
              " 'त्यासाठी',\n",
              " 'वेगळा',\n",
              " 'संघर्ष',\n",
              " 'करावा',\n",
              " 'लागणार',\n",
              " 'असल्याचे',\n",
              " 'प्रा.',\n",
              " 'भावे',\n",
              " 'यांनी',\n",
              " 'सांगितले',\n",
              " '.',\n",
              " 'त्या',\n",
              " 'म्हणाल्या',\n",
              " ',',\n",
              " '\"',\n",
              " 'जन्म',\n",
              " 'घेणाऱ्या',\n",
              " 'प्रत्येकाला',\n",
              " 'शिक्षणाचा',\n",
              " 'व',\n",
              " 'स्वतंत्र',\n",
              " 'विचाराने',\n",
              " 'जगण्याचा',\n",
              " 'हक्क',\n",
              " 'आहे',\n",
              " '.',\n",
              " 'देशात',\n",
              " 'आज',\n",
              " 'आठ',\n",
              " 'वर्षांपर्यंतच्या',\n",
              " 'मुलींची',\n",
              " 'संख्या',\n",
              " 'घटत',\n",
              " 'आहे',\n",
              " '.',\n",
              " 'भ्रूण',\n",
              " 'हत्येच्या',\n",
              " 'माध्यमातून',\n",
              " 'जन्माचाच',\n",
              " 'अधिकार',\n",
              " 'काढून',\n",
              " 'घेतल्या',\n",
              " 'जाणाऱ्या',\n",
              " 'स्त्रीला',\n",
              " 'इतर',\n",
              " 'हक्क',\n",
              " 'दूरचेच',\n",
              " 'आहेत',\n",
              " '.',\n",
              " \"''\",\n",
              " 'मागासलेल्यापेक्षा',\n",
              " 'प्रगत',\n",
              " 'आणि',\n",
              " 'सधन',\n",
              " 'प्रांतांमध्ये',\n",
              " 'हे',\n",
              " 'प्रमाण',\n",
              " 'वाढीस',\n",
              " 'लागले',\n",
              " 'असून',\n",
              " 'हे',\n",
              " 'सर्वांत',\n",
              " 'निंदनीय',\n",
              " 'असल्याचे',\n",
              " 'मत',\n",
              " 'प्रा.',\n",
              " 'भावे',\n",
              " 'यांनी',\n",
              " 'व्यक्त',\n",
              " 'केले',\n",
              " '.',\n",
              " 'कुलगुरू',\n",
              " 'डॉ.',\n",
              " 'साळुंखे',\n",
              " 'म्हणाले',\n",
              " ',',\n",
              " '\"',\n",
              " 'स्त्रीच्या',\n",
              " 'अवस्थेवरून',\n",
              " 'देशाच्या',\n",
              " 'प्रगतीचे',\n",
              " 'अनुमान',\n",
              " 'काढले',\n",
              " 'जाते',\n",
              " '.',\n",
              " 'त्यामुळे',\n",
              " 'स्त्री',\n",
              " 'हक्कांची',\n",
              " 'पायमल्ली',\n",
              " 'होणाऱ्या',\n",
              " 'प्रांतात',\n",
              " 'त्या',\n",
              " 'विरोधात',\n",
              " 'जागृती',\n",
              " 'करण्याचे',\n",
              " 'काम',\n",
              " 'होणे',\n",
              " 'गरजेचे',\n",
              " 'आहे',\n",
              " '.',\n",
              " \"''\",\n",
              " 'बचत',\n",
              " 'गटांच्या',\n",
              " 'माध्यमातून',\n",
              " 'स्त्रियांमध्ये',\n",
              " 'क्रांती',\n",
              " 'घडत',\n",
              " 'असल्याचे',\n",
              " 'मतही',\n",
              " 'त्यांनी',\n",
              " 'या',\n",
              " 'वेळी',\n",
              " 'व्यक्त',\n",
              " 'केले',\n",
              " '.',\n",
              " 'कार्यशाळेत',\n",
              " 'दुपारच्या',\n",
              " 'सत्रात',\n",
              " 'डॉ.',\n",
              " 'जया',\n",
              " 'सागडे',\n",
              " '(',\n",
              " 'पुणे',\n",
              " ')',\n",
              " 'यांनी',\n",
              " 'मार्गदर्शन',\n",
              " 'केले',\n",
              " '.',\n",
              " 'तसेच',\n",
              " 'विद्या',\n",
              " 'बाळ',\n",
              " 'यांचे',\n",
              " '\"',\n",
              " 'स्त्री',\n",
              " 'आणि',\n",
              " 'कुटुंब',\n",
              " 'व्यवस्था',\n",
              " '\"',\n",
              " 'या',\n",
              " 'विषयावर',\n",
              " 'व्याख्यान',\n",
              " 'झाले',\n",
              " '.',\n",
              " 'उद्या',\n",
              " '(',\n",
              " 'ता.',\n",
              " '१४',\n",
              " ')',\n",
              " 'सकाळी',\n",
              " 'अकरा',\n",
              " 'वाजता',\n",
              " 'प्रा.',\n",
              " 'पुष्पा',\n",
              " 'भावे',\n",
              " 'यांचे',\n",
              " 'व्याख्यान',\n",
              " 'होणार',\n",
              " 'असून',\n",
              " 'दुपारच्या',\n",
              " 'सत्रात',\n",
              " 'तनुजा',\n",
              " 'शिपूरकर',\n",
              " ',',\n",
              " 'राजश्री',\n",
              " 'साकळे',\n",
              " ',',\n",
              " 'प्राचार्य',\n",
              " 'मंगला',\n",
              " 'पाटील',\n",
              " 'बडदारे',\n",
              " 'यांनी',\n",
              " 'मार्गदर्शन',\n",
              " 'केले',\n",
              " '.',\n",
              " 'मध्य',\n",
              " 'भारतात',\n",
              " 'गेल्या',\n",
              " 'काही',\n",
              " 'वर्षांत',\n",
              " 'डायनासोरची',\n",
              " 'हजारो',\n",
              " 'अंडी',\n",
              " 'जीवाश्\\u200dमांच्या',\n",
              " 'स्वरूपात',\n",
              " 'सापडली',\n",
              " 'आहेत',\n",
              " '.',\n",
              " 'त्या',\n",
              " 'निमित्ताने',\n",
              " '.',\n",
              " 'एके',\n",
              " 'काळी',\n",
              " 'आपल्या',\n",
              " 'भारताचा',\n",
              " 'मध्यभाग',\n",
              " 'हाच',\n",
              " 'एक',\n",
              " 'पृथ्वीवरील',\n",
              " 'सर्वांत',\n",
              " 'मोठा',\n",
              " 'आणि',\n",
              " 'खराखुरा',\n",
              " '\"',\n",
              " 'ज्युरासिक',\n",
              " 'पार्क',\n",
              " '\"',\n",
              " 'होता',\n",
              " ',',\n",
              " 'यावरती',\n",
              " 'आपला',\n",
              " 'विश्\\u200dवास',\n",
              " 'बसणार',\n",
              " 'नाही',\n",
              " ';',\n",
              " 'पण',\n",
              " 'हे',\n",
              " 'खरंय',\n",
              " '!',\n",
              " 'सोळा',\n",
              " 'कोटी',\n",
              " 'वर्षांपूर्वी',\n",
              " 'दक्षिण',\n",
              " 'गोलार्धातील',\n",
              " 'गोंडवन',\n",
              " 'नामक',\n",
              " 'संयुक्त',\n",
              " 'खंडांचा',\n",
              " 'एक',\n",
              " 'भाग',\n",
              " 'भारतीय',\n",
              " 'उपखंडाने',\n",
              " 'व्यापलेला',\n",
              " 'होता',\n",
              " '.',\n",
              " 'साधारणतः',\n",
              " 'मध्य',\n",
              " 'भारतामधील',\n",
              " 'दहा',\n",
              " 'हजार',\n",
              " 'चौरस',\n",
              " 'किलोमीटरच्या',\n",
              " 'भागात',\n",
              " 'गेल्या',\n",
              " 'काही',\n",
              " 'वर्षांमध्ये',\n",
              " 'डायनासोरची',\n",
              " 'हजारो',\n",
              " 'अंडी',\n",
              " 'जीवाश्\\u200dमांच्या',\n",
              " 'स्वरूपात',\n",
              " 'सापडलेली',\n",
              " 'आहेत',\n",
              " '.',\n",
              " '\"\"',\n",
              " 'डायनासोर',\n",
              " '\"',\n",
              " 'या',\n",
              " 'शब्दाचा',\n",
              " 'अर्थ',\n",
              " 'आहे',\n",
              " '\"',\n",
              " 'भयानक',\n",
              " 'सरडा',\n",
              " '\"',\n",
              " 'त्यांच्या',\n",
              " 'अवशेषांचे',\n",
              " 'भांडार',\n",
              " 'भारतात',\n",
              " 'शोधण्यासाठी',\n",
              " 'काही',\n",
              " 'तरुण',\n",
              " 'उत्सुक',\n",
              " 'आहेत',\n",
              " '.',\n",
              " 'भौतिकीशास्त्राचे',\n",
              " 'शिक्षक',\n",
              " 'विशाल',\n",
              " 'शर्मा',\n",
              " ',',\n",
              " 'राजेश',\n",
              " 'चौहान',\n",
              " 'आणि',\n",
              " 'गोविंद',\n",
              " 'वर्मा',\n",
              " 'यांना',\n",
              " 'जीवाश्\\u200dम',\n",
              " 'गोळा',\n",
              " 'करण्याचा',\n",
              " 'छंद',\n",
              " 'आहे',\n",
              " '.',\n",
              " 'नर्मदेचे',\n",
              " 'खोरे',\n",
              " ',',\n",
              " 'दाहोद',\n",
              " 'ते',\n",
              " 'जबलपूर',\n",
              " 'येथे',\n",
              " 'संशोधन',\n",
              " 'करीत',\n",
              " 'असताना',\n",
              " 'त्यांना',\n",
              " 'नुकतीच',\n",
              " 'शंभर',\n",
              " 'अंडी',\n",
              " 'जीवाश्\\u200dमाच्या',\n",
              " 'स्वरूपात',\n",
              " 'सापडलेली',\n",
              " 'आहेत',\n",
              " '.',\n",
              " 'ती',\n",
              " 'सुमारे',\n",
              " 'सात',\n",
              " 'कोटी',\n",
              " 'वर्षांपूर्वीची',\n",
              " 'आहेत',\n",
              " '.',\n",
              " 'नागपूर',\n",
              " 'येथील',\n",
              " '\"जिओग्राफिकल',\n",
              " 'सर्व्हे',\n",
              " 'ऑफ',\n",
              " 'इंडिया\"चे',\n",
              " 'संचालक',\n",
              " 'डॉ.',\n",
              " 'धनंजय',\n",
              " 'मोहाबे',\n",
              " 'यांनी',\n",
              " 'ती',\n",
              " 'अंडी',\n",
              " 'डायनासोरची',\n",
              " 'आहेत',\n",
              " ',',\n",
              " 'यांची',\n",
              " 'शहानिशा',\n",
              " 'केली',\n",
              " 'आहे',\n",
              " '.',\n",
              " 'ते',\n",
              " 'रहस्य',\n",
              " 'शोधून',\n",
              " 'काढणे',\n",
              " ',',\n",
              " 'ही',\n",
              " 'गोष्ट',\n",
              " 'सोपी',\n",
              " 'नाही',\n",
              " '.',\n",
              " 'जीवाश्\\u200dम',\n",
              " 'झालेल्या',\n",
              " 'एखाद्या',\n",
              " 'अंड्यामध्ये',\n",
              " 'डायनासोरचे',\n",
              " '\"',\n",
              " 'पिल्लू',\n",
              " '\"',\n",
              " 'साकार',\n",
              " 'होत',\n",
              " 'असल्याचे',\n",
              " 'सिद्ध',\n",
              " 'व्हावे',\n",
              " 'लागते',\n",
              " '.',\n",
              " 'ती',\n",
              " 'अंडी',\n",
              " 'सॉरोपॉडवर्गीय',\n",
              " 'अवाढव्य',\n",
              " 'आकाराच्या',\n",
              " 'डायनासोरची',\n",
              " 'आहेत',\n",
              " '.',\n",
              " 'अतिउंच',\n",
              " 'निमुळती',\n",
              " 'मान',\n",
              " 'आणि',\n",
              " 'खूप',\n",
              " 'लांब',\n",
              " '(',\n",
              " '१५',\n",
              " 'मीटर',\n",
              " ')',\n",
              " 'शेपूट',\n",
              " 'हे',\n",
              " 'त्यांचे',\n",
              " 'खास',\n",
              " 'वैशिष्ट्य',\n",
              " 'होते',\n",
              " '.',\n",
              " 'जगात',\n",
              " 'आतापर्यंतच्या',\n",
              " 'इतिहासात',\n",
              " '२७',\n",
              " 'मीटर',\n",
              " 'इतका',\n",
              " 'उंच',\n",
              " 'अजस्र',\n",
              " 'प्राणी',\n",
              " 'कधीही',\n",
              " 'झाला',\n",
              " 'नाही',\n",
              " '.',\n",
              " 'त्या',\n",
              " 'अंड्यांमधून',\n",
              " 'बाहेर',\n",
              " 'पडलेले',\n",
              " 'डायनासोरचे',\n",
              " 'पिलू',\n",
              " 'वाढून',\n",
              " 'पूर्ण',\n",
              " 'झाले',\n",
              " 'की',\n",
              " 'त्याचे',\n",
              " 'वजन',\n",
              " 'निदान',\n",
              " 'सहाशे',\n",
              " 'व्यक्तींएवढे',\n",
              " 'असते',\n",
              " '.',\n",
              " '(',\n",
              " 'असा',\n",
              " 'डायनासोर',\n",
              " 'बुद्धीनेही',\n",
              " 'जड',\n",
              " 'होता',\n",
              " ',',\n",
              " 'कारण',\n",
              " 'त्याच्या',\n",
              " 'मेंदूचे',\n",
              " 'वजन',\n",
              " 'संपूर्ण',\n",
              " 'शरीराच्या',\n",
              " 'वजनाच्या',\n",
              " 'तुलनेत',\n",
              " 'अडीच',\n",
              " 'लाखपट',\n",
              " 'कमी',\n",
              " 'होते',\n",
              " '!',\n",
              " ')',\n",
              " 'त्यांची',\n",
              " 'उंची',\n",
              " 'निदान',\n",
              " 'तीन',\n",
              " 'माणसांच्या',\n",
              " 'उंचीएवढी',\n",
              " 'होती',\n",
              " '.',\n",
              " 'सॉरोपोडच्या',\n",
              " 'मादीने',\n",
              " 'उकिडवे',\n",
              " 'बसून',\n",
              " '७',\n",
              " 'किलोग्रॅम',\n",
              " 'वजनाचे',\n",
              " 'अंडे',\n",
              " 'घातले',\n",
              " 'तरी',\n",
              " 'ते',\n",
              " 'किमान',\n",
              " 'आठ',\n",
              " 'फुटांवरून',\n",
              " '(',\n",
              " 'किंवा',\n",
              " 'अडीच',\n",
              " 'मीटर',\n",
              " ')',\n",
              " 'उंचीवरून',\n",
              " 'जमिनीवरती',\n",
              " 'न',\n",
              " 'फुटता',\n",
              " 'पडत',\n",
              " 'असे',\n",
              " '!',\n",
              " 'भारतात',\n",
              " 'टिटॅनोसोरसची',\n",
              " 'अंडी',\n",
              " 'पण',\n",
              " 'सापडलेली',\n",
              " 'आहेत',\n",
              " '.',\n",
              " 'अशा',\n",
              " 'उंच',\n",
              " '-',\n",
              " 'धिप्पाड',\n",
              " 'डायनासोरना',\n",
              " 'खाण्यासाठी',\n",
              " 'गवत',\n",
              " ...]"
            ]
          },
          "metadata": {},
          "execution_count": 26
        }
      ]
    },
    {
      "cell_type": "code",
      "source": [
        "trwv = words+w"
      ],
      "metadata": {
        "id": "yqVsJ10Oq-Sw"
      },
      "execution_count": 27,
      "outputs": []
    },
    {
      "cell_type": "code",
      "source": [
        "y_train = [item for sublist in train_sentences for _, item in sublist]\n",
        "y_test = [item for sublist in test_sentences for _, item in sublist]"
      ],
      "metadata": {
        "id": "QGQqBSvpkAOX"
      },
      "execution_count": 28,
      "outputs": []
    },
    {
      "cell_type": "code",
      "source": [
        "len(y_train), len(y_test)"
      ],
      "metadata": {
        "colab": {
          "base_uri": "https://localhost:8080/"
        },
        "id": "eN9gL2pekB7_",
        "outputId": "bbf35749-ff92-463d-9130-5741a170cb48"
      },
      "execution_count": 29,
      "outputs": [
        {
          "output_type": "execute_result",
          "data": {
            "text/plain": [
              "(163688, 21437)"
            ]
          },
          "metadata": {},
          "execution_count": 29
        }
      ]
    },
    {
      "cell_type": "code",
      "source": [
        "test_tags = sorted(set(y_test))"
      ],
      "metadata": {
        "id": "YPnVtFQ1kDrs"
      },
      "execution_count": 30,
      "outputs": []
    },
    {
      "cell_type": "code",
      "source": [
        "list(test_tags)"
      ],
      "metadata": {
        "colab": {
          "base_uri": "https://localhost:8080/"
        },
        "id": "-2vkyUu8kGDU",
        "outputId": "f033ca78-2eaf-4765-ace6-2c6d76d9a464"
      },
      "execution_count": 31,
      "outputs": [
        {
          "output_type": "execute_result",
          "data": {
            "text/plain": [
              "['ADJ',\n",
              " 'ADP',\n",
              " 'ADV',\n",
              " 'AUX',\n",
              " 'CONJ',\n",
              " 'DET',\n",
              " 'NOUN',\n",
              " 'NST',\n",
              " 'NUM',\n",
              " 'PART',\n",
              " 'PRON',\n",
              " 'PROPN',\n",
              " 'PUNCT',\n",
              " 'SCONJ',\n",
              " 'VERB']"
            ]
          },
          "metadata": {},
          "execution_count": 31
        }
      ]
    },
    {
      "cell_type": "code",
      "source": [
        "tags = set(y_train)\n",
        "print('VOCABULARY SIZE: ', len(words))\n",
        "print('TOTAL TAGS: ', len(tags))"
      ],
      "metadata": {
        "colab": {
          "base_uri": "https://localhost:8080/"
        },
        "id": "l82xzf3pkHqr",
        "outputId": "94818e02-66d7-4d18-fb41-0f23ec377286"
      },
      "execution_count": 32,
      "outputs": [
        {
          "output_type": "stream",
          "name": "stdout",
          "text": [
            "VOCABULARY SIZE:  39714\n",
            "TOTAL TAGS:  14\n"
          ]
        }
      ]
    },
    {
      "cell_type": "code",
      "source": [
        "word2int = {}\n",
        "int2word = {}\n",
        "\n",
        "for i, word in enumerate(words):\n",
        "    word2int[word] = i+2 #We keep indexes 0, 1 for -PAD-, -UNK- terms\n",
        "    int2word[i+2] = word"
      ],
      "metadata": {
        "id": "kyjP2nY5kKSW"
      },
      "execution_count": 33,
      "outputs": []
    },
    {
      "cell_type": "code",
      "source": [
        "# Special characters for the words\n",
        "word2int['-PAD-'] = 0\n",
        "int2word[0] = '-PAD-'\n",
        "word2int['-UNK-'] = 1\n",
        "int2word[1] = '-UNK-'"
      ],
      "metadata": {
        "id": "BJs24PDHkN-X"
      },
      "execution_count": 34,
      "outputs": []
    },
    {
      "cell_type": "code",
      "source": [
        "word2int['-UNK-']"
      ],
      "metadata": {
        "colab": {
          "base_uri": "https://localhost:8080/"
        },
        "id": "0cYZmzNSkRMb",
        "outputId": "8e4e1576-f9ce-4eae-f175-630f64b5b926"
      },
      "execution_count": 35,
      "outputs": [
        {
          "output_type": "execute_result",
          "data": {
            "text/plain": [
              "1"
            ]
          },
          "metadata": {},
          "execution_count": 35
        }
      ]
    },
    {
      "cell_type": "code",
      "source": [
        "int2word[0]"
      ],
      "metadata": {
        "colab": {
          "base_uri": "https://localhost:8080/",
          "height": 36
        },
        "id": "cGK6C68ckTbc",
        "outputId": "b9d8670d-25ec-475e-ee0f-64ed35f545b9"
      },
      "execution_count": 36,
      "outputs": [
        {
          "output_type": "execute_result",
          "data": {
            "text/plain": [
              "'-PAD-'"
            ],
            "application/vnd.google.colaboratory.intrinsic+json": {
              "type": "string"
            }
          },
          "metadata": {},
          "execution_count": 36
        }
      ]
    },
    {
      "cell_type": "code",
      "source": [
        "tag2int = {}\n",
        "int2tag = {}\n",
        "\n",
        "for i, tag in enumerate(sorted(tags)):\n",
        "    tag2int[tag] = i+1\n",
        "    int2tag[i+1] = tag"
      ],
      "metadata": {
        "id": "2s6aarpukVS1"
      },
      "execution_count": 37,
      "outputs": []
    },
    {
      "cell_type": "code",
      "source": [
        "# Special character for the tags\n",
        "tag2int['-PAD-'] = 0\n",
        "int2tag[0] = '-PAD-'"
      ],
      "metadata": {
        "id": "E1zs5bQkkXMk"
      },
      "execution_count": 38,
      "outputs": []
    },
    {
      "cell_type": "code",
      "source": [
        "n_tags = len(tag2int)\n",
        "print('Total words:', len(word2int))\n",
        "print('Total tags:', n_tags)"
      ],
      "metadata": {
        "colab": {
          "base_uri": "https://localhost:8080/"
        },
        "id": "5p64BtbKkZdJ",
        "outputId": "6120432b-4cfc-4944-f6cb-32cef60cc8d0"
      },
      "execution_count": 39,
      "outputs": [
        {
          "output_type": "stream",
          "name": "stdout",
          "text": [
            "Total words: 39716\n",
            "Total tags: 15\n"
          ]
        }
      ]
    },
    {
      "cell_type": "markdown",
      "source": [
        "##training word2vec model"
      ],
      "metadata": {
        "id": "EhDbJpSbs7th"
      }
    },
    {
      "cell_type": "code",
      "source": [
        "import gensim\n",
        "from gensim.models import Word2Vec\n",
        "import nltk\n",
        "nltk.download('punkt')"
      ],
      "metadata": {
        "colab": {
          "base_uri": "https://localhost:8080/"
        },
        "id": "AouqRntGsVGO",
        "outputId": "1afd0882-1529-4bf5-b188-aada5451fc54"
      },
      "execution_count": 40,
      "outputs": [
        {
          "output_type": "stream",
          "name": "stderr",
          "text": [
            "[nltk_data] Downloading package punkt to /root/nltk_data...\n",
            "[nltk_data]   Unzipping tokenizers/punkt.zip.\n"
          ]
        },
        {
          "output_type": "execute_result",
          "data": {
            "text/plain": [
              "True"
            ]
          },
          "metadata": {},
          "execution_count": 40
        }
      ]
    },
    {
      "cell_type": "code",
      "source": [
        "# Tokenize the Marathi text data\n",
        "tokenized_data = [trwv]\n",
        "\n",
        "# Train the Word2Vec model\n",
        "model = Word2Vec(tokenized_data, vector_size=300, window=5, min_count=1, workers=4)\n",
        "\n",
        "# Save the trained model\n",
        "model.save('marathi_word2vec.model')"
      ],
      "metadata": {
        "id": "tEkx8THSkbH-"
      },
      "execution_count": null,
      "outputs": []
    },
    {
      "cell_type": "code",
      "source": [
        "model_wv = Word2Vec.load('marathi_word2vec.model')"
      ],
      "metadata": {
        "id": "wzxAYIsKkdSm"
      },
      "execution_count": 42,
      "outputs": []
    },
    {
      "cell_type": "markdown",
      "source": [
        "##Embedding Matrix"
      ],
      "metadata": {
        "id": "LkD7vj6MspjA"
      }
    },
    {
      "cell_type": "code",
      "source": [
        "k=0\n",
        "unk_words=[]\n",
        "np.random.seed(3) # For reproducibility \n",
        "embedding_matrix = np.random.uniform(-0.25, 0.25, size=(len(word2int), EMBEDDING_DIM))\n",
        "for word, i in word2int.items():\n",
        "    try:\n",
        "        embedding_matrix[i] = model_wv[word]\n",
        "    except:\n",
        "        unk_words.append(word)\n",
        "        k += 1\n",
        "        pass\n",
        "\n",
        "print('Embedding matrix shape:', embedding_matrix.shape)\n",
        "print('Words not found in embeddings:', k)"
      ],
      "metadata": {
        "colab": {
          "base_uri": "https://localhost:8080/"
        },
        "id": "8yacJFI3l7EL",
        "outputId": "7c3e3767-415f-4503-f8b9-167d06588464"
      },
      "execution_count": 43,
      "outputs": [
        {
          "output_type": "stream",
          "name": "stdout",
          "text": [
            "Embedding matrix shape: (39716, 300)\n",
            "Words not found in embeddings: 39716\n"
          ]
        }
      ]
    },
    {
      "cell_type": "code",
      "source": [
        "embedding_matrix.shape"
      ],
      "metadata": {
        "colab": {
          "base_uri": "https://localhost:8080/"
        },
        "id": "xiIVPylDtrm5",
        "outputId": "1a974948-afdd-4af8-8614-0c167dd3ed39"
      },
      "execution_count": 44,
      "outputs": [
        {
          "output_type": "execute_result",
          "data": {
            "text/plain": [
              "(39716, 300)"
            ]
          },
          "metadata": {},
          "execution_count": 44
        }
      ]
    },
    {
      "cell_type": "code",
      "source": [
        "(unk_words)[:10]"
      ],
      "metadata": {
        "colab": {
          "base_uri": "https://localhost:8080/"
        },
        "id": "9Qg0ZYCwttrT",
        "outputId": "bb17c475-c9ed-416f-8eca-3ef93d1ca197"
      },
      "execution_count": 45,
      "outputs": [
        {
          "output_type": "execute_result",
          "data": {
            "text/plain": [
              "['!',\n",
              " '\"',\n",
              " '\"\"',\n",
              " '\"अक्षर',\n",
              " '\"अर्बन',\n",
              " '\"आदिशक्ती\\'चे',\n",
              " '\"आयआयटीएम\\'प्रमाणेच',\n",
              " '\"आयडिया\\'कडे',\n",
              " '\"आयडिया\\'चा',\n",
              " '\"आर्ट']"
            ]
          },
          "metadata": {},
          "execution_count": 45
        }
      ]
    },
    {
      "cell_type": "code",
      "source": [
        "embedding_matrix[word2int['\"अक्षर']]"
      ],
      "metadata": {
        "colab": {
          "base_uri": "https://localhost:8080/"
        },
        "id": "wL0ewZxltzR2",
        "outputId": "ff4ba4fe-45ec-4a44-ccf8-7459248b3103"
      },
      "execution_count": 46,
      "outputs": [
        {
          "output_type": "execute_result",
          "data": {
            "text/plain": [
              "array([-0.12402351,  0.03019588, -0.21169729, -0.07017687, -0.12655659,\n",
              "        0.138196  ,  0.24467439, -0.17433432, -0.21945646,  0.08067969,\n",
              "        0.23924466,  0.23163207,  0.18134145,  0.11479139,  0.03964597,\n",
              "       -0.24218824,  0.21675044,  0.03481452, -0.01539415, -0.24008275,\n",
              "       -0.16288825, -0.07807685,  0.23136062,  0.06932406,  0.10097452,\n",
              "       -0.05916224,  0.11957799, -0.14587269, -0.10912478,  0.01845367,\n",
              "       -0.16384929,  0.18997314, -0.12597264, -0.00773582,  0.21670087,\n",
              "       -0.0663794 ,  0.03737875,  0.09351411, -0.03241191, -0.12113257,\n",
              "        0.01079884,  0.14973573, -0.0447678 ,  0.09403175, -0.12367445,\n",
              "       -0.0550656 ,  0.2208763 , -0.21631786,  0.20715662, -0.22382006,\n",
              "        0.15579765, -0.06137883,  0.10059288, -0.13452766, -0.16136225,\n",
              "       -0.20516825, -0.24609471, -0.06312972, -0.22913444, -0.10881251,\n",
              "        0.18762239,  0.10026099, -0.04053603, -0.2392643 , -0.22557367,\n",
              "        0.24633441, -0.03020932,  0.04674418,  0.11981602,  0.05648929,\n",
              "        0.12595414,  0.03037457, -0.00296789, -0.02328889,  0.19407518,\n",
              "        0.24241004, -0.05891237, -0.14673755,  0.21316297, -0.10632827,\n",
              "        0.10931884, -0.13198567,  0.04768821, -0.09150047, -0.22870856,\n",
              "       -0.23924664, -0.09920833, -0.01836094, -0.02988461, -0.02955622,\n",
              "        0.0015676 , -0.18456532,  0.07525308,  0.13483592, -0.02949204,\n",
              "       -0.01764662, -0.18774217, -0.23367614, -0.1270221 , -0.03438303,\n",
              "       -0.19476298, -0.07153682, -0.01430193,  0.01891326,  0.11673428,\n",
              "        0.01259822, -0.16199747, -0.09588809, -0.03161231,  0.02164892,\n",
              "       -0.03923514, -0.05316553,  0.20572523,  0.08404444,  0.21352174,\n",
              "       -0.16377919,  0.08513292, -0.0110942 , -0.08991263, -0.22426551,\n",
              "        0.19428645, -0.24670532,  0.16307917, -0.06512342,  0.17663997,\n",
              "       -0.23313604, -0.22744924, -0.05035698,  0.0569508 ,  0.07582257,\n",
              "       -0.10609441,  0.06917853, -0.04781645, -0.16428806, -0.186652  ,\n",
              "       -0.12703878,  0.19626442, -0.11048301,  0.02675512, -0.18096703,\n",
              "        0.24227019,  0.19761525, -0.1658868 , -0.14120142,  0.19028023,\n",
              "       -0.10280368, -0.19975591,  0.04903679, -0.17580873, -0.21343454,\n",
              "        0.0670364 ,  0.23582753, -0.15557449,  0.17747316,  0.06499048,\n",
              "        0.18184094, -0.08423377, -0.07552346,  0.03542652, -0.1384229 ,\n",
              "       -0.09791071, -0.18766122,  0.17209374, -0.01331576, -0.1782617 ,\n",
              "        0.2053161 , -0.1412122 , -0.22786461, -0.00448559,  0.07594059,\n",
              "        0.02264098,  0.08337622, -0.03993052,  0.16591046,  0.05684783,\n",
              "       -0.14874962,  0.19484138, -0.21049143, -0.06853388,  0.05622225,\n",
              "        0.23587015, -0.07283849, -0.14894437,  0.08082397,  0.15883884,\n",
              "       -0.09675317,  0.00600328,  0.1097861 ,  0.03294212,  0.192513  ,\n",
              "       -0.15466517,  0.1698155 , -0.21035244, -0.08448967,  0.18314908,\n",
              "        0.0159526 ,  0.21403824,  0.06124261,  0.14699003, -0.13278517,\n",
              "       -0.00495934, -0.0109679 , -0.1026739 , -0.01919525,  0.07715056,\n",
              "        0.21528359,  0.01896424, -0.20035095, -0.05826277, -0.09688354,\n",
              "       -0.12094861, -0.02945012, -0.09197752,  0.14328305, -0.0286676 ,\n",
              "        0.18942896, -0.09883846,  0.24065994, -0.18737678,  0.06210891,\n",
              "       -0.1878719 , -0.13763679,  0.15166488,  0.02538017, -0.06501509,\n",
              "       -0.2194462 ,  0.18596115,  0.07720348, -0.23001282, -0.06838727,\n",
              "        0.00185472, -0.22921613, -0.20664719,  0.07207894,  0.19562605,\n",
              "       -0.0798487 , -0.22979012, -0.01074949,  0.13774842,  0.13688036,\n",
              "        0.15003889,  0.1376477 ,  0.10875614, -0.21151939,  0.08774234,\n",
              "        0.2265737 , -0.00123171, -0.11533985,  0.18584046,  0.13200572,\n",
              "        0.02656242, -0.24298778, -0.0401767 , -0.04855673,  0.11835819,\n",
              "        0.22779899, -0.00208789, -0.02707649,  0.04389297,  0.04072931,\n",
              "        0.08178143, -0.14156439, -0.03846321,  0.15959938,  0.03355332,\n",
              "       -0.04631155, -0.17215325, -0.157052  , -0.21403692,  0.2033314 ,\n",
              "        0.03013217,  0.10930178,  0.09675677,  0.05102037, -0.19455844,\n",
              "       -0.02865641, -0.09518056, -0.24819637,  0.00396913,  0.21304179,\n",
              "        0.23083675, -0.18903635,  0.14209308, -0.23781118, -0.17842035,\n",
              "       -0.17783974, -0.10838937, -0.23721689, -0.14588554, -0.21278092,\n",
              "        0.10039115,  0.18075769,  0.01631771, -0.21741256, -0.1338941 ,\n",
              "       -0.20127266,  0.24079039, -0.00438803, -0.16474592,  0.03265152])"
            ]
          },
          "metadata": {},
          "execution_count": 46
        }
      ]
    },
    {
      "cell_type": "markdown",
      "source": [
        "##Baseline Tagger"
      ],
      "metadata": {
        "id": "XGHKhzituML_"
      }
    },
    {
      "cell_type": "code",
      "source": [
        "default_tagger = nltk.DefaultTagger('NN')\n",
        "unigram_tagger = nltk.UnigramTagger(train_sentences+val_sentences, backoff=default_tagger)"
      ],
      "metadata": {
        "id": "pbjMmJLGt5WM"
      },
      "execution_count": 47,
      "outputs": []
    },
    {
      "cell_type": "code",
      "source": [
        "y_train = [item for sublist in tag_sequence(train_sentences+val_sentences) for item in sublist]\n",
        "y_test = [item for sublist in tag_sequence(test_sentences) for item in sublist]\n",
        "classes = sorted(list(set(y_train)))"
      ],
      "metadata": {
        "id": "q0X5yVGbuT9D"
      },
      "execution_count": 48,
      "outputs": []
    },
    {
      "cell_type": "code",
      "source": [
        "def tag_list(tagged_sents):\n",
        "    return [tag for sent in tagged_sents for (word, tag) in sent]\n",
        "def apply_tagger(tagger, corpus):\n",
        "    return [tagger.tag(nltk.tag.untag(sent)) for sent in corpus]"
      ],
      "metadata": {
        "id": "yPTQ1-_vuWLs"
      },
      "execution_count": 49,
      "outputs": []
    },
    {
      "cell_type": "code",
      "source": [
        "y_pred = tag_list(apply_tagger(unigram_tagger, test_sentences))\n",
        "print(\"Accuracy: {0:.4f}\".format(unigram_tagger.evaluate(test_sentences)))\n",
        "print('f1-macro score: {0:.4f}'.format(f1_score(y_test, y_pred, average='macro')))"
      ],
      "metadata": {
        "colab": {
          "base_uri": "https://localhost:8080/"
        },
        "id": "XjxIEFfruYFR",
        "outputId": "af8c308c-508e-45e2-919d-9394f8aae387"
      },
      "execution_count": 50,
      "outputs": [
        {
          "output_type": "stream",
          "name": "stderr",
          "text": [
            "<ipython-input-50-07e75b121ec5>:2: DeprecationWarning: \n",
            "  Function evaluate() has been deprecated.  Use accuracy(gold)\n",
            "  instead.\n",
            "  print(\"Accuracy: {0:.4f}\".format(unigram_tagger.evaluate(test_sentences)))\n"
          ]
        },
        {
          "output_type": "stream",
          "name": "stdout",
          "text": [
            "Accuracy: 0.7752\n",
            "f1-macro score: 0.6868\n"
          ]
        }
      ]
    },
    {
      "cell_type": "code",
      "source": [
        "print(classification_report(y_test, y_pred, digits=4))"
      ],
      "metadata": {
        "colab": {
          "base_uri": "https://localhost:8080/"
        },
        "id": "KjRIlnavuZz0",
        "outputId": "0ee3b5f8-c9bc-4c92-ee63-b4b1bfaea3d8"
      },
      "execution_count": 51,
      "outputs": [
        {
          "output_type": "stream",
          "name": "stdout",
          "text": [
            "              precision    recall  f1-score   support\n",
            "\n",
            "         ADJ     0.9153    0.7849    0.8451      1776\n",
            "         ADP     0.3750    0.4286    0.4000        14\n",
            "         ADV     0.7914    0.5670    0.6607       261\n",
            "         AUX     0.7089    0.5411    0.6137       900\n",
            "        CONJ     0.0000    0.0000    0.0000         1\n",
            "         DET     0.9330    0.9003    0.9163       371\n",
            "          NN     0.0000    0.0000    0.0000         0\n",
            "        NOUN     0.9450    0.7091    0.8102      6401\n",
            "         NST     0.8380    0.8380    0.8380       395\n",
            "         NUM     0.9820    0.8655    0.9201       632\n",
            "        PART     0.8539    0.5588    0.6756       136\n",
            "        PRON     0.9088    0.9239    0.9163      1617\n",
            "       PROPN     0.8574    0.4754    0.6116      2011\n",
            "       PUNCT     1.0000    0.9913    0.9956      3103\n",
            "       SCONJ     0.9602    0.9458    0.9529       867\n",
            "        VERB     0.8501    0.8164    0.8329      2952\n",
            "\n",
            "    accuracy                         0.7752     21437\n",
            "   macro avg     0.7449    0.6466    0.6868     21437\n",
            "weighted avg     0.9132    0.7752    0.8326     21437\n",
            "\n"
          ]
        }
      ]
    },
    {
      "cell_type": "code",
      "source": [
        "def check_tagger(tagged_sentence):\n",
        "    note = ''\n",
        "    for tup in list(zip(unigram_tagger.tag(untag(tagged_sentence)),untag_pos(tagged_sentence))):\n",
        "        if tup[0][1]!=tup[1]: note='<<--- Error!'\n",
        "        print(tup[0], tup[1], note)\n",
        "        note=''"
      ],
      "metadata": {
        "id": "pEhlaU-LufMB"
      },
      "execution_count": 52,
      "outputs": []
    },
    {
      "cell_type": "code",
      "source": [
        "check_tagger(test_sentences[1])"
      ],
      "metadata": {
        "colab": {
          "base_uri": "https://localhost:8080/"
        },
        "id": "xRv9tuoFuhO-",
        "outputId": "c54a2f41-940f-4413-bae6-4196c36d515e"
      },
      "execution_count": 53,
      "outputs": [
        {
          "output_type": "stream",
          "name": "stdout",
          "text": [
            "('ही', 'PRON') PRON \n",
            "('अल्कली', 'NOUN') NOUN \n",
            "('प्रक्रिया', 'NOUN') NOUN \n",
            "('त्याच्या', 'PRON') PRON \n",
            "('निक्सतामालीझेशन', 'NN') NOUN <<--- Error!\n",
            "('ह्या', 'PRON') PRON \n",
            "('नावापासून', 'NN') NOUN <<--- Error!\n",
            "('उत्पन्न', 'NOUN') NOUN \n",
            "('झालेल्या', 'VERB') VERB \n",
            "('नहुआत्ल', 'NN') NOUN <<--- Error!\n",
            "('(', 'PUNCT') PUNCT \n",
            "('अॅझ्टेक', 'NN') NOUN <<--- Error!\n",
            "(')', 'PUNCT') PUNCT \n",
            "('ह्या', 'PRON') PRON \n",
            "('नावाने', 'NOUN') NOUN \n",
            "('ओळखले', 'VERB') VERB \n",
            "('जाते', 'AUX') AUX \n",
            "('.', 'PUNCT') PUNCT \n"
          ]
        }
      ]
    },
    {
      "cell_type": "code",
      "source": [
        "cnf_matrix = confusion_matrix(y_test, y_pred)\n",
        "name='Baseline'"
      ],
      "metadata": {
        "id": "OhRelYmyujPZ"
      },
      "execution_count": 54,
      "outputs": []
    },
    {
      "cell_type": "code",
      "source": [
        "plot_confusion_matrix(f1_score(y_test, y_pred, average='macro'), cnf_matrix, target_names=classes, title='Confusion matrix for '+name+' classifier', normalize=False)"
      ],
      "metadata": {
        "id": "6EuOM8jLumma"
      },
      "execution_count": null,
      "outputs": []
    },
    {
      "cell_type": "markdown",
      "source": [
        "##Special preprocessing for NNs\n",
        "##This is a very importand step for the whole process! So be careful, to rerun this step in case you change one of the following parameters:\n",
        "\n",
        "*   MAX_SEQUENCE_LENGTH\n",
        "*   BATCH_SIZE\n",
        "\n",
        "\n"
      ],
      "metadata": {
        "id": "WcbH-JYpuyyW"
      }
    },
    {
      "cell_type": "code",
      "source": [
        "import matplotlib.pyplot as plt\n",
        "plt.style.use(\"ggplot\")\n",
        "plt.hist([len(s) for s in train_sentences], bins=50)\n",
        "plt.show()"
      ],
      "metadata": {
        "id": "HviYXr4puwRV"
      },
      "execution_count": null,
      "outputs": []
    },
    {
      "cell_type": "code",
      "source": [
        "print('Max sentence length:',len(max(train_sentences+val_sentences, key=len)))"
      ],
      "metadata": {
        "id": "kJm3z52YvIz0"
      },
      "execution_count": null,
      "outputs": []
    },
    {
      "cell_type": "markdown",
      "source": [
        "To improve speed we will use a MAX_SEQUENCE_LENGTH shorter than the max lengthed sentence. To avoid truncating sequences during padding we split our sentences to MAX_SEQUENCE_LENGTH and so the number of samples increases accordingly. For example, a sentence with length 120 splits in 2 sentences: 150=70+70+10"
      ],
      "metadata": {
        "id": "A_0R65qwvOPX"
      }
    },
    {
      "cell_type": "code",
      "source": [
        "def  split(sentences, max):\n",
        "    new=[]\n",
        "    for data in sentences:\n",
        "        new.append(([data[x:x+max] for x in range(0, len(data), max)]))\n",
        "    new = [val for sublist in new for val in sublist]\n",
        "    return new"
      ],
      "metadata": {
        "id": "yuQpw2gSvOD8"
      },
      "execution_count": null,
      "outputs": []
    },
    {
      "cell_type": "code",
      "source": [
        "train_sentences = split(train_sentences, MAX_SEQUENCE_LENGTH)\n",
        "val_sentences = split(val_sentences, MAX_SEQUENCE_LENGTH)\n",
        "test_sentences = split(test_sentences, MAX_SEQUENCE_LENGTH)"
      ],
      "metadata": {
        "id": "GhFXb6E8vVTD"
      },
      "execution_count": null,
      "outputs": []
    },
    {
      "cell_type": "code",
      "source": [
        "len(max(train_sentences+val_sentences, key=len))"
      ],
      "metadata": {
        "id": "Qm_Pg2z2vYIE"
      },
      "execution_count": null,
      "outputs": []
    },
    {
      "cell_type": "markdown",
      "source": [
        "For ELMo to work correctly, the number of samples must be divisible by the batch_size. So here we pad the samples until their number becomes divisible by the batch_size:"
      ],
      "metadata": {
        "id": "hpARg_GJvfM9"
      }
    },
    {
      "cell_type": "code",
      "source": [
        "train_sentences = train_sentences+val_sentences"
      ],
      "metadata": {
        "id": "MI5sHahiveGs"
      },
      "execution_count": null,
      "outputs": []
    },
    {
      "cell_type": "code",
      "source": [
        "print('Number of samples before sample padding:',len(train_sentences))"
      ],
      "metadata": {
        "id": "I_BMbR2kviI7"
      },
      "execution_count": null,
      "outputs": []
    },
    {
      "cell_type": "code",
      "source": [
        "def elmo_pad(sentences):\n",
        "    if len(sentences) % BATCH_SIZE !=0:\n",
        "        pad_len = ((len(sentences)//BATCH_SIZE)+1)*BATCH_SIZE-len(sentences)\n",
        "        return sentences.extend([[('-PAD-','-PAD-')]]*pad_len)"
      ],
      "metadata": {
        "id": "A3X0AFWEvjrW"
      },
      "execution_count": null,
      "outputs": []
    },
    {
      "cell_type": "code",
      "source": [
        "elmo_pad(train_sentences)\n",
        "elmo_pad(test_sentences)\n",
        "#elmo_pad(val_sentences)"
      ],
      "metadata": {
        "id": "sdxJHhYmvmzM"
      },
      "execution_count": null,
      "outputs": []
    },
    {
      "cell_type": "markdown",
      "source": [
        "Check the samples padding:"
      ],
      "metadata": {
        "id": "UI5Om3LBvrfi"
      }
    },
    {
      "cell_type": "code",
      "source": [
        "print('Number of samples after sample padding:',len(train_sentences))"
      ],
      "metadata": {
        "id": "kY--WuDzvonI"
      },
      "execution_count": null,
      "outputs": []
    },
    {
      "cell_type": "code",
      "source": [
        "train_sentences[-5:]"
      ],
      "metadata": {
        "id": "Cqr-us1vvtMI"
      },
      "execution_count": null,
      "outputs": []
    },
    {
      "cell_type": "markdown",
      "source": [
        "##Map and then pad the sentences to sequences of numbers (for terms and also for tags)"
      ],
      "metadata": {
        "id": "Ljzqxq6uv1tY"
      }
    },
    {
      "cell_type": "code",
      "source": [
        "def transform(sentences):\n",
        "    X, y, unk = numberize(sentences)\n",
        "    print('sample X_train_numberised: ', X[0])\n",
        "    print('sample y_train_numberised: ', y[0])\n",
        "    print('Number of numberized sentences:', len(X))\n",
        "    print('Number of unknown words:', len(unk))\n",
        "    X = pad_sequences(X, maxlen=MAX_SEQUENCE_LENGTH, padding='post')\n",
        "    y = pad_sequences(y, maxlen=MAX_SEQUENCE_LENGTH, padding='post')\n",
        "    y = to_categorical(y, num_classes=n_tags)   \n",
        "    return X, y"
      ],
      "metadata": {
        "id": "y0P21RNGvvAz"
      },
      "execution_count": null,
      "outputs": []
    },
    {
      "cell_type": "code",
      "source": [
        "X_train, y_train = transform(train_sentences)"
      ],
      "metadata": {
        "id": "Pnpi25S4v4No"
      },
      "execution_count": null,
      "outputs": []
    },
    {
      "cell_type": "code",
      "source": [
        "X_test, y_test = transform(test_sentences)"
      ],
      "metadata": {
        "id": "cmrxa8Jev5iI"
      },
      "execution_count": null,
      "outputs": []
    },
    {
      "cell_type": "markdown",
      "source": [
        "See a padded numberized sample:"
      ],
      "metadata": {
        "id": "-EmZTkXGv-Ye"
      }
    },
    {
      "cell_type": "code",
      "source": [
        "X_train[0]"
      ],
      "metadata": {
        "id": "caLnlAJlv8bu"
      },
      "execution_count": null,
      "outputs": []
    },
    {
      "cell_type": "code",
      "source": [
        "y_train[0]"
      ],
      "metadata": {
        "id": "ivimp-8qv_4h"
      },
      "execution_count": null,
      "outputs": []
    },
    {
      "cell_type": "code",
      "source": [
        "print('Training samples have shape {} and training labels {}'.format(X_train.shape,y_train.shape))\n",
        "print('Testing samples have shape {} and testing labels {}'.format(X_test.shape,y_test.shape))\n",
        "#print('Validation samples have shape {} and validation labels {}'.format(X_val.shape,y_val.shape))\n",
        "print('Word vectors have shape', embedding_matrix.shape)"
      ],
      "metadata": {
        "id": "Mjn5UvOQwB9I"
      },
      "execution_count": null,
      "outputs": []
    },
    {
      "cell_type": "markdown",
      "source": [
        "##=========================================================================================="
      ],
      "metadata": {
        "id": "manqNO97wUDE"
      }
    },
    {
      "cell_type": "markdown",
      "source": [
        "##1. CNN with pre-trained word embeddings"
      ],
      "metadata": {
        "id": "SbW_5hnvweZU"
      }
    },
    {
      "cell_type": "code",
      "source": [
        " def accuracy_masked_class(to_ignore=0):\n",
        "    def accuracy_masked(y_true, y_pred):\n",
        "        y_true_class = K.argmax(y_true, axis=-1)\n",
        "        y_pred_class = K.argmax(y_pred, axis=-1)\n",
        " \n",
        "        ignore_mask = K.cast(K.not_equal(y_true_class, to_ignore), 'int32')\n",
        "        matches = K.cast(K.equal(y_true_class, y_pred_class), 'int32') * ignore_mask\n",
        "        accuracy = K.sum(matches) / K.maximum(K.sum(ignore_mask), 1)\n",
        "        return accuracy\n",
        "    return accuracy_masked"
      ],
      "metadata": {
        "id": "tL8dIOd8wD3Y"
      },
      "execution_count": null,
      "outputs": []
    },
    {
      "cell_type": "code",
      "source": [
        "def define_model(length, filters, vocab_size):\n",
        "    seed = 0\n",
        "    \n",
        "    np.random.seed(seed)\n",
        "    inputs = Input(shape=(length, ), dtype='int32')\n",
        "    np.random.seed(seed)\n",
        "    embedding = Embedding(input_dim=len(word2int),\n",
        "                  output_dim=EMBEDDING_DIM,\n",
        "                  weights=[embedding_matrix],\n",
        "                  input_length=length,\n",
        "                  trainable=True,\n",
        "                  mask_zero=False\n",
        "                 )(inputs)\n",
        "    \n",
        " \n",
        "    # channel 1\n",
        "    np.random.seed(seed)\n",
        "    channel_1 = Conv1D(filters=filters, kernel_size=2, padding='same')(embedding)\n",
        "    #np.random.seed(seed)\n",
        "    #channel_1 = add([embedding, channel_1])\n",
        "    np.random.seed(seed)\n",
        "    channel_1_2 = Conv1D(filters=filters, kernel_size=2, padding='same')(channel_1)\n",
        "    #channel_1_3 = Conv1D(filters=filters, kernel_size=2, padding='same')(channel_1_2)\n",
        "    np.random.seed(seed)\n",
        "    channel_1 = add([channel_1, channel_1_2])\n",
        "    np.random.seed(seed)\n",
        "    channel_1 = Dropout(0.5)(channel_1) \n",
        "\n",
        "    # channel 2\n",
        "    np.random.seed(seed)\n",
        "    channel_2 = Conv1D(filters=filters, kernel_size=3, padding='same')(embedding)\n",
        "    np.random.seed(seed)\n",
        "    #channel_2 = add([embedding, channel_2])\n",
        "    #np.random.seed(seed)\n",
        "    channel_2_2 = Conv1D(filters=filters, kernel_size=3, padding='same')(channel_2)\n",
        "    #channel_2_3 = Conv1D(filters=filters, kernel_size=3, padding='same')(channel_2_2)\n",
        "    np.random.seed(seed)\n",
        "    channel_2 = add([channel_2, channel_2_2])\n",
        "    np.random.seed(seed)\n",
        "    channel_2 = Dropout(0.5)(channel_2)  \n",
        "\n",
        "    # channel 3\n",
        "    np.random.seed(seed)\n",
        "    channel_3 = Conv1D(filters=filters, kernel_size=4, padding='same')(embedding)\n",
        "    np.random.seed(seed)\n",
        "    #channel_3 = add([embedding, channel_3])\n",
        "    #np.random.seed(seed)\n",
        "    channel_3_2 = Conv1D(filters=filters, kernel_size=4, padding='same')(channel_3)\n",
        "    #channe_3_3 = Conv1D(filters=filters, kernel_size=4, padding='same')(channel_3_2)\n",
        "    np.random.seed(seed)\n",
        "    channel_3 = add([channel_3, channel_3_2])\n",
        "    np.random.seed(seed)\n",
        "    channel_3 = Dropout(0.5)(channel_3) \n",
        "\n",
        "    np.random.seed(seed)    \n",
        "    merged = concatenate([channel_1, channel_2, channel_3])\n",
        "    np.random.seed(seed)    \n",
        "    #merged = Dropout(0.2)(merged)\n",
        "    \n",
        "    np.random.seed(seed)\n",
        "    output = Dense(n_tags, activation='softmax')(merged)  # softmax output layer   \n",
        "    np.random.seed(seed)\n",
        "    model = Model(inputs=inputs, outputs=output)\n",
        "    np.random.seed(seed)\n",
        "    model.compile(optimizer='adam', loss='categorical_crossentropy', metrics=['accuracy', accuracy_masked_class(0)])\n",
        "    print(model.summary())\n",
        "    return model"
      ],
      "metadata": {
        "id": "_wgu-bXhwjsi"
      },
      "execution_count": null,
      "outputs": []
    },
    {
      "cell_type": "code",
      "source": [
        "model = define_model(length=MAX_SEQUENCE_LENGTH, filters=100, vocab_size=len(word2int))"
      ],
      "metadata": {
        "colab": {
          "base_uri": "https://localhost:8080/"
        },
        "id": "a6K2JZzPwmU-",
        "outputId": "eab6b46d-7071-4acf-a111-81adc2f88c65"
      },
      "execution_count": 75,
      "outputs": [
        {
          "output_type": "stream",
          "name": "stdout",
          "text": [
            "Model: \"model\"\n",
            "__________________________________________________________________________________________________\n",
            " Layer (type)                   Output Shape         Param #     Connected to                     \n",
            "==================================================================================================\n",
            " input_1 (InputLayer)           [(None, 70)]         0           []                               \n",
            "                                                                                                  \n",
            " embedding (Embedding)          (None, 70, 300)      11914800    ['input_1[0][0]']                \n",
            "                                                                                                  \n",
            " conv1d (Conv1D)                (None, 70, 100)      60100       ['embedding[0][0]']              \n",
            "                                                                                                  \n",
            " conv1d_2 (Conv1D)              (None, 70, 100)      90100       ['embedding[0][0]']              \n",
            "                                                                                                  \n",
            " conv1d_4 (Conv1D)              (None, 70, 100)      120100      ['embedding[0][0]']              \n",
            "                                                                                                  \n",
            " conv1d_1 (Conv1D)              (None, 70, 100)      20100       ['conv1d[0][0]']                 \n",
            "                                                                                                  \n",
            " conv1d_3 (Conv1D)              (None, 70, 100)      30100       ['conv1d_2[0][0]']               \n",
            "                                                                                                  \n",
            " conv1d_5 (Conv1D)              (None, 70, 100)      40100       ['conv1d_4[0][0]']               \n",
            "                                                                                                  \n",
            " add (Add)                      (None, 70, 100)      0           ['conv1d[0][0]',                 \n",
            "                                                                  'conv1d_1[0][0]']               \n",
            "                                                                                                  \n",
            " add_1 (Add)                    (None, 70, 100)      0           ['conv1d_2[0][0]',               \n",
            "                                                                  'conv1d_3[0][0]']               \n",
            "                                                                                                  \n",
            " add_2 (Add)                    (None, 70, 100)      0           ['conv1d_4[0][0]',               \n",
            "                                                                  'conv1d_5[0][0]']               \n",
            "                                                                                                  \n",
            " dropout (Dropout)              (None, 70, 100)      0           ['add[0][0]']                    \n",
            "                                                                                                  \n",
            " dropout_1 (Dropout)            (None, 70, 100)      0           ['add_1[0][0]']                  \n",
            "                                                                                                  \n",
            " dropout_2 (Dropout)            (None, 70, 100)      0           ['add_2[0][0]']                  \n",
            "                                                                                                  \n",
            " concatenate (Concatenate)      (None, 70, 300)      0           ['dropout[0][0]',                \n",
            "                                                                  'dropout_1[0][0]',              \n",
            "                                                                  'dropout_2[0][0]']              \n",
            "                                                                                                  \n",
            " dense (Dense)                  (None, 70, 15)       4515        ['concatenate[0][0]']            \n",
            "                                                                                                  \n",
            "==================================================================================================\n",
            "Total params: 12,279,915\n",
            "Trainable params: 12,279,915\n",
            "Non-trainable params: 0\n",
            "__________________________________________________________________________________________________\n",
            "None\n"
          ]
        }
      ]
    },
    {
      "cell_type": "code",
      "source": [
        "plot_model(model, to_file='model.png', show_shapes=True)\n",
        "Image('model.png')"
      ],
      "metadata": {
        "colab": {
          "base_uri": "https://localhost:8080/",
          "height": 865
        },
        "id": "0yyow3mKwobu",
        "outputId": "bc831bcf-f20f-4305-8b9a-58f41a5b0820"
      },
      "execution_count": 76,
      "outputs": [
        {
          "output_type": "execute_result",
          "data": {
            "image/png": "[encoded data removed]",
            "text/plain": [
              "<IPython.core.display.Image object>"
            ]
          },
          "metadata": {},
          "execution_count": 76
        }
      ]
    },
    {
      "cell_type": "code",
      "source": [
        "seed = 0\n",
        "np.random.seed(seed)\n",
        "t_ini = datetime.datetime.now()\n",
        "\n",
        "cp = ModelCheckpoint(filepath=\"cnn_w2v_tagger.h5\",\n",
        "                     monitor='val_accuracy_masked',\n",
        "                     save_best_only=True,\n",
        "                     verbose=1)\n",
        "\n",
        "early_stopping = EarlyStopping(monitor = 'val_accuracy_masked', patience = 5)\n",
        "\n",
        "\n",
        "history = model.fit(X_train, y_train,\n",
        "                    epochs=EPOCHS,\n",
        "                    batch_size=BATCH_SIZE,\n",
        "                    shuffle=True,          \n",
        "                    validation_data=(X_test, y_test),\n",
        "                    verbose=1,\n",
        "                    callbacks=[cp, early_stopping])\n",
        "\n",
        "t_fin = datetime.datetime.now()\n",
        "print('Training completed in {} seconds'.format((t_fin - t_ini).total_seconds()))"
      ],
      "metadata": {
        "colab": {
          "base_uri": "https://localhost:8080/"
        },
        "id": "zjeNZFSewq8O",
        "outputId": "5e1a46bd-da08-4a8f-d800-93498d3b5e1f"
      },
      "execution_count": 77,
      "outputs": [
        {
          "output_type": "stream",
          "name": "stdout",
          "text": [
            "Epoch 1/10\n",
            "406/407 [============================>.] - ETA: 0s - loss: 0.1970 - accuracy: 0.9383 - accuracy_masked: 0.7033\n",
            "Epoch 1: val_accuracy_masked improved from -inf to 0.84176, saving model to cnn_w2v_tagger.h5\n",
            "405/407 [============================>.] - ETA: 0s - loss: 0.0137 - accuracy: 0.9957 - accuracy_masked: 0.9787\n",
            "Epoch 4: val_accuracy_masked did not improve from 0.86438\n",
            "407/407 [==============================] - 5s 12ms/step - loss: 0.0137 - accuracy: 0.9957 - accuracy_masked: 0.9788 - val_loss: 0.1210 - val_accuracy: 0.9721 - val_accuracy_masked: 0.8600\n",
            "Epoch 5/10\n",
            "405/407 [============================>.] - ETA: 0s - loss: 0.0083 - accuracy: 0.9975 - accuracy_masked: 0.9876\n",
            "Epoch 5: val_accuracy_masked did not improve from 0.86438\n",
            "407/407 [==============================] - 6s 14ms/step - loss: 0.0083 - accuracy: 0.9975 - accuracy_masked: 0.9876 - val_loss: 0.1367 - val_accuracy: 0.9721 - val_accuracy_masked: 0.8599\n",
            "Epoch 6/10\n",
            "405/407 [============================>.] - ETA: 0s - loss: 0.0056 - accuracy: 0.9983 - accuracy_masked: 0.9917\n",
            "Epoch 6: val_accuracy_masked did not improve from 0.86438\n",
            "407/407 [==============================] - 5s 12ms/step - loss: 0.0056 - accuracy: 0.9983 - accuracy_masked: 0.9917 - val_loss: 0.1485 - val_accuracy: 0.9721 - val_accuracy_masked: 0.8602\n",
            "Training completed in 80.526626 seconds\n"
          ]
        }
      ]
    },
    {
      "cell_type": "code",
      "source": [
        "from keras.models import load_model\n",
        "model = load_model('cnn_w2v_tagger.h5', custom_objects={'accuracy_masked': accuracy_masked_class()})"
      ],
      "metadata": {
        "id": "n5IxH2gowtdx"
      },
      "execution_count": 78,
      "outputs": []
    },
    {
      "cell_type": "code",
      "source": [
        "y_pred = model.predict(X_test, verbose=1).argmax(-1)\n",
        "y_true = y_test.argmax(-1)"
      ],
      "metadata": {
        "colab": {
          "base_uri": "https://localhost:8080/"
        },
        "id": "SxXE9wyAzx6p",
        "outputId": "0aa33358-9b4a-4ead-ebf1-f3a7a2c00987"
      },
      "execution_count": 79,
      "outputs": [
        {
          "output_type": "stream",
          "name": "stdout",
          "text": [
            "47/47 [==============================] - 0s 2ms/step\n"
          ]
        }
      ]
    },
    {
      "cell_type": "code",
      "source": [
        "y_pred[0]"
      ],
      "metadata": {
        "colab": {
          "base_uri": "https://localhost:8080/"
        },
        "id": "A-bokPU3zz0L",
        "outputId": "3fd25532-681b-47de-fe1f-d5e63bdcfb8e"
      },
      "execution_count": 80,
      "outputs": [
        {
          "output_type": "execute_result",
          "data": {
            "text/plain": [
              "array([ 6, 10,  1,  6, 14,  1,  1,  6,  3, 10,  6,  6, 14,  9, 10,  8,  1,\n",
              "       14, 12,  0,  0,  0,  0,  0,  0,  0,  0,  0,  0,  0,  0,  0,  0,  0,\n",
              "        0,  0,  0,  0,  0,  0,  0,  0,  0,  0,  0,  0,  0,  0,  0,  0,  0,\n",
              "        0,  0,  0,  0,  0,  0,  0,  0,  0,  0,  0,  0,  0,  0,  0,  0,  0,\n",
              "        0,  0])"
            ]
          },
          "metadata": {},
          "execution_count": 80
        }
      ]
    },
    {
      "cell_type": "code",
      "source": [
        "y_true[0]"
      ],
      "metadata": {
        "colab": {
          "base_uri": "https://localhost:8080/"
        },
        "id": "NWH-5eVTz1Tr",
        "outputId": "e5e305b9-c5b7-46c6-eb04-46ff502738a0"
      },
      "execution_count": 81,
      "outputs": [
        {
          "output_type": "execute_result",
          "data": {
            "text/plain": [
              "array([ 6, 10,  1,  6, 14,  1,  1,  6,  3, 10,  6,  6, 14,  9, 10,  8,  1,\n",
              "       14, 12,  0,  0,  0,  0,  0,  0,  0,  0,  0,  0,  0,  0,  0,  0,  0,\n",
              "        0,  0,  0,  0,  0,  0,  0,  0,  0,  0,  0,  0,  0,  0,  0,  0,  0,\n",
              "        0,  0,  0,  0,  0,  0,  0,  0,  0,  0,  0,  0,  0,  0,  0,  0,  0,\n",
              "        0,  0])"
            ]
          },
          "metadata": {},
          "execution_count": 81
        }
      ]
    },
    {
      "cell_type": "code",
      "source": [
        "# Function to convert label ids to labels and use them for sklearn's reports\n",
        "def y2label(zipped, mask=0):\n",
        "    out_true = []\n",
        "    out_pred = []\n",
        "    for zip_i in zipped:\n",
        "        a, b = tuple(zip_i)\n",
        "        if a != mask: #Exclude -PAD- term\n",
        "            out_true.append(int2tag[a])\n",
        "            out_pred.append(int2tag[b])\n",
        "    return out_true, out_pred"
      ],
      "metadata": {
        "id": "ZIXOuKgkz3Ac"
      },
      "execution_count": 82,
      "outputs": []
    },
    {
      "cell_type": "code",
      "source": [
        "y_zipped = zip(y_true.flat, y_pred.flat)\n",
        "y_true, y_pred = y2label(y_zipped)"
      ],
      "metadata": {
        "id": "GHlV7VV4z-ER"
      },
      "execution_count": 83,
      "outputs": []
    },
    {
      "cell_type": "code",
      "source": [
        "len(y_true), len(y_pred)"
      ],
      "metadata": {
        "colab": {
          "base_uri": "https://localhost:8080/"
        },
        "id": "fHGL86Hez_jV",
        "outputId": "2f861781-68eb-42f2-f011-f57fe2cbedfe"
      },
      "execution_count": 84,
      "outputs": [
        {
          "output_type": "execute_result",
          "data": {
            "text/plain": [
              "(21436, 21436)"
            ]
          },
          "metadata": {},
          "execution_count": 84
        }
      ]
    },
    {
      "cell_type": "code",
      "source": [
        "name='CNN-Word embeddings model'\n",
        "print('\\n--------- Result of {} -------\\n'.format(name))\n",
        "print(classification_report(y_true, y_pred, digits=4))"
      ],
      "metadata": {
        "colab": {
          "base_uri": "https://localhost:8080/"
        },
        "id": "uce76zWS0A6f",
        "outputId": "76e8c22c-8188-42b7-f04d-e1b4c83d43d6"
      },
      "execution_count": 85,
      "outputs": [
        {
          "output_type": "stream",
          "name": "stdout",
          "text": [
            "\n",
            "--------- Result of CNN-Word embeddings model -------\n",
            "\n",
            "              precision    recall  f1-score   support\n",
            "\n",
            "       -PAD-     0.0000    0.0000    0.0000         0\n",
            "         ADJ     0.8311    0.7731    0.8011      1776\n",
            "         ADP     0.4000    0.1429    0.2105        14\n",
            "         ADV     0.6930    0.6054    0.6462       261\n",
            "         AUX     0.8879    0.8889    0.8884       900\n",
            "         DET     0.8889    0.8841    0.8865       371\n",
            "        NOUN     0.8377    0.8831    0.8598      6401\n",
            "         NST     0.7866    0.7747    0.7806       395\n",
            "         NUM     0.9483    0.8703    0.9076       632\n",
            "        PART     0.8144    0.5809    0.6781       136\n",
            "        PRON     0.9012    0.9140    0.9076      1617\n",
            "       PROPN     0.7046    0.6643    0.6839      2011\n",
            "       PUNCT     0.9971    0.9903    0.9937      3103\n",
            "       SCONJ     0.9637    0.9504    0.9570       867\n",
            "        VERB     0.8778    0.8886    0.8832      2952\n",
            "\n",
            "    accuracy                         0.8669     21436\n",
            "   macro avg     0.7688    0.7207    0.7389     21436\n",
            "weighted avg     0.8663    0.8669    0.8660     21436\n",
            "\n"
          ]
        }
      ]
    },
    {
      "cell_type": "code",
      "source": [
        "print(\"Accuracy: {0:.4f}\".format(accuracy_score(y_true, y_pred)))\n",
        "print('f1-macro score: {0:.4f}'.format(f1_score(y_true, y_pred, average='macro')))"
      ],
      "metadata": {
        "colab": {
          "base_uri": "https://localhost:8080/"
        },
        "id": "_Sslz7_I0CwU",
        "outputId": "f6ae2bcc-8b22-462d-cad9-d1ef7e662bc2"
      },
      "execution_count": 86,
      "outputs": [
        {
          "output_type": "stream",
          "name": "stdout",
          "text": [
            "Accuracy: 0.8669\n",
            "f1-macro score: 0.7389\n"
          ]
        }
      ]
    },
    {
      "cell_type": "code",
      "source": [
        "cnf_matrix = confusion_matrix(y_true, y_pred)\n",
        "plot_confusion_matrix(f1_score(y_true, y_pred, average='macro'), cnf_matrix, target_names=test_tags, title=name, normalize=False)"
      ],
      "metadata": {
        "colab": {
          "base_uri": "https://localhost:8080/",
          "height": 651
        },
        "id": "EKQEmcRM0Gbp",
        "outputId": "5d48d85f-1bc9-4128-98e4-a229470c722d"
      },
      "execution_count": 87,
      "outputs": [
        {
          "output_type": "display_data",
          "data": {
            "text/plain": [
              "<Figure size 1000x600 with 2 Axes>"
            ],
            "image/png": "[encoded data removed]"
          },
          "metadata": {}
        }
      ]
    },
    {
      "cell_type": "code",
      "source": [
        "y_pred = model.predict(X_test).argmax(-1)\n",
        "y_true = y_test.argmax(-1)\n",
        "\n",
        "def make_prediction(i=10):\n",
        "    note = ''\n",
        "    sent = []\n",
        "    print(\"{:15} ({:5}): {}\".format(\"Word\", \"True\", \"Predicted\"))\n",
        "    print(35*'-')\n",
        "    for w, true, pred in zip(X_test[i], y_true[i], y_pred[i]):\n",
        "        if w!=0:\n",
        "            if int2tag[true] != int2tag[pred]: note='<<--- Error!'\n",
        "            print(\"{:15} ({:5}): {:5} {:5}\".format(int2word[w], int2tag[true], int2tag[pred], note))\n",
        "            note=''"
      ],
      "metadata": {
        "colab": {
          "base_uri": "https://localhost:8080/"
        },
        "id": "BKBGSvaf0KU9",
        "outputId": "4eac3d8e-eee9-4fd7-d5fe-5f5d4257b9df"
      },
      "execution_count": 88,
      "outputs": [
        {
          "output_type": "stream",
          "name": "stdout",
          "text": [
            "47/47 [==============================] - 0s 3ms/step\n"
          ]
        }
      ]
    },
    {
      "cell_type": "code",
      "source": [
        "make_prediction(i=1)"
      ],
      "metadata": {
        "colab": {
          "base_uri": "https://localhost:8080/"
        },
        "id": "UDH235kn0NdD",
        "outputId": "77212d33-d8b6-4c36-d77e-4ca4a55d5108"
      },
      "execution_count": 89,
      "outputs": [
        {
          "output_type": "stream",
          "name": "stdout",
          "text": [
            "Word            (True ): Predicted\n",
            "-----------------------------------\n",
            "ही              (PRON ): PRON       \n",
            "अल्कली          (NOUN ): NOUN       \n",
            "प्रक्रिया       (NOUN ): NOUN       \n",
            "त्याच्या        (PRON ): PRON       \n",
            "निक्सतामालीझेशन (NOUN ): NOUN       \n",
            "ह्या            (PRON ): PRON       \n",
            "नावापासून       (NOUN ): ADJ   <<--- Error!\n",
            "उत्पन्न         (NOUN ): ADJ   <<--- Error!\n",
            "झालेल्या        (VERB ): VERB       \n",
            "नहुआत्ल         (NOUN ): PROPN <<--- Error!\n",
            "(               (PUNCT): PUNCT      \n",
            "अॅझ्टेक         (NOUN ): NOUN       \n",
            ")               (PUNCT): PUNCT      \n",
            "ह्या            (PRON ): PRON       \n",
            "नावाने          (NOUN ): NOUN       \n",
            "ओळखले           (VERB ): VERB       \n",
            "जाते            (AUX  ): AUX        \n",
            ".               (PUNCT): PUNCT      \n"
          ]
        }
      ]
    },
    {
      "cell_type": "markdown",
      "source": [
        "##tag new user input sentence"
      ],
      "metadata": {
        "id": "0SHjNHex1Ylc"
      }
    },
    {
      "cell_type": "code",
      "source": [
        "sentence = nltk.word_tokenize('हा लेख पन्ना जिल्ह्याविषयी आहे. पन्ना शहराविषयीचा लेख येथे आहे. पन्ना जिल्हा भारतातील मध्य प्रदेश राज्यातील एक जिल्हा आहे.')"
      ],
      "metadata": {
        "id": "IrCl1eT80PhT"
      },
      "execution_count": 90,
      "outputs": []
    },
    {
      "cell_type": "code",
      "source": [
        "tokenized_sentence = []\n",
        "unk = []\n",
        "i=0\n",
        "for word in sentence:\n",
        "    if word in words:\n",
        "        tokenized_sentence.append(word2int[word])\n",
        "    else:\n",
        "        tokenized_sentence.append(word2int['-UNK-'])\n",
        "        i += 1\n",
        "        unk.append(word)\n",
        "\n",
        "#tokenized_sentence = [tokenized_sentence]\n",
        "padded_tokenized_sentence = pad_sequences([tokenized_sentence], maxlen=MAX_SEQUENCE_LENGTH)\n",
        "\n",
        "#print(\"{:15} ({:5}): {:5} {:5}\".format(int2word[w], int2tag[true], int2tag[pred], note))\n",
        "\n",
        "print('The sentence is:', sentence)\n",
        "print('The tokenized sentence is:', tokenized_sentence)\n",
        "print('The padded tokenized sentence is:', padded_tokenized_sentence)\n",
        "print(\"There are {:} unknown words in sentence: {:}\".format(i,(unk)))"
      ],
      "metadata": {
        "colab": {
          "base_uri": "https://localhost:8080/"
        },
        "id": "Y4YMMkFF0cZX",
        "outputId": "f3604cd0-3f2a-4730-80db-d4164b1f5412"
      },
      "execution_count": 91,
      "outputs": [
        {
          "output_type": "stream",
          "name": "stdout",
          "text": [
            "The sentence is: ['हा', 'लेख', 'पन्ना', 'जिल्ह्याविषयी', 'आहे', '.', 'पन्ना', 'शहराविषयीचा', 'लेख', 'येथे', 'आहे', '.', 'पन्ना', 'जिल्हा', 'भारतातील', 'मध्य', 'प्रदेश', 'राज्यातील', 'एक', 'जिल्हा', 'आहे', '.']\n",
            "The tokenized sentence is: [38342, 30501, 1, 1, 3087, 149, 1, 1, 30501, 28627, 3087, 149, 1, 12222, 24901, 25680, 21800, 29220, 4518, 12222, 3087, 149]\n",
            "The padded tokenized sentence is: [[    0     0     0     0     0     0     0     0     0     0     0     0\n",
            "      0     0     0     0     0     0     0     0     0     0     0     0\n",
            "      0     0     0     0     0     0     0     0     0     0     0     0\n",
            "      0     0     0     0     0     0     0     0     0     0     0     0\n",
            "  38342 30501     1     1  3087   149     1     1 30501 28627  3087   149\n",
            "      1 12222 24901 25680 21800 29220  4518 12222  3087   149]]\n",
            "There are 5 unknown words in sentence: ['पन्ना', 'जिल्ह्याविषयी', 'पन्ना', 'शहराविषयीचा', 'पन्ना']\n"
          ]
        }
      ]
    },
    {
      "cell_type": "markdown",
      "source": [
        "##MAke predictions"
      ],
      "metadata": {
        "id": "bgMYQsbI1d6E"
      }
    },
    {
      "cell_type": "code",
      "source": [
        "predictions = model.predict(padded_tokenized_sentence)\n",
        "\n",
        "print(\"\\n{:25}| {:15}: {:15}\".format(\"Word in embedding layer\", 'Initial word', \"Predicted POS-tag\"))\n",
        "print(61*'-')\n",
        "k = 0\n",
        "for i, pred in enumerate(predictions[0]):\n",
        "    try:\n",
        "        if padded_tokenized_sentence[0][i]!=0:\n",
        "            #print(i)\n",
        "            #print(int2word[padded_tokenized_sentence[0][i]], ' : ', int2tag[np.argmax(pred)])\n",
        "            print(\"{:25}| {:15}: {:5}\".format(int2word[padded_tokenized_sentence[0][i]], sentence[k], int2tag[np.argmax(pred)]))\n",
        "            k+=1\n",
        "    except:\n",
        "        pass"
      ],
      "metadata": {
        "colab": {
          "base_uri": "https://localhost:8080/"
        },
        "id": "U8nuEZE00ePL",
        "outputId": "de900ae2-adc3-4c00-ec7c-5dae8c5592ea"
      },
      "execution_count": 92,
      "outputs": [
        {
          "output_type": "stream",
          "name": "stdout",
          "text": [
            "1/1 [==============================] - 0s 395ms/step\n",
            "\n",
            "Word in embedding layer  | Initial word   : Predicted POS-tag\n",
            "-------------------------------------------------------------\n",
            "हा                       | हा             : PRON \n",
            "लेख                      | लेख            : NOUN \n",
            "-UNK-                    | पन्ना          : VERB \n",
            "-UNK-                    | जिल्ह्याविषयी  : VERB \n",
            "आहे                      | आहे            : VERB \n",
            ".                        | .              : PUNCT\n",
            "-UNK-                    | पन्ना          : PROPN\n",
            "-UNK-                    | शहराविषयीचा    : VERB \n",
            "लेख                      | लेख            : NOUN \n",
            "येथे                     | येथे           : NST  \n",
            "आहे                      | आहे            : VERB \n",
            ".                        | .              : PUNCT\n",
            "-UNK-                    | पन्ना          : PROPN\n",
            "जिल्हा                   | जिल्हा         : NOUN \n",
            "भारतातील                 | भारतातील       : PROPN\n",
            "मध्य                     | मध्य           : ADJ  \n",
            "प्रदेश                   | प्रदेश         : PROPN\n",
            "राज्यातील                | राज्यातील      : NOUN \n",
            "एक                       | एक             : NUM  \n",
            "जिल्हा                   | जिल्हा         : NOUN \n",
            "आहे                      | आहे            : VERB \n",
            ".                        | .              : PUNCT\n"
          ]
        }
      ]
    },
    {
      "cell_type": "markdown",
      "source": [
        "##Frequent types of mistakes"
      ],
      "metadata": {
        "id": "LxXYGLUX0kxp"
      }
    },
    {
      "cell_type": "code",
      "source": [
        "def find_errors(X,y):\n",
        "    error_counter = collections.Counter()\n",
        "    support = 0\n",
        "    y_pred = model.predict(X).argmax(-1)\n",
        "    y_true = y_test.argmax(-1)\n",
        "    for i in range(X.shape[0]):\n",
        "        for w, true, pred in zip(X[i], y_true[i], y_pred[i]):\n",
        "            if w!=0:\n",
        "                support +=1\n",
        "                if true != pred:\n",
        "                    word = int2word[w]\n",
        "                    error_counter[word] += 1\n",
        "    return error_counter, support"
      ],
      "metadata": {
        "id": "fsimdrCu0iPp"
      },
      "execution_count": 93,
      "outputs": []
    },
    {
      "cell_type": "code",
      "source": [
        "errors, support = find_errors(X_test, y_test)\n",
        "print('Total errors/Total words: {}/{} | Accuracy: {:.4}\\n'.format(sum(errors.values()), support, 1-sum(errors.values())/support))\n",
        "print('Most common errors:', errors.most_common(20))"
      ],
      "metadata": {
        "colab": {
          "base_uri": "https://localhost:8080/"
        },
        "id": "n29maYFg0nX4",
        "outputId": "867ea54e-4cd4-4191-ebc5-282c82781fb7"
      },
      "execution_count": 94,
      "outputs": [
        {
          "output_type": "stream",
          "name": "stdout",
          "text": [
            "47/47 [==============================] - 0s 3ms/step\n",
            "Total errors/Total words: 2854/21437 | Accuracy: 0.8669\n",
            "\n",
            "Most common errors: [('असे', 36), ('नाही', 25), ('आहे', 23), ('अशी', 17), ('स्वत:च्या', 14), ('अशा', 13), ('डॉ.', 12), ('सादर', 12), ('सुमारे', 11), ('मराठी', 11), ('तर', 11), ('वाजता', 10), ('ते', 9), ('सौ', 9), ('सकाळी', 9), ('श्री', 9), ('येथे', 9), ('खूप', 8), ('असा', 8), ('राष्ट्रीय', 8)]\n"
          ]
        }
      ]
    },
    {
      "cell_type": "code",
      "source": [
        "plot_acc()"
      ],
      "metadata": {
        "colab": {
          "base_uri": "https://localhost:8080/",
          "height": 477
        },
        "id": "GoxZXPxL0oxO",
        "outputId": "ae4bc56c-c9fd-4628-9447-7a560ba96369"
      },
      "execution_count": 95,
      "outputs": [
        {
          "output_type": "display_data",
          "data": {
            "text/plain": [
              "<Figure size 640x480 with 1 Axes>"
            ],
            "image/png": "[encoded data removed]"
          },
          "metadata": {}
        }
      ]
    },
    {
      "cell_type": "code",
      "source": [
        "plot_loss()"
      ],
      "metadata": {
        "colab": {
          "base_uri": "https://localhost:8080/",
          "height": 477
        },
        "id": "n6HlIsYa0qqM",
        "outputId": "f25c5f94-e3b3-4e2e-b7dd-dbe032250b4a"
      },
      "execution_count": 96,
      "outputs": [
        {
          "output_type": "display_data",
          "data": {
            "text/plain": [
              "<Figure size 640x480 with 1 Axes>"
            ],
            "image/png": "[encoded data removed]"
          },
          "metadata": {}
        }
      ]
    },
    {
      "cell_type": "markdown",
      "source": [
        "##Making Wordnet definitions - dictionary"
      ],
      "metadata": {
        "id": "cmiD8UWWak05"
      }
    },
    {
      "cell_type": "code",
      "source": [
        "import re"
      ],
      "metadata": {
        "id": "pew0t2Igdpsg"
      },
      "execution_count": 97,
      "outputs": []
    },
    {
      "cell_type": "code",
      "source": [
        "def deleteLeadingZeros(inputString):\n",
        "   # regex pattern for removing leading zeros from an input string\n",
        "   regexPattern = \"^0+(?!$)\"\n",
        "   # Replace the matched regex pattern with an empty string\n",
        "   outputString = re.sub(regexPattern, \"\", inputString)\n",
        "   # returning output string after removing leading 0s\n",
        "   return outputString"
      ],
      "metadata": {
        "id": "fToj59180sAo"
      },
      "execution_count": 98,
      "outputs": []
    },
    {
      "cell_type": "code",
      "source": [
        "# Initialize an empty dictionary\n",
        "dictionary = {}\n",
        "\n",
        "# Open the text file and read its contents line by line\n",
        "with open(\"/content/drive/MyDrive/MArathi_data/data.txt\", \"r\", encoding = 'utf-8') as f:\n",
        "    for line in f:\n",
        "        # Split the line into serial number and value\n",
        "        line = line.strip()  # Remove any leading/trailing whitespace\n",
        "        regexPattern = \"^0+(?!$)\"\n",
        "        line = re.sub(regexPattern, \"\", line)\n",
        "        serial_number, value = line.split(\" \", 1)\n",
        "        #serial_number = int(serial_number)  # Convert the serial number to an integer\n",
        "\n",
        "        # Add the key-value pair to the dictionary\n",
        "        dictionary[serial_number] = value"
      ],
      "metadata": {
        "id": "jBing2a_aznA"
      },
      "execution_count": 99,
      "outputs": []
    },
    {
      "cell_type": "code",
      "source": [
        "for n in dictionary.keys():\n",
        "    # Remove numbers from the line using regular expressions\n",
        "    line = dictionary.get(n)\n",
        "    cleaned_line = re.sub(r'\\d+', '', line)\n",
        "\n",
        "    # Remove unnecessary spaces from the line\n",
        "    cleaned_line = ' '.join(cleaned_line.strip().split())\n",
        "\n",
        "    # Add the cleaned line to the list of cleaned lines\n",
        "    dictionary.update({n:cleaned_line})"
      ],
      "metadata": {
        "id": "9LkIVf57d7es"
      },
      "execution_count": 100,
      "outputs": []
    },
    {
      "cell_type": "code",
      "source": [
        "count = 0\n",
        "for n in dictionary.keys():\n",
        "  count+=1\n",
        "  if count<5:\n",
        "    print(n, dictionary.get(n))\n",
        "  else:\n",
        "    break"
      ],
      "metadata": {
        "colab": {
          "base_uri": "https://localhost:8080/"
        },
        "id": "0FZElt3Id758",
        "outputId": "d3899d7d-536b-4fa4-acab-fc1d2192877b"
      },
      "execution_count": 101,
      "outputs": [
        {
          "output_type": "stream",
          "name": "stdout",
          "text": [
            "1 अजन्मा | ज्यास जन्म नाही असा:\"ईश्वर अजन्मा आहे\"\n",
            "2 अशुभ:अमंगळ | शुभ नाही असा:\"या योगामूळे कुंडलीतील इतर अशुभ योगांचा नाश होतो.\"\n",
            "3 अप्रविष्ट | ज्याने प्रवेश केला नाही असा:\"अप्रविष्ट व्यक्तींना ताबडतोब आत प्रवेश करू द्या.\"\n",
            "4 पुण्यभूमी:पवित्रभूमी:पुण्यस्थान:पवित्रस्थान:पावनस्थान | पवित्र मानले गेलेले स्थान:\"हिंदूंसाठी काशी ही पुण्यभूमी आहे.\"\n"
          ]
        }
      ]
    },
    {
      "cell_type": "markdown",
      "source": [
        "##Synsets"
      ],
      "metadata": {
        "id": "tNC_RYdJeWQr"
      }
    },
    {
      "cell_type": "code",
      "source": [
        "!pip install --upgrade pyiwn"
      ],
      "metadata": {
        "colab": {
          "base_uri": "https://localhost:8080/"
        },
        "id": "k1CmQocDeTXu",
        "outputId": "5bc639ee-1dc4-4a32-82ab-260acca445c4"
      },
      "execution_count": 102,
      "outputs": [
        {
          "output_type": "stream",
          "name": "stdout",
          "text": [
            "Looking in indexes: https://pypi.org/simple, https://us-python.pkg.dev/colab-wheels/public/simple/\n",
            "Collecting pyiwn\n",
            "  Downloading pyiwn-0.0.5-py3-none-any.whl (12 kB)\n",
            "Requirement already satisfied: pandas in /usr/local/lib/python3.9/dist-packages (from pyiwn) (1.4.4)\n",
            "Requirement already satisfied: requests in /usr/local/lib/python3.9/dist-packages (from pyiwn) (2.27.1)\n",
            "Requirement already satisfied: python-dateutil>=2.8.1 in /usr/local/lib/python3.9/dist-packages (from pandas->pyiwn) (2.8.2)\n",
            "Requirement already satisfied: numpy>=1.18.5 in /usr/local/lib/python3.9/dist-packages (from pandas->pyiwn) (1.22.4)\n",
            "Requirement already satisfied: pytz>=2020.1 in /usr/local/lib/python3.9/dist-packages (from pandas->pyiwn) (2022.7.1)\n",
            "Requirement already satisfied: charset-normalizer~=2.0.0 in /usr/local/lib/python3.9/dist-packages (from requests->pyiwn) (2.0.12)\n",
            "Requirement already satisfied: urllib3<1.27,>=1.21.1 in /usr/local/lib/python3.9/dist-packages (from requests->pyiwn) (1.26.15)\n",
            "Requirement already satisfied: certifi>=2017.4.17 in /usr/local/lib/python3.9/dist-packages (from requests->pyiwn) (2022.12.7)\n",
            "Requirement already satisfied: idna<4,>=2.5 in /usr/local/lib/python3.9/dist-packages (from requests->pyiwn) (3.4)\n",
            "Requirement already satisfied: six>=1.5 in /usr/local/lib/python3.9/dist-packages (from python-dateutil>=2.8.1->pandas->pyiwn) (1.16.0)\n",
            "Installing collected packages: pyiwn\n",
            "Successfully installed pyiwn-0.0.5\n"
          ]
        }
      ]
    },
    {
      "cell_type": "code",
      "source": [
        "import pyiwn"
      ],
      "metadata": {
        "colab": {
          "base_uri": "https://localhost:8080/"
        },
        "id": "19sWIwSVfL61",
        "outputId": "66e6ec4e-80ae-4d0a-9796-7a2aab9dafa8"
      },
      "execution_count": 103,
      "outputs": [
        {
          "output_type": "stream",
          "name": "stdout",
          "text": [
            "[██████████████████████████████████████████████████]\n"
          ]
        }
      ]
    },
    {
      "cell_type": "markdown",
      "source": [
        "Marathi synset object creation"
      ],
      "metadata": {
        "id": "R2JwvYL2fPzl"
      }
    },
    {
      "cell_type": "code",
      "source": [
        "iwn = pyiwn.IndoWordNet(lang=pyiwn.Language.MARATHI)"
      ],
      "metadata": {
        "id": "ddgy_YSFfNjS"
      },
      "execution_count": 104,
      "outputs": []
    },
    {
      "cell_type": "code",
      "source": [
        "list(map(str, pyiwn.PosTag))"
      ],
      "metadata": {
        "colab": {
          "base_uri": "https://localhost:8080/"
        },
        "id": "VCjrZb4MfRjn",
        "outputId": "172cf759-3d9d-4b00-93b7-ee91656ea4c3"
      },
      "execution_count": 105,
      "outputs": [
        {
          "output_type": "execute_result",
          "data": {
            "text/plain": [
              "['PosTag.NOUN', 'PosTag.VERB', 'PosTag.ADVERB', 'PosTag.ADJECTIVE']"
            ]
          },
          "metadata": {},
          "execution_count": 105
        }
      ]
    },
    {
      "cell_type": "code",
      "source": [
        "synsets = iwn.all_synsets()\n",
        "print(len(synsets))"
      ],
      "metadata": {
        "colab": {
          "base_uri": "https://localhost:8080/"
        },
        "id": "oZowbxuWfUqG",
        "outputId": "52ebc5c8-10d4-4385-dbe8-6724e8b4ccb0"
      },
      "execution_count": 106,
      "outputs": [
        {
          "output_type": "stream",
          "name": "stdout",
          "text": [
            "32200\n"
          ]
        }
      ]
    },
    {
      "cell_type": "code",
      "source": [
        "syn = synsets[:5]\n",
        "syn = str(synsets[:5])\n",
        "syn = list(syn.split(\",\"))"
      ],
      "metadata": {
        "id": "Zvs__XFzfl3e"
      },
      "execution_count": 107,
      "outputs": []
    },
    {
      "cell_type": "code",
      "source": [
        "import string\n",
        "idx = []\n",
        "printable_chars = string.printable\n",
        "for line in syn:\n",
        "  cleaned_text = \"\".join([char for char in line if char in printable_chars and char not in string.whitespace])\n",
        "  n = re.findall('\\d+', cleaned_text)\n",
        "  idx.append(n)"
      ],
      "metadata": {
        "id": "yXpI6jgdfWNR"
      },
      "execution_count": 108,
      "outputs": []
    },
    {
      "cell_type": "code",
      "source": [
        "print(idx)"
      ],
      "metadata": {
        "colab": {
          "base_uri": "https://localhost:8080/"
        },
        "id": "I9ZQCB9hfseV",
        "outputId": "727c79f8-73f5-4349-f57a-61cef2b97af4"
      },
      "execution_count": 109,
      "outputs": [
        {
          "output_type": "stream",
          "name": "stdout",
          "text": [
            "[['5'], ['1'], ['7'], ['2'], ['10']]\n"
          ]
        }
      ]
    },
    {
      "cell_type": "markdown",
      "source": [
        "Lookup"
      ],
      "metadata": {
        "id": "F5vuVw0LfhZe"
      }
    },
    {
      "cell_type": "code",
      "source": [
        "for n in idx:\n",
        "  print(n, dictionary.get(n[0]))"
      ],
      "metadata": {
        "colab": {
          "base_uri": "https://localhost:8080/"
        },
        "id": "rt9hhckUfZGV",
        "outputId": "8049be2f-5b22-454d-de21-33359f21e761"
      },
      "execution_count": 110,
      "outputs": [
        {
          "output_type": "stream",
          "name": "stdout",
          "text": [
            "['5'] शिवालय:शिवमंदिर | जिथे शंकराच्या पिंडीची स्थापना केली असून त्याची पूजा होते ती जागा:\"ती दर सोमवारी शिवालयात जाते.\"\n",
            "['1'] अजन्मा | ज्यास जन्म नाही असा:\"ईश्वर अजन्मा आहे\"\n",
            "['7'] आलेला:आगत | दाखल झालेला:\"आलेल्या पाहुण्यांचे स्वागत आहे.\"\n",
            "['2'] अशुभ:अमंगळ | शुभ नाही असा:\"या योगामूळे कुंडलीतील इतर अशुभ योगांचा नाश होतो.\"\n",
            "['10'] उत्पादित:उत्पन्न | ज्याची उत्पत्ति झाली आहे असा:\"आसाममध्ये उत्पादित चहा जगभर प्रसिद्ध आहे.\"\n"
          ]
        }
      ]
    },
    {
      "cell_type": "markdown",
      "source": [
        "##FInal"
      ],
      "metadata": {
        "id": "k7InP70PhKDG"
      }
    },
    {
      "cell_type": "code",
      "source": [
        "sentence = nltk.word_tokenize(input())"
      ],
      "metadata": {
        "colab": {
          "base_uri": "https://localhost:8080/"
        },
        "id": "nv7OcOO2fvw9",
        "outputId": "274dd7ca-9f93-4890-bb75-7df664e8df87"
      },
      "execution_count": 111,
      "outputs": [
        {
          "name": "stdout",
          "output_type": "stream",
          "text": [
            "समाजासाठी देशासाठी चांगले काम करणाऱ्या व्यक्तीला लोक एखाद्या मानद उपाधीने संबोधित करायला सुरुवात करतात आणि पुढे तीच उपाधी त्या व्यक्तीची ओळख होऊन जाते. पुण्यश्लोक, महर्षी, महात्मा, बाबासाहेब आणि लोकमान्य या अशाच काही उपाध्या आहेत. भारतातील अशा उपाध्या धारण करणाऱ्या काही व्यक्तींची नावे पुढील पुढीलप्रमाणे आहेत\n"
          ]
        }
      ]
    },
    {
      "cell_type": "code",
      "source": [
        "word = input()"
      ],
      "metadata": {
        "colab": {
          "base_uri": "https://localhost:8080/"
        },
        "id": "Ik7QBeNehJdZ",
        "outputId": "ee373628-0e7b-486b-dec6-9ab76a818bde"
      },
      "execution_count": 131,
      "outputs": [
        {
          "name": "stdout",
          "output_type": "stream",
          "text": [
            "काम\n"
          ]
        }
      ]
    },
    {
      "cell_type": "code",
      "source": [
        "tokenized_sentence = []\n",
        "unk = []\n",
        "i=0\n",
        "for word in sentence:\n",
        "    if word in words:\n",
        "        tokenized_sentence.append(word2int[word])\n",
        "    else:\n",
        "        tokenized_sentence.append(word2int['-UNK-'])\n",
        "        i += 1\n",
        "        unk.append(word)\n",
        "\n",
        "#tokenized_sentence = [tokenized_sentence]\n",
        "padded_tokenized_sentence = pad_sequences([tokenized_sentence], maxlen=MAX_SEQUENCE_LENGTH)\n",
        "\n",
        "#print(\"{:15} ({:5}): {:5} {:5}\".format(int2word[w], int2tag[true], int2tag[pred], note))\n",
        "\n",
        "print('The sentence is:', sentence)\n",
        "print('The tokenized sentence is:', tokenized_sentence)\n",
        "print('The padded tokenized sentence is:', padded_tokenized_sentence)\n",
        "print(\"There are {:} unknown words in sentence: {:}\".format(i,(unk)))"
      ],
      "metadata": {
        "colab": {
          "base_uri": "https://localhost:8080/"
        },
        "id": "9KkhZ7dxhRjw",
        "outputId": "6eca447f-c275-4c1b-ffce-80a4364c418d"
      },
      "execution_count": 113,
      "outputs": [
        {
          "output_type": "stream",
          "name": "stdout",
          "text": [
            "The sentence is: ['समाजासाठी', 'देशासाठी', 'चांगले', 'काम', 'करणाऱ्या', 'व्यक्तीला', 'लोक', 'एखाद्या', 'मानद', 'उपाधीने', 'संबोधित', 'करायला', 'सुरुवात', 'करतात', 'आणि', 'पुढे', 'तीच', 'उपाधी', 'त्या', 'व्यक्तीची', 'ओळख', 'होऊन', 'जाते', '.', 'पुण्यश्लोक', ',', 'महर्षी', ',', 'महात्मा', ',', 'बाबासाहेब', 'आणि', 'लोकमान्य', 'या', 'अशाच', 'काही', 'उपाध्या', 'आहेत', '.', 'भारतातील', 'अशा', 'उपाध्या', 'धारण', 'करणाऱ्या', 'काही', 'व्यक्तींची', 'नावे', 'पुढील', 'पुढीलप्रमाणे', 'आहेत']\n",
            "The tokenized sentence is: [35292, 16513, 10636, 6172, 5461, 32902, 30568, 4667, 1, 1, 34665, 5571, 36849, 5523, 2318, 20638, 14541, 1, 14906, 32898, 5052, 38745, 12068, 149, 1, 144, 26011, 144, 26039, 144, 23641, 2318, 30583, 28223, 1646, 6675, 1, 3089, 149, 24901, 1642, 1, 16915, 5461, 6675, 32887, 17775, 20636, 20637, 3089]\n",
            "The padded tokenized sentence is: [[    0     0     0     0     0     0     0     0     0     0     0     0\n",
            "      0     0     0     0     0     0     0     0 35292 16513 10636  6172\n",
            "   5461 32902 30568  4667     1     1 34665  5571 36849  5523  2318 20638\n",
            "  14541     1 14906 32898  5052 38745 12068   149     1   144 26011   144\n",
            "  26039   144 23641  2318 30583 28223  1646  6675     1  3089   149 24901\n",
            "   1642     1 16915  5461  6675 32887 17775 20636 20637  3089]]\n",
            "There are 6 unknown words in sentence: ['मानद', 'उपाधीने', 'उपाधी', 'पुण्यश्लोक', 'उपाध्या', 'उपाध्या']\n"
          ]
        }
      ]
    },
    {
      "cell_type": "code",
      "source": [
        "predictions = model.predict(padded_tokenized_sentence)\n",
        "\n",
        "print(\"\\n{:25}| {:15}: {:15}\".format(\"Word in embedding layer\", 'Initial word', \"Predicted POS-tag\"))\n",
        "print(61*'-')\n",
        "k = 0\n",
        "for i, pred in enumerate(predictions[0]):\n",
        "    try:\n",
        "        if padded_tokenized_sentence[0][i]!=0:\n",
        "            #print(i)\n",
        "            #print(int2word[padded_tokenized_sentence[0][i]], ' : ', int2tag[np.argmax(pred)])\n",
        "            print(\"{:25}| {:15}: {:5}\".format(int2word[padded_tokenized_sentence[0][i]], sentence[k], int2tag[np.argmax(pred)]))\n",
        "            k+=1\n",
        "    except:\n",
        "        pass"
      ],
      "metadata": {
        "colab": {
          "base_uri": "https://localhost:8080/"
        },
        "id": "Yr-VdSMvhpso",
        "outputId": "78dfb80e-5eec-463f-d36f-c5ecb347c75a"
      },
      "execution_count": 114,
      "outputs": [
        {
          "output_type": "stream",
          "name": "stdout",
          "text": [
            "1/1 [==============================] - 0s 22ms/step\n",
            "\n",
            "Word in embedding layer  | Initial word   : Predicted POS-tag\n",
            "-------------------------------------------------------------\n",
            "समाजासाठी                | समाजासाठी      : NOUN \n",
            "देशासाठी                 | देशासाठी       : NOUN \n",
            "चांगले                   | चांगले         : ADJ  \n",
            "काम                      | काम            : NOUN \n",
            "करणाऱ्या                 | करणाऱ्या       : VERB \n",
            "व्यक्तीला                | व्यक्तीला      : NOUN \n",
            "लोक                      | लोक            : NOUN \n",
            "एखाद्या                  | एखाद्या        : DET  \n",
            "-UNK-                    | मानद           : NOUN \n",
            "-UNK-                    | उपाधीने        : NOUN \n",
            "संबोधित                  | संबोधित        : ADJ  \n",
            "करायला                   | करायला         : VERB \n",
            "सुरुवात                  | सुरुवात        : NOUN \n",
            "करतात                    | करतात          : VERB \n",
            "आणि                      | आणि            : SCONJ\n",
            "पुढे                     | पुढे           : NST  \n",
            "तीच                      | तीच            : PRON \n",
            "-UNK-                    | उपाधी          : VERB \n",
            "त्या                     | त्या           : PRON \n",
            "व्यक्तीची                | व्यक्तीची      : NOUN \n",
            "ओळख                      | ओळख            : NOUN \n",
            "होऊन                     | होऊन           : VERB \n",
            "जाते                     | जाते           : AUX  \n",
            ".                        | .              : PUNCT\n",
            "-UNK-                    | पुण्यश्लोक     : PROPN\n",
            ",                        | ,              : PUNCT\n",
            "महर्षी                   | महर्षी         : PROPN\n",
            ",                        | ,              : PUNCT\n",
            "महात्मा                  | महात्मा        : PROPN\n",
            ",                        | ,              : PUNCT\n",
            "बाबासाहेब                | बाबासाहेब      : PROPN\n",
            "आणि                      | आणि            : SCONJ\n",
            "लोकमान्य                 | लोकमान्य       : PROPN\n",
            "या                       | या             : PRON \n",
            "अशाच                     | अशाच           : PRON \n",
            "काही                     | काही           : DET  \n",
            "-UNK-                    | उपाध्या        : VERB \n",
            "आहेत                     | आहेत           : VERB \n",
            ".                        | .              : PUNCT\n",
            "भारतातील                 | भारतातील       : PROPN\n",
            "अशा                      | अशा            : ADJ  \n",
            "-UNK-                    | उपाध्या        : NOUN \n",
            "धारण                     | धारण           : NOUN \n",
            "करणाऱ्या                 | करणाऱ्या       : VERB \n",
            "काही                     | काही           : DET  \n",
            "व्यक्तींची               | व्यक्तींची     : NOUN \n",
            "नावे                     | नावे           : NOUN \n",
            "पुढील                    | पुढील          : NST  \n",
            "पुढीलप्रमाणे             | पुढीलप्रमाणे   : VERB \n",
            "आहेत                     | आहेत           : VERB \n"
          ]
        }
      ]
    },
    {
      "cell_type": "code",
      "source": [
        "wordid= 0\n",
        "\n",
        "wordid=0\n",
        "for w in sentence:\n",
        "  wordid+=1\n",
        "  if w == word:\n",
        "    print(wordid)\n",
        "    break\n",
        "  else:\n",
        "    continue"
      ],
      "metadata": {
        "colab": {
          "base_uri": "https://localhost:8080/"
        },
        "id": "_vkNcj1IhqZc",
        "outputId": "58ec5fb6-7a92-475b-b6d4-79c69b0bf3f7"
      },
      "execution_count": 187,
      "outputs": [
        {
          "output_type": "stream",
          "name": "stdout",
          "text": [
            "4\n"
          ]
        }
      ]
    },
    {
      "cell_type": "code",
      "source": [
        "tags = []\n",
        "for tag in predictions[0]:\n",
        "  T=[]\n",
        "  T.append(int2tag[np.argmax(tag)])\n",
        "  for t in T:\n",
        "    if t != \"-PAD-\":\n",
        "      tags.append(t)\n",
        "    else:\n",
        "      continue"
      ],
      "metadata": {
        "id": "X2rGxzcpvend"
      },
      "execution_count": 189,
      "outputs": []
    },
    {
      "cell_type": "code",
      "source": [
        "TAG = tags[wordid-1]"
      ],
      "metadata": {
        "id": "JDoNUQl1qcvz"
      },
      "execution_count": 191,
      "outputs": []
    },
    {
      "cell_type": "code",
      "source": [
        "TAG"
      ],
      "metadata": {
        "colab": {
          "base_uri": "https://localhost:8080/",
          "height": 36
        },
        "id": "hiMcUzDI1ltX",
        "outputId": "f63abd36-3ae5-4598-9c0e-25227ae78e1b"
      },
      "execution_count": 192,
      "outputs": [
        {
          "output_type": "execute_result",
          "data": {
            "text/plain": [
              "'NOUN'"
            ],
            "application/vnd.google.colaboratory.intrinsic+json": {
              "type": "string"
            }
          },
          "metadata": {},
          "execution_count": 192
        }
      ]
    },
    {
      "cell_type": "code",
      "source": [
        "def get_synsets(word, tag):\n",
        "  j = []\n",
        "  if tag == \"NOUN\":\n",
        "    j.append(str(iwn.synsets(word, pos=pyiwn.PosTag.NOUN)))\n",
        "    \n",
        "  elif tag == \"ADJECTIVE\":\n",
        "  #all_synsets = iwn.synsets(word, pos=pyiwn.PosTag.ADJECTIVE)\n",
        "    j.append(str(iwn.synsets(word, pos=pyiwn.PosTag.ADJECTIVE)))\n",
        "    \n",
        "  elif tag == \"ADVERB\":\n",
        "  #all_synsets = iwn.synsets(word, pos=pyiwn.PosTag.ADVERB)\n",
        "    j.append(str(iwn.synsets(word, pos=pyiwn.PosTag.ADVERB)))\n",
        "    \n",
        "  else:\n",
        "  #all_synsets = iwn.synsets(word, pos=pyiwn.PosTag.VERB)\n",
        "    j.append(str(iwn.synsets(word, pos=pyiwn.PosTag.VERB)))\n",
        "  \n",
        "\n",
        "\n",
        "  if len(j) == 0:\n",
        "      print(\"The list is empty.\")\n",
        "  else:\n",
        "      print(\"The list is not empty.\")\n",
        "\n",
        "\n",
        "  all_synsets=[]\n",
        "  for i in j:\n",
        "    #for k in i:\n",
        "    temp = i.split(\",\")\n",
        "    all_synsets.append(temp)\n",
        "  \n",
        "  return all_synsets"
      ],
      "metadata": {
        "id": "8uQWYV7jq37e"
      },
      "execution_count": 193,
      "outputs": []
    },
    {
      "cell_type": "markdown",
      "source": [
        "#Lookup"
      ],
      "metadata": {
        "id": "dwKZwvc9rrt_"
      }
    },
    {
      "cell_type": "code",
      "source": [
        "def get_index(synsets):\n",
        "  idx = []\n",
        "  \n",
        "  #index idendification for lookup\n",
        "  printable_chars = string.printable\n",
        "  \n",
        "  for line in synsets[0]:\n",
        "    cleaned_text = \"\".join([char for char in line if char in printable_chars and char not in string.whitespace])\n",
        "    n = re.findall('\\d+', cleaned_text)\n",
        "    idx.append(n)\n",
        "\n",
        "  #returning the calculated results\n",
        "  return idx"
      ],
      "metadata": {
        "id": "zMKCWcDHrtOl"
      },
      "execution_count": 118,
      "outputs": []
    },
    {
      "cell_type": "markdown",
      "source": [
        "##get synsets"
      ],
      "metadata": {
        "id": "hgJQ-4BKry6o"
      }
    },
    {
      "cell_type": "code",
      "source": [
        "synsets = get_synsets(word,TAG)"
      ],
      "metadata": {
        "colab": {
          "base_uri": "https://localhost:8080/"
        },
        "id": "kk87TP09rya1",
        "outputId": "eacdb087-b8a2-47bd-bba4-e3f95a4ee891"
      },
      "execution_count": 194,
      "outputs": [
        {
          "output_type": "stream",
          "name": "stdout",
          "text": [
            "The list is not empty.\n"
          ]
        }
      ]
    },
    {
      "cell_type": "code",
      "source": [
        "print(synsets)"
      ],
      "metadata": {
        "colab": {
          "base_uri": "https://localhost:8080/"
        },
        "id": "qPAVbxllr0aK",
        "outputId": "4010ffdf-eae3-4d7a-a203-73d4dacb6370"
      },
      "execution_count": 195,
      "outputs": [
        {
          "output_type": "stream",
          "name": "stdout",
          "text": [
            "[[\"[Synset('काम.noun.183')\", \" Synset('काम.noun.689')\", \" Synset('मदन.noun.1988')\", \" Synset('काम.noun.4160')\", \" Synset('काम.noun.11804')\", \" Synset('काम.noun.11803')\", \" Synset('धर्म.noun.6296')\", \" Synset('काम.noun.27638')]\"]]\n"
          ]
        }
      ]
    },
    {
      "cell_type": "code",
      "source": [
        "idx = get_index(synsets)\n",
        "print(idx)"
      ],
      "metadata": {
        "colab": {
          "base_uri": "https://localhost:8080/"
        },
        "id": "R9lTQr24r2We",
        "outputId": "00b48a20-b7c1-49f0-9207-bc02bf56cdaa"
      },
      "execution_count": 196,
      "outputs": [
        {
          "output_type": "stream",
          "name": "stdout",
          "text": [
            "[['183'], ['689'], ['1988'], ['4160'], ['11804'], ['11803'], ['6296'], ['27638']]\n"
          ]
        }
      ]
    },
    {
      "cell_type": "markdown",
      "source": [
        "##POS"
      ],
      "metadata": {
        "id": "2gEimexWsFku"
      }
    },
    {
      "cell_type": "code",
      "source": [
        "predictions = model.predict(padded_tokenized_sentence)\n",
        "\n",
        "print(\"\\n{:25}| {:15}: {:15}\".format(\"Word in embedding layer\", 'Initial word', \"Predicted POS-tag\"))\n",
        "print(61*'-')\n",
        "k = 0\n",
        "for i, pred in enumerate(predictions[0]):\n",
        "    try:\n",
        "        if padded_tokenized_sentence[0][i]!=0:\n",
        "            #print(i)\n",
        "            #print(int2word[padded_tokenized_sentence[0][i]], ' : ', int2tag[np.argmax(pred)])\n",
        "            print(\"{:25}| {:15}: {:5}\".format(int2word[padded_tokenized_sentence[0][i]], sentence[k], int2tag[np.argmax(pred)]))\n",
        "            k+=1\n",
        "    except:\n",
        "        pass"
      ],
      "metadata": {
        "colab": {
          "base_uri": "https://localhost:8080/"
        },
        "id": "ozIoCEIssIkb",
        "outputId": "bde32022-dd9f-4a1c-8248-4e2a6cfdf170"
      },
      "execution_count": 200,
      "outputs": [
        {
          "output_type": "stream",
          "name": "stdout",
          "text": [
            "1/1 [==============================] - 0s 32ms/step\n",
            "\n",
            "Word in embedding layer  | Initial word   : Predicted POS-tag\n",
            "-------------------------------------------------------------\n",
            "समाजासाठी                | समाजासाठी      : NOUN \n",
            "देशासाठी                 | देशासाठी       : NOUN \n",
            "चांगले                   | चांगले         : ADJ  \n",
            "काम                      | काम            : NOUN \n",
            "करणाऱ्या                 | करणाऱ्या       : VERB \n",
            "व्यक्तीला                | व्यक्तीला      : NOUN \n",
            "लोक                      | लोक            : NOUN \n",
            "एखाद्या                  | एखाद्या        : DET  \n",
            "-UNK-                    | मानद           : NOUN \n",
            "-UNK-                    | उपाधीने        : NOUN \n",
            "संबोधित                  | संबोधित        : ADJ  \n",
            "करायला                   | करायला         : VERB \n",
            "सुरुवात                  | सुरुवात        : NOUN \n",
            "करतात                    | करतात          : VERB \n",
            "आणि                      | आणि            : SCONJ\n",
            "पुढे                     | पुढे           : NST  \n",
            "तीच                      | तीच            : PRON \n",
            "-UNK-                    | उपाधी          : VERB \n",
            "त्या                     | त्या           : PRON \n",
            "व्यक्तीची                | व्यक्तीची      : NOUN \n",
            "ओळख                      | ओळख            : NOUN \n",
            "होऊन                     | होऊन           : VERB \n",
            "जाते                     | जाते           : AUX  \n",
            ".                        | .              : PUNCT\n",
            "-UNK-                    | पुण्यश्लोक     : PROPN\n",
            ",                        | ,              : PUNCT\n",
            "महर्षी                   | महर्षी         : PROPN\n",
            ",                        | ,              : PUNCT\n",
            "महात्मा                  | महात्मा        : PROPN\n",
            ",                        | ,              : PUNCT\n",
            "बाबासाहेब                | बाबासाहेब      : PROPN\n",
            "आणि                      | आणि            : SCONJ\n",
            "लोकमान्य                 | लोकमान्य       : PROPN\n",
            "या                       | या             : PRON \n",
            "अशाच                     | अशाच           : PRON \n",
            "काही                     | काही           : DET  \n",
            "-UNK-                    | उपाध्या        : VERB \n",
            "आहेत                     | आहेत           : VERB \n",
            ".                        | .              : PUNCT\n",
            "भारतातील                 | भारतातील       : PROPN\n",
            "अशा                      | अशा            : ADJ  \n",
            "-UNK-                    | उपाध्या        : NOUN \n",
            "धारण                     | धारण           : NOUN \n",
            "करणाऱ्या                 | करणाऱ्या       : VERB \n",
            "काही                     | काही           : DET  \n",
            "व्यक्तींची               | व्यक्तींची     : NOUN \n",
            "नावे                     | नावे           : NOUN \n",
            "पुढील                    | पुढील          : NST  \n",
            "पुढीलप्रमाणे             | पुढीलप्रमाणे   : VERB \n",
            "आहेत                     | आहेत           : VERB \n"
          ]
        }
      ]
    },
    {
      "cell_type": "code",
      "source": [
        "idx"
      ],
      "metadata": {
        "colab": {
          "base_uri": "https://localhost:8080/"
        },
        "id": "j-W_xKSE2xjb",
        "outputId": "fc3f5626-1c1f-49af-9fff-ca7e0eb1a3be"
      },
      "execution_count": 201,
      "outputs": [
        {
          "output_type": "execute_result",
          "data": {
            "text/plain": [
              "[['183'],\n",
              " ['689'],\n",
              " ['1988'],\n",
              " ['4160'],\n",
              " ['11804'],\n",
              " ['11803'],\n",
              " ['6296'],\n",
              " ['27638']]"
            ]
          },
          "metadata": {},
          "execution_count": 201
        }
      ]
    },
    {
      "cell_type": "code",
      "source": [
        "\n",
        "print(sentence)\n",
        "print()\n",
        "print(\"Related synsets = \", \"\\n\", synsets)\n",
        "print()\n",
        "print(\"Related indexes = \", \"\\n\", idx)\n",
        "print()\n",
        "count = 0\n",
        "for sublist in idx:\n",
        "    if count == 2:\n",
        "        break\n",
        "    for i in range(1):\n",
        "        print(\"Word ID\", sublist,\" - \", dictionary.get(sublist[0]))\n",
        "    count += 1"
      ],
      "metadata": {
        "colab": {
          "base_uri": "https://localhost:8080/"
        },
        "id": "uGG9WWqrr4ZU",
        "outputId": "1e8cb6e1-fbb0-4a5e-e524-7f6466777cee"
      },
      "execution_count": 205,
      "outputs": [
        {
          "output_type": "stream",
          "name": "stdout",
          "text": [
            "['समाजासाठी', 'देशासाठी', 'चांगले', 'काम', 'करणाऱ्या', 'व्यक्तीला', 'लोक', 'एखाद्या', 'मानद', 'उपाधीने', 'संबोधित', 'करायला', 'सुरुवात', 'करतात', 'आणि', 'पुढे', 'तीच', 'उपाधी', 'त्या', 'व्यक्तीची', 'ओळख', 'होऊन', 'जाते', '.', 'पुण्यश्लोक', ',', 'महर्षी', ',', 'महात्मा', ',', 'बाबासाहेब', 'आणि', 'लोकमान्य', 'या', 'अशाच', 'काही', 'उपाध्या', 'आहेत', '.', 'भारतातील', 'अशा', 'उपाध्या', 'धारण', 'करणाऱ्या', 'काही', 'व्यक्तींची', 'नावे', 'पुढील', 'पुढीलप्रमाणे', 'आहेत']\n",
            "\n",
            "Related synsets =  \n",
            " [[\"[Synset('काम.noun.183')\", \" Synset('काम.noun.689')\", \" Synset('मदन.noun.1988')\", \" Synset('काम.noun.4160')\", \" Synset('काम.noun.11804')\", \" Synset('काम.noun.11803')\", \" Synset('धर्म.noun.6296')\", \" Synset('काम.noun.27638')]\"]]\n",
            "\n",
            "Related indexes =  \n",
            " [['183'], ['689'], ['1988'], ['4160'], ['11804'], ['11803'], ['6296'], ['27638']]\n",
            "\n",
            "Word ID ['183']  -  काम:कर्म:कार्य:कृत्य:कृती:क्रिया | केली जाणारी गोष्ट किंवा काम:\"तो नेहमी चांगली कामे करतो.\"\n",
            "Word ID ['689']  -  काम:कार्य:कामकाज:कामाठी | सामान्यतः कोणताही व्यवहार:\"आपले काम आटोपून तो घरी परतला./ नाटकाची गाणी रचण्याची कामाठी करीत.\"\n"
          ]
        }
      ]
    },
    {
      "cell_type": "code",
      "source": [],
      "metadata": {
        "id": "V1Fv526E18bA"
      },
      "execution_count": null,
      "outputs": []
    }
  ]
}